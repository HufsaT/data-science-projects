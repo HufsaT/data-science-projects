{
 "cells": [
  {
   "cell_type": "markdown",
   "metadata": {},
   "source": [
    "### KNN Regression on California Housing Dataset"
   ]
  },
  {
   "cell_type": "code",
   "execution_count": 1,
   "metadata": {},
   "outputs": [],
   "source": [
    "import matplotlib\n",
    "import matplotlib.pyplot as plt\n",
    "import numpy as np\n",
    "import pandas as pd\n",
    "%matplotlib inline"
   ]
  },
  {
   "cell_type": "markdown",
   "metadata": {},
   "source": [
    "Open the housing data\n"
   ]
  },
  {
   "cell_type": "code",
   "execution_count": 1,
   "metadata": {},
   "outputs": [
    {
     "name": "stdout",
     "output_type": "stream",
     "text": [
      "DATA SHAPE: (20640, 10)\n"
     ]
    },
    {
     "data": {
      "text/html": [
       "<div>\n",
       "<style scoped>\n",
       "    .dataframe tbody tr th:only-of-type {\n",
       "        vertical-align: middle;\n",
       "    }\n",
       "\n",
       "    .dataframe tbody tr th {\n",
       "        vertical-align: top;\n",
       "    }\n",
       "\n",
       "    .dataframe thead th {\n",
       "        text-align: right;\n",
       "    }\n",
       "</style>\n",
       "<table border=\"1\" class=\"dataframe\">\n",
       "  <thead>\n",
       "    <tr style=\"text-align: right;\">\n",
       "      <th></th>\n",
       "      <th>longitude</th>\n",
       "      <th>latitude</th>\n",
       "      <th>housing_median_age</th>\n",
       "      <th>total_rooms</th>\n",
       "      <th>total_bedrooms</th>\n",
       "      <th>population</th>\n",
       "      <th>households</th>\n",
       "      <th>median_income</th>\n",
       "      <th>median_house_value</th>\n",
       "      <th>ocean_proximity</th>\n",
       "    </tr>\n",
       "  </thead>\n",
       "  <tbody>\n",
       "    <tr>\n",
       "      <th>0</th>\n",
       "      <td>-122.23</td>\n",
       "      <td>37.88</td>\n",
       "      <td>41.0</td>\n",
       "      <td>880.0</td>\n",
       "      <td>129.0</td>\n",
       "      <td>322.0</td>\n",
       "      <td>126.0</td>\n",
       "      <td>8.3252</td>\n",
       "      <td>452600.0</td>\n",
       "      <td>NEAR BAY</td>\n",
       "    </tr>\n",
       "    <tr>\n",
       "      <th>1</th>\n",
       "      <td>-122.22</td>\n",
       "      <td>37.86</td>\n",
       "      <td>21.0</td>\n",
       "      <td>7099.0</td>\n",
       "      <td>1106.0</td>\n",
       "      <td>2401.0</td>\n",
       "      <td>1138.0</td>\n",
       "      <td>8.3014</td>\n",
       "      <td>358500.0</td>\n",
       "      <td>NEAR BAY</td>\n",
       "    </tr>\n",
       "    <tr>\n",
       "      <th>2</th>\n",
       "      <td>-122.24</td>\n",
       "      <td>37.85</td>\n",
       "      <td>52.0</td>\n",
       "      <td>1467.0</td>\n",
       "      <td>190.0</td>\n",
       "      <td>496.0</td>\n",
       "      <td>177.0</td>\n",
       "      <td>7.2574</td>\n",
       "      <td>352100.0</td>\n",
       "      <td>NEAR BAY</td>\n",
       "    </tr>\n",
       "    <tr>\n",
       "      <th>3</th>\n",
       "      <td>-122.25</td>\n",
       "      <td>37.85</td>\n",
       "      <td>52.0</td>\n",
       "      <td>1274.0</td>\n",
       "      <td>235.0</td>\n",
       "      <td>558.0</td>\n",
       "      <td>219.0</td>\n",
       "      <td>5.6431</td>\n",
       "      <td>341300.0</td>\n",
       "      <td>NEAR BAY</td>\n",
       "    </tr>\n",
       "    <tr>\n",
       "      <th>4</th>\n",
       "      <td>-122.25</td>\n",
       "      <td>37.85</td>\n",
       "      <td>52.0</td>\n",
       "      <td>1627.0</td>\n",
       "      <td>280.0</td>\n",
       "      <td>565.0</td>\n",
       "      <td>259.0</td>\n",
       "      <td>3.8462</td>\n",
       "      <td>342200.0</td>\n",
       "      <td>NEAR BAY</td>\n",
       "    </tr>\n",
       "  </tbody>\n",
       "</table>\n",
       "</div>"
      ],
      "text/plain": [
       "   longitude  latitude  housing_median_age  total_rooms  total_bedrooms  \\\n",
       "0    -122.23     37.88                41.0        880.0           129.0   \n",
       "1    -122.22     37.86                21.0       7099.0          1106.0   \n",
       "2    -122.24     37.85                52.0       1467.0           190.0   \n",
       "3    -122.25     37.85                52.0       1274.0           235.0   \n",
       "4    -122.25     37.85                52.0       1627.0           280.0   \n",
       "\n",
       "   population  households  median_income  median_house_value ocean_proximity  \n",
       "0       322.0       126.0         8.3252            452600.0        NEAR BAY  \n",
       "1      2401.0      1138.0         8.3014            358500.0        NEAR BAY  \n",
       "2       496.0       177.0         7.2574            352100.0        NEAR BAY  \n",
       "3       558.0       219.0         5.6431            341300.0        NEAR BAY  \n",
       "4       565.0       259.0         3.8462            342200.0        NEAR BAY  "
      ]
     },
     "execution_count": 1,
     "metadata": {},
     "output_type": "execute_result"
    }
   ],
   "source": [
    "import os\n",
    "import tarfile\n",
    "from six.moves import urllib\n",
    "import pandas as pd\n",
    "\n",
    "\n",
    "DOWNLOAD_ROOT = \"https://raw.githubusercontent.com/ageron/handson-ml/master/\"\n",
    "HOUSING_PATH = os.path.join(\"datasets\", \"housing\")\n",
    "HOUSING_URL = DOWNLOAD_ROOT + \"datasets/housing/housing.tgz\"\n",
    "\n",
    "def fetch_housing_data(housing_url=HOUSING_URL, housing_path=HOUSING_PATH):\n",
    "    if not os.path.isdir(housing_path):\n",
    "        os.makedirs(housing_path)\n",
    "    tgz_path = os.path.join(housing_path, \"housing.tgz\")\n",
    "    urllib.request.urlretrieve(housing_url, tgz_path)\n",
    "    housing_tgz = tarfile.open(tgz_path)\n",
    "    housing_tgz.extractall(path=housing_path)\n",
    "    housing_tgz.close()\n",
    "    \n",
    "fetch_housing_data()\n",
    "\n",
    "def load_housing_data(housing_path=HOUSING_PATH):\n",
    "    csv_path = os.path.join(housing_path, \"housing.csv\")\n",
    "    return pd.read_csv(csv_path)\n",
    "\n",
    "housing = load_housing_data()\n",
    "print(\"DATA SHAPE:\", housing.shape)\n",
    "housing.head()"
   ]
  },
  {
   "cell_type": "markdown",
   "metadata": {},
   "source": [
    "### Build full pipeline for the data analysis following the example of the notebook.\n",
    " Hint: the main part requested to change is the algorithm used (KNN regression)\n"
   ]
  },
  {
   "cell_type": "markdown",
   "metadata": {},
   "source": [
    "#### Considerations for building pipeline:\n",
    "\n",
    "- Make your notebook as compact as possible. \n",
    "- Split data into training and testing sets below.\n",
    "- Convert all categorical data to one-hot vectors below\n",
    "- Normalize all non-categorical data \n",
    "-  Perform KNN regression using a variety of values for n_neighbors (K) between 1 and 10 and both \"uniform\" and \"distance\" weights via a grid search where  *housing_labels* is the output and all other features are the input (similar to as seen in lecture two.)"
   ]
  },
  {
   "cell_type": "code",
   "execution_count": 76,
   "metadata": {},
   "outputs": [
    {
     "data": {
      "text/html": [
       "<div>\n",
       "<style scoped>\n",
       "    .dataframe tbody tr th:only-of-type {\n",
       "        vertical-align: middle;\n",
       "    }\n",
       "\n",
       "    .dataframe tbody tr th {\n",
       "        vertical-align: top;\n",
       "    }\n",
       "\n",
       "    .dataframe thead th {\n",
       "        text-align: right;\n",
       "    }\n",
       "</style>\n",
       "<table border=\"1\" class=\"dataframe\">\n",
       "  <thead>\n",
       "    <tr style=\"text-align: right;\">\n",
       "      <th></th>\n",
       "      <th>longitude</th>\n",
       "      <th>latitude</th>\n",
       "      <th>housing_median_age</th>\n",
       "      <th>total_rooms</th>\n",
       "      <th>total_bedrooms</th>\n",
       "      <th>population</th>\n",
       "      <th>households</th>\n",
       "      <th>median_income</th>\n",
       "      <th>median_house_value</th>\n",
       "    </tr>\n",
       "  </thead>\n",
       "  <tbody>\n",
       "    <tr>\n",
       "      <th>count</th>\n",
       "      <td>20640.000000</td>\n",
       "      <td>20640.000000</td>\n",
       "      <td>20640.000000</td>\n",
       "      <td>20640.000000</td>\n",
       "      <td>20433.000000</td>\n",
       "      <td>20640.000000</td>\n",
       "      <td>20640.000000</td>\n",
       "      <td>20640.000000</td>\n",
       "      <td>20640.000000</td>\n",
       "    </tr>\n",
       "    <tr>\n",
       "      <th>mean</th>\n",
       "      <td>-119.569704</td>\n",
       "      <td>35.631861</td>\n",
       "      <td>28.639486</td>\n",
       "      <td>2635.763081</td>\n",
       "      <td>537.870553</td>\n",
       "      <td>1425.476744</td>\n",
       "      <td>499.539680</td>\n",
       "      <td>3.870671</td>\n",
       "      <td>206855.816909</td>\n",
       "    </tr>\n",
       "    <tr>\n",
       "      <th>std</th>\n",
       "      <td>2.003532</td>\n",
       "      <td>2.135952</td>\n",
       "      <td>12.585558</td>\n",
       "      <td>2181.615252</td>\n",
       "      <td>421.385070</td>\n",
       "      <td>1132.462122</td>\n",
       "      <td>382.329753</td>\n",
       "      <td>1.899822</td>\n",
       "      <td>115395.615874</td>\n",
       "    </tr>\n",
       "    <tr>\n",
       "      <th>min</th>\n",
       "      <td>-124.350000</td>\n",
       "      <td>32.540000</td>\n",
       "      <td>1.000000</td>\n",
       "      <td>2.000000</td>\n",
       "      <td>1.000000</td>\n",
       "      <td>3.000000</td>\n",
       "      <td>1.000000</td>\n",
       "      <td>0.499900</td>\n",
       "      <td>14999.000000</td>\n",
       "    </tr>\n",
       "    <tr>\n",
       "      <th>25%</th>\n",
       "      <td>-121.800000</td>\n",
       "      <td>33.930000</td>\n",
       "      <td>18.000000</td>\n",
       "      <td>1447.750000</td>\n",
       "      <td>296.000000</td>\n",
       "      <td>787.000000</td>\n",
       "      <td>280.000000</td>\n",
       "      <td>2.563400</td>\n",
       "      <td>119600.000000</td>\n",
       "    </tr>\n",
       "    <tr>\n",
       "      <th>50%</th>\n",
       "      <td>-118.490000</td>\n",
       "      <td>34.260000</td>\n",
       "      <td>29.000000</td>\n",
       "      <td>2127.000000</td>\n",
       "      <td>435.000000</td>\n",
       "      <td>1166.000000</td>\n",
       "      <td>409.000000</td>\n",
       "      <td>3.534800</td>\n",
       "      <td>179700.000000</td>\n",
       "    </tr>\n",
       "    <tr>\n",
       "      <th>75%</th>\n",
       "      <td>-118.010000</td>\n",
       "      <td>37.710000</td>\n",
       "      <td>37.000000</td>\n",
       "      <td>3148.000000</td>\n",
       "      <td>647.000000</td>\n",
       "      <td>1725.000000</td>\n",
       "      <td>605.000000</td>\n",
       "      <td>4.743250</td>\n",
       "      <td>264725.000000</td>\n",
       "    </tr>\n",
       "    <tr>\n",
       "      <th>max</th>\n",
       "      <td>-114.310000</td>\n",
       "      <td>41.950000</td>\n",
       "      <td>52.000000</td>\n",
       "      <td>39320.000000</td>\n",
       "      <td>6445.000000</td>\n",
       "      <td>35682.000000</td>\n",
       "      <td>6082.000000</td>\n",
       "      <td>15.000100</td>\n",
       "      <td>500001.000000</td>\n",
       "    </tr>\n",
       "  </tbody>\n",
       "</table>\n",
       "</div>"
      ],
      "text/plain": [
       "          longitude      latitude  housing_median_age   total_rooms  \\\n",
       "count  20640.000000  20640.000000        20640.000000  20640.000000   \n",
       "mean    -119.569704     35.631861           28.639486   2635.763081   \n",
       "std        2.003532      2.135952           12.585558   2181.615252   \n",
       "min     -124.350000     32.540000            1.000000      2.000000   \n",
       "25%     -121.800000     33.930000           18.000000   1447.750000   \n",
       "50%     -118.490000     34.260000           29.000000   2127.000000   \n",
       "75%     -118.010000     37.710000           37.000000   3148.000000   \n",
       "max     -114.310000     41.950000           52.000000  39320.000000   \n",
       "\n",
       "       total_bedrooms    population    households  median_income  \\\n",
       "count    20433.000000  20640.000000  20640.000000   20640.000000   \n",
       "mean       537.870553   1425.476744    499.539680       3.870671   \n",
       "std        421.385070   1132.462122    382.329753       1.899822   \n",
       "min          1.000000      3.000000      1.000000       0.499900   \n",
       "25%        296.000000    787.000000    280.000000       2.563400   \n",
       "50%        435.000000   1166.000000    409.000000       3.534800   \n",
       "75%        647.000000   1725.000000    605.000000       4.743250   \n",
       "max       6445.000000  35682.000000   6082.000000      15.000100   \n",
       "\n",
       "       median_house_value  \n",
       "count        20640.000000  \n",
       "mean        206855.816909  \n",
       "std         115395.615874  \n",
       "min          14999.000000  \n",
       "25%         119600.000000  \n",
       "50%         179700.000000  \n",
       "75%         264725.000000  \n",
       "max         500001.000000  "
      ]
     },
     "execution_count": 76,
     "metadata": {},
     "output_type": "execute_result"
    }
   ],
   "source": [
    "housing.describe()\n",
    "# housing['ocean_proximity'].value_counts()"
   ]
  },
  {
   "cell_type": "code",
   "execution_count": 77,
   "metadata": {},
   "outputs": [
    {
     "data": {
      "text/plain": [
       "array([[<matplotlib.axes._subplots.AxesSubplot object at 0x1bacaeec88>,\n",
       "        <matplotlib.axes._subplots.AxesSubplot object at 0x1bacb18080>,\n",
       "        <matplotlib.axes._subplots.AxesSubplot object at 0x1bacc68630>],\n",
       "       [<matplotlib.axes._subplots.AxesSubplot object at 0x1bacc15be0>,\n",
       "        <matplotlib.axes._subplots.AxesSubplot object at 0x1bacc901d0>,\n",
       "        <matplotlib.axes._subplots.AxesSubplot object at 0x1baccbc780>],\n",
       "       [<matplotlib.axes._subplots.AxesSubplot object at 0x1a1bab3d30>,\n",
       "        <matplotlib.axes._subplots.AxesSubplot object at 0x1a1bff1358>,\n",
       "        <matplotlib.axes._subplots.AxesSubplot object at 0x1a1bff1390>]],\n",
       "      dtype=object)"
      ]
     },
     "execution_count": 77,
     "metadata": {},
     "output_type": "execute_result"
    },
    {
     "data": {
      "image/png": "[encoded data removed]",
      "text/plain": [
       "<Figure size 432x288 with 9 Axes>"
      ]
     },
     "metadata": {
      "needs_background": "light"
     },
     "output_type": "display_data"
    }
   ],
   "source": [
    "# housing_numericals = housing.copy()\n",
    "# housing_numericals.drop('ocean_proximity', axis=1, inplace=True)\n",
    "housing.hist()"
   ]
  },
  {
   "cell_type": "code",
   "execution_count": 78,
   "metadata": {},
   "outputs": [
    {
     "data": {
      "text/plain": [
       "<1H OCEAN     9136\n",
       "INLAND        6551\n",
       "NEAR OCEAN    2658\n",
       "NEAR BAY      2290\n",
       "ISLAND           5\n",
       "Name: ocean_proximity, dtype: int64"
      ]
     },
     "execution_count": 78,
     "metadata": {},
     "output_type": "execute_result"
    }
   ],
   "source": [
    "housing['ocean_proximity'].value_counts()"
   ]
  },
  {
   "cell_type": "code",
   "execution_count": 20,
   "metadata": {},
   "outputs": [
    {
     "data": {
      "image/png": "[encoded data removed]",
      "text/plain": [
       "<Figure size 288x288 with 2 Axes>"
      ]
     },
     "metadata": {
      "needs_background": "light"
     },
     "output_type": "display_data"
    }
   ],
   "source": [
    "# housing.info()\n",
    "# housing['ocean_proximity'].value_counts()\n",
    "# pd.plotting.scatter_matrix(housing)\n",
    "\n",
    "plt.matshow(housing.corr())\n",
    "plt.xticks(range(len(housing.columns)), housing.columns,rotation=90,fontsize=10)\n",
    "plt.yticks(range(len(housing.columns)), housing.columns,fontsize=10)\n",
    "plt.colorbar(extend='both')\n",
    "plt.show()\n",
    "# housing.corr()"
   ]
  },
  {
   "cell_type": "code",
   "execution_count": null,
   "metadata": {},
   "outputs": [],
   "source": [
    "# looks like median_income is heavily correlated to house value! Going to create a stratified test set to ensure equal representation."
   ]
  },
  {
   "cell_type": "code",
   "execution_count": 79,
   "metadata": {},
   "outputs": [
    {
     "data": {
      "text/plain": [
       "3    10875\n",
       "2     4946\n",
       "1     2457\n",
       "4     2362\n",
       "Name: income_cat, dtype: int64"
      ]
     },
     "execution_count": 79,
     "metadata": {},
     "output_type": "execute_result"
    },
    {
     "data": {
      "image/png": "[encoded data removed]",
      "text/plain": [
       "<Figure size 432x288 with 1 Axes>"
      ]
     },
     "metadata": {
      "needs_background": "light"
     },
     "output_type": "display_data"
    }
   ],
   "source": [
    "housing['income_cat'] = pd.cut(housing['median_income'],bins=[0,2,3,6, np.inf], labels=[1,2,3,4])\n",
    "housing['income_cat'].hist()\n",
    "housing['income_cat'].value_counts()"
   ]
  },
  {
   "cell_type": "code",
   "execution_count": 80,
   "metadata": {},
   "outputs": [],
   "source": [
    "from sklearn.model_selection import StratifiedShuffleSplit\n",
    "\n",
    "split = StratifiedShuffleSplit(n_splits=1, test_size=0.2, random_state=42)\n",
    "for train_index, test_index in split.split(housing, housing[\"income_cat\"]):\n",
    "    strat_train_set = housing.loc[train_index]\n",
    "    strat_test_set = housing.loc[test_index] "
   ]
  },
  {
   "cell_type": "markdown",
   "metadata": {},
   "source": [
    "Compare the stratefied distribution of med_income buckets in test set to the full set."
   ]
  },
  {
   "cell_type": "code",
   "execution_count": 81,
   "metadata": {},
   "outputs": [
    {
     "data": {
      "text/plain": [
       "3    0.526890\n",
       "2    0.239583\n",
       "1    0.119186\n",
       "4    0.114341\n",
       "Name: income_cat, dtype: float64"
      ]
     },
     "execution_count": 81,
     "metadata": {},
     "output_type": "execute_result"
    }
   ],
   "source": [
    "strat_test_set[\"income_cat\"].value_counts() / len(strat_test_set)"
   ]
  },
  {
   "cell_type": "code",
   "execution_count": 82,
   "metadata": {},
   "outputs": [
    {
     "data": {
      "text/plain": [
       "3    0.526890\n",
       "2    0.239632\n",
       "1    0.119041\n",
       "4    0.114438\n",
       "Name: income_cat, dtype: float64"
      ]
     },
     "execution_count": 82,
     "metadata": {},
     "output_type": "execute_result"
    }
   ],
   "source": [
    "housing[\"income_cat\"].value_counts() / len(housing)"
   ]
  },
  {
   "cell_type": "code",
   "execution_count": 83,
   "metadata": {},
   "outputs": [
    {
     "name": "stdout",
     "output_type": "stream",
     "text": [
      "<class 'pandas.core.frame.DataFrame'>\n",
      "Int64Index: 16512 entries, 7009 to 19311\n",
      "Data columns (total 10 columns):\n",
      "longitude             16512 non-null float64\n",
      "latitude              16512 non-null float64\n",
      "housing_median_age    16512 non-null float64\n",
      "total_rooms           16512 non-null float64\n",
      "total_bedrooms        16347 non-null float64\n",
      "population            16512 non-null float64\n",
      "households            16512 non-null float64\n",
      "median_income         16512 non-null float64\n",
      "median_house_value    16512 non-null float64\n",
      "ocean_proximity       16512 non-null object\n",
      "dtypes: float64(9), object(1)\n",
      "memory usage: 1.4+ MB\n"
     ]
    }
   ],
   "source": [
    "for x in (strat_train_set,strat_test_set):\n",
    "    x.drop('income_cat',axis=1, inplace=True)\n",
    "    \n",
    "strat_train_set.info()\n"
   ]
  },
  {
   "cell_type": "markdown",
   "metadata": {},
   "source": [
    "Prepping our train and test sets."
   ]
  },
  {
   "cell_type": "code",
   "execution_count": 84,
   "metadata": {},
   "outputs": [
    {
     "name": "stdout",
     "output_type": "stream",
     "text": [
      "<class 'pandas.core.frame.DataFrame'>\n",
      "Int64Index: 16512 entries, 7009 to 19311\n",
      "Data columns (total 9 columns):\n",
      "longitude             16512 non-null float64\n",
      "latitude              16512 non-null float64\n",
      "housing_median_age    16512 non-null float64\n",
      "total_rooms           16512 non-null float64\n",
      "total_bedrooms        16347 non-null float64\n",
      "population            16512 non-null float64\n",
      "households            16512 non-null float64\n",
      "median_income         16512 non-null float64\n",
      "ocean_proximity       16512 non-null object\n",
      "dtypes: float64(8), object(1)\n",
      "memory usage: 1.3+ MB\n"
     ]
    }
   ],
   "source": [
    "housing = strat_train_set.copy()\n",
    "housing.drop('median_house_value', axis=1,inplace=True)\n",
    "housing_labels = strat_train_set[\"median_house_value\"].copy()\n",
    "housing.info()"
   ]
  },
  {
   "cell_type": "code",
   "execution_count": 85,
   "metadata": {},
   "outputs": [],
   "source": [
    "# add a nee feature: bedrooms/room ratio\n",
    "from sklearn.base import BaseEstimator, TransformerMixin\n",
    "from sklearn.preprocessing import FunctionTransformer\n",
    "\n",
    "# get column index\n",
    "# rooms_ix, bedrooms_ix, population_ix, household_ix = 3, 4, 5, 6\n",
    "\n",
    "class CombinedAttributesAdder(BaseEstimator, TransformerMixin):\n",
    "    \n",
    "    def __init__(self, df, add_bedrooms_per_room = True): # no *args or **kargs\n",
    "        self.add_bedrooms_per_room = add_bedrooms_per_room\n",
    "        self.df = df\n",
    "    def fit(self, X, y=None):\n",
    "        return self  # nothing else to do\n",
    "    def transform(self, X, y=None):\n",
    "        col_index = []\n",
    "        for x in ['total_rooms', 'total_bedrooms', 'population', 'households']:\n",
    "            col_index.append(self.df.columns.get_loc(x))\n",
    "\n",
    "        rooms_ix, bedrooms_ix, population_ix, household_ix  = col_index\n",
    "        \n",
    "        rooms_per_household = X[:, rooms_ix] / X[:, household_ix]\n",
    "        population_per_household = X[:, population_ix] / X[:, household_ix]\n",
    "        if self.add_bedrooms_per_room:\n",
    "            bedrooms_per_room = X[:, bedrooms_ix] / X[:, rooms_ix]\n",
    "            return np.c_[X, rooms_per_household, population_per_household,\n",
    "                         bedrooms_per_room]\n",
    "        else:\n",
    "            return np.c_[X, rooms_per_household, population_per_household]\n",
    "       "
   ]
  },
  {
   "cell_type": "code",
   "execution_count": 11,
   "metadata": {
    "collapsed": true,
    "jupyter": {
     "outputs_hidden": true
    }
   },
   "outputs": [
    {
     "data": {
      "text/html": [
       "<div>\n",
       "<style scoped>\n",
       "    .dataframe tbody tr th:only-of-type {\n",
       "        vertical-align: middle;\n",
       "    }\n",
       "\n",
       "    .dataframe tbody tr th {\n",
       "        vertical-align: top;\n",
       "    }\n",
       "\n",
       "    .dataframe thead th {\n",
       "        text-align: right;\n",
       "    }\n",
       "</style>\n",
       "<table border=\"1\" class=\"dataframe\">\n",
       "  <thead>\n",
       "    <tr style=\"text-align: right;\">\n",
       "      <th></th>\n",
       "      <th>longitude</th>\n",
       "      <th>latitude</th>\n",
       "      <th>housing_median_age</th>\n",
       "      <th>total_rooms</th>\n",
       "      <th>total_bedrooms</th>\n",
       "      <th>population</th>\n",
       "      <th>households</th>\n",
       "      <th>median_income</th>\n",
       "      <th>median_house_value</th>\n",
       "      <th>ocean_proximity</th>\n",
       "      <th>rooms_per_household</th>\n",
       "      <th>population_per_household</th>\n",
       "      <th>bedrooms_per_room</th>\n",
       "    </tr>\n",
       "  </thead>\n",
       "  <tbody>\n",
       "    <tr>\n",
       "      <th>0</th>\n",
       "      <td>-118.07</td>\n",
       "      <td>33.97</td>\n",
       "      <td>36</td>\n",
       "      <td>1887</td>\n",
       "      <td>370</td>\n",
       "      <td>1006</td>\n",
       "      <td>329</td>\n",
       "      <td>3.1554</td>\n",
       "      <td>170700</td>\n",
       "      <td>&lt;1H OCEAN</td>\n",
       "      <td>5.73556</td>\n",
       "      <td>3.05775</td>\n",
       "      <td>0.196078</td>\n",
       "    </tr>\n",
       "    <tr>\n",
       "      <th>1</th>\n",
       "      <td>-117.99</td>\n",
       "      <td>33.77</td>\n",
       "      <td>15</td>\n",
       "      <td>2081</td>\n",
       "      <td>531</td>\n",
       "      <td>1617</td>\n",
       "      <td>561</td>\n",
       "      <td>3.4955</td>\n",
       "      <td>160900</td>\n",
       "      <td>&lt;1H OCEAN</td>\n",
       "      <td>3.70945</td>\n",
       "      <td>2.88235</td>\n",
       "      <td>0.255166</td>\n",
       "    </tr>\n",
       "    <tr>\n",
       "      <th>2</th>\n",
       "      <td>-119.63</td>\n",
       "      <td>36.64</td>\n",
       "      <td>33</td>\n",
       "      <td>1036</td>\n",
       "      <td>181</td>\n",
       "      <td>620</td>\n",
       "      <td>174</td>\n",
       "      <td>3.4107</td>\n",
       "      <td>110400</td>\n",
       "      <td>INLAND</td>\n",
       "      <td>5.95402</td>\n",
       "      <td>3.56322</td>\n",
       "      <td>0.17471</td>\n",
       "    </tr>\n",
       "    <tr>\n",
       "      <th>3</th>\n",
       "      <td>-117.89</td>\n",
       "      <td>33.74</td>\n",
       "      <td>32</td>\n",
       "      <td>660</td>\n",
       "      <td>145</td>\n",
       "      <td>959</td>\n",
       "      <td>113</td>\n",
       "      <td>3.75</td>\n",
       "      <td>159000</td>\n",
       "      <td>&lt;1H OCEAN</td>\n",
       "      <td>5.84071</td>\n",
       "      <td>8.48673</td>\n",
       "      <td>0.219697</td>\n",
       "    </tr>\n",
       "    <tr>\n",
       "      <th>4</th>\n",
       "      <td>-118.07</td>\n",
       "      <td>33.88</td>\n",
       "      <td>18</td>\n",
       "      <td>2436</td>\n",
       "      <td>375</td>\n",
       "      <td>1303</td>\n",
       "      <td>386</td>\n",
       "      <td>6.1968</td>\n",
       "      <td>344700</td>\n",
       "      <td>&lt;1H OCEAN</td>\n",
       "      <td>6.31088</td>\n",
       "      <td>3.37565</td>\n",
       "      <td>0.153941</td>\n",
       "    </tr>\n",
       "  </tbody>\n",
       "</table>\n",
       "</div>"
      ],
      "text/plain": [
       "  longitude latitude housing_median_age total_rooms total_bedrooms population  \\\n",
       "0   -118.07    33.97                 36        1887            370       1006   \n",
       "1   -117.99    33.77                 15        2081            531       1617   \n",
       "2   -119.63    36.64                 33        1036            181        620   \n",
       "3   -117.89    33.74                 32         660            145        959   \n",
       "4   -118.07    33.88                 18        2436            375       1303   \n",
       "\n",
       "  households median_income median_house_value ocean_proximity  \\\n",
       "0        329        3.1554             170700       <1H OCEAN   \n",
       "1        561        3.4955             160900       <1H OCEAN   \n",
       "2        174        3.4107             110400          INLAND   \n",
       "3        113          3.75             159000       <1H OCEAN   \n",
       "4        386        6.1968             344700       <1H OCEAN   \n",
       "\n",
       "  rooms_per_household population_per_household bedrooms_per_room  \n",
       "0             5.73556                  3.05775          0.196078  \n",
       "1             3.70945                  2.88235          0.255166  \n",
       "2             5.95402                  3.56322           0.17471  \n",
       "3             5.84071                  8.48673          0.219697  \n",
       "4             6.31088                  3.37565          0.153941  "
      ]
     },
     "execution_count": 11,
     "metadata": {},
     "output_type": "execute_result"
    }
   ],
   "source": [
    "# testing corr of whole dataset plus new cols\n",
    "\n",
    "# feature_adder = CombinedAttributesAdder(df=strat_train_set)\n",
    "# housing_extra_attribs = feature_adder.transform(strat_train_set.values)\n",
    "# housing_extra_attribs = pd.DataFrame(\n",
    "#     housing_extra_attribs,\n",
    "#     columns=list(strat_train_set.columns)+[\"rooms_per_household\", \"population_per_household\", \"bedrooms_per_room\"])\n",
    "# housing_extra_attribs.head()"
   ]
  },
  {
   "cell_type": "code",
   "execution_count": 251,
   "metadata": {
    "collapsed": true,
    "jupyter": {
     "outputs_hidden": true
    }
   },
   "outputs": [
    {
     "data": {
      "text/plain": [
       "median_house_value          1.000000\n",
       "median_income               0.688412\n",
       "rooms_per_household         0.151282\n",
       "total_rooms                 0.136863\n",
       "housing_median_age          0.107407\n",
       "households                  0.068238\n",
       "total_bedrooms              0.051805\n",
       "population_per_household   -0.020066\n",
       "population                 -0.023270\n",
       "longitude                  -0.044983\n",
       "latitude                   -0.144820\n",
       "bedrooms_per_room          -0.254015\n",
       "Name: median_house_value, dtype: float64"
      ]
     },
     "execution_count": 251,
     "metadata": {},
     "output_type": "execute_result"
    }
   ],
   "source": [
    "# from sklearn.impute import SimpleImputer\n",
    "\n",
    "# imp_median = SimpleImputer(missing_values=np.nan, strategy='median')\n",
    "# clean_housing_extra = imp_median.fit_transform(housing_extra_attribs)\n",
    "# clean_housing_extra = pd.DataFrame(clean_housing_extra,columns=housing_extra_attribs.columns.tolist())\n",
    "# # clean_housing_extra.info()\n",
    "# house_corr = clean_housing_extra.corr()\n",
    "# house_corr['median_house_value'].sort_values(ascending=False)"
   ]
  },
  {
   "cell_type": "code",
   "execution_count": 255,
   "metadata": {},
   "outputs": [],
   "source": [
    "# try dropping less correlated columns - even though they seem to have statistical significance at p < 0.05\n",
    "# smaller_housing = housing.copy()\n",
    "# smaller_housing.drop(columns = ['longitude', 'latitude'],inplace=True)\n",
    "\n",
    "# ended up not using this trimmed dataset as it didn't result in better result in training KNN."
   ]
  },
  {
   "cell_type": "code",
   "execution_count": 86,
   "metadata": {},
   "outputs": [],
   "source": [
    "# build pipeline ot transform data (cat cols to onehot, handle for missing num cols, standardize num cols)\n",
    "from sklearn.preprocessing import OneHotEncoder\n",
    "from sklearn.pipeline import Pipeline\n",
    "from sklearn.pipeline import make_pipeline\n",
    "from sklearn.impute import SimpleImputer\n",
    "from sklearn.preprocessing import StandardScaler\n",
    "from sklearn.compose import ColumnTransformer\n",
    "\n",
    "num_pipeline = make_pipeline(SimpleImputer(strategy=\"median\"), CombinedAttributesAdder(df=housing),StandardScaler())\n",
    "log_pipeline = make_pipeline(FunctionTransformer(np.log1p, validate=True))\n",
    "\n",
    "housing_num = housing.select_dtypes(include=[np.number])\n",
    "num_attribs = list(housing_num)\n",
    "log_attribs = ['housing_median_age', 'total_rooms', 'population', 'households', 'median_income']\n",
    "cat_attribs = [\"ocean_proximity\"]\n",
    "\n",
    "full_pipeline = ColumnTransformer([\n",
    "        (\"num\", num_pipeline, num_attribs),\n",
    "        (\"log\", log_pipeline, log_attribs),\n",
    "        (\"cat\", OneHotEncoder(), cat_attribs)\n",
    "    ])\n"
   ]
  },
  {
   "cell_type": "code",
   "execution_count": 87,
   "metadata": {},
   "outputs": [],
   "source": [
    "housing_prepared = full_pipeline.fit_transform(housing)"
   ]
  },
  {
   "cell_type": "code",
   "execution_count": 88,
   "metadata": {},
   "outputs": [
    {
     "data": {
      "text/plain": [
       "(16512, 21)"
      ]
     },
     "execution_count": 88,
     "metadata": {},
     "output_type": "execute_result"
    }
   ],
   "source": [
    "# housing_prepared = log_pipeline.fit_transform(log_pipeline)\n",
    "housing_prepared.shape"
   ]
  },
  {
   "cell_type": "code",
   "execution_count": 279,
   "metadata": {},
   "outputs": [],
   "source": [
    "# # trying our smaller data set\n",
    "\n",
    "# # del housing_num, num_attribs, log_attribs, cat_attribs\n",
    "\n",
    "# num_pipeline = make_pipeline(SimpleImputer(strategy=\"median\"), CombinedAttributesAdder(df=smaller_housing, add_bedrooms_per_room=True),StandardScaler())\n",
    "# log_pipeline = make_pipeline(FunctionTransformer(np.log1p, validate=True))\n",
    "\n",
    "# housing_num = smaller_housing.select_dtypes(include=[np.number])\n",
    "# num_attribs = list(housing_num)\n",
    "# # num_attribs\n",
    "# cat_attribs = [\"ocean_proximity\"]\n",
    "# log_attribs = ['housing_median_age', 'total_rooms', 'population', 'households', 'median_income']\n",
    "\n",
    "# full_small_pipeline = ColumnTransformer([\n",
    "#         (\"num\", num_pipeline, num_attribs),\n",
    "#         (\"log\", log_pipeline, log_attribs),\n",
    "#         (\"cat\", OneHotEncoder(), cat_attribs),\n",
    "#     ])\n"
   ]
  },
  {
   "cell_type": "code",
   "execution_count": 280,
   "metadata": {},
   "outputs": [],
   "source": [
    "# # smaller_housing.info()\n",
    "# housing_prepared = full_small_pipeline.fit_transform(smaller_housing)"
   ]
  },
  {
   "cell_type": "code",
   "execution_count": 37,
   "metadata": {
    "collapsed": true,
    "jupyter": {
     "outputs_hidden": true
    }
   },
   "outputs": [
    {
     "data": {
      "text/plain": [
       "(16512, 21)"
      ]
     },
     "execution_count": 37,
     "metadata": {},
     "output_type": "execute_result"
    }
   ],
   "source": [
    "# housing_prepared.shape"
   ]
  },
  {
   "cell_type": "markdown",
   "metadata": {},
   "source": [
    "First we try out KNN as default."
   ]
  },
  {
   "cell_type": "code",
   "execution_count": 93,
   "metadata": {},
   "outputs": [
    {
     "data": {
      "text/plain": [
       "48988.296502586556"
      ]
     },
     "execution_count": 93,
     "metadata": {},
     "output_type": "execute_result"
    }
   ],
   "source": [
    "from sklearn.neighbors import KNeighborsRegressor\n",
    "from sklearn.metrics import mean_squared_error\n",
    "\n",
    "knn = KNeighborsRegressor(n_neighbors=5, metric='euclidean')\n",
    "knn.fit(housing_prepared, housing_labels)\n",
    "\n",
    "y_pred = knn.predict(housing_prepared)\n",
    "\n",
    "knn_rmse = np.sqrt(mean_squared_error(housing_labels, y_pred))\n",
    "knn_rmse\n",
    "\n",
    "# before log transform rmse: 49521.130387713514\n",
    "# after log transforming some cols: 48988.296502586556\n",
    "\n",
    "# after removing long, lat rmse: 52515.87454156765"
   ]
  },
  {
   "cell_type": "markdown",
   "metadata": {},
   "source": [
    "Here we take a detour into RandomForestRegressor to utilize its Feature Importnaces method (since KNN doens't have one) to try reducing num_features used."
   ]
  },
  {
   "cell_type": "code",
   "execution_count": 94,
   "metadata": {},
   "outputs": [
    {
     "data": {
      "text/plain": [
       "18497.906975058"
      ]
     },
     "execution_count": 94,
     "metadata": {},
     "output_type": "execute_result"
    }
   ],
   "source": [
    "# Import the model we are using\n",
    "from sklearn.ensemble import RandomForestRegressor\n",
    "# Instantiate model with 1000 decision trees\n",
    "rf = RandomForestRegressor(n_estimators = 100, random_state = 42)\n",
    "# Train the model on training data\n",
    "rf.fit(housing_prepared, housing_labels);\n",
    "\n",
    "y_pred = rf.predict(housing_prepared)\n",
    "\n",
    "rf_pred_score = np.sqrt(mean_squared_error(housing_labels, y_pred))\n",
    "\n",
    "rf_pred_score"
   ]
  },
  {
   "cell_type": "markdown",
   "metadata": {},
   "source": [
    "Trying cross val on Random Forest."
   ]
  },
  {
   "cell_type": "code",
   "execution_count": 90,
   "metadata": {},
   "outputs": [
    {
     "name": "stdout",
     "output_type": "stream",
     "text": [
      "Scores: [51033.61756625 50606.76787941 49324.10931668 50526.68340013\n",
      " 50129.70007561 47689.51816919 50420.06038147 51034.90252945\n",
      " 49695.69478771 49366.8086847 ]\n",
      "Mean: 49982.78627905954\n",
      "Standard deviation: 962.494067735034\n"
     ]
    }
   ],
   "source": [
    "\n",
    "from sklearn.model_selection import cross_val_score\n",
    "from sklearn.model_selection import GridSearchCV\n",
    "from sklearn.model_selection import RandomizedSearchCV\n",
    "\n",
    "rf_scores = cross_val_score(rf, housing_prepared, housing_labels,\n",
    "                         scoring=\"neg_mean_squared_error\", cv=10)\n",
    "rf_scores_rmse_scores = np.sqrt(-rf_scores)\n",
    "\n",
    "def display_scores(scores):\n",
    "    print(\"Scores:\", scores)\n",
    "    print(\"Mean:\", scores.mean())\n",
    "    print(\"Standard deviation:\", scores.std())\n",
    "\n",
    "display_scores(rf_scores_rmse_scores)\n",
    "\n",
    "# Scores: [51033.61756625 50606.76787941 49324.10931668 50526.68340013\n",
    "#  50129.70007561 47689.51816919 50420.06038147 51034.90252945\n",
    "#  49695.69478771 49366.8086847 ]\n",
    "# Mean: 49982.78627905954\n",
    "# Standard deviation: 962.494067735034"
   ]
  },
  {
   "cell_type": "markdown",
   "metadata": {},
   "source": [
    "Finding the best params for Random Forest so that we can later compare our final KNN model to this one."
   ]
  },
  {
   "cell_type": "code",
   "execution_count": 29,
   "metadata": {
    "collapsed": true,
    "jupyter": {
     "outputs_hidden": true
    }
   },
   "outputs": [
    {
     "data": {
      "text/plain": [
       "\u001b[0;31mInit signature:\u001b[0m\n",
       "\u001b[0mRandomForestRegressor\u001b[0m\u001b[0;34m(\u001b[0m\u001b[0;34m\u001b[0m\n",
       "\u001b[0;34m\u001b[0m    \u001b[0mn_estimators\u001b[0m\u001b[0;34m=\u001b[0m\u001b[0;36m100\u001b[0m\u001b[0;34m,\u001b[0m\u001b[0;34m\u001b[0m\n",
       "\u001b[0;34m\u001b[0m    \u001b[0mcriterion\u001b[0m\u001b[0;34m=\u001b[0m\u001b[0;34m'mse'\u001b[0m\u001b[0;34m,\u001b[0m\u001b[0;34m\u001b[0m\n",
       "\u001b[0;34m\u001b[0m    \u001b[0mmax_depth\u001b[0m\u001b[0;34m=\u001b[0m\u001b[0;32mNone\u001b[0m\u001b[0;34m,\u001b[0m\u001b[0;34m\u001b[0m\n",
       "\u001b[0;34m\u001b[0m    \u001b[0mmin_samples_split\u001b[0m\u001b[0;34m=\u001b[0m\u001b[0;36m2\u001b[0m\u001b[0;34m,\u001b[0m\u001b[0;34m\u001b[0m\n",
       "\u001b[0;34m\u001b[0m    \u001b[0mmin_samples_leaf\u001b[0m\u001b[0;34m=\u001b[0m\u001b[0;36m1\u001b[0m\u001b[0;34m,\u001b[0m\u001b[0;34m\u001b[0m\n",
       "\u001b[0;34m\u001b[0m    \u001b[0mmin_weight_fraction_leaf\u001b[0m\u001b[0;34m=\u001b[0m\u001b[0;36m0.0\u001b[0m\u001b[0;34m,\u001b[0m\u001b[0;34m\u001b[0m\n",
       "\u001b[0;34m\u001b[0m    \u001b[0mmax_features\u001b[0m\u001b[0;34m=\u001b[0m\u001b[0;34m'auto'\u001b[0m\u001b[0;34m,\u001b[0m\u001b[0;34m\u001b[0m\n",
       "\u001b[0;34m\u001b[0m    \u001b[0mmax_leaf_nodes\u001b[0m\u001b[0;34m=\u001b[0m\u001b[0;32mNone\u001b[0m\u001b[0;34m,\u001b[0m\u001b[0;34m\u001b[0m\n",
       "\u001b[0;34m\u001b[0m    \u001b[0mmin_impurity_decrease\u001b[0m\u001b[0;34m=\u001b[0m\u001b[0;36m0.0\u001b[0m\u001b[0;34m,\u001b[0m\u001b[0;34m\u001b[0m\n",
       "\u001b[0;34m\u001b[0m    \u001b[0mmin_impurity_split\u001b[0m\u001b[0;34m=\u001b[0m\u001b[0;32mNone\u001b[0m\u001b[0;34m,\u001b[0m\u001b[0;34m\u001b[0m\n",
       "\u001b[0;34m\u001b[0m    \u001b[0mbootstrap\u001b[0m\u001b[0;34m=\u001b[0m\u001b[0;32mTrue\u001b[0m\u001b[0;34m,\u001b[0m\u001b[0;34m\u001b[0m\n",
       "\u001b[0;34m\u001b[0m    \u001b[0moob_score\u001b[0m\u001b[0;34m=\u001b[0m\u001b[0;32mFalse\u001b[0m\u001b[0;34m,\u001b[0m\u001b[0;34m\u001b[0m\n",
       "\u001b[0;34m\u001b[0m    \u001b[0mn_jobs\u001b[0m\u001b[0;34m=\u001b[0m\u001b[0;32mNone\u001b[0m\u001b[0;34m,\u001b[0m\u001b[0;34m\u001b[0m\n",
       "\u001b[0;34m\u001b[0m    \u001b[0mrandom_state\u001b[0m\u001b[0;34m=\u001b[0m\u001b[0;32mNone\u001b[0m\u001b[0;34m,\u001b[0m\u001b[0;34m\u001b[0m\n",
       "\u001b[0;34m\u001b[0m    \u001b[0mverbose\u001b[0m\u001b[0;34m=\u001b[0m\u001b[0;36m0\u001b[0m\u001b[0;34m,\u001b[0m\u001b[0;34m\u001b[0m\n",
       "\u001b[0;34m\u001b[0m    \u001b[0mwarm_start\u001b[0m\u001b[0;34m=\u001b[0m\u001b[0;32mFalse\u001b[0m\u001b[0;34m,\u001b[0m\u001b[0;34m\u001b[0m\n",
       "\u001b[0;34m\u001b[0m    \u001b[0mccp_alpha\u001b[0m\u001b[0;34m=\u001b[0m\u001b[0;36m0.0\u001b[0m\u001b[0;34m,\u001b[0m\u001b[0;34m\u001b[0m\n",
       "\u001b[0;34m\u001b[0m    \u001b[0mmax_samples\u001b[0m\u001b[0;34m=\u001b[0m\u001b[0;32mNone\u001b[0m\u001b[0;34m,\u001b[0m\u001b[0;34m\u001b[0m\n",
       "\u001b[0;34m\u001b[0m\u001b[0;34m)\u001b[0m\u001b[0;34m\u001b[0m\u001b[0;34m\u001b[0m\u001b[0m\n",
       "\u001b[0;31mDocstring:\u001b[0m     \n",
       "A random forest regressor.\n",
       "\n",
       "A random forest is a meta estimator that fits a number of classifying\n",
       "decision trees on various sub-samples of the dataset and uses averaging\n",
       "to improve the predictive accuracy and control over-fitting.\n",
       "The sub-sample size is always the same as the original\n",
       "input sample size but the samples are drawn with replacement if\n",
       "`bootstrap=True` (default).\n",
       "\n",
       "Read more in the :ref:`User Guide <forest>`.\n",
       "\n",
       "Parameters\n",
       "----------\n",
       "n_estimators : integer, optional (default=10)\n",
       "    The number of trees in the forest.\n",
       "\n",
       "    .. versionchanged:: 0.22\n",
       "       The default value of ``n_estimators`` changed from 10 to 100\n",
       "       in 0.22.\n",
       "\n",
       "criterion : string, optional (default=\"mse\")\n",
       "    The function to measure the quality of a split. Supported criteria\n",
       "    are \"mse\" for the mean squared error, which is equal to variance\n",
       "    reduction as feature selection criterion, and \"mae\" for the mean\n",
       "    absolute error.\n",
       "\n",
       "    .. versionadded:: 0.18\n",
       "       Mean Absolute Error (MAE) criterion.\n",
       "\n",
       "max_depth : integer or None, optional (default=None)\n",
       "    The maximum depth of the tree. If None, then nodes are expanded until\n",
       "    all leaves are pure or until all leaves contain less than\n",
       "    min_samples_split samples.\n",
       "\n",
       "min_samples_split : int, float, optional (default=2)\n",
       "    The minimum number of samples required to split an internal node:\n",
       "\n",
       "    - If int, then consider `min_samples_split` as the minimum number.\n",
       "    - If float, then `min_samples_split` is a fraction and\n",
       "      `ceil(min_samples_split * n_samples)` are the minimum\n",
       "      number of samples for each split.\n",
       "\n",
       "    .. versionchanged:: 0.18\n",
       "       Added float values for fractions.\n",
       "\n",
       "min_samples_leaf : int, float, optional (default=1)\n",
       "    The minimum number of samples required to be at a leaf node.\n",
       "    A split point at any depth will only be considered if it leaves at\n",
       "    least ``min_samples_leaf`` training samples in each of the left and\n",
       "    right branches.  This may have the effect of smoothing the model,\n",
       "    especially in regression.\n",
       "\n",
       "    - If int, then consider `min_samples_leaf` as the minimum number.\n",
       "    - If float, then `min_samples_leaf` is a fraction and\n",
       "      `ceil(min_samples_leaf * n_samples)` are the minimum\n",
       "      number of samples for each node.\n",
       "\n",
       "    .. versionchanged:: 0.18\n",
       "       Added float values for fractions.\n",
       "\n",
       "min_weight_fraction_leaf : float, optional (default=0.)\n",
       "    The minimum weighted fraction of the sum total of weights (of all\n",
       "    the input samples) required to be at a leaf node. Samples have\n",
       "    equal weight when sample_weight is not provided.\n",
       "\n",
       "max_features : int, float, string or None, optional (default=\"auto\")\n",
       "    The number of features to consider when looking for the best split:\n",
       "\n",
       "    - If int, then consider `max_features` features at each split.\n",
       "    - If float, then `max_features` is a fraction and\n",
       "      `int(max_features * n_features)` features are considered at each\n",
       "      split.\n",
       "    - If \"auto\", then `max_features=n_features`.\n",
       "    - If \"sqrt\", then `max_features=sqrt(n_features)`.\n",
       "    - If \"log2\", then `max_features=log2(n_features)`.\n",
       "    - If None, then `max_features=n_features`.\n",
       "\n",
       "    Note: the search for a split does not stop until at least one\n",
       "    valid partition of the node samples is found, even if it requires to\n",
       "    effectively inspect more than ``max_features`` features.\n",
       "\n",
       "max_leaf_nodes : int or None, optional (default=None)\n",
       "    Grow trees with ``max_leaf_nodes`` in best-first fashion.\n",
       "    Best nodes are defined as relative reduction in impurity.\n",
       "    If None then unlimited number of leaf nodes.\n",
       "\n",
       "min_impurity_decrease : float, optional (default=0.)\n",
       "    A node will be split if this split induces a decrease of the impurity\n",
       "    greater than or equal to this value.\n",
       "\n",
       "    The weighted impurity decrease equation is the following::\n",
       "\n",
       "        N_t / N * (impurity - N_t_R / N_t * right_impurity\n",
       "                            - N_t_L / N_t * left_impurity)\n",
       "\n",
       "    where ``N`` is the total number of samples, ``N_t`` is the number of\n",
       "    samples at the current node, ``N_t_L`` is the number of samples in the\n",
       "    left child, and ``N_t_R`` is the number of samples in the right child.\n",
       "\n",
       "    ``N``, ``N_t``, ``N_t_R`` and ``N_t_L`` all refer to the weighted sum,\n",
       "    if ``sample_weight`` is passed.\n",
       "\n",
       "    .. versionadded:: 0.19\n",
       "\n",
       "min_impurity_split : float, (default=1e-7)\n",
       "    Threshold for early stopping in tree growth. A node will split\n",
       "    if its impurity is above the threshold, otherwise it is a leaf.\n",
       "\n",
       "    .. deprecated:: 0.19\n",
       "       ``min_impurity_split`` has been deprecated in favor of\n",
       "       ``min_impurity_decrease`` in 0.19. The default value of\n",
       "       ``min_impurity_split`` will change from 1e-7 to 0 in 0.23 and it\n",
       "       will be removed in 0.25. Use ``min_impurity_decrease`` instead.\n",
       "\n",
       "bootstrap : boolean, optional (default=True)\n",
       "    Whether bootstrap samples are used when building trees. If False, the\n",
       "    whole datset is used to build each tree.\n",
       "\n",
       "oob_score : bool, optional (default=False)\n",
       "    whether to use out-of-bag samples to estimate\n",
       "    the R^2 on unseen data.\n",
       "\n",
       "n_jobs : int or None, optional (default=None)\n",
       "    The number of jobs to run in parallel. :meth:`fit`, :meth:`predict`,\n",
       "    :meth:`decision_path` and :meth:`apply` are all parallelized over the\n",
       "    trees. ``None`` means 1 unless in a :obj:`joblib.parallel_backend`\n",
       "    context. ``-1`` means using all processors. See :term:`Glossary\n",
       "    <n_jobs>` for more details.\n",
       "\n",
       "random_state : int, RandomState instance or None, optional (default=None)\n",
       "    Controls both the randomness of the bootstrapping of the samples used\n",
       "    when building trees (if ``bootstrap=True``) and the sampling of the\n",
       "    features to consider when looking for the best split at each node\n",
       "    (if ``max_features < n_features``).\n",
       "    See :term:`Glossary <random_state>` for details.\n",
       "\n",
       "verbose : int, optional (default=0)\n",
       "    Controls the verbosity when fitting and predicting.\n",
       "\n",
       "warm_start : bool, optional (default=False)\n",
       "    When set to ``True``, reuse the solution of the previous call to fit\n",
       "    and add more estimators to the ensemble, otherwise, just fit a whole\n",
       "    new forest. See :term:`the Glossary <warm_start>`.\n",
       "\n",
       "ccp_alpha : non-negative float, optional (default=0.0)\n",
       "    Complexity parameter used for Minimal Cost-Complexity Pruning. The\n",
       "    subtree with the largest cost complexity that is smaller than\n",
       "    ``ccp_alpha`` will be chosen. By default, no pruning is performed. See\n",
       "    :ref:`minimal_cost_complexity_pruning` for details.\n",
       "\n",
       "    .. versionadded:: 0.22\n",
       "\n",
       "max_samples : int or float, default=None\n",
       "    If bootstrap is True, the number of samples to draw from X\n",
       "    to train each base estimator.\n",
       "\n",
       "    - If None (default), then draw `X.shape[0]` samples.\n",
       "    - If int, then draw `max_samples` samples.\n",
       "    - If float, then draw `max_samples * X.shape[0]` samples. Thus,\n",
       "      `max_samples` should be in the interval `(0, 1)`.\n",
       "\n",
       "    .. versionadded:: 0.22\n",
       "\n",
       "Attributes\n",
       "----------\n",
       "base_estimator_ : DecisionTreeRegressor\n",
       "    The child estimator template used to create the collection of fitted\n",
       "    sub-estimators.\n",
       "\n",
       "estimators_ : list of DecisionTreeRegressor\n",
       "    The collection of fitted sub-estimators.\n",
       "\n",
       "feature_importances_ : ndarray of shape (n_features,)\n",
       "    The feature importances (the higher, the more important the feature).\n",
       "\n",
       "n_features_ : int\n",
       "    The number of features when ``fit`` is performed.\n",
       "\n",
       "n_outputs_ : int\n",
       "    The number of outputs when ``fit`` is performed.\n",
       "\n",
       "oob_score_ : float\n",
       "    Score of the training dataset obtained using an out-of-bag estimate.\n",
       "    This attribute exists only when ``oob_score`` is True.\n",
       "\n",
       "oob_prediction_ : ndarray of shape (n_samples,)\n",
       "    Prediction computed with out-of-bag estimate on the training set.\n",
       "    This attribute exists only when ``oob_score`` is True.\n",
       "\n",
       "Examples\n",
       "--------\n",
       ">>> from sklearn.ensemble import RandomForestRegressor\n",
       ">>> from sklearn.datasets import make_regression\n",
       "\n",
       ">>> X, y = make_regression(n_features=4, n_informative=2,\n",
       "...                        random_state=0, shuffle=False)\n",
       ">>> regr = RandomForestRegressor(max_depth=2, random_state=0)\n",
       ">>> regr.fit(X, y)\n",
       "RandomForestRegressor(max_depth=2, random_state=0)\n",
       ">>> print(regr.feature_importances_)\n",
       "[0.18146984 0.81473937 0.00145312 0.00233767]\n",
       ">>> print(regr.predict([[0, 0, 0, 0]]))\n",
       "[-8.32987858]\n",
       "\n",
       "Notes\n",
       "-----\n",
       "The default values for the parameters controlling the size of the trees\n",
       "(e.g. ``max_depth``, ``min_samples_leaf``, etc.) lead to fully grown and\n",
       "unpruned trees which can potentially be very large on some data sets. To\n",
       "reduce memory consumption, the complexity and size of the trees should be\n",
       "controlled by setting those parameter values.\n",
       "\n",
       "The features are always randomly permuted at each split. Therefore,\n",
       "the best found split may vary, even with the same training data,\n",
       "``max_features=n_features`` and ``bootstrap=False``, if the improvement\n",
       "of the criterion is identical for several splits enumerated during the\n",
       "search of the best split. To obtain a deterministic behaviour during\n",
       "fitting, ``random_state`` has to be fixed.\n",
       "\n",
       "The default value ``max_features=\"auto\"`` uses ``n_features``\n",
       "rather than ``n_features / 3``. The latter was originally suggested in\n",
       "[1], whereas the former was more recently justified empirically in [2].\n",
       "\n",
       "References\n",
       "----------\n",
       "\n",
       ".. [1] L. Breiman, \"Random Forests\", Machine Learning, 45(1), 5-32, 2001.\n",
       "\n",
       ".. [2] P. Geurts, D. Ernst., and L. Wehenkel, \"Extremely randomized\n",
       "       trees\", Machine Learning, 63(1), 3-42, 2006.\n",
       "\n",
       "See Also\n",
       "--------\n",
       "DecisionTreeRegressor, ExtraTreesRegressor\n",
       "\u001b[0;31mFile:\u001b[0m           ~/anaconda3/envs/TensorFlow_Env/lib/python3.6/site-packages/sklearn/ensemble/_forest.py\n",
       "\u001b[0;31mType:\u001b[0m           ABCMeta\n",
       "\u001b[0;31mSubclasses:\u001b[0m     \n"
      ]
     },
     "metadata": {},
     "output_type": "display_data"
    }
   ],
   "source": [
    "?RandomForestRegressor"
   ]
  },
  {
   "cell_type": "code",
   "execution_count": 27,
   "metadata": {},
   "outputs": [
    {
     "name": "stdout",
     "output_type": "stream",
     "text": [
      "{'n_estimators': [10, 231, 452, 673, 894, 1115, 1336, 1557, 1778, 2000], 'max_features': ['auto', 'sqrt', 'log2'], 'max_depth': [10, 20, 30, 40, 50, 60, 70, 80, 90, 100, 110, None], 'min_samples_split': [2, 5, 10], 'min_samples_leaf': [1, 2, 4], 'bootstrap': [True, False]}\n"
     ]
    }
   ],
   "source": [
    "# ?RandomForestRegressor\n",
    "# rf.get_params()\n",
    "\n",
    "# Number of trees in random forest\n",
    "n_estimators = [int(x) for x in np.linspace(start = 10, stop = 2000, num = 10)]\n",
    "# Number of features to consider at every split\n",
    "max_features = ['auto', 'sqrt', 'log2']\n",
    "# Maximum number of levels in tree\n",
    "max_depth = [int(x) for x in np.linspace(10, 110, num = 11)]\n",
    "max_depth.append(None)\n",
    "# Minimum number of samples required to split a node\n",
    "min_samples_split = [2, 5, 10]\n",
    "# Minimum number of samples required at each leaf node\n",
    "min_samples_leaf = [1, 2, 4]\n",
    "# Method of selecting samples for training each tree\n",
    "bootstrap = [True, False]\n",
    "# Create the random grid\n",
    "random_grid = {'n_estimators': n_estimators,\n",
    "               'max_features': max_features,\n",
    "               'max_depth': max_depth,\n",
    "               'min_samples_split': min_samples_split,\n",
    "               'min_samples_leaf': min_samples_leaf,\n",
    "               'bootstrap': bootstrap}\n",
    "print(random_grid)\n"
   ]
  },
  {
   "cell_type": "code",
   "execution_count": 28,
   "metadata": {},
   "outputs": [
    {
     "name": "stdout",
     "output_type": "stream",
     "text": [
      "Fitting 5 folds for each of 100 candidates, totalling 500 fits\n"
     ]
    },
    {
     "name": "stderr",
     "output_type": "stream",
     "text": [
      "[Parallel(n_jobs=-1)]: Using backend LokyBackend with 8 concurrent workers.\n",
      "[Parallel(n_jobs=-1)]: Done  34 tasks      | elapsed: 12.3min\n",
      "[Parallel(n_jobs=-1)]: Done 184 tasks      | elapsed: 48.8min\n",
      "[Parallel(n_jobs=-1)]: Done 434 tasks      | elapsed: 118.6min\n",
      "[Parallel(n_jobs=-1)]: Done 500 out of 500 | elapsed: 129.8min finished\n"
     ]
    },
    {
     "data": {
      "text/plain": [
       "RandomForestRegressor(bootstrap=True, ccp_alpha=0.0, criterion='mse',\n",
       "                      max_depth=60, max_features='auto', max_leaf_nodes=None,\n",
       "                      max_samples=None, min_impurity_decrease=0.0,\n",
       "                      min_impurity_split=None, min_samples_leaf=1,\n",
       "                      min_samples_split=2, min_weight_fraction_leaf=0.0,\n",
       "                      n_estimators=1557, n_jobs=None, oob_score=False,\n",
       "                      random_state=None, verbose=0, warm_start=False)"
      ]
     },
     "execution_count": 28,
     "metadata": {},
     "output_type": "execute_result"
    }
   ],
   "source": [
    "from scipy.stats import randint\n",
    "\n",
    "rf = RandomForestRegressor()\n",
    "best_rf = RandomizedSearchCV(rf,param_distributions=random_grid,cv=5, n_jobs = -1, verbose=1, n_iter=100, scoring='neg_mean_squared_error', random_state=42)\n",
    "\n",
    "best_rf.fit(housing_prepared, housing_labels)\n",
    "\n",
    "# rnd_search.best_params_\n",
    "best_rf.best_estimator_"
   ]
  },
  {
   "cell_type": "code",
   "execution_count": 91,
   "metadata": {},
   "outputs": [
    {
     "name": "stderr",
     "output_type": "stream",
     "text": [
      "[Parallel(n_jobs=-1)]: Using backend ThreadingBackend with 8 concurrent workers.\n",
      "[Parallel(n_jobs=-1)]: Done  34 tasks      | elapsed:    1.6s\n",
      "[Parallel(n_jobs=-1)]: Done 184 tasks      | elapsed:    7.3s\n",
      "[Parallel(n_jobs=-1)]: Done 434 tasks      | elapsed:   17.8s\n",
      "[Parallel(n_jobs=-1)]: Done 784 tasks      | elapsed:   33.5s\n",
      "[Parallel(n_jobs=-1)]: Done 1234 tasks      | elapsed:   53.5s\n",
      "[Parallel(n_jobs=-1)]: Done 1557 out of 1557 | elapsed:  1.1min finished\n",
      "[Parallel(n_jobs=8)]: Using backend ThreadingBackend with 8 concurrent workers.\n",
      "[Parallel(n_jobs=8)]: Done  34 tasks      | elapsed:    0.0s\n",
      "[Parallel(n_jobs=8)]: Done 184 tasks      | elapsed:    0.2s\n",
      "[Parallel(n_jobs=8)]: Done 434 tasks      | elapsed:    0.4s\n",
      "[Parallel(n_jobs=8)]: Done 784 tasks      | elapsed:    0.6s\n",
      "[Parallel(n_jobs=8)]: Done 1234 tasks      | elapsed:    1.0s\n",
      "[Parallel(n_jobs=8)]: Done 1557 out of 1557 | elapsed:    1.3s finished\n"
     ]
    },
    {
     "data": {
      "text/plain": [
       "18152.72453168989"
      ]
     },
     "execution_count": 91,
     "metadata": {},
     "output_type": "execute_result"
    }
   ],
   "source": [
    "# try out the new best params\n",
    "rf_best = RandomForestRegressor(bootstrap=True, ccp_alpha=0.0, criterion='mse',\n",
    "                      max_depth=60, max_features='auto', min_impurity_decrease=0.0,\n",
    "                      min_samples_leaf=1, min_samples_split=2, min_weight_fraction_leaf=0.0,\n",
    "                      n_estimators=1557, n_jobs=-1, oob_score=False,\n",
    "                      random_state=None, verbose=1, warm_start=False)\n",
    "\n",
    "rf_best.fit(housing_prepared, housing_labels)\n",
    "\n",
    "y_pred = rf_best.predict(housing_prepared)\n",
    "\n",
    "rfbest_score = np.sqrt(mean_squared_error(housing_labels, y_pred))\n",
    "rfbest_score"
   ]
  },
  {
   "cell_type": "code",
   "execution_count": 92,
   "metadata": {},
   "outputs": [
    {
     "name": "stderr",
     "output_type": "stream",
     "text": [
      "[Parallel(n_jobs=-1)]: Using backend LokyBackend with 8 concurrent workers.\n",
      "[Parallel(n_jobs=-1)]: Done  34 tasks      | elapsed:   24.9s\n",
      "[Parallel(n_jobs=-1)]: Done 184 tasks      | elapsed:   30.5s\n",
      "[Parallel(n_jobs=-1)]: Done 434 tasks      | elapsed:   39.7s\n",
      "[Parallel(n_jobs=-1)]: Done 784 tasks      | elapsed:   52.9s\n",
      "[Parallel(n_jobs=-1)]: Done 1234 tasks      | elapsed:  1.2min\n",
      "[Parallel(n_jobs=-1)]: Done 1557 out of 1557 | elapsed:  1.4min finished\n",
      "[Parallel(n_jobs=8)]: Using backend ThreadingBackend with 8 concurrent workers.\n",
      "[Parallel(n_jobs=8)]: Done  34 tasks      | elapsed:    0.0s\n",
      "[Parallel(n_jobs=8)]: Done 184 tasks      | elapsed:    0.0s\n",
      "[Parallel(n_jobs=8)]: Done 434 tasks      | elapsed:    0.1s\n",
      "[Parallel(n_jobs=8)]: Done 784 tasks      | elapsed:    0.2s\n",
      "[Parallel(n_jobs=8)]: Done 1234 tasks      | elapsed:    0.3s\n",
      "[Parallel(n_jobs=8)]: Done 1557 out of 1557 | elapsed:    0.4s finished\n",
      "[Parallel(n_jobs=-1)]: Using backend LokyBackend with 8 concurrent workers.\n",
      "[Parallel(n_jobs=-1)]: Done  34 tasks      | elapsed:    1.5s\n",
      "[Parallel(n_jobs=-1)]: Done 184 tasks      | elapsed:    7.5s\n",
      "[Parallel(n_jobs=-1)]: Done 434 tasks      | elapsed:   17.5s\n",
      "[Parallel(n_jobs=-1)]: Done 784 tasks      | elapsed:   31.5s\n",
      "[Parallel(n_jobs=-1)]: Done 1234 tasks      | elapsed:   49.3s\n",
      "[Parallel(n_jobs=-1)]: Done 1557 out of 1557 | elapsed:  1.0min finished\n",
      "[Parallel(n_jobs=8)]: Using backend ThreadingBackend with 8 concurrent workers.\n",
      "[Parallel(n_jobs=8)]: Done  34 tasks      | elapsed:    0.0s\n",
      "[Parallel(n_jobs=8)]: Done 184 tasks      | elapsed:    0.0s\n",
      "[Parallel(n_jobs=8)]: Done 434 tasks      | elapsed:    0.1s\n",
      "[Parallel(n_jobs=8)]: Done 784 tasks      | elapsed:    0.2s\n",
      "[Parallel(n_jobs=8)]: Done 1234 tasks      | elapsed:    0.3s\n",
      "[Parallel(n_jobs=8)]: Done 1557 out of 1557 | elapsed:    0.4s finished\n",
      "[Parallel(n_jobs=-1)]: Using backend LokyBackend with 8 concurrent workers.\n",
      "[Parallel(n_jobs=-1)]: Done  34 tasks      | elapsed:    1.5s\n",
      "[Parallel(n_jobs=-1)]: Done 184 tasks      | elapsed:    7.1s\n",
      "[Parallel(n_jobs=-1)]: Done 434 tasks      | elapsed:   16.9s\n",
      "[Parallel(n_jobs=-1)]: Done 784 tasks      | elapsed:   31.6s\n",
      "[Parallel(n_jobs=-1)]: Done 1234 tasks      | elapsed:   50.2s\n",
      "[Parallel(n_jobs=-1)]: Done 1557 out of 1557 | elapsed:  1.0min finished\n",
      "[Parallel(n_jobs=8)]: Using backend ThreadingBackend with 8 concurrent workers.\n",
      "[Parallel(n_jobs=8)]: Done  34 tasks      | elapsed:    0.0s\n",
      "[Parallel(n_jobs=8)]: Done 184 tasks      | elapsed:    0.0s\n",
      "[Parallel(n_jobs=8)]: Done 434 tasks      | elapsed:    0.1s\n",
      "[Parallel(n_jobs=8)]: Done 784 tasks      | elapsed:    0.2s\n",
      "[Parallel(n_jobs=8)]: Done 1234 tasks      | elapsed:    0.3s\n",
      "[Parallel(n_jobs=8)]: Done 1557 out of 1557 | elapsed:    0.4s finished\n",
      "[Parallel(n_jobs=-1)]: Using backend LokyBackend with 8 concurrent workers.\n",
      "[Parallel(n_jobs=-1)]: Done  34 tasks      | elapsed:    1.5s\n",
      "[Parallel(n_jobs=-1)]: Done 184 tasks      | elapsed:    7.0s\n",
      "[Parallel(n_jobs=-1)]: Done 434 tasks      | elapsed:   17.0s\n",
      "[Parallel(n_jobs=-1)]: Done 784 tasks      | elapsed:   30.6s\n",
      "[Parallel(n_jobs=-1)]: Done 1234 tasks      | elapsed:   47.9s\n",
      "[Parallel(n_jobs=-1)]: Done 1557 out of 1557 | elapsed:   60.0s finished\n",
      "[Parallel(n_jobs=8)]: Using backend ThreadingBackend with 8 concurrent workers.\n",
      "[Parallel(n_jobs=8)]: Done  34 tasks      | elapsed:    0.0s\n",
      "[Parallel(n_jobs=8)]: Done 184 tasks      | elapsed:    0.0s\n",
      "[Parallel(n_jobs=8)]: Done 434 tasks      | elapsed:    0.1s\n",
      "[Parallel(n_jobs=8)]: Done 784 tasks      | elapsed:    0.2s\n",
      "[Parallel(n_jobs=8)]: Done 1234 tasks      | elapsed:    0.3s\n",
      "[Parallel(n_jobs=8)]: Done 1557 out of 1557 | elapsed:    0.4s finished\n",
      "[Parallel(n_jobs=-1)]: Using backend LokyBackend with 8 concurrent workers.\n",
      "[Parallel(n_jobs=-1)]: Done  34 tasks      | elapsed:    1.4s\n",
      "[Parallel(n_jobs=-1)]: Done 184 tasks      | elapsed:    6.8s\n",
      "[Parallel(n_jobs=-1)]: Done 434 tasks      | elapsed:   16.1s\n",
      "[Parallel(n_jobs=-1)]: Done 784 tasks      | elapsed:   29.2s\n",
      "[Parallel(n_jobs=-1)]: Done 1234 tasks      | elapsed:   46.0s\n",
      "[Parallel(n_jobs=-1)]: Done 1557 out of 1557 | elapsed:   58.0s finished\n",
      "[Parallel(n_jobs=8)]: Using backend ThreadingBackend with 8 concurrent workers.\n",
      "[Parallel(n_jobs=8)]: Done  34 tasks      | elapsed:    0.0s\n",
      "[Parallel(n_jobs=8)]: Done 184 tasks      | elapsed:    0.0s\n",
      "[Parallel(n_jobs=8)]: Done 434 tasks      | elapsed:    0.1s\n",
      "[Parallel(n_jobs=8)]: Done 784 tasks      | elapsed:    0.2s\n",
      "[Parallel(n_jobs=8)]: Done 1234 tasks      | elapsed:    0.3s\n",
      "[Parallel(n_jobs=8)]: Done 1557 out of 1557 | elapsed:    0.4s finished\n",
      "[Parallel(n_jobs=-1)]: Using backend LokyBackend with 8 concurrent workers.\n",
      "[Parallel(n_jobs=-1)]: Done  34 tasks      | elapsed:    1.4s\n",
      "[Parallel(n_jobs=-1)]: Done 184 tasks      | elapsed:    6.8s\n",
      "[Parallel(n_jobs=-1)]: Done 434 tasks      | elapsed:   16.2s\n",
      "[Parallel(n_jobs=-1)]: Done 784 tasks      | elapsed:   29.4s\n",
      "[Parallel(n_jobs=-1)]: Done 1234 tasks      | elapsed:   46.0s\n",
      "[Parallel(n_jobs=-1)]: Done 1557 out of 1557 | elapsed:   58.7s finished\n",
      "[Parallel(n_jobs=8)]: Using backend ThreadingBackend with 8 concurrent workers.\n",
      "[Parallel(n_jobs=8)]: Done  34 tasks      | elapsed:    0.0s\n",
      "[Parallel(n_jobs=8)]: Done 184 tasks      | elapsed:    0.0s\n",
      "[Parallel(n_jobs=8)]: Done 434 tasks      | elapsed:    0.2s\n",
      "[Parallel(n_jobs=8)]: Done 784 tasks      | elapsed:    0.3s\n",
      "[Parallel(n_jobs=8)]: Done 1234 tasks      | elapsed:    0.4s\n",
      "[Parallel(n_jobs=8)]: Done 1557 out of 1557 | elapsed:    0.5s finished\n",
      "[Parallel(n_jobs=-1)]: Using backend LokyBackend with 8 concurrent workers.\n",
      "[Parallel(n_jobs=-1)]: Done  34 tasks      | elapsed:    1.4s\n",
      "[Parallel(n_jobs=-1)]: Done 184 tasks      | elapsed:    6.7s\n",
      "[Parallel(n_jobs=-1)]: Done 434 tasks      | elapsed:   15.9s\n",
      "[Parallel(n_jobs=-1)]: Done 784 tasks      | elapsed:   28.9s\n",
      "[Parallel(n_jobs=-1)]: Done 1234 tasks      | elapsed:   45.4s\n",
      "[Parallel(n_jobs=-1)]: Done 1557 out of 1557 | elapsed:   57.4s finished\n",
      "[Parallel(n_jobs=8)]: Using backend ThreadingBackend with 8 concurrent workers.\n",
      "[Parallel(n_jobs=8)]: Done  34 tasks      | elapsed:    0.0s\n",
      "[Parallel(n_jobs=8)]: Done 184 tasks      | elapsed:    0.0s\n",
      "[Parallel(n_jobs=8)]: Done 434 tasks      | elapsed:    0.1s\n",
      "[Parallel(n_jobs=8)]: Done 784 tasks      | elapsed:    0.2s\n",
      "[Parallel(n_jobs=8)]: Done 1234 tasks      | elapsed:    0.3s\n",
      "[Parallel(n_jobs=8)]: Done 1557 out of 1557 | elapsed:    0.4s finished\n",
      "[Parallel(n_jobs=-1)]: Using backend LokyBackend with 8 concurrent workers.\n",
      "[Parallel(n_jobs=-1)]: Done  34 tasks      | elapsed:    1.4s\n",
      "[Parallel(n_jobs=-1)]: Done 184 tasks      | elapsed:    6.8s\n",
      "[Parallel(n_jobs=-1)]: Done 434 tasks      | elapsed:   16.1s\n",
      "[Parallel(n_jobs=-1)]: Done 784 tasks      | elapsed:   29.1s\n",
      "[Parallel(n_jobs=-1)]: Done 1234 tasks      | elapsed:   50.1s\n",
      "[Parallel(n_jobs=-1)]: Done 1557 out of 1557 | elapsed:  1.0min finished\n",
      "[Parallel(n_jobs=8)]: Using backend ThreadingBackend with 8 concurrent workers.\n",
      "[Parallel(n_jobs=8)]: Done  34 tasks      | elapsed:    0.0s\n",
      "[Parallel(n_jobs=8)]: Done 184 tasks      | elapsed:    0.0s\n",
      "[Parallel(n_jobs=8)]: Done 434 tasks      | elapsed:    0.1s\n",
      "[Parallel(n_jobs=8)]: Done 784 tasks      | elapsed:    0.2s\n",
      "[Parallel(n_jobs=8)]: Done 1234 tasks      | elapsed:    0.3s\n",
      "[Parallel(n_jobs=8)]: Done 1557 out of 1557 | elapsed:    0.4s finished\n",
      "[Parallel(n_jobs=-1)]: Using backend LokyBackend with 8 concurrent workers.\n",
      "[Parallel(n_jobs=-1)]: Done  34 tasks      | elapsed:    1.4s\n",
      "[Parallel(n_jobs=-1)]: Done 184 tasks      | elapsed:    6.7s\n",
      "[Parallel(n_jobs=-1)]: Done 434 tasks      | elapsed:   16.1s\n",
      "[Parallel(n_jobs=-1)]: Done 784 tasks      | elapsed:   29.2s\n",
      "[Parallel(n_jobs=-1)]: Done 1234 tasks      | elapsed:   46.0s\n",
      "[Parallel(n_jobs=-1)]: Done 1557 out of 1557 | elapsed:   58.0s finished\n",
      "[Parallel(n_jobs=8)]: Using backend ThreadingBackend with 8 concurrent workers.\n",
      "[Parallel(n_jobs=8)]: Done  34 tasks      | elapsed:    0.0s\n",
      "[Parallel(n_jobs=8)]: Done 184 tasks      | elapsed:    0.0s\n",
      "[Parallel(n_jobs=8)]: Done 434 tasks      | elapsed:    0.1s\n",
      "[Parallel(n_jobs=8)]: Done 784 tasks      | elapsed:    0.2s\n",
      "[Parallel(n_jobs=8)]: Done 1234 tasks      | elapsed:    0.3s\n",
      "[Parallel(n_jobs=8)]: Done 1557 out of 1557 | elapsed:    0.4s finished\n",
      "[Parallel(n_jobs=-1)]: Using backend LokyBackend with 8 concurrent workers.\n",
      "[Parallel(n_jobs=-1)]: Done  34 tasks      | elapsed:    1.4s\n",
      "[Parallel(n_jobs=-1)]: Done 184 tasks      | elapsed:    6.8s\n",
      "[Parallel(n_jobs=-1)]: Done 434 tasks      | elapsed:   16.2s\n",
      "[Parallel(n_jobs=-1)]: Done 784 tasks      | elapsed:   29.3s\n",
      "[Parallel(n_jobs=-1)]: Done 1234 tasks      | elapsed:   46.2s\n",
      "[Parallel(n_jobs=-1)]: Done 1557 out of 1557 | elapsed:   58.1s finished\n",
      "[Parallel(n_jobs=8)]: Using backend ThreadingBackend with 8 concurrent workers.\n",
      "[Parallel(n_jobs=8)]: Done  34 tasks      | elapsed:    0.0s\n",
      "[Parallel(n_jobs=8)]: Done 184 tasks      | elapsed:    0.0s\n",
      "[Parallel(n_jobs=8)]: Done 434 tasks      | elapsed:    0.1s\n",
      "[Parallel(n_jobs=8)]: Done 784 tasks      | elapsed:    0.2s\n",
      "[Parallel(n_jobs=8)]: Done 1234 tasks      | elapsed:    0.3s\n",
      "[Parallel(n_jobs=8)]: Done 1557 out of 1557 | elapsed:    0.4s finished\n"
     ]
    },
    {
     "name": "stdout",
     "output_type": "stream",
     "text": [
      "Scores: [50722.36523927 50260.34456903 49135.98441814 50055.00169144\n",
      " 49814.63668623 47317.86642382 50102.44634598 50420.44257002\n",
      " 49102.66109265 49039.61824602]\n",
      "Mean: 49597.13672826039\n",
      "Standard deviation: 941.2315497901909\n"
     ]
    }
   ],
   "source": [
    "scores = cross_val_score(rf_best, housing_prepared, housing_labels,\n",
    "                         scoring=\"neg_mean_squared_error\", cv=10)\n",
    "tree_rmse_scores = np.sqrt(-scores)\n",
    "\n",
    "def display_scores(scores):\n",
    "    print(\"Scores:\", scores)\n",
    "    print(\"Mean:\", scores.mean())\n",
    "    print(\"Standard deviation:\", scores.std())\n",
    "\n",
    "display_scores(tree_rmse_scores)"
   ]
  },
  {
   "cell_type": "markdown",
   "metadata": {},
   "source": [
    "Now look at feature importances to see if we can remove certain features."
   ]
  },
  {
   "cell_type": "code",
   "execution_count": 45,
   "metadata": {},
   "outputs": [
    {
     "data": {
      "text/plain": [
       "[(0.24369100593939305, 'median_income'),\n",
       " (0.2305224635571421, 'bedrooms_per_room'),\n",
       " (0.1438922231388992, 'INLAND'),\n",
       " (0.1208275948134601, 'total_rooms'),\n",
       " (0.0577576756684662, 'longitude'),\n",
       " (0.05432300074820777, 'latitude'),\n",
       " (0.026645927291800174, 'housing_median_age'),\n",
       " (0.023095911629431976, 'housing_median_age'),\n",
       " (0.023079390141580242, 'households'),\n",
       " (0.022876332245257414, 'population'),\n",
       " (0.010006550812039947, 'total_bedrooms'),\n",
       " (0.007243873984726424, 'median_income'),\n",
       " (0.0071641667472998535, 'total_rooms'),\n",
       " (0.0064750073564447995, 'population'),\n",
       " (0.006466924033870593, 'rooms_per_hhold'),\n",
       " (0.005715241748040608, 'pop_per_hhold'),\n",
       " (0.005712288215653886, 'households'),\n",
       " (0.002515215104465619, 'NEAR OCEAN'),\n",
       " (0.0011019352275935083, '<1H OCEAN'),\n",
       " (0.0007193405262019268, 'NEAR BAY'),\n",
       " (0.00016793107002473912, 'ISLAND')]"
      ]
     },
     "execution_count": 45,
     "metadata": {},
     "output_type": "execute_result"
    }
   ],
   "source": [
    "feature_importances = rf_best.feature_importances_\n",
    "\n",
    "extra_attribs = [\"rooms_per_hhold\", \"pop_per_hhold\", \"bedrooms_per_room\"]\n",
    "cat_encoder = full_pipeline.named_transformers_[\"cat\"]\n",
    "cat_one_hot_attribs = list(cat_encoder.categories_[0])\n",
    "attributes = num_attribs + log_attribs + extra_attribs + cat_one_hot_attribs\n",
    "sorted(zip(feature_importances, attributes), reverse=True)"
   ]
  },
  {
   "cell_type": "code",
   "execution_count": 95,
   "metadata": {},
   "outputs": [
    {
     "name": "stdout",
     "output_type": "stream",
     "text": [
      "<class 'pandas.core.frame.DataFrame'>\n",
      "RangeIndex: 16512 entries, 0 to 16511\n",
      "Data columns (total 19 columns):\n",
      "longitude             16512 non-null float64\n",
      "latitude              16512 non-null float64\n",
      "housing_median_age    16512 non-null float64\n",
      "total_rooms           16512 non-null float64\n",
      "total_bedrooms        16512 non-null float64\n",
      "population            16512 non-null float64\n",
      "households            16512 non-null float64\n",
      "median_income         16512 non-null float64\n",
      "housing_median_age    16512 non-null float64\n",
      "total_rooms           16512 non-null float64\n",
      "population            16512 non-null float64\n",
      "households            16512 non-null float64\n",
      "median_income         16512 non-null float64\n",
      "rooms_per_hhold       16512 non-null float64\n",
      "pop_per_hhold         16512 non-null float64\n",
      "bedrooms_per_room     16512 non-null float64\n",
      "<1H OCEAN             16512 non-null float64\n",
      "INLAND                16512 non-null float64\n",
      "NEAR OCEAN            16512 non-null float64\n",
      "dtypes: float64(19)\n",
      "memory usage: 2.4 MB\n"
     ]
    }
   ],
   "source": [
    "# try dropping some of the less important features\n",
    "# updte: this did not help the model! May help the test set though.\n",
    "\n",
    "housing_trim = pd.DataFrame(housing_prepared,columns=attributes)\n",
    "housing_trim.drop(columns = ['median_house_value', 'NEAR BAY', 'ISLAND'], axis=1,inplace=True)\n",
    "housing_trim_labels = strat_train_set[\"median_house_value\"].copy()\n",
    "\n",
    "housing_trim.info()\n",
    "\n",
    "housing_trim = housing_trim.values"
   ]
  },
  {
   "cell_type": "code",
   "execution_count": 97,
   "metadata": {
    "collapsed": true,
    "jupyter": {
     "outputs_hidden": true
    }
   },
   "outputs": [
    {
     "data": {
      "text/plain": [
       "array([[ 0.75060366, -0.77928422,  0.58222481, ...,  1.        ,\n",
       "         0.        ,  0.        ],\n",
       "       [ 0.79051734, -0.87277027, -1.08755128, ...,  1.        ,\n",
       "         0.        ,  0.        ],\n",
       "       [-0.0277132 ,  0.46875451,  0.34368537, ...,  0.        ,\n",
       "         1.        ,  0.        ],\n",
       "       ...,\n",
       "       [-0.8708898 ,  0.37059416, -0.53095925, ...,  1.        ,\n",
       "         0.        ,  0.        ],\n",
       "       [-1.13032876,  0.4547316 , -1.08755128, ...,  1.        ,\n",
       "         0.        ,  0.        ],\n",
       "       [-1.65419588,  1.28208311, -1.00803813, ...,  1.        ,\n",
       "         0.        ,  0.        ]])"
      ]
     },
     "execution_count": 97,
     "metadata": {},
     "output_type": "execute_result"
    }
   ],
   "source": [
    "housing_trim"
   ]
  },
  {
   "cell_type": "markdown",
   "metadata": {},
   "source": [
    "Back to our best Random Forest with our newly smaller feature list."
   ]
  },
  {
   "cell_type": "code",
   "execution_count": 96,
   "metadata": {},
   "outputs": [
    {
     "name": "stderr",
     "output_type": "stream",
     "text": [
      "[Parallel(n_jobs=-1)]: Using backend ThreadingBackend with 8 concurrent workers.\n",
      "[Parallel(n_jobs=-1)]: Done  34 tasks      | elapsed:    1.6s\n",
      "[Parallel(n_jobs=-1)]: Done 184 tasks      | elapsed:    8.2s\n",
      "[Parallel(n_jobs=-1)]: Done 434 tasks      | elapsed:   18.7s\n",
      "[Parallel(n_jobs=-1)]: Done 784 tasks      | elapsed:   34.0s\n",
      "[Parallel(n_jobs=-1)]: Done 1234 tasks      | elapsed:   56.7s\n",
      "[Parallel(n_jobs=-1)]: Done 1557 out of 1557 | elapsed:  1.2min finished\n",
      "[Parallel(n_jobs=8)]: Using backend ThreadingBackend with 8 concurrent workers.\n",
      "[Parallel(n_jobs=8)]: Done  34 tasks      | elapsed:    0.0s\n",
      "[Parallel(n_jobs=8)]: Done 184 tasks      | elapsed:    0.2s\n",
      "[Parallel(n_jobs=8)]: Done 434 tasks      | elapsed:    0.4s\n",
      "[Parallel(n_jobs=8)]: Done 784 tasks      | elapsed:    0.7s\n",
      "[Parallel(n_jobs=8)]: Done 1234 tasks      | elapsed:    1.0s\n",
      "[Parallel(n_jobs=8)]: Done 1557 out of 1557 | elapsed:    1.3s finished\n"
     ]
    },
    {
     "data": {
      "text/plain": [
       "18145.06060701546"
      ]
     },
     "execution_count": 96,
     "metadata": {},
     "output_type": "execute_result"
    }
   ],
   "source": [
    "\n",
    "rf_best = RandomForestRegressor(bootstrap=True, ccp_alpha=0.0, criterion='mse',\n",
    "                      max_depth=60, max_features='auto', min_impurity_decrease=0.0,\n",
    "                      min_samples_leaf=1, min_samples_split=2, min_weight_fraction_leaf=0.0,\n",
    "                      n_estimators=1557, n_jobs=-1, oob_score=False,\n",
    "                      random_state=None, verbose=1, warm_start=False)\n",
    "\n",
    "rf_best.fit(housing_trim, housing_labels)\n",
    "\n",
    "y_pred = rf_best.predict(housing_trim)\n",
    "\n",
    "rfbest_score = np.sqrt(mean_squared_error(housing_labels, y_pred))\n",
    "rfbest_score\n",
    "\n"
   ]
  },
  {
   "cell_type": "code",
   "execution_count": 98,
   "metadata": {
    "collapsed": true,
    "jupyter": {
     "outputs_hidden": true
    }
   },
   "outputs": [
    {
     "name": "stderr",
     "output_type": "stream",
     "text": [
      "[Parallel(n_jobs=-1)]: Using backend LokyBackend with 8 concurrent workers.\n",
      "[Parallel(n_jobs=-1)]: Done  34 tasks      | elapsed:   17.5s\n",
      "[Parallel(n_jobs=-1)]: Done 184 tasks      | elapsed:   23.2s\n",
      "[Parallel(n_jobs=-1)]: Done 434 tasks      | elapsed:   32.9s\n",
      "[Parallel(n_jobs=-1)]: Done 784 tasks      | elapsed:   48.0s\n",
      "[Parallel(n_jobs=-1)]: Done 1234 tasks      | elapsed:  1.1min\n",
      "[Parallel(n_jobs=-1)]: Done 1557 out of 1557 | elapsed:  1.4min finished\n",
      "[Parallel(n_jobs=8)]: Using backend ThreadingBackend with 8 concurrent workers.\n",
      "[Parallel(n_jobs=8)]: Done  34 tasks      | elapsed:    0.0s\n",
      "[Parallel(n_jobs=8)]: Done 184 tasks      | elapsed:    0.2s\n",
      "[Parallel(n_jobs=8)]: Done 434 tasks      | elapsed:    0.4s\n",
      "[Parallel(n_jobs=8)]: Done 784 tasks      | elapsed:    0.5s\n",
      "[Parallel(n_jobs=8)]: Done 1234 tasks      | elapsed:    0.6s\n",
      "[Parallel(n_jobs=8)]: Done 1557 out of 1557 | elapsed:    0.8s finished\n",
      "[Parallel(n_jobs=-1)]: Using backend LokyBackend with 8 concurrent workers.\n",
      "[Parallel(n_jobs=-1)]: Done  34 tasks      | elapsed:    1.7s\n",
      "[Parallel(n_jobs=-1)]: Done 184 tasks      | elapsed:    8.6s\n",
      "[Parallel(n_jobs=-1)]: Done 434 tasks      | elapsed:   19.4s\n",
      "[Parallel(n_jobs=-1)]: Done 784 tasks      | elapsed:   34.5s\n",
      "[Parallel(n_jobs=-1)]: Done 1234 tasks      | elapsed:   54.4s\n",
      "[Parallel(n_jobs=-1)]: Done 1557 out of 1557 | elapsed:  1.1min finished\n",
      "[Parallel(n_jobs=8)]: Using backend ThreadingBackend with 8 concurrent workers.\n",
      "[Parallel(n_jobs=8)]: Done  34 tasks      | elapsed:    0.0s\n",
      "[Parallel(n_jobs=8)]: Done 184 tasks      | elapsed:    0.0s\n",
      "[Parallel(n_jobs=8)]: Done 434 tasks      | elapsed:    0.1s\n",
      "[Parallel(n_jobs=8)]: Done 784 tasks      | elapsed:    0.2s\n",
      "[Parallel(n_jobs=8)]: Done 1234 tasks      | elapsed:    0.3s\n",
      "[Parallel(n_jobs=8)]: Done 1557 out of 1557 | elapsed:    0.4s finished\n",
      "[Parallel(n_jobs=-1)]: Using backend LokyBackend with 8 concurrent workers.\n",
      "[Parallel(n_jobs=-1)]: Done  34 tasks      | elapsed:    1.6s\n",
      "[Parallel(n_jobs=-1)]: Done 184 tasks      | elapsed:    8.4s\n",
      "[Parallel(n_jobs=-1)]: Done 434 tasks      | elapsed:   19.8s\n",
      "[Parallel(n_jobs=-1)]: Done 784 tasks      | elapsed:   34.4s\n",
      "[Parallel(n_jobs=-1)]: Done 1234 tasks      | elapsed:   53.9s\n",
      "[Parallel(n_jobs=-1)]: Done 1557 out of 1557 | elapsed:  1.1min finished\n",
      "[Parallel(n_jobs=8)]: Using backend ThreadingBackend with 8 concurrent workers.\n",
      "[Parallel(n_jobs=8)]: Done  34 tasks      | elapsed:    0.0s\n",
      "[Parallel(n_jobs=8)]: Done 184 tasks      | elapsed:    0.1s\n",
      "[Parallel(n_jobs=8)]: Done 434 tasks      | elapsed:    0.1s\n",
      "[Parallel(n_jobs=8)]: Done 784 tasks      | elapsed:    0.2s\n",
      "[Parallel(n_jobs=8)]: Done 1234 tasks      | elapsed:    0.4s\n",
      "[Parallel(n_jobs=8)]: Done 1557 out of 1557 | elapsed:    0.5s finished\n",
      "[Parallel(n_jobs=-1)]: Using backend LokyBackend with 8 concurrent workers.\n",
      "[Parallel(n_jobs=-1)]: Done  34 tasks      | elapsed:    1.6s\n",
      "[Parallel(n_jobs=-1)]: Done 184 tasks      | elapsed:    7.5s\n",
      "[Parallel(n_jobs=-1)]: Done 434 tasks      | elapsed:   18.1s\n",
      "[Parallel(n_jobs=-1)]: Done 784 tasks      | elapsed:   32.2s\n",
      "[Parallel(n_jobs=-1)]: Done 1234 tasks      | elapsed:   51.0s\n",
      "[Parallel(n_jobs=-1)]: Done 1557 out of 1557 | elapsed:  1.1min finished\n",
      "[Parallel(n_jobs=8)]: Using backend ThreadingBackend with 8 concurrent workers.\n",
      "[Parallel(n_jobs=8)]: Done  34 tasks      | elapsed:    0.0s\n",
      "[Parallel(n_jobs=8)]: Done 184 tasks      | elapsed:    0.1s\n",
      "[Parallel(n_jobs=8)]: Done 434 tasks      | elapsed:    0.1s\n",
      "[Parallel(n_jobs=8)]: Done 784 tasks      | elapsed:    0.2s\n",
      "[Parallel(n_jobs=8)]: Done 1234 tasks      | elapsed:    0.4s\n",
      "[Parallel(n_jobs=8)]: Done 1557 out of 1557 | elapsed:    0.5s finished\n",
      "[Parallel(n_jobs=-1)]: Using backend LokyBackend with 8 concurrent workers.\n",
      "[Parallel(n_jobs=-1)]: Done  34 tasks      | elapsed:    1.5s\n",
      "[Parallel(n_jobs=-1)]: Done 184 tasks      | elapsed:    7.5s\n",
      "[Parallel(n_jobs=-1)]: Done 434 tasks      | elapsed:   17.6s\n",
      "[Parallel(n_jobs=-1)]: Done 784 tasks      | elapsed:   32.3s\n",
      "[Parallel(n_jobs=-1)]: Done 1234 tasks      | elapsed:   50.9s\n",
      "[Parallel(n_jobs=-1)]: Done 1557 out of 1557 | elapsed:  1.1min finished\n",
      "[Parallel(n_jobs=8)]: Using backend ThreadingBackend with 8 concurrent workers.\n",
      "[Parallel(n_jobs=8)]: Done  34 tasks      | elapsed:    0.0s\n",
      "[Parallel(n_jobs=8)]: Done 184 tasks      | elapsed:    0.1s\n",
      "[Parallel(n_jobs=8)]: Done 434 tasks      | elapsed:    0.1s\n",
      "[Parallel(n_jobs=8)]: Done 784 tasks      | elapsed:    0.2s\n",
      "[Parallel(n_jobs=8)]: Done 1234 tasks      | elapsed:    0.3s\n",
      "[Parallel(n_jobs=8)]: Done 1557 out of 1557 | elapsed:    0.4s finished\n",
      "[Parallel(n_jobs=-1)]: Using backend LokyBackend with 8 concurrent workers.\n",
      "[Parallel(n_jobs=-1)]: Done  34 tasks      | elapsed:    1.6s\n",
      "[Parallel(n_jobs=-1)]: Done 184 tasks      | elapsed:    7.7s\n",
      "[Parallel(n_jobs=-1)]: Done 434 tasks      | elapsed:   18.9s\n",
      "[Parallel(n_jobs=-1)]: Done 784 tasks      | elapsed:   33.6s\n",
      "[Parallel(n_jobs=-1)]: Done 1234 tasks      | elapsed:   52.7s\n",
      "[Parallel(n_jobs=-1)]: Done 1557 out of 1557 | elapsed:  1.1min finished\n",
      "[Parallel(n_jobs=8)]: Using backend ThreadingBackend with 8 concurrent workers.\n",
      "[Parallel(n_jobs=8)]: Done  34 tasks      | elapsed:    0.0s\n",
      "[Parallel(n_jobs=8)]: Done 184 tasks      | elapsed:    0.1s\n",
      "[Parallel(n_jobs=8)]: Done 434 tasks      | elapsed:    0.1s\n",
      "[Parallel(n_jobs=8)]: Done 784 tasks      | elapsed:    0.2s\n",
      "[Parallel(n_jobs=8)]: Done 1234 tasks      | elapsed:    0.3s\n",
      "[Parallel(n_jobs=8)]: Done 1557 out of 1557 | elapsed:    0.4s finished\n",
      "[Parallel(n_jobs=-1)]: Using backend LokyBackend with 8 concurrent workers.\n",
      "[Parallel(n_jobs=-1)]: Done  34 tasks      | elapsed:    1.5s\n",
      "[Parallel(n_jobs=-1)]: Done 184 tasks      | elapsed:    7.2s\n",
      "[Parallel(n_jobs=-1)]: Done 434 tasks      | elapsed:   17.3s\n",
      "[Parallel(n_jobs=-1)]: Done 784 tasks      | elapsed:   32.4s\n",
      "[Parallel(n_jobs=-1)]: Done 1234 tasks      | elapsed:   50.6s\n",
      "[Parallel(n_jobs=-1)]: Done 1557 out of 1557 | elapsed:  1.1min finished\n",
      "[Parallel(n_jobs=8)]: Using backend ThreadingBackend with 8 concurrent workers.\n",
      "[Parallel(n_jobs=8)]: Done  34 tasks      | elapsed:    0.0s\n",
      "[Parallel(n_jobs=8)]: Done 184 tasks      | elapsed:    0.0s\n",
      "[Parallel(n_jobs=8)]: Done 434 tasks      | elapsed:    0.1s\n",
      "[Parallel(n_jobs=8)]: Done 784 tasks      | elapsed:    0.2s\n",
      "[Parallel(n_jobs=8)]: Done 1234 tasks      | elapsed:    0.3s\n",
      "[Parallel(n_jobs=8)]: Done 1557 out of 1557 | elapsed:    0.4s finished\n",
      "[Parallel(n_jobs=-1)]: Using backend LokyBackend with 8 concurrent workers.\n",
      "[Parallel(n_jobs=-1)]: Done  34 tasks      | elapsed:    1.5s\n",
      "[Parallel(n_jobs=-1)]: Done 184 tasks      | elapsed:    7.5s\n",
      "[Parallel(n_jobs=-1)]: Done 434 tasks      | elapsed:   17.6s\n",
      "[Parallel(n_jobs=-1)]: Done 784 tasks      | elapsed:   32.7s\n",
      "[Parallel(n_jobs=-1)]: Done 1234 tasks      | elapsed:   57.5s\n",
      "[Parallel(n_jobs=-1)]: Done 1557 out of 1557 | elapsed:  1.3min finished\n",
      "[Parallel(n_jobs=8)]: Using backend ThreadingBackend with 8 concurrent workers.\n",
      "[Parallel(n_jobs=8)]: Done  34 tasks      | elapsed:    0.0s\n",
      "[Parallel(n_jobs=8)]: Done 184 tasks      | elapsed:    0.1s\n",
      "[Parallel(n_jobs=8)]: Done 434 tasks      | elapsed:    0.1s\n",
      "[Parallel(n_jobs=8)]: Done 784 tasks      | elapsed:    0.2s\n",
      "[Parallel(n_jobs=8)]: Done 1234 tasks      | elapsed:    0.3s\n",
      "[Parallel(n_jobs=8)]: Done 1557 out of 1557 | elapsed:    0.4s finished\n",
      "[Parallel(n_jobs=-1)]: Using backend LokyBackend with 8 concurrent workers.\n",
      "[Parallel(n_jobs=-1)]: Done  34 tasks      | elapsed:    1.5s\n",
      "[Parallel(n_jobs=-1)]: Done 184 tasks      | elapsed:    7.6s\n",
      "[Parallel(n_jobs=-1)]: Done 434 tasks      | elapsed:   18.1s\n",
      "[Parallel(n_jobs=-1)]: Done 784 tasks      | elapsed:   33.9s\n",
      "[Parallel(n_jobs=-1)]: Done 1234 tasks      | elapsed:   59.9s\n",
      "[Parallel(n_jobs=-1)]: Done 1557 out of 1557 | elapsed:  1.2min finished\n",
      "[Parallel(n_jobs=8)]: Using backend ThreadingBackend with 8 concurrent workers.\n",
      "[Parallel(n_jobs=8)]: Done  34 tasks      | elapsed:    0.0s\n",
      "[Parallel(n_jobs=8)]: Done 184 tasks      | elapsed:    0.1s\n",
      "[Parallel(n_jobs=8)]: Done 434 tasks      | elapsed:    0.1s\n",
      "[Parallel(n_jobs=8)]: Done 784 tasks      | elapsed:    0.2s\n",
      "[Parallel(n_jobs=8)]: Done 1234 tasks      | elapsed:    0.3s\n",
      "[Parallel(n_jobs=8)]: Done 1557 out of 1557 | elapsed:    0.4s finished\n",
      "[Parallel(n_jobs=-1)]: Using backend LokyBackend with 8 concurrent workers.\n",
      "[Parallel(n_jobs=-1)]: Done  34 tasks      | elapsed:    1.6s\n",
      "[Parallel(n_jobs=-1)]: Done 184 tasks      | elapsed:    8.0s\n",
      "[Parallel(n_jobs=-1)]: Done 434 tasks      | elapsed:   22.1s\n",
      "[Parallel(n_jobs=-1)]: Done 784 tasks      | elapsed:   46.2s\n",
      "[Parallel(n_jobs=-1)]: Done 1234 tasks      | elapsed:  1.1min\n",
      "[Parallel(n_jobs=-1)]: Done 1557 out of 1557 | elapsed:  1.3min finished\n",
      "[Parallel(n_jobs=8)]: Using backend ThreadingBackend with 8 concurrent workers.\n",
      "[Parallel(n_jobs=8)]: Done  34 tasks      | elapsed:    0.0s\n",
      "[Parallel(n_jobs=8)]: Done 184 tasks      | elapsed:    0.0s\n",
      "[Parallel(n_jobs=8)]: Done 434 tasks      | elapsed:    0.1s\n",
      "[Parallel(n_jobs=8)]: Done 784 tasks      | elapsed:    0.2s\n",
      "[Parallel(n_jobs=8)]: Done 1234 tasks      | elapsed:    0.3s\n",
      "[Parallel(n_jobs=8)]: Done 1557 out of 1557 | elapsed:    0.4s finished\n"
     ]
    },
    {
     "name": "stdout",
     "output_type": "stream",
     "text": [
      "Scores: [50787.20894224 50275.99754949 49237.86825859 49945.31149289\n",
      " 49862.48574818 47360.59566441 50181.42548192 50427.79352048\n",
      " 49153.12555738 49080.98234064]\n",
      "Mean: 49631.27945562298\n",
      "Standard deviation: 931.8389071787957\n"
     ]
    }
   ],
   "source": [
    "# try the trimmed dataset with CV\n",
    "\n",
    "scores = cross_val_score(rf_best, housing_trim, housing_labels,\n",
    "                         scoring=\"neg_mean_squared_error\", cv=10, n_jobs=-1)\n",
    "tree_rmse_scores = np.sqrt(-scores)\n",
    "\n",
    "def display_scores(scores):\n",
    "    print(\"Scores:\", scores)\n",
    "    print(\"Mean:\", scores.mean())\n",
    "    print(\"Standard deviation:\", scores.std())\n",
    "\n",
    "display_scores(tree_rmse_scores)\n"
   ]
  },
  {
   "cell_type": "markdown",
   "metadata": {},
   "source": [
    "Even though the Mean score is slightly worse, there is still a possibility that the test set will perform better with this slightly noisier model. Trying to avoid overfitting."
   ]
  },
  {
   "cell_type": "code",
   "execution_count": 24,
   "metadata": {
    "collapsed": true,
    "jupyter": {
     "outputs_hidden": true
    }
   },
   "outputs": [
    {
     "data": {
      "text/plain": [
       "0.0"
      ]
     },
     "execution_count": 24,
     "metadata": {},
     "output_type": "execute_result"
    }
   ],
   "source": [
    "\n",
    "# knn_best = KNeighborsRegressor(algorithm='auto', leaf_size=30, metric='minkowski',\n",
    "#                     metric_params=None, n_jobs=None, n_neighbors=10, p=2,\n",
    "#                     weights='distance')\n",
    "# knn_best.fit(housing_prepared, housing_labels)\n",
    "\n",
    "# some_data = housing.iloc[:5]\n",
    "# some_labels = housing_labels.iloc[:5]\n",
    "# some_data_prepared = full_pipeline.transform(some_data)\n",
    "\n",
    "\n",
    "# y_pred = knn_best.predict(some_data_prepared)\n",
    "# knnbest_rmse = np.sqrt(mean_squared_error(some_labels, y_pred))\n",
    "# knnbest_rmse\n",
    "\n"
   ]
  },
  {
   "cell_type": "markdown",
   "metadata": {},
   "source": [
    "Back to KNN to try tweaking its params with GridSearch and RandomizedCV"
   ]
  },
  {
   "cell_type": "code",
   "execution_count": 326,
   "metadata": {},
   "outputs": [
    {
     "data": {
      "text/plain": [
       "{'algorithm': 'auto',\n",
       " 'leaf_size': 30,\n",
       " 'metric': 'euclidean',\n",
       " 'metric_params': None,\n",
       " 'n_jobs': None,\n",
       " 'n_neighbors': 5,\n",
       " 'p': 2,\n",
       " 'weights': 'uniform'}"
      ]
     },
     "execution_count": 326,
     "metadata": {},
     "output_type": "execute_result"
    }
   ],
   "source": [
    "knn.get_params()"
   ]
  },
  {
   "cell_type": "code",
   "execution_count": 327,
   "metadata": {},
   "outputs": [
    {
     "name": "stdout",
     "output_type": "stream",
     "text": [
      "Scores: [62427.38495922 61545.86143142 61463.20526689 59092.76559755\n",
      " 62683.89489777 58585.51800492 60411.59041866 61030.7603823\n",
      " 60843.19638083 60410.7796537 ]\n",
      "Mean: 60849.49569932447\n",
      "Standard deviation: 1238.755206785948\n"
     ]
    }
   ],
   "source": [
    "# using full dataset (not the trimmed version, for now)\n",
    "scores = cross_val_score(knn, housing_prepared, housing_labels,\n",
    "                         scoring=\"neg_mean_squared_error\", cv=10)\n",
    "tree_rmse_scores = np.sqrt(-scores)\n",
    "\n",
    "def display_scores(scores):\n",
    "    print(\"Scores:\", scores)\n",
    "    print(\"Mean:\", scores.mean())\n",
    "    print(\"Standard deviation:\", scores.std())\n",
    "\n",
    "display_scores(tree_rmse_scores)"
   ]
  },
  {
   "cell_type": "code",
   "execution_count": 328,
   "metadata": {
    "collapsed": true,
    "jupyter": {
     "outputs_hidden": true
    }
   },
   "outputs": [
    {
     "name": "stdout",
     "output_type": "stream",
     "text": [
      "Fitting 5 folds for each of 44 candidates, totalling 220 fits\n",
      "[CV] metric=minkowski, n_neighbors=5, weights=uniform ................\n"
     ]
    },
    {
     "name": "stderr",
     "output_type": "stream",
     "text": [
      "[Parallel(n_jobs=1)]: Using backend SequentialBackend with 1 concurrent workers.\n"
     ]
    },
    {
     "name": "stdout",
     "output_type": "stream",
     "text": [
      "[CV] . metric=minkowski, n_neighbors=5, weights=uniform, total=   0.5s\n",
      "[CV] metric=minkowski, n_neighbors=5, weights=uniform ................\n"
     ]
    },
    {
     "name": "stderr",
     "output_type": "stream",
     "text": [
      "[Parallel(n_jobs=1)]: Done   1 out of   1 | elapsed:    2.3s remaining:    0.0s\n"
     ]
    },
    {
     "name": "stdout",
     "output_type": "stream",
     "text": [
      "[CV] . metric=minkowski, n_neighbors=5, weights=uniform, total=   0.3s\n",
      "[CV] metric=minkowski, n_neighbors=5, weights=uniform ................\n",
      "[CV] . metric=minkowski, n_neighbors=5, weights=uniform, total=   0.4s\n",
      "[CV] metric=minkowski, n_neighbors=5, weights=uniform ................\n",
      "[CV] . metric=minkowski, n_neighbors=5, weights=uniform, total=   0.4s\n",
      "[CV] metric=minkowski, n_neighbors=5, weights=uniform ................\n",
      "[CV] . metric=minkowski, n_neighbors=5, weights=uniform, total=   0.5s\n",
      "[CV] metric=minkowski, n_neighbors=5, weights=distance ...............\n",
      "[CV]  metric=minkowski, n_neighbors=5, weights=distance, total=   0.5s\n",
      "[CV] metric=minkowski, n_neighbors=5, weights=distance ...............\n",
      "[CV]  metric=minkowski, n_neighbors=5, weights=distance, total=   0.3s\n",
      "[CV] metric=minkowski, n_neighbors=5, weights=distance ...............\n",
      "[CV]  metric=minkowski, n_neighbors=5, weights=distance, total=   0.5s\n",
      "[CV] metric=minkowski, n_neighbors=5, weights=distance ...............\n",
      "[CV]  metric=minkowski, n_neighbors=5, weights=distance, total=   0.5s\n",
      "[CV] metric=minkowski, n_neighbors=5, weights=distance ...............\n",
      "[CV]  metric=minkowski, n_neighbors=5, weights=distance, total=   0.5s\n",
      "[CV] metric=minkowski, n_neighbors=6, weights=uniform ................\n",
      "[CV] . metric=minkowski, n_neighbors=6, weights=uniform, total=   0.5s\n",
      "[CV] metric=minkowski, n_neighbors=6, weights=uniform ................\n",
      "[CV] . metric=minkowski, n_neighbors=6, weights=uniform, total=   0.3s\n",
      "[CV] metric=minkowski, n_neighbors=6, weights=uniform ................\n",
      "[CV] . metric=minkowski, n_neighbors=6, weights=uniform, total=   0.5s\n",
      "[CV] metric=minkowski, n_neighbors=6, weights=uniform ................\n",
      "[CV] . metric=minkowski, n_neighbors=6, weights=uniform, total=   0.5s\n",
      "[CV] metric=minkowski, n_neighbors=6, weights=uniform ................\n",
      "[CV] . metric=minkowski, n_neighbors=6, weights=uniform, total=   0.5s\n",
      "[CV] metric=minkowski, n_neighbors=6, weights=distance ...............\n",
      "[CV]  metric=minkowski, n_neighbors=6, weights=distance, total=   0.6s\n",
      "[CV] metric=minkowski, n_neighbors=6, weights=distance ...............\n",
      "[CV]  metric=minkowski, n_neighbors=6, weights=distance, total=   0.4s\n",
      "[CV] metric=minkowski, n_neighbors=6, weights=distance ...............\n",
      "[CV]  metric=minkowski, n_neighbors=6, weights=distance, total=   0.5s\n",
      "[CV] metric=minkowski, n_neighbors=6, weights=distance ...............\n",
      "[CV]  metric=minkowski, n_neighbors=6, weights=distance, total=   0.5s\n",
      "[CV] metric=minkowski, n_neighbors=6, weights=distance ...............\n",
      "[CV]  metric=minkowski, n_neighbors=6, weights=distance, total=   0.5s\n",
      "[CV] metric=minkowski, n_neighbors=7, weights=uniform ................\n",
      "[CV] . metric=minkowski, n_neighbors=7, weights=uniform, total=   0.5s\n",
      "[CV] metric=minkowski, n_neighbors=7, weights=uniform ................\n",
      "[CV] . metric=minkowski, n_neighbors=7, weights=uniform, total=   0.4s\n",
      "[CV] metric=minkowski, n_neighbors=7, weights=uniform ................\n",
      "[CV] . metric=minkowski, n_neighbors=7, weights=uniform, total=   0.5s\n",
      "[CV] metric=minkowski, n_neighbors=7, weights=uniform ................\n",
      "[CV] . metric=minkowski, n_neighbors=7, weights=uniform, total=   0.5s\n",
      "[CV] metric=minkowski, n_neighbors=7, weights=uniform ................\n",
      "[CV] . metric=minkowski, n_neighbors=7, weights=uniform, total=   0.5s\n",
      "[CV] metric=minkowski, n_neighbors=7, weights=distance ...............\n",
      "[CV]  metric=minkowski, n_neighbors=7, weights=distance, total=   0.5s\n",
      "[CV] metric=minkowski, n_neighbors=7, weights=distance ...............\n",
      "[CV]  metric=minkowski, n_neighbors=7, weights=distance, total=   0.3s\n",
      "[CV] metric=minkowski, n_neighbors=7, weights=distance ...............\n",
      "[CV]  metric=minkowski, n_neighbors=7, weights=distance, total=   0.5s\n",
      "[CV] metric=minkowski, n_neighbors=7, weights=distance ...............\n",
      "[CV]  metric=minkowski, n_neighbors=7, weights=distance, total=   0.5s\n",
      "[CV] metric=minkowski, n_neighbors=7, weights=distance ...............\n",
      "[CV]  metric=minkowski, n_neighbors=7, weights=distance, total=   0.5s\n",
      "[CV] metric=minkowski, n_neighbors=8, weights=uniform ................\n",
      "[CV] . metric=minkowski, n_neighbors=8, weights=uniform, total=   0.6s\n",
      "[CV] metric=minkowski, n_neighbors=8, weights=uniform ................\n",
      "[CV] . metric=minkowski, n_neighbors=8, weights=uniform, total=   0.4s\n",
      "[CV] metric=minkowski, n_neighbors=8, weights=uniform ................\n",
      "[CV] . metric=minkowski, n_neighbors=8, weights=uniform, total=   0.5s\n",
      "[CV] metric=minkowski, n_neighbors=8, weights=uniform ................\n",
      "[CV] . metric=minkowski, n_neighbors=8, weights=uniform, total=   0.5s\n",
      "[CV] metric=minkowski, n_neighbors=8, weights=uniform ................\n",
      "[CV] . metric=minkowski, n_neighbors=8, weights=uniform, total=   0.6s\n",
      "[CV] metric=minkowski, n_neighbors=8, weights=distance ...............\n",
      "[CV]  metric=minkowski, n_neighbors=8, weights=distance, total=   0.6s\n",
      "[CV] metric=minkowski, n_neighbors=8, weights=distance ...............\n",
      "[CV]  metric=minkowski, n_neighbors=8, weights=distance, total=   0.4s\n",
      "[CV] metric=minkowski, n_neighbors=8, weights=distance ...............\n",
      "[CV]  metric=minkowski, n_neighbors=8, weights=distance, total=   0.6s\n",
      "[CV] metric=minkowski, n_neighbors=8, weights=distance ...............\n",
      "[CV]  metric=minkowski, n_neighbors=8, weights=distance, total=   0.5s\n",
      "[CV] metric=minkowski, n_neighbors=8, weights=distance ...............\n",
      "[CV]  metric=minkowski, n_neighbors=8, weights=distance, total=   0.5s\n",
      "[CV] metric=minkowski, n_neighbors=9, weights=uniform ................\n",
      "[CV] . metric=minkowski, n_neighbors=9, weights=uniform, total=   0.6s\n",
      "[CV] metric=minkowski, n_neighbors=9, weights=uniform ................\n",
      "[CV] . metric=minkowski, n_neighbors=9, weights=uniform, total=   0.4s\n",
      "[CV] metric=minkowski, n_neighbors=9, weights=uniform ................\n",
      "[CV] . metric=minkowski, n_neighbors=9, weights=uniform, total=   0.6s\n",
      "[CV] metric=minkowski, n_neighbors=9, weights=uniform ................\n",
      "[CV] . metric=minkowski, n_neighbors=9, weights=uniform, total=   0.6s\n",
      "[CV] metric=minkowski, n_neighbors=9, weights=uniform ................\n",
      "[CV] . metric=minkowski, n_neighbors=9, weights=uniform, total=   0.5s\n",
      "[CV] metric=minkowski, n_neighbors=9, weights=distance ...............\n",
      "[CV]  metric=minkowski, n_neighbors=9, weights=distance, total=   0.5s\n",
      "[CV] metric=minkowski, n_neighbors=9, weights=distance ...............\n",
      "[CV]  metric=minkowski, n_neighbors=9, weights=distance, total=   0.4s\n",
      "[CV] metric=minkowski, n_neighbors=9, weights=distance ...............\n",
      "[CV]  metric=minkowski, n_neighbors=9, weights=distance, total=   0.5s\n",
      "[CV] metric=minkowski, n_neighbors=9, weights=distance ...............\n",
      "[CV]  metric=minkowski, n_neighbors=9, weights=distance, total=   0.5s\n",
      "[CV] metric=minkowski, n_neighbors=9, weights=distance ...............\n",
      "[CV]  metric=minkowski, n_neighbors=9, weights=distance, total=   0.5s\n",
      "[CV] metric=minkowski, n_neighbors=10, weights=uniform ...............\n",
      "[CV]  metric=minkowski, n_neighbors=10, weights=uniform, total=   0.6s\n",
      "[CV] metric=minkowski, n_neighbors=10, weights=uniform ...............\n",
      "[CV]  metric=minkowski, n_neighbors=10, weights=uniform, total=   0.4s\n",
      "[CV] metric=minkowski, n_neighbors=10, weights=uniform ...............\n",
      "[CV]  metric=minkowski, n_neighbors=10, weights=uniform, total=   0.6s\n",
      "[CV] metric=minkowski, n_neighbors=10, weights=uniform ...............\n",
      "[CV]  metric=minkowski, n_neighbors=10, weights=uniform, total=   0.5s\n",
      "[CV] metric=minkowski, n_neighbors=10, weights=uniform ...............\n",
      "[CV]  metric=minkowski, n_neighbors=10, weights=uniform, total=   0.6s\n",
      "[CV] metric=minkowski, n_neighbors=10, weights=distance ..............\n",
      "[CV]  metric=minkowski, n_neighbors=10, weights=distance, total=   0.6s\n",
      "[CV] metric=minkowski, n_neighbors=10, weights=distance ..............\n",
      "[CV]  metric=minkowski, n_neighbors=10, weights=distance, total=   0.4s\n",
      "[CV] metric=minkowski, n_neighbors=10, weights=distance ..............\n",
      "[CV]  metric=minkowski, n_neighbors=10, weights=distance, total=   0.5s\n",
      "[CV] metric=minkowski, n_neighbors=10, weights=distance ..............\n",
      "[CV]  metric=minkowski, n_neighbors=10, weights=distance, total=   0.6s\n",
      "[CV] metric=minkowski, n_neighbors=10, weights=distance ..............\n",
      "[CV]  metric=minkowski, n_neighbors=10, weights=distance, total=   0.6s\n",
      "[CV] metric=minkowski, n_neighbors=11, weights=uniform ...............\n",
      "[CV]  metric=minkowski, n_neighbors=11, weights=uniform, total=   0.8s\n",
      "[CV] metric=minkowski, n_neighbors=11, weights=uniform ...............\n",
      "[CV]  metric=minkowski, n_neighbors=11, weights=uniform, total=   0.4s\n",
      "[CV] metric=minkowski, n_neighbors=11, weights=uniform ...............\n",
      "[CV]  metric=minkowski, n_neighbors=11, weights=uniform, total=   0.5s\n",
      "[CV] metric=minkowski, n_neighbors=11, weights=uniform ...............\n",
      "[CV]  metric=minkowski, n_neighbors=11, weights=uniform, total=   0.6s\n",
      "[CV] metric=minkowski, n_neighbors=11, weights=uniform ...............\n",
      "[CV]  metric=minkowski, n_neighbors=11, weights=uniform, total=   0.6s\n",
      "[CV] metric=minkowski, n_neighbors=11, weights=distance ..............\n",
      "[CV]  metric=minkowski, n_neighbors=11, weights=distance, total=   0.6s\n",
      "[CV] metric=minkowski, n_neighbors=11, weights=distance ..............\n",
      "[CV]  metric=minkowski, n_neighbors=11, weights=distance, total=   0.4s\n",
      "[CV] metric=minkowski, n_neighbors=11, weights=distance ..............\n",
      "[CV]  metric=minkowski, n_neighbors=11, weights=distance, total=   0.6s\n",
      "[CV] metric=minkowski, n_neighbors=11, weights=distance ..............\n",
      "[CV]  metric=minkowski, n_neighbors=11, weights=distance, total=   0.6s\n",
      "[CV] metric=minkowski, n_neighbors=11, weights=distance ..............\n",
      "[CV]  metric=minkowski, n_neighbors=11, weights=distance, total=   0.6s\n",
      "[CV] metric=minkowski, n_neighbors=12, weights=uniform ...............\n",
      "[CV]  metric=minkowski, n_neighbors=12, weights=uniform, total=   0.6s\n",
      "[CV] metric=minkowski, n_neighbors=12, weights=uniform ...............\n",
      "[CV]  metric=minkowski, n_neighbors=12, weights=uniform, total=   0.4s\n",
      "[CV] metric=minkowski, n_neighbors=12, weights=uniform ...............\n",
      "[CV]  metric=minkowski, n_neighbors=12, weights=uniform, total=   0.6s\n",
      "[CV] metric=minkowski, n_neighbors=12, weights=uniform ...............\n",
      "[CV]  metric=minkowski, n_neighbors=12, weights=uniform, total=   0.6s\n",
      "[CV] metric=minkowski, n_neighbors=12, weights=uniform ...............\n",
      "[CV]  metric=minkowski, n_neighbors=12, weights=uniform, total=   0.5s\n",
      "[CV] metric=minkowski, n_neighbors=12, weights=distance ..............\n",
      "[CV]  metric=minkowski, n_neighbors=12, weights=distance, total=   0.6s\n",
      "[CV] metric=minkowski, n_neighbors=12, weights=distance ..............\n",
      "[CV]  metric=minkowski, n_neighbors=12, weights=distance, total=   0.4s\n",
      "[CV] metric=minkowski, n_neighbors=12, weights=distance ..............\n",
      "[CV]  metric=minkowski, n_neighbors=12, weights=distance, total=   0.6s\n",
      "[CV] metric=minkowski, n_neighbors=12, weights=distance ..............\n",
      "[CV]  metric=minkowski, n_neighbors=12, weights=distance, total=   0.6s\n",
      "[CV] metric=minkowski, n_neighbors=12, weights=distance ..............\n",
      "[CV]  metric=minkowski, n_neighbors=12, weights=distance, total=   0.6s\n",
      "[CV] metric=minkowski, n_neighbors=13, weights=uniform ...............\n",
      "[CV]  metric=minkowski, n_neighbors=13, weights=uniform, total=   0.7s\n",
      "[CV] metric=minkowski, n_neighbors=13, weights=uniform ...............\n",
      "[CV]  metric=minkowski, n_neighbors=13, weights=uniform, total=   0.5s\n",
      "[CV] metric=minkowski, n_neighbors=13, weights=uniform ...............\n",
      "[CV]  metric=minkowski, n_neighbors=13, weights=uniform, total=   0.6s\n",
      "[CV] metric=minkowski, n_neighbors=13, weights=uniform ...............\n",
      "[CV]  metric=minkowski, n_neighbors=13, weights=uniform, total=   0.7s\n",
      "[CV] metric=minkowski, n_neighbors=13, weights=uniform ...............\n",
      "[CV]  metric=minkowski, n_neighbors=13, weights=uniform, total=   0.7s\n",
      "[CV] metric=minkowski, n_neighbors=13, weights=distance ..............\n",
      "[CV]  metric=minkowski, n_neighbors=13, weights=distance, total=   0.7s\n",
      "[CV] metric=minkowski, n_neighbors=13, weights=distance ..............\n",
      "[CV]  metric=minkowski, n_neighbors=13, weights=distance, total=   0.5s\n",
      "[CV] metric=minkowski, n_neighbors=13, weights=distance ..............\n",
      "[CV]  metric=minkowski, n_neighbors=13, weights=distance, total=   0.6s\n",
      "[CV] metric=minkowski, n_neighbors=13, weights=distance ..............\n",
      "[CV]  metric=minkowski, n_neighbors=13, weights=distance, total=   0.7s\n",
      "[CV] metric=minkowski, n_neighbors=13, weights=distance ..............\n",
      "[CV]  metric=minkowski, n_neighbors=13, weights=distance, total=   0.6s\n",
      "[CV] metric=minkowski, n_neighbors=14, weights=uniform ...............\n",
      "[CV]  metric=minkowski, n_neighbors=14, weights=uniform, total=   0.6s\n",
      "[CV] metric=minkowski, n_neighbors=14, weights=uniform ...............\n",
      "[CV]  metric=minkowski, n_neighbors=14, weights=uniform, total=   0.4s\n",
      "[CV] metric=minkowski, n_neighbors=14, weights=uniform ...............\n",
      "[CV]  metric=minkowski, n_neighbors=14, weights=uniform, total=   0.6s\n",
      "[CV] metric=minkowski, n_neighbors=14, weights=uniform ...............\n",
      "[CV]  metric=minkowski, n_neighbors=14, weights=uniform, total=   0.6s\n",
      "[CV] metric=minkowski, n_neighbors=14, weights=uniform ...............\n",
      "[CV]  metric=minkowski, n_neighbors=14, weights=uniform, total=   0.6s\n",
      "[CV] metric=minkowski, n_neighbors=14, weights=distance ..............\n",
      "[CV]  metric=minkowski, n_neighbors=14, weights=distance, total=   0.7s\n",
      "[CV] metric=minkowski, n_neighbors=14, weights=distance ..............\n",
      "[CV]  metric=minkowski, n_neighbors=14, weights=distance, total=   0.5s\n",
      "[CV] metric=minkowski, n_neighbors=14, weights=distance ..............\n",
      "[CV]  metric=minkowski, n_neighbors=14, weights=distance, total=   0.6s\n",
      "[CV] metric=minkowski, n_neighbors=14, weights=distance ..............\n",
      "[CV]  metric=minkowski, n_neighbors=14, weights=distance, total=   0.6s\n",
      "[CV] metric=minkowski, n_neighbors=14, weights=distance ..............\n",
      "[CV]  metric=minkowski, n_neighbors=14, weights=distance, total=   0.6s\n",
      "[CV] metric=minkowski, n_neighbors=15, weights=uniform ...............\n",
      "[CV]  metric=minkowski, n_neighbors=15, weights=uniform, total=   0.6s\n",
      "[CV] metric=minkowski, n_neighbors=15, weights=uniform ...............\n",
      "[CV]  metric=minkowski, n_neighbors=15, weights=uniform, total=   0.4s\n",
      "[CV] metric=minkowski, n_neighbors=15, weights=uniform ...............\n",
      "[CV]  metric=minkowski, n_neighbors=15, weights=uniform, total=   0.6s\n",
      "[CV] metric=minkowski, n_neighbors=15, weights=uniform ...............\n",
      "[CV]  metric=minkowski, n_neighbors=15, weights=uniform, total=   0.6s\n",
      "[CV] metric=minkowski, n_neighbors=15, weights=uniform ...............\n",
      "[CV]  metric=minkowski, n_neighbors=15, weights=uniform, total=   0.6s\n",
      "[CV] metric=minkowski, n_neighbors=15, weights=distance ..............\n",
      "[CV]  metric=minkowski, n_neighbors=15, weights=distance, total=   0.6s\n",
      "[CV] metric=minkowski, n_neighbors=15, weights=distance ..............\n",
      "[CV]  metric=minkowski, n_neighbors=15, weights=distance, total=   0.4s\n",
      "[CV] metric=minkowski, n_neighbors=15, weights=distance ..............\n",
      "[CV]  metric=minkowski, n_neighbors=15, weights=distance, total=   0.6s\n",
      "[CV] metric=minkowski, n_neighbors=15, weights=distance ..............\n",
      "[CV]  metric=minkowski, n_neighbors=15, weights=distance, total=   0.6s\n",
      "[CV] metric=minkowski, n_neighbors=15, weights=distance ..............\n",
      "[CV]  metric=minkowski, n_neighbors=15, weights=distance, total=   0.6s\n",
      "[CV] metric=euclidean, n_neighbors=5, weights=uniform ................\n",
      "[CV] . metric=euclidean, n_neighbors=5, weights=uniform, total=   0.5s\n",
      "[CV] metric=euclidean, n_neighbors=5, weights=uniform ................\n",
      "[CV] . metric=euclidean, n_neighbors=5, weights=uniform, total=   0.3s\n",
      "[CV] metric=euclidean, n_neighbors=5, weights=uniform ................\n",
      "[CV] . metric=euclidean, n_neighbors=5, weights=uniform, total=   0.4s\n",
      "[CV] metric=euclidean, n_neighbors=5, weights=uniform ................\n",
      "[CV] . metric=euclidean, n_neighbors=5, weights=uniform, total=   0.4s\n",
      "[CV] metric=euclidean, n_neighbors=5, weights=uniform ................\n",
      "[CV] . metric=euclidean, n_neighbors=5, weights=uniform, total=   0.5s\n",
      "[CV] metric=euclidean, n_neighbors=5, weights=distance ...............\n",
      "[CV]  metric=euclidean, n_neighbors=5, weights=distance, total=   0.5s\n",
      "[CV] metric=euclidean, n_neighbors=5, weights=distance ...............\n",
      "[CV]  metric=euclidean, n_neighbors=5, weights=distance, total=   0.3s\n",
      "[CV] metric=euclidean, n_neighbors=5, weights=distance ...............\n",
      "[CV]  metric=euclidean, n_neighbors=5, weights=distance, total=   0.5s\n",
      "[CV] metric=euclidean, n_neighbors=5, weights=distance ...............\n",
      "[CV]  metric=euclidean, n_neighbors=5, weights=distance, total=   0.4s\n",
      "[CV] metric=euclidean, n_neighbors=5, weights=distance ...............\n",
      "[CV]  metric=euclidean, n_neighbors=5, weights=distance, total=   0.5s\n",
      "[CV] metric=euclidean, n_neighbors=6, weights=uniform ................\n",
      "[CV] . metric=euclidean, n_neighbors=6, weights=uniform, total=   0.5s\n",
      "[CV] metric=euclidean, n_neighbors=6, weights=uniform ................\n",
      "[CV] . metric=euclidean, n_neighbors=6, weights=uniform, total=   0.3s\n",
      "[CV] metric=euclidean, n_neighbors=6, weights=uniform ................\n",
      "[CV] . metric=euclidean, n_neighbors=6, weights=uniform, total=   0.4s\n",
      "[CV] metric=euclidean, n_neighbors=6, weights=uniform ................\n",
      "[CV] . metric=euclidean, n_neighbors=6, weights=uniform, total=   0.5s\n",
      "[CV] metric=euclidean, n_neighbors=6, weights=uniform ................\n",
      "[CV] . metric=euclidean, n_neighbors=6, weights=uniform, total=   0.5s\n",
      "[CV] metric=euclidean, n_neighbors=6, weights=distance ...............\n",
      "[CV]  metric=euclidean, n_neighbors=6, weights=distance, total=   0.5s\n",
      "[CV] metric=euclidean, n_neighbors=6, weights=distance ...............\n",
      "[CV]  metric=euclidean, n_neighbors=6, weights=distance, total=   0.3s\n",
      "[CV] metric=euclidean, n_neighbors=6, weights=distance ...............\n",
      "[CV]  metric=euclidean, n_neighbors=6, weights=distance, total=   0.5s\n",
      "[CV] metric=euclidean, n_neighbors=6, weights=distance ...............\n",
      "[CV]  metric=euclidean, n_neighbors=6, weights=distance, total=   0.5s\n",
      "[CV] metric=euclidean, n_neighbors=6, weights=distance ...............\n",
      "[CV]  metric=euclidean, n_neighbors=6, weights=distance, total=   0.5s\n",
      "[CV] metric=euclidean, n_neighbors=7, weights=uniform ................\n",
      "[CV] . metric=euclidean, n_neighbors=7, weights=uniform, total=   0.5s\n",
      "[CV] metric=euclidean, n_neighbors=7, weights=uniform ................\n",
      "[CV] . metric=euclidean, n_neighbors=7, weights=uniform, total=   0.3s\n",
      "[CV] metric=euclidean, n_neighbors=7, weights=uniform ................\n",
      "[CV] . metric=euclidean, n_neighbors=7, weights=uniform, total=   0.5s\n",
      "[CV] metric=euclidean, n_neighbors=7, weights=uniform ................\n",
      "[CV] . metric=euclidean, n_neighbors=7, weights=uniform, total=   0.5s\n",
      "[CV] metric=euclidean, n_neighbors=7, weights=uniform ................\n",
      "[CV] . metric=euclidean, n_neighbors=7, weights=uniform, total=   0.5s\n",
      "[CV] metric=euclidean, n_neighbors=7, weights=distance ...............\n",
      "[CV]  metric=euclidean, n_neighbors=7, weights=distance, total=   0.5s\n",
      "[CV] metric=euclidean, n_neighbors=7, weights=distance ...............\n",
      "[CV]  metric=euclidean, n_neighbors=7, weights=distance, total=   0.3s\n",
      "[CV] metric=euclidean, n_neighbors=7, weights=distance ...............\n",
      "[CV]  metric=euclidean, n_neighbors=7, weights=distance, total=   0.5s\n",
      "[CV] metric=euclidean, n_neighbors=7, weights=distance ...............\n",
      "[CV]  metric=euclidean, n_neighbors=7, weights=distance, total=   0.5s\n",
      "[CV] metric=euclidean, n_neighbors=7, weights=distance ...............\n",
      "[CV]  metric=euclidean, n_neighbors=7, weights=distance, total=   0.5s\n",
      "[CV] metric=euclidean, n_neighbors=8, weights=uniform ................\n",
      "[CV] . metric=euclidean, n_neighbors=8, weights=uniform, total=   0.5s\n",
      "[CV] metric=euclidean, n_neighbors=8, weights=uniform ................\n",
      "[CV] . metric=euclidean, n_neighbors=8, weights=uniform, total=   0.3s\n",
      "[CV] metric=euclidean, n_neighbors=8, weights=uniform ................\n",
      "[CV] . metric=euclidean, n_neighbors=8, weights=uniform, total=   0.5s\n",
      "[CV] metric=euclidean, n_neighbors=8, weights=uniform ................\n",
      "[CV] . metric=euclidean, n_neighbors=8, weights=uniform, total=   0.5s\n",
      "[CV] metric=euclidean, n_neighbors=8, weights=uniform ................\n",
      "[CV] . metric=euclidean, n_neighbors=8, weights=uniform, total=   0.5s\n",
      "[CV] metric=euclidean, n_neighbors=8, weights=distance ...............\n",
      "[CV]  metric=euclidean, n_neighbors=8, weights=distance, total=   0.5s\n",
      "[CV] metric=euclidean, n_neighbors=8, weights=distance ...............\n",
      "[CV]  metric=euclidean, n_neighbors=8, weights=distance, total=   0.3s\n",
      "[CV] metric=euclidean, n_neighbors=8, weights=distance ...............\n",
      "[CV]  metric=euclidean, n_neighbors=8, weights=distance, total=   0.5s\n",
      "[CV] metric=euclidean, n_neighbors=8, weights=distance ...............\n",
      "[CV]  metric=euclidean, n_neighbors=8, weights=distance, total=   0.5s\n",
      "[CV] metric=euclidean, n_neighbors=8, weights=distance ...............\n",
      "[CV]  metric=euclidean, n_neighbors=8, weights=distance, total=   0.5s\n",
      "[CV] metric=euclidean, n_neighbors=9, weights=uniform ................\n",
      "[CV] . metric=euclidean, n_neighbors=9, weights=uniform, total=   0.5s\n",
      "[CV] metric=euclidean, n_neighbors=9, weights=uniform ................\n",
      "[CV] . metric=euclidean, n_neighbors=9, weights=uniform, total=   0.4s\n",
      "[CV] metric=euclidean, n_neighbors=9, weights=uniform ................\n",
      "[CV] . metric=euclidean, n_neighbors=9, weights=uniform, total=   0.5s\n",
      "[CV] metric=euclidean, n_neighbors=9, weights=uniform ................\n",
      "[CV] . metric=euclidean, n_neighbors=9, weights=uniform, total=   0.5s\n",
      "[CV] metric=euclidean, n_neighbors=9, weights=uniform ................\n",
      "[CV] . metric=euclidean, n_neighbors=9, weights=uniform, total=   0.5s\n",
      "[CV] metric=euclidean, n_neighbors=9, weights=distance ...............\n",
      "[CV]  metric=euclidean, n_neighbors=9, weights=distance, total=   0.5s\n",
      "[CV] metric=euclidean, n_neighbors=9, weights=distance ...............\n",
      "[CV]  metric=euclidean, n_neighbors=9, weights=distance, total=   0.4s\n",
      "[CV] metric=euclidean, n_neighbors=9, weights=distance ...............\n",
      "[CV]  metric=euclidean, n_neighbors=9, weights=distance, total=   0.5s\n",
      "[CV] metric=euclidean, n_neighbors=9, weights=distance ...............\n",
      "[CV]  metric=euclidean, n_neighbors=9, weights=distance, total=   0.5s\n",
      "[CV] metric=euclidean, n_neighbors=9, weights=distance ...............\n",
      "[CV]  metric=euclidean, n_neighbors=9, weights=distance, total=   0.5s\n",
      "[CV] metric=euclidean, n_neighbors=10, weights=uniform ...............\n",
      "[CV]  metric=euclidean, n_neighbors=10, weights=uniform, total=   0.5s\n",
      "[CV] metric=euclidean, n_neighbors=10, weights=uniform ...............\n",
      "[CV]  metric=euclidean, n_neighbors=10, weights=uniform, total=   0.4s\n",
      "[CV] metric=euclidean, n_neighbors=10, weights=uniform ...............\n",
      "[CV]  metric=euclidean, n_neighbors=10, weights=uniform, total=   0.5s\n",
      "[CV] metric=euclidean, n_neighbors=10, weights=uniform ...............\n",
      "[CV]  metric=euclidean, n_neighbors=10, weights=uniform, total=   0.5s\n",
      "[CV] metric=euclidean, n_neighbors=10, weights=uniform ...............\n",
      "[CV]  metric=euclidean, n_neighbors=10, weights=uniform, total=   0.5s\n",
      "[CV] metric=euclidean, n_neighbors=10, weights=distance ..............\n",
      "[CV]  metric=euclidean, n_neighbors=10, weights=distance, total=   0.5s\n",
      "[CV] metric=euclidean, n_neighbors=10, weights=distance ..............\n",
      "[CV]  metric=euclidean, n_neighbors=10, weights=distance, total=   0.4s\n",
      "[CV] metric=euclidean, n_neighbors=10, weights=distance ..............\n",
      "[CV]  metric=euclidean, n_neighbors=10, weights=distance, total=   0.5s\n",
      "[CV] metric=euclidean, n_neighbors=10, weights=distance ..............\n",
      "[CV]  metric=euclidean, n_neighbors=10, weights=distance, total=   0.5s\n",
      "[CV] metric=euclidean, n_neighbors=10, weights=distance ..............\n",
      "[CV]  metric=euclidean, n_neighbors=10, weights=distance, total=   0.5s\n",
      "[CV] metric=euclidean, n_neighbors=11, weights=uniform ...............\n",
      "[CV]  metric=euclidean, n_neighbors=11, weights=uniform, total=   0.6s\n",
      "[CV] metric=euclidean, n_neighbors=11, weights=uniform ...............\n",
      "[CV]  metric=euclidean, n_neighbors=11, weights=uniform, total=   0.4s\n",
      "[CV] metric=euclidean, n_neighbors=11, weights=uniform ...............\n",
      "[CV]  metric=euclidean, n_neighbors=11, weights=uniform, total=   0.5s\n",
      "[CV] metric=euclidean, n_neighbors=11, weights=uniform ...............\n",
      "[CV]  metric=euclidean, n_neighbors=11, weights=uniform, total=   0.5s\n",
      "[CV] metric=euclidean, n_neighbors=11, weights=uniform ...............\n",
      "[CV]  metric=euclidean, n_neighbors=11, weights=uniform, total=   0.6s\n",
      "[CV] metric=euclidean, n_neighbors=11, weights=distance ..............\n",
      "[CV]  metric=euclidean, n_neighbors=11, weights=distance, total=   0.6s\n",
      "[CV] metric=euclidean, n_neighbors=11, weights=distance ..............\n",
      "[CV]  metric=euclidean, n_neighbors=11, weights=distance, total=   0.4s\n",
      "[CV] metric=euclidean, n_neighbors=11, weights=distance ..............\n",
      "[CV]  metric=euclidean, n_neighbors=11, weights=distance, total=   0.5s\n",
      "[CV] metric=euclidean, n_neighbors=11, weights=distance ..............\n",
      "[CV]  metric=euclidean, n_neighbors=11, weights=distance, total=   0.5s\n",
      "[CV] metric=euclidean, n_neighbors=11, weights=distance ..............\n",
      "[CV]  metric=euclidean, n_neighbors=11, weights=distance, total=   0.5s\n",
      "[CV] metric=euclidean, n_neighbors=12, weights=uniform ...............\n",
      "[CV]  metric=euclidean, n_neighbors=12, weights=uniform, total=   0.6s\n",
      "[CV] metric=euclidean, n_neighbors=12, weights=uniform ...............\n",
      "[CV]  metric=euclidean, n_neighbors=12, weights=uniform, total=   0.4s\n",
      "[CV] metric=euclidean, n_neighbors=12, weights=uniform ...............\n",
      "[CV]  metric=euclidean, n_neighbors=12, weights=uniform, total=   0.5s\n",
      "[CV] metric=euclidean, n_neighbors=12, weights=uniform ...............\n",
      "[CV]  metric=euclidean, n_neighbors=12, weights=uniform, total=   0.6s\n",
      "[CV] metric=euclidean, n_neighbors=12, weights=uniform ...............\n",
      "[CV]  metric=euclidean, n_neighbors=12, weights=uniform, total=   0.6s\n",
      "[CV] metric=euclidean, n_neighbors=12, weights=distance ..............\n",
      "[CV]  metric=euclidean, n_neighbors=12, weights=distance, total=   0.6s\n",
      "[CV] metric=euclidean, n_neighbors=12, weights=distance ..............\n",
      "[CV]  metric=euclidean, n_neighbors=12, weights=distance, total=   0.4s\n",
      "[CV] metric=euclidean, n_neighbors=12, weights=distance ..............\n",
      "[CV]  metric=euclidean, n_neighbors=12, weights=distance, total=   0.5s\n",
      "[CV] metric=euclidean, n_neighbors=12, weights=distance ..............\n",
      "[CV]  metric=euclidean, n_neighbors=12, weights=distance, total=   0.5s\n",
      "[CV] metric=euclidean, n_neighbors=12, weights=distance ..............\n",
      "[CV]  metric=euclidean, n_neighbors=12, weights=distance, total=   0.6s\n",
      "[CV] metric=euclidean, n_neighbors=13, weights=uniform ...............\n",
      "[CV]  metric=euclidean, n_neighbors=13, weights=uniform, total=   0.6s\n",
      "[CV] metric=euclidean, n_neighbors=13, weights=uniform ...............\n",
      "[CV]  metric=euclidean, n_neighbors=13, weights=uniform, total=   0.4s\n",
      "[CV] metric=euclidean, n_neighbors=13, weights=uniform ...............\n",
      "[CV]  metric=euclidean, n_neighbors=13, weights=uniform, total=   0.5s\n",
      "[CV] metric=euclidean, n_neighbors=13, weights=uniform ...............\n",
      "[CV]  metric=euclidean, n_neighbors=13, weights=uniform, total=   0.6s\n",
      "[CV] metric=euclidean, n_neighbors=13, weights=uniform ...............\n",
      "[CV]  metric=euclidean, n_neighbors=13, weights=uniform, total=   0.6s\n",
      "[CV] metric=euclidean, n_neighbors=13, weights=distance ..............\n",
      "[CV]  metric=euclidean, n_neighbors=13, weights=distance, total=   0.6s\n",
      "[CV] metric=euclidean, n_neighbors=13, weights=distance ..............\n",
      "[CV]  metric=euclidean, n_neighbors=13, weights=distance, total=   0.4s\n",
      "[CV] metric=euclidean, n_neighbors=13, weights=distance ..............\n",
      "[CV]  metric=euclidean, n_neighbors=13, weights=distance, total=   0.6s\n",
      "[CV] metric=euclidean, n_neighbors=13, weights=distance ..............\n",
      "[CV]  metric=euclidean, n_neighbors=13, weights=distance, total=   0.6s\n",
      "[CV] metric=euclidean, n_neighbors=13, weights=distance ..............\n",
      "[CV]  metric=euclidean, n_neighbors=13, weights=distance, total=   0.6s\n",
      "[CV] metric=euclidean, n_neighbors=14, weights=uniform ...............\n",
      "[CV]  metric=euclidean, n_neighbors=14, weights=uniform, total=   0.6s\n",
      "[CV] metric=euclidean, n_neighbors=14, weights=uniform ...............\n",
      "[CV]  metric=euclidean, n_neighbors=14, weights=uniform, total=   0.4s\n",
      "[CV] metric=euclidean, n_neighbors=14, weights=uniform ...............\n",
      "[CV]  metric=euclidean, n_neighbors=14, weights=uniform, total=   0.6s\n",
      "[CV] metric=euclidean, n_neighbors=14, weights=uniform ...............\n",
      "[CV]  metric=euclidean, n_neighbors=14, weights=uniform, total=   0.6s\n",
      "[CV] metric=euclidean, n_neighbors=14, weights=uniform ...............\n",
      "[CV]  metric=euclidean, n_neighbors=14, weights=uniform, total=   0.6s\n",
      "[CV] metric=euclidean, n_neighbors=14, weights=distance ..............\n",
      "[CV]  metric=euclidean, n_neighbors=14, weights=distance, total=   0.6s\n",
      "[CV] metric=euclidean, n_neighbors=14, weights=distance ..............\n",
      "[CV]  metric=euclidean, n_neighbors=14, weights=distance, total=   0.4s\n",
      "[CV] metric=euclidean, n_neighbors=14, weights=distance ..............\n",
      "[CV]  metric=euclidean, n_neighbors=14, weights=distance, total=   0.6s\n",
      "[CV] metric=euclidean, n_neighbors=14, weights=distance ..............\n",
      "[CV]  metric=euclidean, n_neighbors=14, weights=distance, total=   0.6s\n",
      "[CV] metric=euclidean, n_neighbors=14, weights=distance ..............\n",
      "[CV]  metric=euclidean, n_neighbors=14, weights=distance, total=   0.6s\n",
      "[CV] metric=euclidean, n_neighbors=15, weights=uniform ...............\n",
      "[CV]  metric=euclidean, n_neighbors=15, weights=uniform, total=   0.6s\n",
      "[CV] metric=euclidean, n_neighbors=15, weights=uniform ...............\n",
      "[CV]  metric=euclidean, n_neighbors=15, weights=uniform, total=   0.4s\n",
      "[CV] metric=euclidean, n_neighbors=15, weights=uniform ...............\n",
      "[CV]  metric=euclidean, n_neighbors=15, weights=uniform, total=   0.6s\n",
      "[CV] metric=euclidean, n_neighbors=15, weights=uniform ...............\n",
      "[CV]  metric=euclidean, n_neighbors=15, weights=uniform, total=   0.6s\n",
      "[CV] metric=euclidean, n_neighbors=15, weights=uniform ...............\n",
      "[CV]  metric=euclidean, n_neighbors=15, weights=uniform, total=   0.6s\n",
      "[CV] metric=euclidean, n_neighbors=15, weights=distance ..............\n",
      "[CV]  metric=euclidean, n_neighbors=15, weights=distance, total=   0.6s\n",
      "[CV] metric=euclidean, n_neighbors=15, weights=distance ..............\n",
      "[CV]  metric=euclidean, n_neighbors=15, weights=distance, total=   0.4s\n",
      "[CV] metric=euclidean, n_neighbors=15, weights=distance ..............\n",
      "[CV]  metric=euclidean, n_neighbors=15, weights=distance, total=   0.6s\n",
      "[CV] metric=euclidean, n_neighbors=15, weights=distance ..............\n",
      "[CV]  metric=euclidean, n_neighbors=15, weights=distance, total=   0.6s\n",
      "[CV] metric=euclidean, n_neighbors=15, weights=distance ..............\n",
      "[CV]  metric=euclidean, n_neighbors=15, weights=distance, total=   0.6s\n"
     ]
    },
    {
     "name": "stderr",
     "output_type": "stream",
     "text": [
      "[Parallel(n_jobs=1)]: Done 220 out of 220 | elapsed:  8.9min finished\n"
     ]
    },
    {
     "data": {
      "text/plain": [
       "{'metric': 'minkowski', 'n_neighbors': 11, 'weights': 'distance'}"
      ]
     },
     "execution_count": 328,
     "metadata": {},
     "output_type": "execute_result"
    }
   ],
   "source": [
    "# Perform KNN regression using a variety of values for n_neighbors (K) between 1 and 10 \n",
    "# and both \"uniform\" and \"distance\" weights via a grid search \n",
    "# where  *housing_labels* is the output and all other features are the input \n",
    "# (similar to as seen in lecture two.)\n",
    "\n",
    "from sklearn.model_selection import cross_val_score\n",
    "from sklearn.model_selection import GridSearchCV\n",
    "    \n",
    "knn = KNeighborsRegressor()\n",
    "\n",
    "param_grid = [\n",
    "    # try 12 (3×4) combinations of hyperparameters\n",
    "    {'n_neighbors': [5,6,7,8,9,10,11,12,13,14,15], 'weights': ['uniform', 'distance'],\n",
    "    'metric': ['minkowski', 'euclidean']\n",
    "    },\n",
    "    # then try 6 (2×3) combinations with bootstrap set as False\n",
    "#     {'bootstrap': [False], 'n_estimators': [3, 10], 'max_features': [2, 3, 4]},\n",
    "  ]\n",
    "\n",
    "grid_search = GridSearchCV(knn, param_grid, cv=5,\n",
    "                           scoring='neg_mean_squared_error', return_train_score=True, verbose=2)\n",
    "grid_search.fit(housing_prepared, housing_labels)\n",
    "\n",
    "grid_search.best_params_"
   ]
  },
  {
   "cell_type": "code",
   "execution_count": 313,
   "metadata": {},
   "outputs": [
    {
     "name": "stdout",
     "output_type": "stream",
     "text": [
      "KNeighborsRegressor(algorithm='auto', leaf_size=30, metric='minkowski',\n",
      "                    metric_params=None, n_jobs=None, n_neighbors=11, p=2,\n",
      "                    weights='distance')\n"
     ]
    }
   ],
   "source": [
    "print(grid_search.best_estimator_)\n",
    "# feature_importances = grid_search.best_estimator_.feature_importances_"
   ]
  },
  {
   "cell_type": "code",
   "execution_count": 223,
   "metadata": {
    "collapsed": true,
    "jupyter": {
     "outputs_hidden": true
    }
   },
   "outputs": [
    {
     "name": "stdout",
     "output_type": "stream",
     "text": [
      "61144.144666930835 {'metric': 'minkowski', 'n_neighbors': 5, 'weights': 'uniform'}\n",
      "60745.17066067925 {'metric': 'minkowski', 'n_neighbors': 5, 'weights': 'distance'}\n",
      "60624.02086206421 {'metric': 'minkowski', 'n_neighbors': 6, 'weights': 'uniform'}\n",
      "60178.95903752728 {'metric': 'minkowski', 'n_neighbors': 6, 'weights': 'distance'}\n",
      "60403.78739053305 {'metric': 'minkowski', 'n_neighbors': 7, 'weights': 'uniform'}\n",
      "59909.83861155471 {'metric': 'minkowski', 'n_neighbors': 7, 'weights': 'distance'}\n",
      "60300.86232078644 {'metric': 'minkowski', 'n_neighbors': 8, 'weights': 'uniform'}\n",
      "59778.81261312459 {'metric': 'minkowski', 'n_neighbors': 8, 'weights': 'distance'}\n",
      "60249.47589700753 {'metric': 'minkowski', 'n_neighbors': 9, 'weights': 'uniform'}\n",
      "59700.28187013157 {'metric': 'minkowski', 'n_neighbors': 9, 'weights': 'distance'}\n",
      "60238.776775255064 {'metric': 'minkowski', 'n_neighbors': 10, 'weights': 'uniform'}\n",
      "59665.82069939555 {'metric': 'minkowski', 'n_neighbors': 10, 'weights': 'distance'}\n",
      "60241.38011652888 {'metric': 'minkowski', 'n_neighbors': 11, 'weights': 'uniform'}\n",
      "59650.894142275036 {'metric': 'minkowski', 'n_neighbors': 11, 'weights': 'distance'}\n",
      "60308.644766740115 {'metric': 'minkowski', 'n_neighbors': 12, 'weights': 'uniform'}\n",
      "59696.90337927546 {'metric': 'minkowski', 'n_neighbors': 12, 'weights': 'distance'}\n",
      "60334.78707176274 {'metric': 'minkowski', 'n_neighbors': 13, 'weights': 'uniform'}\n",
      "59705.07041686854 {'metric': 'minkowski', 'n_neighbors': 13, 'weights': 'distance'}\n",
      "60400.795590806185 {'metric': 'minkowski', 'n_neighbors': 14, 'weights': 'uniform'}\n",
      "59755.05939593196 {'metric': 'minkowski', 'n_neighbors': 14, 'weights': 'distance'}\n",
      "60427.96692969777 {'metric': 'minkowski', 'n_neighbors': 15, 'weights': 'uniform'}\n",
      "59771.81816265303 {'metric': 'minkowski', 'n_neighbors': 15, 'weights': 'distance'}\n",
      "61144.144666930835 {'metric': 'euclidean', 'n_neighbors': 5, 'weights': 'uniform'}\n",
      "60745.17066067925 {'metric': 'euclidean', 'n_neighbors': 5, 'weights': 'distance'}\n",
      "60624.02086206421 {'metric': 'euclidean', 'n_neighbors': 6, 'weights': 'uniform'}\n",
      "60178.95903752728 {'metric': 'euclidean', 'n_neighbors': 6, 'weights': 'distance'}\n",
      "60403.78739053305 {'metric': 'euclidean', 'n_neighbors': 7, 'weights': 'uniform'}\n",
      "59909.83861155471 {'metric': 'euclidean', 'n_neighbors': 7, 'weights': 'distance'}\n",
      "60300.86232078644 {'metric': 'euclidean', 'n_neighbors': 8, 'weights': 'uniform'}\n",
      "59778.81261312459 {'metric': 'euclidean', 'n_neighbors': 8, 'weights': 'distance'}\n",
      "60249.47589700753 {'metric': 'euclidean', 'n_neighbors': 9, 'weights': 'uniform'}\n",
      "59700.28187013157 {'metric': 'euclidean', 'n_neighbors': 9, 'weights': 'distance'}\n",
      "60238.776775255064 {'metric': 'euclidean', 'n_neighbors': 10, 'weights': 'uniform'}\n",
      "59665.82069939555 {'metric': 'euclidean', 'n_neighbors': 10, 'weights': 'distance'}\n",
      "60241.38011652888 {'metric': 'euclidean', 'n_neighbors': 11, 'weights': 'uniform'}\n",
      "59650.894142275036 {'metric': 'euclidean', 'n_neighbors': 11, 'weights': 'distance'}\n",
      "60308.644766740115 {'metric': 'euclidean', 'n_neighbors': 12, 'weights': 'uniform'}\n",
      "59696.90337927546 {'metric': 'euclidean', 'n_neighbors': 12, 'weights': 'distance'}\n",
      "60334.78707176274 {'metric': 'euclidean', 'n_neighbors': 13, 'weights': 'uniform'}\n",
      "59705.07041686854 {'metric': 'euclidean', 'n_neighbors': 13, 'weights': 'distance'}\n",
      "60400.795590806185 {'metric': 'euclidean', 'n_neighbors': 14, 'weights': 'uniform'}\n",
      "59755.05939593196 {'metric': 'euclidean', 'n_neighbors': 14, 'weights': 'distance'}\n",
      "60427.96692969777 {'metric': 'euclidean', 'n_neighbors': 15, 'weights': 'uniform'}\n",
      "59771.81816265303 {'metric': 'euclidean', 'n_neighbors': 15, 'weights': 'distance'}\n"
     ]
    }
   ],
   "source": [
    "cvgrid = grid_search.cv_results_\n",
    "for mean_score, params in zip(cvgrid[\"mean_test_score\"], cvgrid[\"params\"]):\n",
    "    print(np.sqrt(-mean_score), params)"
   ]
  },
  {
   "cell_type": "code",
   "execution_count": 314,
   "metadata": {},
   "outputs": [
    {
     "name": "stdout",
     "output_type": "stream",
     "text": [
      "Scores: [62350.39873138 60494.04990595 60868.50499658 61163.35319944\n",
      " 60827.61843233]\n",
      "Mean: 61140.78505313587\n",
      "Standard deviation: 640.9603238918779\n"
     ]
    }
   ],
   "source": [
    "# test out our best params\n",
    "knnbest = KNeighborsRegressor(algorithm='auto', leaf_size=30, metric='minkowski',\n",
    "                    metric_params=None, n_jobs=2, n_neighbors=11, p=2,\n",
    "                    weights='distance')\n",
    "\n",
    "scores = cross_val_score(knn, housing_prepared, housing_labels,\n",
    "                         scoring=\"neg_mean_squared_error\", cv=5)\n",
    "\n",
    "knn_rmse_scores = np.sqrt(-scores)\n",
    "\n",
    "def display_scores(scores):\n",
    "    print(\"Scores:\", scores)\n",
    "    print(\"Mean:\", scores.mean())\n",
    "    print(\"Standard deviation:\", scores.std())\n",
    "\n",
    "display_scores(knn_rmse_scores)"
   ]
  },
  {
   "cell_type": "markdown",
   "metadata": {},
   "source": [
    "Now try RandomizedSearchCV"
   ]
  },
  {
   "cell_type": "code",
   "execution_count": 321,
   "metadata": {},
   "outputs": [
    {
     "data": {
      "text/plain": [
       "KNeighborsRegressor(algorithm='auto', leaf_size=32, metric='euclidean',\n",
       "                    metric_params=None, n_jobs=None, n_neighbors=11, p=2,\n",
       "                    weights='distance')"
      ]
     },
     "execution_count": 321,
     "metadata": {},
     "output_type": "execute_result"
    }
   ],
   "source": [
    "from sklearn.model_selection import RandomizedSearchCV\n",
    "from scipy.stats import randint\n",
    "\n",
    "param_distribs = {\n",
    "        'n_neighbors': randint(low=5, high=20),\n",
    "        'weights': ['uniform', 'distance'],\n",
    "        'leaf_size': randint(low=30, high=40),\n",
    "        'metric': ['minkowski', 'euclidean']\n",
    "    }\n",
    "\n",
    "rnd_search = RandomizedSearchCV(knn, param_distributions=param_distribs, n_jobs=2,\n",
    "                                n_iter=100, cv=5, scoring='neg_mean_squared_error', random_state=42)\n",
    "rnd_search.fit(housing_prepared, housing_labels)\n",
    "\n",
    "# rnd_search.best_params_\n",
    "rnd_search.best_estimator_"
   ]
  },
  {
   "cell_type": "code",
   "execution_count": 225,
   "metadata": {
    "collapsed": true,
    "jupyter": {
     "outputs_hidden": true
    }
   },
   "outputs": [
    {
     "name": "stdout",
     "output_type": "stream",
     "text": [
      "60427.96692969777 {'leaf_size': 36, 'metric': 'euclidean', 'n_neighbors': 15, 'weights': 'uniform'}\n",
      "59909.83861155471 {'leaf_size': 37, 'metric': 'minkowski', 'n_neighbors': 7, 'weights': 'distance'}\n",
      "60241.38011652888 {'leaf_size': 32, 'metric': 'minkowski', 'n_neighbors': 11, 'weights': 'uniform'}\n",
      "61438.26329050499 {'leaf_size': 37, 'metric': 'minkowski', 'n_neighbors': 4, 'weights': 'distance'}\n",
      "66205.66298388786 {'leaf_size': 37, 'metric': 'minkowski', 'n_neighbors': 2, 'weights': 'distance'}\n",
      "76182.30181880607 {'leaf_size': 35, 'metric': 'euclidean', 'n_neighbors': 1, 'weights': 'distance'}\n",
      "60308.644766740115 {'leaf_size': 39, 'metric': 'euclidean', 'n_neighbors': 12, 'weights': 'uniform'}\n",
      "59665.82069939555 {'leaf_size': 30, 'metric': 'minkowski', 'n_neighbors': 10, 'weights': 'distance'}\n",
      "63203.674759297166 {'leaf_size': 32, 'metric': 'euclidean', 'n_neighbors': 3, 'weights': 'uniform'}\n",
      "60249.47589700753 {'leaf_size': 32, 'metric': 'minkowski', 'n_neighbors': 9, 'weights': 'uniform'}\n",
      "59755.05939593196 {'leaf_size': 31, 'metric': 'euclidean', 'n_neighbors': 14, 'weights': 'distance'}\n",
      "66205.66298388786 {'leaf_size': 39, 'metric': 'minkowski', 'n_neighbors': 2, 'weights': 'distance'}\n",
      "60300.86232078644 {'leaf_size': 36, 'metric': 'euclidean', 'n_neighbors': 8, 'weights': 'uniform'}\n",
      "59898.14653960737 {'leaf_size': 32, 'metric': 'euclidean', 'n_neighbors': 17, 'weights': 'distance'}\n",
      "61438.26329050499 {'leaf_size': 31, 'metric': 'euclidean', 'n_neighbors': 4, 'weights': 'distance'}\n",
      "59665.82069939555 {'leaf_size': 35, 'metric': 'euclidean', 'n_neighbors': 10, 'weights': 'distance'}\n",
      "60003.249122113055 {'leaf_size': 35, 'metric': 'minkowski', 'n_neighbors': 18, 'weights': 'distance'}\n",
      "61438.26329050499 {'leaf_size': 31, 'metric': 'euclidean', 'n_neighbors': 4, 'weights': 'distance'}\n",
      "60300.86232078644 {'leaf_size': 37, 'metric': 'euclidean', 'n_neighbors': 8, 'weights': 'uniform'}\n",
      "60334.78707176274 {'leaf_size': 31, 'metric': 'minkowski', 'n_neighbors': 13, 'weights': 'uniform'}\n",
      "60403.78739053305 {'leaf_size': 30, 'metric': 'minkowski', 'n_neighbors': 7, 'weights': 'uniform'}\n",
      "59696.90337927546 {'leaf_size': 37, 'metric': 'minkowski', 'n_neighbors': 12, 'weights': 'distance'}\n",
      "60241.38011652888 {'leaf_size': 37, 'metric': 'minkowski', 'n_neighbors': 11, 'weights': 'uniform'}\n",
      "63203.674759297166 {'leaf_size': 30, 'metric': 'euclidean', 'n_neighbors': 3, 'weights': 'uniform'}\n",
      "60745.17066067925 {'leaf_size': 30, 'metric': 'minkowski', 'n_neighbors': 5, 'weights': 'distance'}\n",
      "59700.28187013157 {'leaf_size': 36, 'metric': 'euclidean', 'n_neighbors': 9, 'weights': 'distance'}\n",
      "59778.81261312459 {'leaf_size': 36, 'metric': 'minkowski', 'n_neighbors': 8, 'weights': 'distance'}\n",
      "60484.02354996668 {'leaf_size': 31, 'metric': 'minkowski', 'n_neighbors': 16, 'weights': 'uniform'}\n",
      "61144.144666930835 {'leaf_size': 36, 'metric': 'euclidean', 'n_neighbors': 5, 'weights': 'uniform'}\n",
      "63203.674759297166 {'leaf_size': 37, 'metric': 'euclidean', 'n_neighbors': 3, 'weights': 'uniform'}\n",
      "59771.81816265303 {'leaf_size': 32, 'metric': 'minkowski', 'n_neighbors': 15, 'weights': 'distance'}\n",
      "60745.17066067925 {'leaf_size': 32, 'metric': 'minkowski', 'n_neighbors': 5, 'weights': 'distance'}\n",
      "60400.795590806185 {'leaf_size': 36, 'metric': 'minkowski', 'n_neighbors': 14, 'weights': 'uniform'}\n",
      "59771.81816265303 {'leaf_size': 38, 'metric': 'minkowski', 'n_neighbors': 15, 'weights': 'distance'}\n",
      "60334.78707176274 {'leaf_size': 39, 'metric': 'euclidean', 'n_neighbors': 13, 'weights': 'uniform'}\n",
      "61438.26329050499 {'leaf_size': 36, 'metric': 'minkowski', 'n_neighbors': 4, 'weights': 'distance'}\n",
      "60403.78739053305 {'leaf_size': 34, 'metric': 'minkowski', 'n_neighbors': 7, 'weights': 'uniform'}\n",
      "60403.78739053305 {'leaf_size': 33, 'metric': 'minkowski', 'n_neighbors': 7, 'weights': 'uniform'}\n",
      "66205.66298388786 {'leaf_size': 32, 'metric': 'euclidean', 'n_neighbors': 2, 'weights': 'distance'}\n",
      "60178.95903752728 {'leaf_size': 38, 'metric': 'minkowski', 'n_neighbors': 6, 'weights': 'distance'}\n",
      "59650.894142275036 {'leaf_size': 33, 'metric': 'euclidean', 'n_neighbors': 11, 'weights': 'distance'}\n",
      "59909.83861155471 {'leaf_size': 39, 'metric': 'minkowski', 'n_neighbors': 7, 'weights': 'distance'}\n",
      "60334.78707176274 {'leaf_size': 30, 'metric': 'minkowski', 'n_neighbors': 13, 'weights': 'uniform'}\n",
      "60178.95903752728 {'leaf_size': 32, 'metric': 'minkowski', 'n_neighbors': 6, 'weights': 'distance'}\n",
      "61144.144666930835 {'leaf_size': 38, 'metric': 'euclidean', 'n_neighbors': 5, 'weights': 'uniform'}\n",
      "59696.90337927546 {'leaf_size': 32, 'metric': 'euclidean', 'n_neighbors': 12, 'weights': 'distance'}\n",
      "59700.28187013157 {'leaf_size': 35, 'metric': 'euclidean', 'n_neighbors': 9, 'weights': 'distance'}\n",
      "59898.14653960737 {'leaf_size': 30, 'metric': 'euclidean', 'n_neighbors': 17, 'weights': 'distance'}\n",
      "59909.83861155471 {'leaf_size': 33, 'metric': 'euclidean', 'n_neighbors': 7, 'weights': 'distance'}\n",
      "61144.144666930835 {'leaf_size': 32, 'metric': 'minkowski', 'n_neighbors': 5, 'weights': 'uniform'}\n",
      "59898.14653960737 {'leaf_size': 37, 'metric': 'minkowski', 'n_neighbors': 17, 'weights': 'distance'}\n",
      "60745.17066067925 {'leaf_size': 31, 'metric': 'euclidean', 'n_neighbors': 5, 'weights': 'distance'}\n",
      "60059.99091557974 {'leaf_size': 30, 'metric': 'minkowski', 'n_neighbors': 19, 'weights': 'distance'}\n",
      "59696.90337927546 {'leaf_size': 31, 'metric': 'minkowski', 'n_neighbors': 12, 'weights': 'distance'}\n",
      "61724.90669125751 {'leaf_size': 35, 'metric': 'euclidean', 'n_neighbors': 4, 'weights': 'uniform'}\n",
      "60580.50832587332 {'leaf_size': 37, 'metric': 'minkowski', 'n_neighbors': 17, 'weights': 'uniform'}\n",
      "60745.17066067925 {'leaf_size': 35, 'metric': 'euclidean', 'n_neighbors': 5, 'weights': 'distance'}\n",
      "60241.38011652888 {'leaf_size': 31, 'metric': 'euclidean', 'n_neighbors': 11, 'weights': 'uniform'}\n",
      "60178.95903752728 {'leaf_size': 30, 'metric': 'minkowski', 'n_neighbors': 6, 'weights': 'distance'}\n",
      "61724.90669125751 {'leaf_size': 32, 'metric': 'euclidean', 'n_neighbors': 4, 'weights': 'uniform'}\n",
      "60059.99091557974 {'leaf_size': 39, 'metric': 'minkowski', 'n_neighbors': 19, 'weights': 'distance'}\n",
      "60249.47589700753 {'leaf_size': 36, 'metric': 'euclidean', 'n_neighbors': 9, 'weights': 'uniform'}\n",
      "59909.83861155471 {'leaf_size': 37, 'metric': 'euclidean', 'n_neighbors': 7, 'weights': 'distance'}\n",
      "59650.894142275036 {'leaf_size': 37, 'metric': 'minkowski', 'n_neighbors': 11, 'weights': 'distance'}\n",
      "60698.78791960757 {'leaf_size': 38, 'metric': 'minkowski', 'n_neighbors': 18, 'weights': 'uniform'}\n",
      "59909.83861155471 {'leaf_size': 39, 'metric': 'minkowski', 'n_neighbors': 7, 'weights': 'distance'}\n",
      "59898.14653960737 {'leaf_size': 39, 'metric': 'euclidean', 'n_neighbors': 17, 'weights': 'distance'}\n",
      "60308.644766740115 {'leaf_size': 30, 'metric': 'euclidean', 'n_neighbors': 12, 'weights': 'uniform'}\n",
      "60249.47589700753 {'leaf_size': 34, 'metric': 'euclidean', 'n_neighbors': 9, 'weights': 'uniform'}\n",
      "59816.05450025644 {'leaf_size': 32, 'metric': 'minkowski', 'n_neighbors': 16, 'weights': 'distance'}\n",
      "76182.30181880607 {'leaf_size': 32, 'metric': 'euclidean', 'n_neighbors': 1, 'weights': 'distance'}\n",
      "59898.14653960737 {'leaf_size': 33, 'metric': 'minkowski', 'n_neighbors': 17, 'weights': 'distance'}\n",
      "59778.81261312459 {'leaf_size': 33, 'metric': 'euclidean', 'n_neighbors': 8, 'weights': 'distance'}\n",
      "63203.674759297166 {'leaf_size': 32, 'metric': 'euclidean', 'n_neighbors': 3, 'weights': 'uniform'}\n",
      "59755.05939593196 {'leaf_size': 31, 'metric': 'euclidean', 'n_neighbors': 14, 'weights': 'distance'}\n",
      "63025.87307349791 {'leaf_size': 31, 'metric': 'euclidean', 'n_neighbors': 3, 'weights': 'distance'}\n",
      "76182.30181880607 {'leaf_size': 38, 'metric': 'euclidean', 'n_neighbors': 1, 'weights': 'distance'}\n",
      "59816.05450025644 {'leaf_size': 30, 'metric': 'euclidean', 'n_neighbors': 16, 'weights': 'distance'}\n",
      "60300.86232078644 {'leaf_size': 37, 'metric': 'euclidean', 'n_neighbors': 8, 'weights': 'uniform'}\n",
      "76182.30181880607 {'leaf_size': 32, 'metric': 'minkowski', 'n_neighbors': 1, 'weights': 'distance'}\n",
      "59755.05939593196 {'leaf_size': 32, 'metric': 'euclidean', 'n_neighbors': 14, 'weights': 'distance'}\n",
      "60334.78707176274 {'leaf_size': 35, 'metric': 'euclidean', 'n_neighbors': 13, 'weights': 'uniform'}\n",
      "66265.38470145852 {'leaf_size': 35, 'metric': 'euclidean', 'n_neighbors': 2, 'weights': 'uniform'}\n",
      "59771.81816265303 {'leaf_size': 30, 'metric': 'euclidean', 'n_neighbors': 15, 'weights': 'distance'}\n",
      "60484.02354996668 {'leaf_size': 30, 'metric': 'minkowski', 'n_neighbors': 16, 'weights': 'uniform'}\n",
      "59898.14653960737 {'leaf_size': 33, 'metric': 'minkowski', 'n_neighbors': 17, 'weights': 'distance'}\n",
      "60400.795590806185 {'leaf_size': 30, 'metric': 'euclidean', 'n_neighbors': 14, 'weights': 'uniform'}\n",
      "60249.47589700753 {'leaf_size': 35, 'metric': 'minkowski', 'n_neighbors': 9, 'weights': 'uniform'}\n",
      "59898.14653960737 {'leaf_size': 37, 'metric': 'minkowski', 'n_neighbors': 17, 'weights': 'distance'}\n",
      "63025.87307349791 {'leaf_size': 34, 'metric': 'minkowski', 'n_neighbors': 3, 'weights': 'distance'}\n",
      "76182.30181880607 {'leaf_size': 30, 'metric': 'euclidean', 'n_neighbors': 1, 'weights': 'distance'}\n",
      "60698.78791960757 {'leaf_size': 32, 'metric': 'euclidean', 'n_neighbors': 18, 'weights': 'uniform'}\n",
      "63025.87307349791 {'leaf_size': 39, 'metric': 'minkowski', 'n_neighbors': 3, 'weights': 'distance'}\n",
      "59771.81816265303 {'leaf_size': 37, 'metric': 'euclidean', 'n_neighbors': 15, 'weights': 'distance'}\n",
      "59665.82069939555 {'leaf_size': 36, 'metric': 'euclidean', 'n_neighbors': 10, 'weights': 'distance'}\n",
      "60300.86232078644 {'leaf_size': 39, 'metric': 'minkowski', 'n_neighbors': 8, 'weights': 'uniform'}\n",
      "60484.02354996668 {'leaf_size': 38, 'metric': 'minkowski', 'n_neighbors': 16, 'weights': 'uniform'}\n",
      "63025.87307349791 {'leaf_size': 39, 'metric': 'minkowski', 'n_neighbors': 3, 'weights': 'distance'}\n",
      "59705.07041686854 {'leaf_size': 38, 'metric': 'euclidean', 'n_neighbors': 13, 'weights': 'distance'}\n",
      "61724.90669125751 {'leaf_size': 39, 'metric': 'minkowski', 'n_neighbors': 4, 'weights': 'uniform'}\n"
     ]
    }
   ],
   "source": [
    "cvres = rnd_search.cv_results_\n",
    "for mean_score, params in zip(cvres[\"mean_test_score\"], cvres[\"params\"]):\n",
    "    print(np.sqrt(-mean_score), params)\n",
    "    \n",
    "# gridsearch best score 59650.894142275036\n",
    "# random search best score 59650.894142275036"
   ]
  },
  {
   "cell_type": "code",
   "execution_count": 102,
   "metadata": {},
   "outputs": [
    {
     "name": "stdout",
     "output_type": "stream",
     "text": [
      "Scores: [60689.53684657 59294.63995931 59617.39747335 59313.17164435\n",
      " 59327.77795689]\n",
      "Mean: 59648.50477609326\n",
      "Standard deviation: 533.9006923404554\n"
     ]
    }
   ],
   "source": [
    "# test out our best random params\n",
    "kbbbest_random = KNeighborsRegressor(algorithm='auto', leaf_size=33, metric='euclidean',\n",
    "                    metric_params=None, n_jobs=None, n_neighbors=11, p=2,\n",
    "                    weights='distance')\n",
    "\n",
    "\n",
    "scores = cross_val_score(kbbbest_random, housing_prepared, housing_labels,\n",
    "                         scoring=\"neg_mean_squared_error\", cv=5)\n",
    "\n",
    "knn_rmse_scores = np.sqrt(-scores)\n",
    "\n",
    "def display_scores(scores):\n",
    "    print(\"Scores:\", scores)\n",
    "    print(\"Mean:\", scores.mean())\n",
    "    print(\"Standard deviation:\", scores.std())\n",
    "\n",
    "display_scores(knn_rmse_scores)\n",
    "\n",
    "# Mean: 59648.50477609326\n",
    "# Standard deviation: 533.9006923404554"
   ]
  },
  {
   "cell_type": "markdown",
   "metadata": {},
   "source": [
    "Trying out SelectKBest and SelectFromModel - they did not help"
   ]
  },
  {
   "cell_type": "code",
   "execution_count": 317,
   "metadata": {
    "collapsed": true,
    "jupyter": {
     "outputs_hidden": true
    }
   },
   "outputs": [
    {
     "data": {
      "text/plain": [
       "(16512, 10)"
      ]
     },
     "execution_count": 317,
     "metadata": {},
     "output_type": "execute_result"
    }
   ],
   "source": [
    "# from sklearn.datasets import load_iris\n",
    "# from sklearn.feature_selection import SelectKBest\n",
    "# from sklearn.feature_selection import mutual_info_regression\n",
    "\n",
    "# X_new = SelectKBest(mutual_info_regression, k=10).fit_transform(housing_prepared, housing_labels)\n",
    "# X_new.shape"
   ]
  },
  {
   "cell_type": "code",
   "execution_count": 320,
   "metadata": {
    "collapsed": true,
    "jupyter": {
     "outputs_hidden": true
    }
   },
   "outputs": [
    {
     "name": "stdout",
     "output_type": "stream",
     "text": [
      "KNeighborsRegressor(algorithm='auto', leaf_size=33, metric='euclidean',\n",
      "                    metric_params=None, n_jobs=None, n_neighbors=11, p=2,\n",
      "                    weights='distance')\n",
      "63953.29927527397 {'leaf_size': 36, 'metric': 'euclidean', 'n_neighbors': 15, 'weights': 'uniform'}\n",
      "63729.61617472526 {'leaf_size': 37, 'metric': 'minkowski', 'n_neighbors': 7, 'weights': 'distance'}\n",
      "63800.33495145485 {'leaf_size': 32, 'metric': 'minkowski', 'n_neighbors': 11, 'weights': 'uniform'}\n",
      "65221.82708534894 {'leaf_size': 37, 'metric': 'minkowski', 'n_neighbors': 4, 'weights': 'distance'}\n",
      "69949.94226977209 {'leaf_size': 37, 'metric': 'minkowski', 'n_neighbors': 2, 'weights': 'distance'}\n",
      "79664.60831940325 {'leaf_size': 35, 'metric': 'euclidean', 'n_neighbors': 1, 'weights': 'distance'}\n",
      "63846.57554858102 {'leaf_size': 39, 'metric': 'euclidean', 'n_neighbors': 12, 'weights': 'uniform'}\n",
      "63252.24370650049 {'leaf_size': 30, 'metric': 'minkowski', 'n_neighbors': 10, 'weights': 'distance'}\n",
      "67142.71637778578 {'leaf_size': 32, 'metric': 'euclidean', 'n_neighbors': 3, 'weights': 'uniform'}\n",
      "63955.28058174336 {'leaf_size': 32, 'metric': 'minkowski', 'n_neighbors': 9, 'weights': 'uniform'}\n",
      "63237.288656612815 {'leaf_size': 31, 'metric': 'euclidean', 'n_neighbors': 14, 'weights': 'distance'}\n",
      "69949.94226977209 {'leaf_size': 39, 'metric': 'minkowski', 'n_neighbors': 2, 'weights': 'distance'}\n",
      "64038.28373202585 {'leaf_size': 36, 'metric': 'euclidean', 'n_neighbors': 8, 'weights': 'uniform'}\n",
      "63353.52591178061 {'leaf_size': 32, 'metric': 'euclidean', 'n_neighbors': 17, 'weights': 'distance'}\n",
      "65221.82708534894 {'leaf_size': 31, 'metric': 'euclidean', 'n_neighbors': 4, 'weights': 'distance'}\n",
      "63252.24370650049 {'leaf_size': 35, 'metric': 'euclidean', 'n_neighbors': 10, 'weights': 'distance'}\n",
      "63396.55698316152 {'leaf_size': 35, 'metric': 'minkowski', 'n_neighbors': 18, 'weights': 'distance'}\n",
      "65221.82708534894 {'leaf_size': 31, 'metric': 'euclidean', 'n_neighbors': 4, 'weights': 'distance'}\n",
      "64038.28373202585 {'leaf_size': 37, 'metric': 'euclidean', 'n_neighbors': 8, 'weights': 'uniform'}\n",
      "63911.600485243885 {'leaf_size': 31, 'metric': 'minkowski', 'n_neighbors': 13, 'weights': 'uniform'}\n",
      "64267.539570958674 {'leaf_size': 30, 'metric': 'minkowski', 'n_neighbors': 7, 'weights': 'uniform'}\n",
      "63177.60856159737 {'leaf_size': 37, 'metric': 'minkowski', 'n_neighbors': 12, 'weights': 'distance'}\n",
      "63800.33495145485 {'leaf_size': 37, 'metric': 'minkowski', 'n_neighbors': 11, 'weights': 'uniform'}\n",
      "67142.71637778578 {'leaf_size': 30, 'metric': 'euclidean', 'n_neighbors': 3, 'weights': 'uniform'}\n",
      "64543.55917230826 {'leaf_size': 30, 'metric': 'minkowski', 'n_neighbors': 5, 'weights': 'distance'}\n",
      "63344.248346033935 {'leaf_size': 36, 'metric': 'euclidean', 'n_neighbors': 9, 'weights': 'distance'}\n",
      "63469.69582570539 {'leaf_size': 36, 'metric': 'minkowski', 'n_neighbors': 8, 'weights': 'distance'}\n",
      "64009.324161534634 {'leaf_size': 31, 'metric': 'minkowski', 'n_neighbors': 16, 'weights': 'uniform'}\n",
      "65017.28314269363 {'leaf_size': 36, 'metric': 'euclidean', 'n_neighbors': 5, 'weights': 'uniform'}\n",
      "67142.71637778578 {'leaf_size': 37, 'metric': 'euclidean', 'n_neighbors': 3, 'weights': 'uniform'}\n",
      "63214.386048231776 {'leaf_size': 32, 'metric': 'minkowski', 'n_neighbors': 15, 'weights': 'distance'}\n",
      "64543.55917230826 {'leaf_size': 32, 'metric': 'minkowski', 'n_neighbors': 5, 'weights': 'distance'}\n",
      "63967.8381757791 {'leaf_size': 36, 'metric': 'minkowski', 'n_neighbors': 14, 'weights': 'uniform'}\n",
      "63214.386048231776 {'leaf_size': 38, 'metric': 'minkowski', 'n_neighbors': 15, 'weights': 'distance'}\n",
      "63911.600485243885 {'leaf_size': 39, 'metric': 'euclidean', 'n_neighbors': 13, 'weights': 'uniform'}\n",
      "65221.82708534894 {'leaf_size': 36, 'metric': 'minkowski', 'n_neighbors': 4, 'weights': 'distance'}\n",
      "64267.539570958674 {'leaf_size': 34, 'metric': 'minkowski', 'n_neighbors': 7, 'weights': 'uniform'}\n",
      "64267.539570958674 {'leaf_size': 33, 'metric': 'minkowski', 'n_neighbors': 7, 'weights': 'uniform'}\n",
      "69949.94226977209 {'leaf_size': 32, 'metric': 'euclidean', 'n_neighbors': 2, 'weights': 'distance'}\n",
      "64064.12956629983 {'leaf_size': 38, 'metric': 'minkowski', 'n_neighbors': 6, 'weights': 'distance'}\n",
      "63163.61852664803 {'leaf_size': 33, 'metric': 'euclidean', 'n_neighbors': 11, 'weights': 'distance'}\n",
      "63729.61617472526 {'leaf_size': 39, 'metric': 'minkowski', 'n_neighbors': 7, 'weights': 'distance'}\n",
      "63911.600485243885 {'leaf_size': 30, 'metric': 'minkowski', 'n_neighbors': 13, 'weights': 'uniform'}\n",
      "64064.12956629983 {'leaf_size': 32, 'metric': 'minkowski', 'n_neighbors': 6, 'weights': 'distance'}\n",
      "65017.28314269363 {'leaf_size': 38, 'metric': 'euclidean', 'n_neighbors': 5, 'weights': 'uniform'}\n",
      "63177.60856159737 {'leaf_size': 32, 'metric': 'euclidean', 'n_neighbors': 12, 'weights': 'distance'}\n",
      "63344.248346033935 {'leaf_size': 35, 'metric': 'euclidean', 'n_neighbors': 9, 'weights': 'distance'}\n",
      "63353.52591178061 {'leaf_size': 30, 'metric': 'euclidean', 'n_neighbors': 17, 'weights': 'distance'}\n",
      "63729.61617472526 {'leaf_size': 33, 'metric': 'euclidean', 'n_neighbors': 7, 'weights': 'distance'}\n",
      "65017.28314269363 {'leaf_size': 32, 'metric': 'minkowski', 'n_neighbors': 5, 'weights': 'uniform'}\n",
      "63353.52591178061 {'leaf_size': 37, 'metric': 'minkowski', 'n_neighbors': 17, 'weights': 'distance'}\n",
      "64543.55917230826 {'leaf_size': 31, 'metric': 'euclidean', 'n_neighbors': 5, 'weights': 'distance'}\n",
      "63404.62540212471 {'leaf_size': 30, 'metric': 'minkowski', 'n_neighbors': 19, 'weights': 'distance'}\n",
      "63177.60856159737 {'leaf_size': 31, 'metric': 'minkowski', 'n_neighbors': 12, 'weights': 'distance'}\n",
      "65589.34326220563 {'leaf_size': 35, 'metric': 'euclidean', 'n_neighbors': 4, 'weights': 'uniform'}\n",
      "64133.13232397854 {'leaf_size': 37, 'metric': 'minkowski', 'n_neighbors': 17, 'weights': 'uniform'}\n",
      "64543.55917230826 {'leaf_size': 35, 'metric': 'euclidean', 'n_neighbors': 5, 'weights': 'distance'}\n",
      "63800.33495145485 {'leaf_size': 31, 'metric': 'euclidean', 'n_neighbors': 11, 'weights': 'uniform'}\n",
      "64064.12956629983 {'leaf_size': 30, 'metric': 'minkowski', 'n_neighbors': 6, 'weights': 'distance'}\n",
      "65589.34326220563 {'leaf_size': 32, 'metric': 'euclidean', 'n_neighbors': 4, 'weights': 'uniform'}\n",
      "63404.62540212471 {'leaf_size': 39, 'metric': 'minkowski', 'n_neighbors': 19, 'weights': 'distance'}\n",
      "63955.28058174336 {'leaf_size': 36, 'metric': 'euclidean', 'n_neighbors': 9, 'weights': 'uniform'}\n",
      "63729.61617472526 {'leaf_size': 37, 'metric': 'euclidean', 'n_neighbors': 7, 'weights': 'distance'}\n",
      "63163.61852664803 {'leaf_size': 37, 'metric': 'minkowski', 'n_neighbors': 11, 'weights': 'distance'}\n",
      "64184.22727474099 {'leaf_size': 38, 'metric': 'minkowski', 'n_neighbors': 18, 'weights': 'uniform'}\n",
      "63729.61617472526 {'leaf_size': 39, 'metric': 'minkowski', 'n_neighbors': 7, 'weights': 'distance'}\n",
      "63353.52591178061 {'leaf_size': 39, 'metric': 'euclidean', 'n_neighbors': 17, 'weights': 'distance'}\n",
      "63846.57554858102 {'leaf_size': 30, 'metric': 'euclidean', 'n_neighbors': 12, 'weights': 'uniform'}\n",
      "63955.28058174336 {'leaf_size': 34, 'metric': 'euclidean', 'n_neighbors': 9, 'weights': 'uniform'}\n",
      "63254.59698337728 {'leaf_size': 32, 'metric': 'minkowski', 'n_neighbors': 16, 'weights': 'distance'}\n",
      "79664.60831940325 {'leaf_size': 32, 'metric': 'euclidean', 'n_neighbors': 1, 'weights': 'distance'}\n",
      "63353.52591178061 {'leaf_size': 33, 'metric': 'minkowski', 'n_neighbors': 17, 'weights': 'distance'}\n",
      "63469.69582570539 {'leaf_size': 33, 'metric': 'euclidean', 'n_neighbors': 8, 'weights': 'distance'}\n",
      "67142.71637778578 {'leaf_size': 32, 'metric': 'euclidean', 'n_neighbors': 3, 'weights': 'uniform'}\n",
      "63237.288656612815 {'leaf_size': 31, 'metric': 'euclidean', 'n_neighbors': 14, 'weights': 'distance'}\n",
      "66859.86927295648 {'leaf_size': 31, 'metric': 'euclidean', 'n_neighbors': 3, 'weights': 'distance'}\n",
      "79664.60831940325 {'leaf_size': 38, 'metric': 'euclidean', 'n_neighbors': 1, 'weights': 'distance'}\n",
      "63254.59698337728 {'leaf_size': 30, 'metric': 'euclidean', 'n_neighbors': 16, 'weights': 'distance'}\n",
      "64038.28373202585 {'leaf_size': 37, 'metric': 'euclidean', 'n_neighbors': 8, 'weights': 'uniform'}\n",
      "79664.60831940325 {'leaf_size': 32, 'metric': 'minkowski', 'n_neighbors': 1, 'weights': 'distance'}\n",
      "63237.288656612815 {'leaf_size': 32, 'metric': 'euclidean', 'n_neighbors': 14, 'weights': 'distance'}\n",
      "63911.600485243885 {'leaf_size': 35, 'metric': 'euclidean', 'n_neighbors': 13, 'weights': 'uniform'}\n",
      "70071.58335585275 {'leaf_size': 35, 'metric': 'euclidean', 'n_neighbors': 2, 'weights': 'uniform'}\n",
      "63214.386048231776 {'leaf_size': 30, 'metric': 'euclidean', 'n_neighbors': 15, 'weights': 'distance'}\n",
      "64009.324161534634 {'leaf_size': 30, 'metric': 'minkowski', 'n_neighbors': 16, 'weights': 'uniform'}\n",
      "63353.52591178061 {'leaf_size': 33, 'metric': 'minkowski', 'n_neighbors': 17, 'weights': 'distance'}\n",
      "63967.8381757791 {'leaf_size': 30, 'metric': 'euclidean', 'n_neighbors': 14, 'weights': 'uniform'}\n",
      "63955.28058174336 {'leaf_size': 35, 'metric': 'minkowski', 'n_neighbors': 9, 'weights': 'uniform'}\n",
      "63353.52591178061 {'leaf_size': 37, 'metric': 'minkowski', 'n_neighbors': 17, 'weights': 'distance'}\n",
      "66859.86927295648 {'leaf_size': 34, 'metric': 'minkowski', 'n_neighbors': 3, 'weights': 'distance'}\n",
      "79664.60831940325 {'leaf_size': 30, 'metric': 'euclidean', 'n_neighbors': 1, 'weights': 'distance'}\n",
      "64184.22727474099 {'leaf_size': 32, 'metric': 'euclidean', 'n_neighbors': 18, 'weights': 'uniform'}\n",
      "66859.86927295648 {'leaf_size': 39, 'metric': 'minkowski', 'n_neighbors': 3, 'weights': 'distance'}\n",
      "63214.386048231776 {'leaf_size': 37, 'metric': 'euclidean', 'n_neighbors': 15, 'weights': 'distance'}\n",
      "63252.24370650049 {'leaf_size': 36, 'metric': 'euclidean', 'n_neighbors': 10, 'weights': 'distance'}\n",
      "64038.28373202585 {'leaf_size': 39, 'metric': 'minkowski', 'n_neighbors': 8, 'weights': 'uniform'}\n",
      "64009.324161534634 {'leaf_size': 38, 'metric': 'minkowski', 'n_neighbors': 16, 'weights': 'uniform'}\n",
      "66859.86927295648 {'leaf_size': 39, 'metric': 'minkowski', 'n_neighbors': 3, 'weights': 'distance'}\n",
      "63211.10640711504 {'leaf_size': 38, 'metric': 'euclidean', 'n_neighbors': 13, 'weights': 'distance'}\n",
      "65589.34326220563 {'leaf_size': 39, 'metric': 'minkowski', 'n_neighbors': 4, 'weights': 'uniform'}\n"
     ]
    }
   ],
   "source": [
    "# rnd_search_best = RandomizedSearchCV(knn, param_distributions=param_distribs, n_jobs=2,\n",
    "#                                 n_iter=100, cv=5, scoring='neg_mean_squared_error', random_state=42)\n",
    "# rnd_search_best.fit(X_new, housing_labels)\n",
    "\n",
    "# print(rnd_search_best.best_estimator_)\n",
    "\n",
    "# cvresbest = rnd_search_best.cv_results_\n",
    "\n",
    "# for mean_score, params in zip(cvresbest[\"mean_test_score\"], cvresbest[\"params\"]):\n",
    "#     print(np.sqrt(-mean_score), params)"
   ]
  },
  {
   "cell_type": "code",
   "execution_count": 322,
   "metadata": {
    "collapsed": true,
    "jupyter": {
     "outputs_hidden": true
    }
   },
   "outputs": [
    {
     "name": "stdout",
     "output_type": "stream",
     "text": [
      "Scores: [63927.40081619 61891.6309268  63055.15873474 63548.29822687\n",
      " 63376.55499009]\n",
      "Mean: 63159.808738938256\n",
      "Standard deviation: 693.7329750367388\n"
     ]
    }
   ],
   "source": [
    "# bestknn = KNeighborsRegressor(algorithm='auto', leaf_size=33, metric='euclidean',\n",
    "#                     metric_params=None, n_jobs=None, n_neighbors=11, p=2,\n",
    "#                     weights='distance')\n",
    "\n",
    "# scores = cross_val_score(bestknn, X_new, housing_labels,\n",
    "#                          scoring=\"neg_mean_squared_error\", cv=5)\n",
    "\n",
    "# knn_rmse_scores = np.sqrt(-scores)\n",
    "\n",
    "# def display_scores(scores):\n",
    "#     print(\"Scores:\", scores)\n",
    "#     print(\"Mean:\", scores.mean())\n",
    "#     print(\"Standard deviation:\", scores.std())\n",
    "\n",
    "# display_scores(knn_rmse_scores)"
   ]
  },
  {
   "cell_type": "markdown",
   "metadata": {},
   "source": [
    "Now we have our final KNN model with the best params. Split up test set and try our best parameters on full dataset."
   ]
  },
  {
   "cell_type": "code",
   "execution_count": 99,
   "metadata": {},
   "outputs": [],
   "source": [
    "x_test = strat_test_set.copy()\n",
    "x_test.drop('median_house_value', axis=1,inplace=True)\n",
    "y_test = strat_test_set[\"median_house_value\"].copy()"
   ]
  },
  {
   "cell_type": "code",
   "execution_count": 100,
   "metadata": {},
   "outputs": [
    {
     "data": {
      "text/plain": [
       "(4128, 9)"
      ]
     },
     "execution_count": 100,
     "metadata": {},
     "output_type": "execute_result"
    }
   ],
   "source": [
    "x_test.shape"
   ]
  },
  {
   "cell_type": "code",
   "execution_count": 101,
   "metadata": {},
   "outputs": [
    {
     "data": {
      "text/plain": [
       "(4128, 21)"
      ]
     },
     "execution_count": 101,
     "metadata": {},
     "output_type": "execute_result"
    }
   ],
   "source": [
    "x_test = full_pipeline.transform(x_test)\n",
    "x_test.shape"
   ]
  },
  {
   "cell_type": "code",
   "execution_count": 365,
   "metadata": {},
   "outputs": [
    {
     "data": {
      "text/plain": [
       "<matplotlib.axes._subplots.AxesSubplot at 0x1a228316d8>"
      ]
     },
     "execution_count": 365,
     "metadata": {},
     "output_type": "execute_result"
    },
    {
     "data": {
      "image/png": "[encoded data removed]",
      "text/plain": [
       "<Figure size 432x288 with 1 Axes>"
      ]
     },
     "metadata": {
      "needs_background": "light"
     },
     "output_type": "display_data"
    }
   ],
   "source": [
    "# for kicks, let's just visualize this.\n",
    "rmse_list = []\n",
    "for k in range(2,50):\n",
    "    knn_looped = KNeighborsRegressor(algorithm='auto', metric='euclidean', n_neighbors=k, p=2,\n",
    "                    weights='distance')\n",
    "    knn_looped.fit(housing_prepared, housing_labels)\n",
    "    y_pred = knn_looped.predict(x_test)\n",
    "    rmse_list.append((k,np.sqrt(mean_squared_error(y_test, y_pred))))\n",
    "\n",
    "score_df = pd.DataFrame(rmse_list)\n",
    "score_df.plot()"
   ]
  },
  {
   "cell_type": "markdown",
   "metadata": {},
   "source": [
    "Fitting the best model to test X and predicting Y on FULL dataset."
   ]
  },
  {
   "cell_type": "code",
   "execution_count": 372,
   "metadata": {},
   "outputs": [
    {
     "data": {
      "text/plain": [
       "KNeighborsRegressor(algorithm='auto', leaf_size=33, metric='euclidean',\n",
       "                    metric_params=None, n_jobs=None, n_neighbors=11, p=2,\n",
       "                    weights='distance')"
      ]
     },
     "execution_count": 372,
     "metadata": {},
     "output_type": "execute_result"
    }
   ],
   "source": [
    "kbbbest_random.fit(housing_prepared, housing_labels)"
   ]
  },
  {
   "cell_type": "code",
   "execution_count": 373,
   "metadata": {},
   "outputs": [
    {
     "data": {
      "text/plain": [
       "60133.81312286888"
      ]
     },
     "execution_count": 373,
     "metadata": {},
     "output_type": "execute_result"
    }
   ],
   "source": [
    "y_pred = kbbbest_random.predict(x_test)\n",
    "predict_score = np.sqrt(mean_squared_error(y_test, y_pred))\n",
    "predict_score"
   ]
  },
  {
   "cell_type": "markdown",
   "metadata": {},
   "source": [
    "Now we try the dataset with fewer featues an see if we get a better rmse score on the trimmed set."
   ]
  },
  {
   "cell_type": "code",
   "execution_count": 111,
   "metadata": {},
   "outputs": [],
   "source": [
    "xtrim_test = pd.DataFrame(x_test,columns=attributes)\n",
    "xtrim_test.drop(columns = ['NEAR BAY', 'ISLAND'], axis=1,inplace=True)\n",
    "\n",
    "xtrim_test = xtrim_test.values"
   ]
  },
  {
   "cell_type": "code",
   "execution_count": 110,
   "metadata": {},
   "outputs": [
    {
     "data": {
      "text/plain": [
       "60119.812452597354"
      ]
     },
     "execution_count": 110,
     "metadata": {},
     "output_type": "execute_result"
    }
   ],
   "source": [
    "kbbbest_random.fit(housing_trim, housing_labels)\n",
    "y_pred = kbbbest_random.predict(xtrim_test)\n",
    "predict_score = np.sqrt(mean_squared_error(y_test, y_pred))\n",
    "predict_score"
   ]
  },
  {
   "cell_type": "markdown",
   "metadata": {},
   "source": [
    "I guess that's a little better?"
   ]
  },
  {
   "cell_type": "code",
   "execution_count": 113,
   "metadata": {},
   "outputs": [
    {
     "name": "stderr",
     "output_type": "stream",
     "text": [
      "[Parallel(n_jobs=-1)]: Using backend ThreadingBackend with 8 concurrent workers.\n",
      "[Parallel(n_jobs=-1)]: Done  34 tasks      | elapsed:    1.6s\n",
      "[Parallel(n_jobs=-1)]: Done 184 tasks      | elapsed:    7.4s\n",
      "[Parallel(n_jobs=-1)]: Done 434 tasks      | elapsed:   17.7s\n",
      "[Parallel(n_jobs=-1)]: Done 784 tasks      | elapsed:   34.4s\n",
      "[Parallel(n_jobs=-1)]: Done 1234 tasks      | elapsed:   57.2s\n",
      "[Parallel(n_jobs=-1)]: Done 1557 out of 1557 | elapsed:  1.2min finished\n",
      "[Parallel(n_jobs=8)]: Using backend ThreadingBackend with 8 concurrent workers.\n",
      "[Parallel(n_jobs=8)]: Done  34 tasks      | elapsed:    0.0s\n",
      "[Parallel(n_jobs=8)]: Done 184 tasks      | elapsed:    0.1s\n",
      "[Parallel(n_jobs=8)]: Done 434 tasks      | elapsed:    0.2s\n",
      "[Parallel(n_jobs=8)]: Done 784 tasks      | elapsed:    0.3s\n",
      "[Parallel(n_jobs=8)]: Done 1234 tasks      | elapsed:    0.4s\n",
      "[Parallel(n_jobs=8)]: Done 1557 out of 1557 | elapsed:    0.6s finished\n"
     ]
    },
    {
     "data": {
      "text/plain": [
       "49329.55077139079"
      ]
     },
     "execution_count": 113,
     "metadata": {},
     "output_type": "execute_result"
    }
   ],
   "source": [
    "# let's also just try our best RandomForest model on the test set.\n",
    "\n",
    "rf_best.fit(housing_trim, housing_labels)\n",
    "y_pred = rf_best.predict(xtrim_test)\n",
    "rfbest_score = np.sqrt(mean_squared_error(y_test, y_pred))\n",
    "rfbest_score\n",
    "\n"
   ]
  },
  {
   "cell_type": "markdown",
   "metadata": {},
   "source": [
    "That's much better."
   ]
  },
  {
   "cell_type": "markdown",
   "metadata": {},
   "source": [
    "### Conclusions\n",
    "For what values of n_neighbors and weight does KNeighborsRegressor perform the best? Does it perform as well on the housing data as the linear regressor from the lectures? Why do you think this is?"
   ]
  },
  {
   "cell_type": "markdown",
   "metadata": {},
   "source": [
    "<pre>According to GridSearch and RandomSearch, k = 11 is the best parameter for the lowest rmse score. It does not seem to matter whether we use Euclidean distnace or not (which I was surprised by).\n",
    "\n",
    "I also chose to log-transform some of the numerical data to bring it to normal distribution. This seems to have helped the training data score improve a little (49521.13 from 48988.30). \n",
    "\n",
    "Sicne Feature_Importances doesn't apply to KNNRegressor, I first used correlation instead to see if I could remove redundant features. CHecking the correlation matrix, I ran significance testing on the lowest-correlating variables in the trianing set and realized they were all significant at p-value less than 0.05. I went ahead and tested removing a couple of them anyway (for science!), and realized the model got worse in training. I've hidden a lot of this meandering in the notebook.\n",
    "\n",
    "However, I tried out a RandomForestRegressor to gain access to Feature_importances method, and was able to improve the model by then removing a couple of low-ranking features. The KNN model then returned a small improvement in the final test set, but perhaps going back and removing more features could help. Interstingly, this model performed worse in training when given fewer features, but better in testing.\n",
    "\n",
    "I think this model doesn't perform much better than the models in the sample notebook. I'm not sure if it's because KNNRegressor is limited in how well it can do this task, or if I haven't feature-engineered enough! RandomForest, however, turned out a much better result.\n",
    "</pre>"
   ]
  },
  {
   "cell_type": "markdown",
   "metadata": {},
   "source": [
    "### Read appending B\n",
    "\n",
    "- Reflect on your last data project, read appendix B. Then, write down a few of the checklist items that your last data project could have used. If you have not yet done a data project, then write down a few of the items that you found most interesting.\n"
   ]
  },
  {
   "cell_type": "markdown",
   "metadata": {},
   "source": [
    "I find ensemble models interesting, as well as using things like Voting to find the best result. I have not used this in a real-life scenario yet. I think it'd be a really interesting skill to be able to manipulate multiple models to produce the best outcome. \n",
    "Deployement is anotehr area I'm unfamiliar with. Would be extremely useful to learn how to monitor the health of your model."
   ]
  },
  {
   "cell_type": "markdown",
   "metadata": {},
   "source": [
    "### Submit your notebook\n",
    "\n",
    "Submit your solution to Quercus\n",
    "Make sure you rename your notebook to    \n",
    "W2_UTORid.ipynb    \n",
    "Example W2_adfasd01.ipynb\n"
   ]
  },
  {
   "cell_type": "code",
   "execution_count": null,
   "metadata": {
    "collapsed": true,
    "jupyter": {
     "outputs_hidden": true
    }
   },
   "outputs": [],
   "source": []
  }
 ],
 "metadata": {
  "anaconda-cloud": {},
  "kernelspec": {
   "display_name": "Python 3",
   "language": "python",
   "name": "python3"
  },
  "language_info": {
   "codemirror_mode": {
    "name": "ipython",
    "version": 3
   },
   "file_extension": ".py",
   "mimetype": "text/x-python",
   "name": "python",
   "nbconvert_exporter": "python",
   "pygments_lexer": "ipython3",
   "version": "3.6.10"
  }
 },
 "nbformat": 4,
 "nbformat_minor": 4
}
