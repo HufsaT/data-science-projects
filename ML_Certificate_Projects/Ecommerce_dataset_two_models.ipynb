{
 "cells": [
  {
   "cell_type": "markdown",
   "metadata": {},
   "source": [
    "Prepared by: </br>&emsp;&emsp;Hufsa T &emsp;&emsp;Maria T &emsp;&emsp;HongGeun P"
   ]
  },
  {
   "cell_type": "markdown",
   "metadata": {},
   "source": [
    "# Business Problem:\n",
    "More and more businesses today are looking to recommendations systems to help them segment and target their customers with personalized products. We want to provide one solution to the question of what products a customer will buy, given the historical data we have about them.\n"
   ]
  },
  {
   "cell_type": "markdown",
   "metadata": {},
   "source": [
    "# Data\n",
    "Kaggle Dataset: Retail Recommendation Dataset (https://www.kaggle.com/retailrocket/ecommerce-dataset)"
   ]
  },
  {
   "cell_type": "markdown",
   "metadata": {},
   "source": [
    "# Approach"
   ]
  },
  {
   "cell_type": "markdown",
   "metadata": {},
   "source": [
    "We would like to explore the data using two different ML models to determine if we can predict, given a certain product, whether or not a customer will buy it.\n",
    "\n",
    "We will be using two models, <b>XGBoost Classifier</b> and <b>RNN (LSTM)</b>, and will consider the following:\n",
    "<ul>\n",
    "    <li>What item did the user view?</li>\n",
    "    <li>How many similar items did they view on the same day/historically? </li>\n",
    "    <li>Did the user add the item to the cart? </li>\n",
    "    <li>Does adding the item to cart result in a transaction?</li>\n",
    "    <li>Did the user buy items in the same category before, and how many? (historical purchase count to be a feature)</li>\n",
    "</ul>\n",
    "\n",
    "<pre>The assumption was made that if a user views items under the same category, it is more likely the user will add those items to the cart and subsequently purchase the item. We verified this by plotting corelation between views and transaction events.</pre>"
   ]
  },
  {
   "cell_type": "markdown",
   "metadata": {},
   "source": [
    "# Data Preparation"
   ]
  },
  {
   "cell_type": "markdown",
   "metadata": {},
   "source": [
    "## Load the Modules"
   ]
  },
  {
   "cell_type": "code",
   "execution_count": 84,
   "metadata": {},
   "outputs": [
    {
     "name": "stdout",
     "output_type": "stream",
     "text": [
      "No GPU was detected. LSTMs and CNNs can be very slow without a GPU.\n"
     ]
    },
    {
     "data": {
      "text/html": [
       "        <script type=\"text/javascript\">\n",
       "        window.PlotlyConfig = {MathJaxConfig: 'local'};\n",
       "        if (window.MathJax) {MathJax.Hub.Config({SVG: {font: \"STIX-Web\"}});}\n",
       "        if (typeof require !== 'undefined') {\n",
       "        require.undef(\"plotly\");\n",
       "        requirejs.config({\n",
       "            paths: {\n",
       "                'plotly': ['https://cdn.plot.ly/plotly-latest.min']\n",
       "            }\n",
       "        });\n",
       "        require(['plotly'], function(Plotly) {\n",
       "            window._Plotly = Plotly;\n",
       "        });\n",
       "        }\n",
       "        </script>\n",
       "        "
      ]
     },
     "metadata": {},
     "output_type": "display_data"
    }
   ],
   "source": [
    "# Import basic libraries\n",
    "import numpy as np # linear algebra\n",
    "import pandas as pd # data processing, CSV file I/O (e.g. pd.read_csv)\n",
    "from datetime import datetime\n",
    "from datetime import timedelta\n",
    "import os\n",
    "import time\n",
    "from pathlib import Path\n",
    "from tqdm._tqdm_notebook import tqdm_notebook\n",
    "tqdm_notebook.pandas()\n",
    "\n",
    "# Python ≥3.5 is required\n",
    "import sys\n",
    "assert sys.version_info >= (3, 5)\n",
    "\n",
    "# Import graphing libraries\n",
    "import matplotlib as mlp\n",
    "import matplotlib.pyplot as plt\n",
    "%matplotlib inline\n",
    "mpl.rc('axes', labelsize=14)\n",
    "mpl.rc('xtick', labelsize=12)\n",
    "mpl.rc('ytick', labelsize=12)\n",
    "import plotly\n",
    "import plotly.graph_objects as go\n",
    "from plotly.offline import plot\n",
    "plotly.offline.init_notebook_mode(connected=True)\n",
    "\n",
    "# Import sklearn libraries\n",
    "from sklearn.base import BaseEstimator, TransformerMixin\n",
    "from sklearn.compose import ColumnTransformer\n",
    "from sklearn.preprocessing import FunctionTransformer\n",
    "from sklearn.preprocessing import OneHotEncoder\n",
    "from sklearn.preprocessing import StandardScaler\n",
    "from sklearn.impute import SimpleImputer\n",
    "from sklearn.pipeline import make_pipeline\n",
    "from sklearn.pipeline import Pipeline\n",
    "from sklearn.linear_model import LogisticRegression\n",
    "from sklearn.ensemble import RandomForestClassifier\n",
    "from sklearn.model_selection import GridSearchCV\n",
    "from sklearn.model_selection import train_test_split\n",
    "from sklearn.model_selection import cross_val_predict\n",
    "from sklearn.metrics import confusion_matrix\n",
    "from sklearn.metrics import classification_report\n",
    "from sklearn.metrics import precision_score, recall_score, f1_score, accuracy_score\n",
    "\n",
    "# Scikit-Learn ≥0.20 is required\n",
    "import sklearn\n",
    "assert sklearn.__version__ >= \"0.20\"\n",
    "\n",
    "# Filter convergence warnings\n",
    "from sklearn.exceptions import ConvergenceWarning\n",
    "import warnings\n",
    "warnings.filterwarnings('ignore', category=ConvergenceWarning)\n",
    "\n",
    "# Import XGB and others\n",
    "import xgboost as xgb\n",
    "from imblearn.over_sampling import SMOTE\n",
    "\n",
    "# Import tensorflow\n",
    "import tensorflow as tf\n",
    "from tensorflow import keras\n",
    "\n",
    "# TensorFlow ≥2.0 is required\n",
    "assert tf.__version__ >= \"2.0\"\n",
    "\n",
    "from tensorflow.keras.layers import Dense\n",
    "from tensorflow.keras.callbacks import TensorBoard\n",
    "from tensorflow.keras.optimizers import SGD\n",
    "from tensorflow.keras.callbacks import EarlyStopping\n",
    "%load_ext tensorboard\n",
    "\n",
    "if not tf.config.list_physical_devices('GPU'):\n",
    "    print(\"No GPU was detected. LSTMs and CNNs can be very slow without a GPU.\")\n",
    "if IS_COLAB:\n",
    "    print(\"Go to Runtime > Change runtime and select a GPU hardware accelerator.\")\n",
    "\n",
    "# to make this notebook's output stable across runs\n",
    "np.random.seed(42)\n",
    "tf.random.set_seed(42)"
   ]
  },
  {
   "cell_type": "markdown",
   "metadata": {},
   "source": [
    "## Load and Clean Up Data"
   ]
  },
  {
   "cell_type": "markdown",
   "metadata": {},
   "source": [
    "Our dataset comes in three different files: \n",
    "1. events file: contianing daily transaactions per customer and itemID\n",
    "2. itemproperties file: contains attributes per itemID\n",
    "3. category_tree file: contains the parentID of each categoryID an itemID belongs to  \n",
    "\n",
    "The transformer below reads our data files and combines them together. We will **only be using the latest categoryID and parentID per each itemID** from item_properties file.  This transformer will also remove duplicate entries from the item_properties table."
   ]
  },
  {
   "cell_type": "code",
   "execution_count": 30,
   "metadata": {},
   "outputs": [],
   "source": [
    "# Creating a class to have an object that reads files and cleans the data and future access.\n",
    "class Data(BaseEstimator, TransformerMixin):\n",
    "    def __init__(self):\n",
    "        # read files\n",
    "        self.df_events = pd.read_csv('./ecommerce-dataset/events.csv')\n",
    "        self.category = pd.read_csv('./ecommerce-dataset/category_tree.csv')\n",
    "        self.item_property1 = pd.read_csv('./ecommerce-dataset/item_properties_part1.csv')\n",
    "        self.item_property2 = pd.read_csv('./ecommerce-dataset/item_properties_part2.csv')\n",
    "        \n",
    "    def cleanData(self):\n",
    "        # Use only rows that has value 'categoryid' in 'property' to link with category file\n",
    "        item1 = self.item_property1[self.item_property1['property'] == 'categoryid']\n",
    "        item2 = self.item_property2[self.item_property2['property'] == 'categoryid']\n",
    "\n",
    "        ''' Clean item1,2 -> filter out only unique items with latest timestamp '''\n",
    "        # rows without duplicates\n",
    "        nodup = item1[item1.duplicated(['itemid'])==False]\n",
    "\n",
    "        # Filter out duplicated rows with same itemid\n",
    "        dup = item1[item1.duplicated(['itemid'])]\n",
    "        dup = dup.sort_values(by=['itemid','timestamp'], ascending=False)\n",
    "        clean = dup.drop_duplicates(['itemid'], keep='first')\n",
    "\n",
    "        # add the data together\n",
    "        item1 = nodup.append(clean)\n",
    "\n",
    "        nodup = item2[item2.duplicated(['itemid'])==False]\n",
    "        dup = item2[item2.duplicated(['itemid'])]\n",
    "        dup = dup.sort_values(by=['itemid','timestamp'], ascending=False)\n",
    "\n",
    "        # add the data together\n",
    "        clean = dup.drop_duplicates(['itemid'], keep='first')\n",
    "\n",
    "        item2 = nodup.append(clean)\n",
    "\n",
    "        # concatenate item property files\n",
    "        properties = pd.concat([item1,item2])\n",
    "\n",
    "        # delete item1 and item2 as it is not needed anymore and to free up memory\n",
    "        del item1, item2\n",
    "\n",
    "        # excluding timestamp as it is not needed anymore\n",
    "        properties.drop('timestamp', axis=1, inplace=True)\n",
    "\n",
    "        # convert column 'value' to number\n",
    "        properties['value'] = pd.to_numeric(properties['value'])\n",
    "\n",
    "        # merge item and category\n",
    "        cat_data = pd.merge(properties, self.category, left_on='value', right_on='categoryid')\n",
    "        cat_data.drop(columns=['property', 'value'], inplace=True)\n",
    "        cat_data['categoryid'] = cat_data['categoryid'].astype(str)\n",
    "        cat_data['parentid'] = cat_data['parentid'].astype(str)\n",
    "\n",
    "        # checking for null values\n",
    "        cat_data.isnull().sum()\n",
    "\n",
    "        # delete properties and category to free up memory\n",
    "        del properties\n",
    "\n",
    "        # how many unique vs repeat interactions with one order?\n",
    "        print('unique transactions: ', self.df_events['transactionid'].dropna().unique().shape)\n",
    "        print('total transactions', self.df_events['transactionid'].dropna().shape)\n",
    "\n",
    "        # merge df_events and cat_data to create one dataset\n",
    "        self.data = pd.merge(self.df_events, cat_data, how='left', on='itemid')\n",
    "        \n",
    "        # delete df_events and cat_data to free up memory\n",
    "        del cat_data\n",
    "   \n",
    "    def fit(self):\n",
    "        return self\n",
    "    \n",
    "    def transform(self):\n",
    "        self.cleanData()\n",
    "        return self.data"
   ]
  },
  {
   "cell_type": "code",
   "execution_count": 31,
   "metadata": {},
   "outputs": [
    {
     "name": "stdout",
     "output_type": "stream",
     "text": [
      "unique transactions:  (17672,)\n",
      "total transactions (22457,)\n"
     ]
    }
   ],
   "source": [
    "data = Data().transform()"
   ]
  },
  {
   "cell_type": "code",
   "execution_count": 32,
   "metadata": {},
   "outputs": [
    {
     "name": "stdout",
     "output_type": "stream",
     "text": [
      "             timestamp  visitorid        event  itemid  transactionid  \\\n",
      "54       1433223148655     759369         view  386527            NaN   \n",
      "441899   1434840979658     765630         view  386527            NaN   \n",
      "474785   1435010995453      76757  transaction  386527           36.0   \n",
      "482263   1435010914724      76757    addtocart  386527            NaN   \n",
      "488705   1435010875183      76757         view  386527            NaN   \n",
      "491739   1435010848906      76757         view  386527            NaN   \n",
      "532062   1435184079851     765630         view  386527            NaN   \n",
      "892618   1439335957923     661864         view  386527            NaN   \n",
      "1193271  1440710698369    1134583         view  386527            NaN   \n",
      "2589420  1436829733989    1301181         view  386527            NaN   \n",
      "2617356  1436897152114    1313381         view  386527            NaN   \n",
      "\n",
      "        categoryid parentid  \n",
      "54             NaN      NaN  \n",
      "441899         NaN      NaN  \n",
      "474785         NaN      NaN  \n",
      "482263         NaN      NaN  \n",
      "488705         NaN      NaN  \n",
      "491739         NaN      NaN  \n",
      "532062         NaN      NaN  \n",
      "892618         NaN      NaN  \n",
      "1193271        NaN      NaN  \n",
      "2589420        NaN      NaN  \n",
      "2617356        NaN      NaN  \n"
     ]
    },
    {
     "data": {
      "text/plain": [
       "transactionid    3034787\n",
       "categoryid        255585\n",
       "parentid          255585\n",
       "dtype: int64"
      ]
     },
     "execution_count": 32,
     "metadata": {},
     "output_type": "execute_result"
    }
   ],
   "source": [
    "# Run a sample\n",
    "print(data[data.itemid == 386527])\n",
    "\n",
    "# Check for null values\n",
    "null_columns=data.columns[data.isnull().any()]\n",
    "data[null_columns].isnull().sum()"
   ]
  },
  {
   "cell_type": "markdown",
   "metadata": {},
   "source": [
    "Now at this point, we should be splitting our data into train/test, but we can't. We need our final dataset to look like a daily level dataframe (with a record per itemID for every daily visit a user makes). We'll use this to predict if a user will convert on a daily visit. \n",
    "\n",
    "For that, we need a target column (with a conversion 0/1 value) but we don't have that yet. So we need to reshape our data first.\n",
    "\n",
    "As well, our data relies on some features that are historical (e.g. previous purchases per user), so we need to create those from the entire dataset first, and then split it up. So we're going to start feature engineering here."
   ]
  },
  {
   "cell_type": "markdown",
   "metadata": {},
   "source": [
    "## Feature Engineering"
   ]
  },
  {
   "cell_type": "markdown",
   "metadata": {},
   "source": [
    "Creating new features that will enable us to flatten data and train the model better. "
   ]
  },
  {
   "cell_type": "code",
   "execution_count": 33,
   "metadata": {},
   "outputs": [],
   "source": [
    "from sklearn.base import BaseEstimator, TransformerMixin\n",
    "from sklearn.preprocessing import FunctionTransformer\n",
    "\n",
    "# build transformer to select features\n",
    "class FeatureSelector(BaseEstimator, TransformerMixin):\n",
    "    def __init__(self, features):\n",
    "        self.features_ = features\n",
    "        \n",
    "    def fit(self, X, y=None):\n",
    "        pass\n",
    "    \n",
    "    def transform(self, X):\n",
    "        return X[self.features_]"
   ]
  },
  {
   "cell_type": "code",
   "execution_count": 34,
   "metadata": {},
   "outputs": [],
   "source": [
    "# build a transformer to handle date format change - needed to flaten the dataset to date level\n",
    "class DateConverter(BaseEstimator, TransformerMixin):\n",
    "    def __init__(self):\n",
    "        pass\n",
    "    \n",
    "    def fit(self, X, y=None):\n",
    "        return self\n",
    "    \n",
    "    def transform(self, X):\n",
    "        times = X.apply(lambda a: datetime.fromtimestamp(a//1000.0))\n",
    "        return times"
   ]
  },
  {
   "cell_type": "code",
   "execution_count": 35,
   "metadata": {},
   "outputs": [],
   "source": [
    "# build a transformer to create sessionid given a date and another column\n",
    "class SessionCreator(BaseEstimator, TransformerMixin):\n",
    "    def __init__(self, name):\n",
    "        self.name = name\n",
    "        \n",
    "    def fit(self, X, y=None):\n",
    "        pass\n",
    "    \n",
    "    def transform(self, X):\n",
    "        col = X.columns.tolist()\n",
    "        combined_col = X[col[0]].dt.date.astype(str) + '_' +  X[col[1]].astype(str)\n",
    "        date = pd.to_datetime(X[col[0]].dt.date).rename('date')\n",
    "        sess = combined_col.to_frame(self.name)\n",
    "        return pd.concat([sess, date],axis=1)"
   ]
  },
  {
   "cell_type": "code",
   "execution_count": 36,
   "metadata": {},
   "outputs": [
    {
     "data": {
      "text/html": [
       "<div>\n",
       "<style scoped>\n",
       "    .dataframe tbody tr th:only-of-type {\n",
       "        vertical-align: middle;\n",
       "    }\n",
       "\n",
       "    .dataframe tbody tr th {\n",
       "        vertical-align: top;\n",
       "    }\n",
       "\n",
       "    .dataframe thead th {\n",
       "        text-align: right;\n",
       "    }\n",
       "</style>\n",
       "<table border=\"1\" class=\"dataframe\">\n",
       "  <thead>\n",
       "    <tr style=\"text-align: right;\">\n",
       "      <th></th>\n",
       "      <th>timestamp</th>\n",
       "      <th>visitorid</th>\n",
       "      <th>event</th>\n",
       "      <th>itemid</th>\n",
       "      <th>transactionid</th>\n",
       "      <th>categoryid</th>\n",
       "      <th>parentid</th>\n",
       "    </tr>\n",
       "  </thead>\n",
       "  <tbody>\n",
       "    <tr>\n",
       "      <th>0</th>\n",
       "      <td>2015-06-02 01:02:12</td>\n",
       "      <td>257597</td>\n",
       "      <td>view</td>\n",
       "      <td>355908</td>\n",
       "      <td>NaN</td>\n",
       "      <td>1173</td>\n",
       "      <td>805.0</td>\n",
       "    </tr>\n",
       "    <tr>\n",
       "      <th>1</th>\n",
       "      <td>2015-06-02 01:50:14</td>\n",
       "      <td>992329</td>\n",
       "      <td>view</td>\n",
       "      <td>248676</td>\n",
       "      <td>NaN</td>\n",
       "      <td>1231</td>\n",
       "      <td>901.0</td>\n",
       "    </tr>\n",
       "    <tr>\n",
       "      <th>2</th>\n",
       "      <td>2015-06-02 01:13:19</td>\n",
       "      <td>111016</td>\n",
       "      <td>view</td>\n",
       "      <td>318965</td>\n",
       "      <td>NaN</td>\n",
       "      <td>NaN</td>\n",
       "      <td>NaN</td>\n",
       "    </tr>\n",
       "    <tr>\n",
       "      <th>3</th>\n",
       "      <td>2015-06-02 01:12:35</td>\n",
       "      <td>483717</td>\n",
       "      <td>view</td>\n",
       "      <td>253185</td>\n",
       "      <td>NaN</td>\n",
       "      <td>914</td>\n",
       "      <td>226.0</td>\n",
       "    </tr>\n",
       "    <tr>\n",
       "      <th>4</th>\n",
       "      <td>2015-06-02 01:02:17</td>\n",
       "      <td>951259</td>\n",
       "      <td>view</td>\n",
       "      <td>367447</td>\n",
       "      <td>NaN</td>\n",
       "      <td>1613</td>\n",
       "      <td>250.0</td>\n",
       "    </tr>\n",
       "  </tbody>\n",
       "</table>\n",
       "</div>"
      ],
      "text/plain": [
       "            timestamp  visitorid event  itemid  transactionid categoryid  \\\n",
       "0 2015-06-02 01:02:12     257597  view  355908            NaN       1173   \n",
       "1 2015-06-02 01:50:14     992329  view  248676            NaN       1231   \n",
       "2 2015-06-02 01:13:19     111016  view  318965            NaN        NaN   \n",
       "3 2015-06-02 01:12:35     483717  view  253185            NaN        914   \n",
       "4 2015-06-02 01:02:17     951259  view  367447            NaN       1613   \n",
       "\n",
       "  parentid  \n",
       "0    805.0  \n",
       "1    901.0  \n",
       "2      NaN  \n",
       "3    226.0  \n",
       "4    250.0  "
      ]
     },
     "execution_count": 36,
     "metadata": {},
     "output_type": "execute_result"
    }
   ],
   "source": [
    "# Check if the data is flattened\n",
    "data['timestamp'] = DateConverter().fit_transform(data['timestamp'])\n",
    "data.head()"
   ]
  },
  {
   "cell_type": "markdown",
   "metadata": {},
   "source": [
    "We've added a SessionCreator transformer to create a sessionID that is an identifier of a daily visit per user (regardless of how many itemIDs a user may have interacted with, every daily visit has one sessionID per date).\n",
    "\n",
    "Now we can aggregate down to date level rather than datetime."
   ]
  },
  {
   "cell_type": "markdown",
   "metadata": {},
   "source": [
    "So we're now going to create the rest of the features that rely on historical data before we split into train/test."
   ]
  },
  {
   "cell_type": "markdown",
   "metadata": {},
   "source": [
    "First, let's look at the null values really quickly to see if we can handle for them now."
   ]
  },
  {
   "cell_type": "code",
   "execution_count": 38,
   "metadata": {},
   "outputs": [
    {
     "data": {
      "text/plain": [
       "timestamp              0\n",
       "visitorid              0\n",
       "event                  0\n",
       "itemid                 0\n",
       "transactionid    3034787\n",
       "categoryid        255585\n",
       "parentid          255585\n",
       "dtype: int64"
      ]
     },
     "execution_count": 38,
     "metadata": {},
     "output_type": "execute_result"
    }
   ],
   "source": [
    "data.isnull().sum()"
   ]
  },
  {
   "cell_type": "code",
   "execution_count": 39,
   "metadata": {},
   "outputs": [
    {
     "data": {
      "text/plain": [
       "(3059355,)"
      ]
     },
     "execution_count": 39,
     "metadata": {},
     "output_type": "execute_result"
    }
   ],
   "source": [
    "# unique count of total itemIDs\n",
    "data.itemid.shape"
   ]
  },
  {
   "cell_type": "code",
   "execution_count": 40,
   "metadata": {},
   "outputs": [
    {
     "data": {
      "text/plain": [
       "491     89944\n",
       "1051    75216\n",
       "1483    65871\n",
       "959     52278\n",
       "342     46852\n",
       "Name: categoryid, dtype: int64"
      ]
     },
     "execution_count": 40,
     "metadata": {},
     "output_type": "execute_result"
    }
   ],
   "source": [
    "# we could fill the missing values by computing the most frequent category...if we can without introducing bias.\n",
    "data.categoryid.value_counts().head()"
   ]
  },
  {
   "cell_type": "markdown",
   "metadata": {},
   "source": [
    "Here is the SessionID Feature"
   ]
  },
  {
   "cell_type": "code",
   "execution_count": 41,
   "metadata": {},
   "outputs": [
    {
     "name": "stdout",
     "output_type": "stream",
     "text": [
      "<class 'pandas.core.frame.DataFrame'>\n",
      "Int64Index: 3059355 entries, 0 to 3059354\n",
      "Data columns (total 9 columns):\n",
      " #   Column         Dtype         \n",
      "---  ------         -----         \n",
      " 0   timestamp      datetime64[ns]\n",
      " 1   visitorid      int64         \n",
      " 2   event          object        \n",
      " 3   itemid         int64         \n",
      " 4   transactionid  float64       \n",
      " 5   categoryid     object        \n",
      " 6   parentid       object        \n",
      " 7   sessionid      object        \n",
      " 8   date           datetime64[ns]\n",
      "dtypes: datetime64[ns](2), float64(1), int64(2), object(4)\n",
      "memory usage: 233.4+ MB\n"
     ]
    }
   ],
   "source": [
    "# Moving on, we'll create a sessionID variable that is only unique per day and not datetime, to flatten our dataset.\n",
    "sess_level = make_pipeline(\n",
    "    FeatureSelector(['timestamp', 'visitorid']), \n",
    "    SessionCreator('sessionid')\n",
    ").transform(data)\n",
    "\n",
    "# Create temporary variable so original data is not affected.\n",
    "temp_data= pd.concat([data, sess_level], axis=1)\n",
    "temp_data.info()"
   ]
  },
  {
   "cell_type": "markdown",
   "metadata": {},
   "source": [
    "### SessionID feature"
   ]
  },
  {
   "cell_type": "markdown",
   "metadata": {},
   "source": [
    "We're aggregating down to daily level using sessionID."
   ]
  },
  {
   "cell_type": "code",
   "execution_count": 42,
   "metadata": {},
   "outputs": [
    {
     "data": {
      "text/html": [
       "<div>\n",
       "<style scoped>\n",
       "    .dataframe tbody tr th:only-of-type {\n",
       "        vertical-align: middle;\n",
       "    }\n",
       "\n",
       "    .dataframe tbody tr th {\n",
       "        vertical-align: top;\n",
       "    }\n",
       "\n",
       "    .dataframe thead th {\n",
       "        text-align: right;\n",
       "    }\n",
       "</style>\n",
       "<table border=\"1\" class=\"dataframe\">\n",
       "  <thead>\n",
       "    <tr style=\"text-align: right;\">\n",
       "      <th>event</th>\n",
       "      <th>sessionid</th>\n",
       "      <th>visitorid</th>\n",
       "      <th>date</th>\n",
       "      <th>itemid</th>\n",
       "      <th>categoryid</th>\n",
       "      <th>parentid</th>\n",
       "      <th>addtocart</th>\n",
       "      <th>transaction</th>\n",
       "      <th>view</th>\n",
       "    </tr>\n",
       "  </thead>\n",
       "  <tbody>\n",
       "    <tr>\n",
       "      <th>0</th>\n",
       "      <td>2015-05-02_1001994</td>\n",
       "      <td>1001994</td>\n",
       "      <td>2015-05-02</td>\n",
       "      <td>237081</td>\n",
       "      <td>1318</td>\n",
       "      <td>986.0</td>\n",
       "      <td>0</td>\n",
       "      <td>0</td>\n",
       "      <td>1</td>\n",
       "    </tr>\n",
       "    <tr>\n",
       "      <th>1</th>\n",
       "      <td>2015-05-02_1002147</td>\n",
       "      <td>1002147</td>\n",
       "      <td>2015-05-02</td>\n",
       "      <td>137032</td>\n",
       "      <td>1447</td>\n",
       "      <td>351.0</td>\n",
       "      <td>0</td>\n",
       "      <td>0</td>\n",
       "      <td>1</td>\n",
       "    </tr>\n",
       "    <tr>\n",
       "      <th>2</th>\n",
       "      <td>2015-05-02_1002397</td>\n",
       "      <td>1002397</td>\n",
       "      <td>2015-05-02</td>\n",
       "      <td>77392</td>\n",
       "      <td>337</td>\n",
       "      <td>653.0</td>\n",
       "      <td>0</td>\n",
       "      <td>0</td>\n",
       "      <td>1</td>\n",
       "    </tr>\n",
       "    <tr>\n",
       "      <th>3</th>\n",
       "      <td>2015-05-02_1004530</td>\n",
       "      <td>1004530</td>\n",
       "      <td>2015-05-02</td>\n",
       "      <td>116914</td>\n",
       "      <td>1120</td>\n",
       "      <td>250.0</td>\n",
       "      <td>0</td>\n",
       "      <td>0</td>\n",
       "      <td>1</td>\n",
       "    </tr>\n",
       "    <tr>\n",
       "      <th>4</th>\n",
       "      <td>2015-05-02_1004530</td>\n",
       "      <td>1004530</td>\n",
       "      <td>2015-05-02</td>\n",
       "      <td>116914</td>\n",
       "      <td>491</td>\n",
       "      <td>679.0</td>\n",
       "      <td>0</td>\n",
       "      <td>0</td>\n",
       "      <td>3</td>\n",
       "    </tr>\n",
       "  </tbody>\n",
       "</table>\n",
       "</div>"
      ],
      "text/plain": [
       "event           sessionid  visitorid       date  itemid categoryid parentid  \\\n",
       "0      2015-05-02_1001994    1001994 2015-05-02  237081       1318    986.0   \n",
       "1      2015-05-02_1002147    1002147 2015-05-02  137032       1447    351.0   \n",
       "2      2015-05-02_1002397    1002397 2015-05-02   77392        337    653.0   \n",
       "3      2015-05-02_1004530    1004530 2015-05-02  116914       1120    250.0   \n",
       "4      2015-05-02_1004530    1004530 2015-05-02  116914        491    679.0   \n",
       "\n",
       "event  addtocart  transaction  view  \n",
       "0              0            0     1  \n",
       "1              0            0     1  \n",
       "2              0            0     1  \n",
       "3              0            0     1  \n",
       "4              0            0     3  "
      ]
     },
     "execution_count": 42,
     "metadata": {},
     "output_type": "execute_result"
    }
   ],
   "source": [
    "session_agg = pd.pivot_table(temp_data, index=['sessionid','visitorid','date','itemid', 'categoryid','parentid' ],\\\n",
    "                             columns=['event'],values='timestamp',aggfunc='count', fill_value=0)\n",
    "session_agg = session_agg.reset_index()\n",
    "session_agg.head()"
   ]
  },
  {
   "cell_type": "markdown",
   "metadata": {},
   "source": [
    "Make sure features will involve historical data that we cannot access if we're using a split dataset (e.g. a user's previous buying history)."
   ]
  },
  {
   "cell_type": "markdown",
   "metadata": {},
   "source": [
    "### Previous Visits Feature"
   ]
  },
  {
   "cell_type": "code",
   "execution_count": 43,
   "metadata": {},
   "outputs": [
    {
     "data": {
      "text/html": [
       "<div>\n",
       "<style scoped>\n",
       "    .dataframe tbody tr th:only-of-type {\n",
       "        vertical-align: middle;\n",
       "    }\n",
       "\n",
       "    .dataframe tbody tr th {\n",
       "        vertical-align: top;\n",
       "    }\n",
       "\n",
       "    .dataframe thead th {\n",
       "        text-align: right;\n",
       "    }\n",
       "</style>\n",
       "<table border=\"1\" class=\"dataframe\">\n",
       "  <thead>\n",
       "    <tr style=\"text-align: right;\">\n",
       "      <th>event</th>\n",
       "      <th>sessionid</th>\n",
       "      <th>user_RN</th>\n",
       "    </tr>\n",
       "  </thead>\n",
       "  <tbody>\n",
       "    <tr>\n",
       "      <th>0</th>\n",
       "      <td>2015-05-02_1001994</td>\n",
       "      <td>1</td>\n",
       "    </tr>\n",
       "    <tr>\n",
       "      <th>1</th>\n",
       "      <td>2015-05-02_1002147</td>\n",
       "      <td>1</td>\n",
       "    </tr>\n",
       "    <tr>\n",
       "      <th>2</th>\n",
       "      <td>2015-05-02_1002397</td>\n",
       "      <td>1</td>\n",
       "    </tr>\n",
       "    <tr>\n",
       "      <th>3</th>\n",
       "      <td>2015-05-02_1004530</td>\n",
       "      <td>1</td>\n",
       "    </tr>\n",
       "    <tr>\n",
       "      <th>4</th>\n",
       "      <td>2015-05-02_1006775</td>\n",
       "      <td>1</td>\n",
       "    </tr>\n",
       "  </tbody>\n",
       "</table>\n",
       "</div>"
      ],
      "text/plain": [
       "event           sessionid  user_RN\n",
       "0      2015-05-02_1001994        1\n",
       "1      2015-05-02_1002147        1\n",
       "2      2015-05-02_1002397        1\n",
       "3      2015-05-02_1004530        1\n",
       "4      2015-05-02_1006775        1"
      ]
     },
     "execution_count": 43,
     "metadata": {},
     "output_type": "execute_result"
    }
   ],
   "source": [
    "# a variable for number of previous visits by a user\n",
    "visits = pd.pivot_table(temp_data, index=['sessionid', 'date','visitorid'], columns=['event'], values='itemid',aggfunc='count', fill_value=0)\n",
    "visits = visits.reset_index()\n",
    "visits['user_RN'] = visits.sort_values(['date'], ascending=[True]) \\\n",
    "             .groupby(['visitorid']) \\\n",
    "             .cumcount() + 1\n",
    "visits.drop(columns=['addtocart', 'transaction', 'date', 'view', 'visitorid'], inplace=True)\n",
    "visits.head()"
   ]
  },
  {
   "cell_type": "code",
   "execution_count": 44,
   "metadata": {},
   "outputs": [
    {
     "data": {
      "text/html": [
       "<div>\n",
       "<style scoped>\n",
       "    .dataframe tbody tr th:only-of-type {\n",
       "        vertical-align: middle;\n",
       "    }\n",
       "\n",
       "    .dataframe tbody tr th {\n",
       "        vertical-align: top;\n",
       "    }\n",
       "\n",
       "    .dataframe thead th {\n",
       "        text-align: right;\n",
       "    }\n",
       "</style>\n",
       "<table border=\"1\" class=\"dataframe\">\n",
       "  <thead>\n",
       "    <tr style=\"text-align: right;\">\n",
       "      <th>event</th>\n",
       "      <th>sessionid</th>\n",
       "      <th>visitorid</th>\n",
       "      <th>date</th>\n",
       "      <th>itemid</th>\n",
       "      <th>categoryid</th>\n",
       "      <th>parentid</th>\n",
       "      <th>addtocart</th>\n",
       "      <th>transaction</th>\n",
       "      <th>view</th>\n",
       "      <th>user_RN</th>\n",
       "    </tr>\n",
       "  </thead>\n",
       "  <tbody>\n",
       "    <tr>\n",
       "      <th>1860737</th>\n",
       "      <td>2015-08-25_994820</td>\n",
       "      <td>994820</td>\n",
       "      <td>2015-08-25</td>\n",
       "      <td>301721</td>\n",
       "      <td>470</td>\n",
       "      <td>520.0</td>\n",
       "      <td>0</td>\n",
       "      <td>0</td>\n",
       "      <td>1</td>\n",
       "      <td>1</td>\n",
       "    </tr>\n",
       "    <tr>\n",
       "      <th>1860738</th>\n",
       "      <td>2015-08-25_994820</td>\n",
       "      <td>994820</td>\n",
       "      <td>2015-08-25</td>\n",
       "      <td>418795</td>\n",
       "      <td>396</td>\n",
       "      <td>164.0</td>\n",
       "      <td>0</td>\n",
       "      <td>0</td>\n",
       "      <td>2</td>\n",
       "      <td>1</td>\n",
       "    </tr>\n",
       "    <tr>\n",
       "      <th>1860739</th>\n",
       "      <td>2015-08-25_994820</td>\n",
       "      <td>994820</td>\n",
       "      <td>2015-08-25</td>\n",
       "      <td>418795</td>\n",
       "      <td>716</td>\n",
       "      <td>1056.0</td>\n",
       "      <td>0</td>\n",
       "      <td>0</td>\n",
       "      <td>2</td>\n",
       "      <td>1</td>\n",
       "    </tr>\n",
       "    <tr>\n",
       "      <th>1860740</th>\n",
       "      <td>2015-08-25_994820</td>\n",
       "      <td>994820</td>\n",
       "      <td>2015-08-25</td>\n",
       "      <td>439963</td>\n",
       "      <td>793</td>\n",
       "      <td>1066.0</td>\n",
       "      <td>0</td>\n",
       "      <td>0</td>\n",
       "      <td>1</td>\n",
       "      <td>1</td>\n",
       "    </tr>\n",
       "    <tr>\n",
       "      <th>1860741</th>\n",
       "      <td>2015-08-25_994820</td>\n",
       "      <td>994820</td>\n",
       "      <td>2015-08-25</td>\n",
       "      <td>456276</td>\n",
       "      <td>396</td>\n",
       "      <td>164.0</td>\n",
       "      <td>0</td>\n",
       "      <td>0</td>\n",
       "      <td>1</td>\n",
       "      <td>1</td>\n",
       "    </tr>\n",
       "    <tr>\n",
       "      <th>...</th>\n",
       "      <td>...</td>\n",
       "      <td>...</td>\n",
       "      <td>...</td>\n",
       "      <td>...</td>\n",
       "      <td>...</td>\n",
       "      <td>...</td>\n",
       "      <td>...</td>\n",
       "      <td>...</td>\n",
       "      <td>...</td>\n",
       "      <td>...</td>\n",
       "    </tr>\n",
       "    <tr>\n",
       "      <th>2184042</th>\n",
       "      <td>2015-09-17_994820</td>\n",
       "      <td>994820</td>\n",
       "      <td>2015-09-17</td>\n",
       "      <td>296592</td>\n",
       "      <td>992</td>\n",
       "      <td>1008.0</td>\n",
       "      <td>0</td>\n",
       "      <td>0</td>\n",
       "      <td>1</td>\n",
       "      <td>16</td>\n",
       "    </tr>\n",
       "    <tr>\n",
       "      <th>2184043</th>\n",
       "      <td>2015-09-17_994820</td>\n",
       "      <td>994820</td>\n",
       "      <td>2015-09-17</td>\n",
       "      <td>64529</td>\n",
       "      <td>1431</td>\n",
       "      <td>1066.0</td>\n",
       "      <td>0</td>\n",
       "      <td>0</td>\n",
       "      <td>1</td>\n",
       "      <td>16</td>\n",
       "    </tr>\n",
       "    <tr>\n",
       "      <th>2184044</th>\n",
       "      <td>2015-09-17_994820</td>\n",
       "      <td>994820</td>\n",
       "      <td>2015-09-17</td>\n",
       "      <td>255334</td>\n",
       "      <td>260</td>\n",
       "      <td>1066.0</td>\n",
       "      <td>0</td>\n",
       "      <td>0</td>\n",
       "      <td>1</td>\n",
       "      <td>16</td>\n",
       "    </tr>\n",
       "    <tr>\n",
       "      <th>2184045</th>\n",
       "      <td>2015-09-17_994820</td>\n",
       "      <td>994820</td>\n",
       "      <td>2015-09-17</td>\n",
       "      <td>213213</td>\n",
       "      <td>352</td>\n",
       "      <td>859.0</td>\n",
       "      <td>0</td>\n",
       "      <td>0</td>\n",
       "      <td>1</td>\n",
       "      <td>16</td>\n",
       "    </tr>\n",
       "    <tr>\n",
       "      <th>2184046</th>\n",
       "      <td>2015-09-17_994820</td>\n",
       "      <td>994820</td>\n",
       "      <td>2015-09-17</td>\n",
       "      <td>51290</td>\n",
       "      <td>227</td>\n",
       "      <td>602.0</td>\n",
       "      <td>1</td>\n",
       "      <td>0</td>\n",
       "      <td>2</td>\n",
       "      <td>16</td>\n",
       "    </tr>\n",
       "  </tbody>\n",
       "</table>\n",
       "<p>1108 rows × 10 columns</p>\n",
       "</div>"
      ],
      "text/plain": [
       "event            sessionid  visitorid       date  itemid categoryid parentid  \\\n",
       "1860737  2015-08-25_994820     994820 2015-08-25  301721        470    520.0   \n",
       "1860738  2015-08-25_994820     994820 2015-08-25  418795        396    164.0   \n",
       "1860739  2015-08-25_994820     994820 2015-08-25  418795        716   1056.0   \n",
       "1860740  2015-08-25_994820     994820 2015-08-25  439963        793   1066.0   \n",
       "1860741  2015-08-25_994820     994820 2015-08-25  456276        396    164.0   \n",
       "...                    ...        ...        ...     ...        ...      ...   \n",
       "2184042  2015-09-17_994820     994820 2015-09-17  296592        992   1008.0   \n",
       "2184043  2015-09-17_994820     994820 2015-09-17   64529       1431   1066.0   \n",
       "2184044  2015-09-17_994820     994820 2015-09-17  255334        260   1066.0   \n",
       "2184045  2015-09-17_994820     994820 2015-09-17  213213        352    859.0   \n",
       "2184046  2015-09-17_994820     994820 2015-09-17   51290        227    602.0   \n",
       "\n",
       "event    addtocart  transaction  view  user_RN  \n",
       "1860737          0            0     1        1  \n",
       "1860738          0            0     2        1  \n",
       "1860739          0            0     2        1  \n",
       "1860740          0            0     1        1  \n",
       "1860741          0            0     1        1  \n",
       "...            ...          ...   ...      ...  \n",
       "2184042          0            0     1       16  \n",
       "2184043          0            0     1       16  \n",
       "2184044          0            0     1       16  \n",
       "2184045          0            0     1       16  \n",
       "2184046          1            0     2       16  \n",
       "\n",
       "[1108 rows x 10 columns]"
      ]
     },
     "execution_count": 44,
     "metadata": {},
     "output_type": "execute_result"
    }
   ],
   "source": [
    "# merge with main dataset\n",
    "session_agg = pd.merge(session_agg, visits, how=\"left\", on=[\"sessionid\"])\n",
    "\n",
    "# sample\n",
    "session_agg[session_agg['visitorid'] == 994820]"
   ]
  },
  {
   "cell_type": "markdown",
   "metadata": {},
   "source": [
    "### Previous Purchases Count by Visitor"
   ]
  },
  {
   "cell_type": "code",
   "execution_count": 45,
   "metadata": {},
   "outputs": [
    {
     "data": {
      "text/html": [
       "<div>\n",
       "<style scoped>\n",
       "    .dataframe tbody tr th:only-of-type {\n",
       "        vertical-align: middle;\n",
       "    }\n",
       "\n",
       "    .dataframe tbody tr th {\n",
       "        vertical-align: top;\n",
       "    }\n",
       "\n",
       "    .dataframe thead th {\n",
       "        text-align: right;\n",
       "    }\n",
       "</style>\n",
       "<table border=\"1\" class=\"dataframe\">\n",
       "  <thead>\n",
       "    <tr style=\"text-align: right;\">\n",
       "      <th>event</th>\n",
       "      <th>sessionid</th>\n",
       "      <th>historical_purchases</th>\n",
       "    </tr>\n",
       "  </thead>\n",
       "  <tbody>\n",
       "    <tr>\n",
       "      <th>0</th>\n",
       "      <td>2015-05-02_1001994</td>\n",
       "      <td>0.0</td>\n",
       "    </tr>\n",
       "    <tr>\n",
       "      <th>1</th>\n",
       "      <td>2015-05-02_1002147</td>\n",
       "      <td>0.0</td>\n",
       "    </tr>\n",
       "    <tr>\n",
       "      <th>2</th>\n",
       "      <td>2015-05-02_1002397</td>\n",
       "      <td>0.0</td>\n",
       "    </tr>\n",
       "    <tr>\n",
       "      <th>3</th>\n",
       "      <td>2015-05-02_1004530</td>\n",
       "      <td>0.0</td>\n",
       "    </tr>\n",
       "    <tr>\n",
       "      <th>4</th>\n",
       "      <td>2015-05-02_1006775</td>\n",
       "      <td>0.0</td>\n",
       "    </tr>\n",
       "  </tbody>\n",
       "</table>\n",
       "</div>"
      ],
      "text/plain": [
       "event           sessionid  historical_purchases\n",
       "0      2015-05-02_1001994                   0.0\n",
       "1      2015-05-02_1002147                   0.0\n",
       "2      2015-05-02_1002397                   0.0\n",
       "3      2015-05-02_1004530                   0.0\n",
       "4      2015-05-02_1006775                   0.0"
      ]
     },
     "execution_count": 45,
     "metadata": {},
     "output_type": "execute_result"
    }
   ],
   "source": [
    "# now count how many purchases they've had on our site prior to each visit.\n",
    "\n",
    "# group by session\n",
    "purchases = pd.pivot_table(temp_data, index=['sessionid', 'date','visitorid'], columns=['event'], values='itemid',aggfunc='count', fill_value=0)\n",
    "purchases = purchases.reset_index()\n",
    "purchases['purchases_to_date'] = purchases.sort_values(['date'], ascending=[True]) \\\n",
    "             .groupby(['visitorid'])['transaction'].cumsum()\n",
    "\n",
    "# grab prev purchases since we won't know if a user is about to make a purchase currently\n",
    "purchases['historical_purchases'] = purchases.groupby(['visitorid'])['purchases_to_date'].shift(1)\n",
    "purchases['historical_purchases'].fillna(0, inplace=True)\n",
    "\n",
    "# drop everything we don't need\n",
    "purchases.drop(columns=['date', 'visitorid', 'transaction', 'addtocart', 'view', 'purchases_to_date'], inplace=True)\n",
    "\n",
    "purchases.head()"
   ]
  },
  {
   "cell_type": "code",
   "execution_count": 46,
   "metadata": {},
   "outputs": [
    {
     "data": {
      "text/html": [
       "<div>\n",
       "<style scoped>\n",
       "    .dataframe tbody tr th:only-of-type {\n",
       "        vertical-align: middle;\n",
       "    }\n",
       "\n",
       "    .dataframe tbody tr th {\n",
       "        vertical-align: top;\n",
       "    }\n",
       "\n",
       "    .dataframe thead th {\n",
       "        text-align: right;\n",
       "    }\n",
       "</style>\n",
       "<table border=\"1\" class=\"dataframe\">\n",
       "  <thead>\n",
       "    <tr style=\"text-align: right;\">\n",
       "      <th>event</th>\n",
       "      <th>sessionid</th>\n",
       "      <th>visitorid</th>\n",
       "      <th>date</th>\n",
       "      <th>itemid</th>\n",
       "      <th>categoryid</th>\n",
       "      <th>parentid</th>\n",
       "      <th>addtocart</th>\n",
       "      <th>transaction</th>\n",
       "      <th>view</th>\n",
       "      <th>user_RN</th>\n",
       "      <th>historical_purchases</th>\n",
       "    </tr>\n",
       "  </thead>\n",
       "  <tbody>\n",
       "    <tr>\n",
       "      <th>502047</th>\n",
       "      <td>2015-06-02_599528</td>\n",
       "      <td>599528</td>\n",
       "      <td>2015-06-02</td>\n",
       "      <td>356475</td>\n",
       "      <td>386</td>\n",
       "      <td>1095.0</td>\n",
       "      <td>1</td>\n",
       "      <td>1</td>\n",
       "      <td>2</td>\n",
       "      <td>1</td>\n",
       "      <td>0.0</td>\n",
       "    </tr>\n",
       "    <tr>\n",
       "      <th>568571</th>\n",
       "      <td>2015-06-06_599528</td>\n",
       "      <td>599528</td>\n",
       "      <td>2015-06-06</td>\n",
       "      <td>356475</td>\n",
       "      <td>386</td>\n",
       "      <td>1095.0</td>\n",
       "      <td>0</td>\n",
       "      <td>0</td>\n",
       "      <td>1</td>\n",
       "      <td>2</td>\n",
       "      <td>1.0</td>\n",
       "    </tr>\n",
       "    <tr>\n",
       "      <th>581513</th>\n",
       "      <td>2015-06-07_599528</td>\n",
       "      <td>599528</td>\n",
       "      <td>2015-06-07</td>\n",
       "      <td>356475</td>\n",
       "      <td>386</td>\n",
       "      <td>1095.0</td>\n",
       "      <td>0</td>\n",
       "      <td>0</td>\n",
       "      <td>1</td>\n",
       "      <td>3</td>\n",
       "      <td>1.0</td>\n",
       "    </tr>\n",
       "    <tr>\n",
       "      <th>615422</th>\n",
       "      <td>2015-06-09_599528</td>\n",
       "      <td>599528</td>\n",
       "      <td>2015-06-09</td>\n",
       "      <td>356475</td>\n",
       "      <td>386</td>\n",
       "      <td>1095.0</td>\n",
       "      <td>0</td>\n",
       "      <td>0</td>\n",
       "      <td>2</td>\n",
       "      <td>4</td>\n",
       "      <td>1.0</td>\n",
       "    </tr>\n",
       "    <tr>\n",
       "      <th>634227</th>\n",
       "      <td>2015-06-10_599528</td>\n",
       "      <td>599528</td>\n",
       "      <td>2015-06-10</td>\n",
       "      <td>356475</td>\n",
       "      <td>386</td>\n",
       "      <td>1095.0</td>\n",
       "      <td>0</td>\n",
       "      <td>0</td>\n",
       "      <td>4</td>\n",
       "      <td>5</td>\n",
       "      <td>1.0</td>\n",
       "    </tr>\n",
       "    <tr>\n",
       "      <th>650753</th>\n",
       "      <td>2015-06-11_599528</td>\n",
       "      <td>599528</td>\n",
       "      <td>2015-06-11</td>\n",
       "      <td>356475</td>\n",
       "      <td>386</td>\n",
       "      <td>1095.0</td>\n",
       "      <td>0</td>\n",
       "      <td>0</td>\n",
       "      <td>2</td>\n",
       "      <td>6</td>\n",
       "      <td>1.0</td>\n",
       "    </tr>\n",
       "    <tr>\n",
       "      <th>663664</th>\n",
       "      <td>2015-06-12_599528</td>\n",
       "      <td>599528</td>\n",
       "      <td>2015-06-12</td>\n",
       "      <td>356475</td>\n",
       "      <td>386</td>\n",
       "      <td>1095.0</td>\n",
       "      <td>0</td>\n",
       "      <td>0</td>\n",
       "      <td>2</td>\n",
       "      <td>7</td>\n",
       "      <td>1.0</td>\n",
       "    </tr>\n",
       "    <tr>\n",
       "      <th>1855827</th>\n",
       "      <td>2015-08-25_599528</td>\n",
       "      <td>599528</td>\n",
       "      <td>2015-08-25</td>\n",
       "      <td>64279</td>\n",
       "      <td>1213</td>\n",
       "      <td>955.0</td>\n",
       "      <td>0</td>\n",
       "      <td>0</td>\n",
       "      <td>1</td>\n",
       "      <td>8</td>\n",
       "      <td>1.0</td>\n",
       "    </tr>\n",
       "  </tbody>\n",
       "</table>\n",
       "</div>"
      ],
      "text/plain": [
       "event            sessionid  visitorid       date  itemid categoryid parentid  \\\n",
       "502047   2015-06-02_599528     599528 2015-06-02  356475        386   1095.0   \n",
       "568571   2015-06-06_599528     599528 2015-06-06  356475        386   1095.0   \n",
       "581513   2015-06-07_599528     599528 2015-06-07  356475        386   1095.0   \n",
       "615422   2015-06-09_599528     599528 2015-06-09  356475        386   1095.0   \n",
       "634227   2015-06-10_599528     599528 2015-06-10  356475        386   1095.0   \n",
       "650753   2015-06-11_599528     599528 2015-06-11  356475        386   1095.0   \n",
       "663664   2015-06-12_599528     599528 2015-06-12  356475        386   1095.0   \n",
       "1855827  2015-08-25_599528     599528 2015-08-25   64279       1213    955.0   \n",
       "\n",
       "event    addtocart  transaction  view  user_RN  historical_purchases  \n",
       "502047           1            1     2        1                   0.0  \n",
       "568571           0            0     1        2                   1.0  \n",
       "581513           0            0     1        3                   1.0  \n",
       "615422           0            0     2        4                   1.0  \n",
       "634227           0            0     4        5                   1.0  \n",
       "650753           0            0     2        6                   1.0  \n",
       "663664           0            0     2        7                   1.0  \n",
       "1855827          0            0     1        8                   1.0  "
      ]
     },
     "execution_count": 46,
     "metadata": {},
     "output_type": "execute_result"
    }
   ],
   "source": [
    "# Now add purchases to the data\n",
    "session_agg = pd.merge(session_agg, purchases, how=\"left\", on=[\"sessionid\"])\n",
    "session_agg['historical_purchases'].fillna(0, inplace=True)\n",
    "\n",
    "# sample\n",
    "session_agg[session_agg['visitorid'] == 599528]"
   ]
  },
  {
   "cell_type": "markdown",
   "metadata": {},
   "source": [
    "### Previous Visits Count Feature"
   ]
  },
  {
   "cell_type": "code",
   "execution_count": 47,
   "metadata": {},
   "outputs": [
    {
     "data": {
      "text/html": [
       "<div>\n",
       "<style scoped>\n",
       "    .dataframe tbody tr th:only-of-type {\n",
       "        vertical-align: middle;\n",
       "    }\n",
       "\n",
       "    .dataframe tbody tr th {\n",
       "        vertical-align: top;\n",
       "    }\n",
       "\n",
       "    .dataframe thead th {\n",
       "        text-align: right;\n",
       "    }\n",
       "</style>\n",
       "<table border=\"1\" class=\"dataframe\">\n",
       "  <thead>\n",
       "    <tr style=\"text-align: right;\">\n",
       "      <th>event</th>\n",
       "      <th>sessionid</th>\n",
       "      <th>visitorid</th>\n",
       "      <th>date</th>\n",
       "      <th>itemid</th>\n",
       "      <th>categoryid</th>\n",
       "      <th>parentid</th>\n",
       "      <th>addtocart</th>\n",
       "      <th>transaction</th>\n",
       "      <th>view</th>\n",
       "      <th>user_RN</th>\n",
       "      <th>historical_purchases</th>\n",
       "      <th>previous_visits</th>\n",
       "      <th>prev_item_views</th>\n",
       "    </tr>\n",
       "  </thead>\n",
       "  <tbody>\n",
       "    <tr>\n",
       "      <th>502047</th>\n",
       "      <td>2015-06-02_599528</td>\n",
       "      <td>599528</td>\n",
       "      <td>2015-06-02</td>\n",
       "      <td>356475</td>\n",
       "      <td>386</td>\n",
       "      <td>1095.0</td>\n",
       "      <td>1</td>\n",
       "      <td>1</td>\n",
       "      <td>2</td>\n",
       "      <td>1</td>\n",
       "      <td>0.0</td>\n",
       "      <td>0</td>\n",
       "      <td>0.0</td>\n",
       "    </tr>\n",
       "    <tr>\n",
       "      <th>568571</th>\n",
       "      <td>2015-06-06_599528</td>\n",
       "      <td>599528</td>\n",
       "      <td>2015-06-06</td>\n",
       "      <td>356475</td>\n",
       "      <td>386</td>\n",
       "      <td>1095.0</td>\n",
       "      <td>0</td>\n",
       "      <td>0</td>\n",
       "      <td>1</td>\n",
       "      <td>2</td>\n",
       "      <td>1.0</td>\n",
       "      <td>1</td>\n",
       "      <td>2.0</td>\n",
       "    </tr>\n",
       "    <tr>\n",
       "      <th>581513</th>\n",
       "      <td>2015-06-07_599528</td>\n",
       "      <td>599528</td>\n",
       "      <td>2015-06-07</td>\n",
       "      <td>356475</td>\n",
       "      <td>386</td>\n",
       "      <td>1095.0</td>\n",
       "      <td>0</td>\n",
       "      <td>0</td>\n",
       "      <td>1</td>\n",
       "      <td>3</td>\n",
       "      <td>1.0</td>\n",
       "      <td>2</td>\n",
       "      <td>3.0</td>\n",
       "    </tr>\n",
       "    <tr>\n",
       "      <th>615422</th>\n",
       "      <td>2015-06-09_599528</td>\n",
       "      <td>599528</td>\n",
       "      <td>2015-06-09</td>\n",
       "      <td>356475</td>\n",
       "      <td>386</td>\n",
       "      <td>1095.0</td>\n",
       "      <td>0</td>\n",
       "      <td>0</td>\n",
       "      <td>2</td>\n",
       "      <td>4</td>\n",
       "      <td>1.0</td>\n",
       "      <td>3</td>\n",
       "      <td>4.0</td>\n",
       "    </tr>\n",
       "    <tr>\n",
       "      <th>634227</th>\n",
       "      <td>2015-06-10_599528</td>\n",
       "      <td>599528</td>\n",
       "      <td>2015-06-10</td>\n",
       "      <td>356475</td>\n",
       "      <td>386</td>\n",
       "      <td>1095.0</td>\n",
       "      <td>0</td>\n",
       "      <td>0</td>\n",
       "      <td>4</td>\n",
       "      <td>5</td>\n",
       "      <td>1.0</td>\n",
       "      <td>4</td>\n",
       "      <td>6.0</td>\n",
       "    </tr>\n",
       "    <tr>\n",
       "      <th>650753</th>\n",
       "      <td>2015-06-11_599528</td>\n",
       "      <td>599528</td>\n",
       "      <td>2015-06-11</td>\n",
       "      <td>356475</td>\n",
       "      <td>386</td>\n",
       "      <td>1095.0</td>\n",
       "      <td>0</td>\n",
       "      <td>0</td>\n",
       "      <td>2</td>\n",
       "      <td>6</td>\n",
       "      <td>1.0</td>\n",
       "      <td>5</td>\n",
       "      <td>10.0</td>\n",
       "    </tr>\n",
       "    <tr>\n",
       "      <th>663664</th>\n",
       "      <td>2015-06-12_599528</td>\n",
       "      <td>599528</td>\n",
       "      <td>2015-06-12</td>\n",
       "      <td>356475</td>\n",
       "      <td>386</td>\n",
       "      <td>1095.0</td>\n",
       "      <td>0</td>\n",
       "      <td>0</td>\n",
       "      <td>2</td>\n",
       "      <td>7</td>\n",
       "      <td>1.0</td>\n",
       "      <td>6</td>\n",
       "      <td>12.0</td>\n",
       "    </tr>\n",
       "    <tr>\n",
       "      <th>1855827</th>\n",
       "      <td>2015-08-25_599528</td>\n",
       "      <td>599528</td>\n",
       "      <td>2015-08-25</td>\n",
       "      <td>64279</td>\n",
       "      <td>1213</td>\n",
       "      <td>955.0</td>\n",
       "      <td>0</td>\n",
       "      <td>0</td>\n",
       "      <td>1</td>\n",
       "      <td>8</td>\n",
       "      <td>1.0</td>\n",
       "      <td>7</td>\n",
       "      <td>0.0</td>\n",
       "    </tr>\n",
       "  </tbody>\n",
       "</table>\n",
       "</div>"
      ],
      "text/plain": [
       "event            sessionid  visitorid       date  itemid categoryid parentid  \\\n",
       "502047   2015-06-02_599528     599528 2015-06-02  356475        386   1095.0   \n",
       "568571   2015-06-06_599528     599528 2015-06-06  356475        386   1095.0   \n",
       "581513   2015-06-07_599528     599528 2015-06-07  356475        386   1095.0   \n",
       "615422   2015-06-09_599528     599528 2015-06-09  356475        386   1095.0   \n",
       "634227   2015-06-10_599528     599528 2015-06-10  356475        386   1095.0   \n",
       "650753   2015-06-11_599528     599528 2015-06-11  356475        386   1095.0   \n",
       "663664   2015-06-12_599528     599528 2015-06-12  356475        386   1095.0   \n",
       "1855827  2015-08-25_599528     599528 2015-08-25   64279       1213    955.0   \n",
       "\n",
       "event    addtocart  transaction  view  user_RN  historical_purchases  \\\n",
       "502047           1            1     2        1                   0.0   \n",
       "568571           0            0     1        2                   1.0   \n",
       "581513           0            0     1        3                   1.0   \n",
       "615422           0            0     2        4                   1.0   \n",
       "634227           0            0     4        5                   1.0   \n",
       "650753           0            0     2        6                   1.0   \n",
       "663664           0            0     2        7                   1.0   \n",
       "1855827          0            0     1        8                   1.0   \n",
       "\n",
       "event    previous_visits  prev_item_views  \n",
       "502047                 0              0.0  \n",
       "568571                 1              2.0  \n",
       "581513                 2              3.0  \n",
       "615422                 3              4.0  \n",
       "634227                 4              6.0  \n",
       "650753                 5             10.0  \n",
       "663664                 6             12.0  \n",
       "1855827                7              0.0  "
      ]
     },
     "execution_count": 47,
     "metadata": {},
     "output_type": "execute_result"
    }
   ],
   "source": [
    "# create feature for how many previous visits user has had.\n",
    "session_agg['previous_visits'] = session_agg['user_RN'] -1\n",
    "\n",
    "# now get historical views of the item prior to the visit\n",
    "item_views = pd.pivot_table(temp_data, index=['sessionid','visitorid','date','itemid'], columns=['event'],values='timestamp',aggfunc='count', fill_value=0)\n",
    "item_views = item_views.reset_index()\n",
    "item_views.drop(columns=['addtocart','transaction'], inplace=True)\n",
    "item_views['total_views'] = item_views.sort_values(['date'], ascending=[True])\\\n",
    "                                .groupby(['visitorid','itemid'])['view'].cumsum()\n",
    "item_views['prev_item_views']  = item_views.groupby(['visitorid','itemid'])['total_views'].shift(1)\n",
    "item_views.fillna(0, inplace=True)\n",
    "item_views.drop(columns=['visitorid','date','view','total_views'], inplace=True)\n",
    "item_views.head()\n",
    "\n",
    "# merge into the data\n",
    "session_agg = pd.merge(session_agg, item_views, how=\"left\", on=[\"sessionid\",\"itemid\"])\n",
    "\n",
    "# sample\n",
    "session_agg[session_agg['visitorid'] == 599528]"
   ]
  },
  {
   "cell_type": "markdown",
   "metadata": {},
   "source": [
    "### Feature to show No. of Days since previous visit by user"
   ]
  },
  {
   "cell_type": "code",
   "execution_count": 23,
   "metadata": {},
   "outputs": [
    {
     "data": {
      "text/html": [
       "<div>\n",
       "<style scoped>\n",
       "    .dataframe tbody tr th:only-of-type {\n",
       "        vertical-align: middle;\n",
       "    }\n",
       "\n",
       "    .dataframe tbody tr th {\n",
       "        vertical-align: top;\n",
       "    }\n",
       "\n",
       "    .dataframe thead th {\n",
       "        text-align: right;\n",
       "    }\n",
       "</style>\n",
       "<table border=\"1\" class=\"dataframe\">\n",
       "  <thead>\n",
       "    <tr style=\"text-align: right;\">\n",
       "      <th>event</th>\n",
       "      <th>sessionid</th>\n",
       "      <th>visitorid</th>\n",
       "      <th>date</th>\n",
       "    </tr>\n",
       "  </thead>\n",
       "  <tbody>\n",
       "    <tr>\n",
       "      <td>0</td>\n",
       "      <td>2015-05-02_1001994</td>\n",
       "      <td>1001994</td>\n",
       "      <td>2015-05-02</td>\n",
       "    </tr>\n",
       "    <tr>\n",
       "      <td>416</td>\n",
       "      <td>2015-05-02_54791</td>\n",
       "      <td>54791</td>\n",
       "      <td>2015-05-02</td>\n",
       "    </tr>\n",
       "    <tr>\n",
       "      <td>417</td>\n",
       "      <td>2015-05-02_551864</td>\n",
       "      <td>551864</td>\n",
       "      <td>2015-05-02</td>\n",
       "    </tr>\n",
       "    <tr>\n",
       "      <td>418</td>\n",
       "      <td>2015-05-02_554308</td>\n",
       "      <td>554308</td>\n",
       "      <td>2015-05-02</td>\n",
       "    </tr>\n",
       "    <tr>\n",
       "      <td>419</td>\n",
       "      <td>2015-05-02_560305</td>\n",
       "      <td>560305</td>\n",
       "      <td>2015-05-02</td>\n",
       "    </tr>\n",
       "  </tbody>\n",
       "</table>\n",
       "</div>"
      ],
      "text/plain": [
       "event           sessionid  visitorid       date\n",
       "0      2015-05-02_1001994    1001994 2015-05-02\n",
       "416      2015-05-02_54791      54791 2015-05-02\n",
       "417     2015-05-02_551864     551864 2015-05-02\n",
       "418     2015-05-02_554308     554308 2015-05-02\n",
       "419     2015-05-02_560305     560305 2015-05-02"
      ]
     },
     "execution_count": 23,
     "metadata": {},
     "output_type": "execute_result"
    }
   ],
   "source": [
    "#New Feature to count number of days since last visit for each visitor - this takes a while to run\n",
    "timec =  pd.pivot_table(temp_data, index=['sessionid','visitorid','date'], columns=['event'],values='timestamp',aggfunc='count', fill_value=0)\n",
    "timec = timec.reset_index()\n",
    "timec.drop(columns=['addtocart','transaction','view'], inplace=True)\n",
    "timec = timec.sort_values(['date'], ascending=[True])\n",
    "timec.head()"
   ]
  },
  {
   "cell_type": "code",
   "execution_count": 24,
   "metadata": {},
   "outputs": [
    {
     "data": {
      "text/html": [
       "<div>\n",
       "<style scoped>\n",
       "    .dataframe tbody tr th:only-of-type {\n",
       "        vertical-align: middle;\n",
       "    }\n",
       "\n",
       "    .dataframe tbody tr th {\n",
       "        vertical-align: top;\n",
       "    }\n",
       "\n",
       "    .dataframe thead th {\n",
       "        text-align: right;\n",
       "    }\n",
       "</style>\n",
       "<table border=\"1\" class=\"dataframe\">\n",
       "  <thead>\n",
       "    <tr style=\"text-align: right;\">\n",
       "      <th>event</th>\n",
       "      <th>sessionid</th>\n",
       "      <th>visitorid</th>\n",
       "      <th>date</th>\n",
       "      <th>DaysSinceLastVisit</th>\n",
       "    </tr>\n",
       "  </thead>\n",
       "  <tbody>\n",
       "    <tr>\n",
       "      <td>0</td>\n",
       "      <td>2015-05-02_1001994</td>\n",
       "      <td>1001994</td>\n",
       "      <td>2015-05-02</td>\n",
       "      <td>0 days</td>\n",
       "    </tr>\n",
       "    <tr>\n",
       "      <td>416</td>\n",
       "      <td>2015-05-02_54791</td>\n",
       "      <td>54791</td>\n",
       "      <td>2015-05-02</td>\n",
       "      <td>0 days</td>\n",
       "    </tr>\n",
       "    <tr>\n",
       "      <td>417</td>\n",
       "      <td>2015-05-02_551864</td>\n",
       "      <td>551864</td>\n",
       "      <td>2015-05-02</td>\n",
       "      <td>0 days</td>\n",
       "    </tr>\n",
       "    <tr>\n",
       "      <td>418</td>\n",
       "      <td>2015-05-02_554308</td>\n",
       "      <td>554308</td>\n",
       "      <td>2015-05-02</td>\n",
       "      <td>0 days</td>\n",
       "    </tr>\n",
       "    <tr>\n",
       "      <td>419</td>\n",
       "      <td>2015-05-02_560305</td>\n",
       "      <td>560305</td>\n",
       "      <td>2015-05-02</td>\n",
       "      <td>0 days</td>\n",
       "    </tr>\n",
       "  </tbody>\n",
       "</table>\n",
       "</div>"
      ],
      "text/plain": [
       "event           sessionid  visitorid       date DaysSinceLastVisit\n",
       "0      2015-05-02_1001994    1001994 2015-05-02             0 days\n",
       "416      2015-05-02_54791      54791 2015-05-02             0 days\n",
       "417     2015-05-02_551864     551864 2015-05-02             0 days\n",
       "418     2015-05-02_554308     554308 2015-05-02             0 days\n",
       "419     2015-05-02_560305     560305 2015-05-02             0 days"
      ]
     },
     "execution_count": 24,
     "metadata": {},
     "output_type": "execute_result"
    }
   ],
   "source": [
    "from datetime import timedelta\n",
    "timec['DaysSinceLastVisit'] = timec.groupby(['visitorid'])['date'].diff()\n",
    "timec.fillna(timedelta(0), inplace=True)\n",
    "timec.head()"
   ]
  },
  {
   "cell_type": "code",
   "execution_count": 25,
   "metadata": {},
   "outputs": [
    {
     "data": {
      "text/html": [
       "<div>\n",
       "<style scoped>\n",
       "    .dataframe tbody tr th:only-of-type {\n",
       "        vertical-align: middle;\n",
       "    }\n",
       "\n",
       "    .dataframe tbody tr th {\n",
       "        vertical-align: top;\n",
       "    }\n",
       "\n",
       "    .dataframe thead th {\n",
       "        text-align: right;\n",
       "    }\n",
       "</style>\n",
       "<table border=\"1\" class=\"dataframe\">\n",
       "  <thead>\n",
       "    <tr style=\"text-align: right;\">\n",
       "      <th>event</th>\n",
       "      <th>sessionid</th>\n",
       "      <th>visitorid</th>\n",
       "      <th>date</th>\n",
       "      <th>itemid</th>\n",
       "      <th>categoryid</th>\n",
       "      <th>parentid</th>\n",
       "      <th>addtocart</th>\n",
       "      <th>transaction</th>\n",
       "      <th>view</th>\n",
       "      <th>user_RN</th>\n",
       "      <th>historical_purchases</th>\n",
       "      <th>previous_visits</th>\n",
       "      <th>prev_item_views</th>\n",
       "      <th>DaysSinceLastVisit</th>\n",
       "    </tr>\n",
       "  </thead>\n",
       "  <tbody>\n",
       "    <tr>\n",
       "      <td>502047</td>\n",
       "      <td>2015-06-02_599528</td>\n",
       "      <td>599528</td>\n",
       "      <td>2015-06-02</td>\n",
       "      <td>356475</td>\n",
       "      <td>386</td>\n",
       "      <td>1095.0</td>\n",
       "      <td>1</td>\n",
       "      <td>1</td>\n",
       "      <td>2</td>\n",
       "      <td>1</td>\n",
       "      <td>0.0</td>\n",
       "      <td>0</td>\n",
       "      <td>0.0</td>\n",
       "      <td>0 days</td>\n",
       "    </tr>\n",
       "    <tr>\n",
       "      <td>568571</td>\n",
       "      <td>2015-06-06_599528</td>\n",
       "      <td>599528</td>\n",
       "      <td>2015-06-06</td>\n",
       "      <td>356475</td>\n",
       "      <td>386</td>\n",
       "      <td>1095.0</td>\n",
       "      <td>0</td>\n",
       "      <td>0</td>\n",
       "      <td>1</td>\n",
       "      <td>2</td>\n",
       "      <td>1.0</td>\n",
       "      <td>1</td>\n",
       "      <td>2.0</td>\n",
       "      <td>4 days</td>\n",
       "    </tr>\n",
       "    <tr>\n",
       "      <td>581513</td>\n",
       "      <td>2015-06-07_599528</td>\n",
       "      <td>599528</td>\n",
       "      <td>2015-06-07</td>\n",
       "      <td>356475</td>\n",
       "      <td>386</td>\n",
       "      <td>1095.0</td>\n",
       "      <td>0</td>\n",
       "      <td>0</td>\n",
       "      <td>1</td>\n",
       "      <td>3</td>\n",
       "      <td>1.0</td>\n",
       "      <td>2</td>\n",
       "      <td>3.0</td>\n",
       "      <td>1 days</td>\n",
       "    </tr>\n",
       "    <tr>\n",
       "      <td>615422</td>\n",
       "      <td>2015-06-09_599528</td>\n",
       "      <td>599528</td>\n",
       "      <td>2015-06-09</td>\n",
       "      <td>356475</td>\n",
       "      <td>386</td>\n",
       "      <td>1095.0</td>\n",
       "      <td>0</td>\n",
       "      <td>0</td>\n",
       "      <td>2</td>\n",
       "      <td>4</td>\n",
       "      <td>1.0</td>\n",
       "      <td>3</td>\n",
       "      <td>4.0</td>\n",
       "      <td>2 days</td>\n",
       "    </tr>\n",
       "    <tr>\n",
       "      <td>634227</td>\n",
       "      <td>2015-06-10_599528</td>\n",
       "      <td>599528</td>\n",
       "      <td>2015-06-10</td>\n",
       "      <td>356475</td>\n",
       "      <td>386</td>\n",
       "      <td>1095.0</td>\n",
       "      <td>0</td>\n",
       "      <td>0</td>\n",
       "      <td>4</td>\n",
       "      <td>5</td>\n",
       "      <td>1.0</td>\n",
       "      <td>4</td>\n",
       "      <td>6.0</td>\n",
       "      <td>1 days</td>\n",
       "    </tr>\n",
       "    <tr>\n",
       "      <td>650753</td>\n",
       "      <td>2015-06-11_599528</td>\n",
       "      <td>599528</td>\n",
       "      <td>2015-06-11</td>\n",
       "      <td>356475</td>\n",
       "      <td>386</td>\n",
       "      <td>1095.0</td>\n",
       "      <td>0</td>\n",
       "      <td>0</td>\n",
       "      <td>2</td>\n",
       "      <td>6</td>\n",
       "      <td>1.0</td>\n",
       "      <td>5</td>\n",
       "      <td>10.0</td>\n",
       "      <td>1 days</td>\n",
       "    </tr>\n",
       "    <tr>\n",
       "      <td>663664</td>\n",
       "      <td>2015-06-12_599528</td>\n",
       "      <td>599528</td>\n",
       "      <td>2015-06-12</td>\n",
       "      <td>356475</td>\n",
       "      <td>386</td>\n",
       "      <td>1095.0</td>\n",
       "      <td>0</td>\n",
       "      <td>0</td>\n",
       "      <td>2</td>\n",
       "      <td>7</td>\n",
       "      <td>1.0</td>\n",
       "      <td>6</td>\n",
       "      <td>12.0</td>\n",
       "      <td>1 days</td>\n",
       "    </tr>\n",
       "    <tr>\n",
       "      <td>1855827</td>\n",
       "      <td>2015-08-25_599528</td>\n",
       "      <td>599528</td>\n",
       "      <td>2015-08-25</td>\n",
       "      <td>64279</td>\n",
       "      <td>1213</td>\n",
       "      <td>955.0</td>\n",
       "      <td>0</td>\n",
       "      <td>0</td>\n",
       "      <td>1</td>\n",
       "      <td>8</td>\n",
       "      <td>1.0</td>\n",
       "      <td>7</td>\n",
       "      <td>0.0</td>\n",
       "      <td>74 days</td>\n",
       "    </tr>\n",
       "  </tbody>\n",
       "</table>\n",
       "</div>"
      ],
      "text/plain": [
       "event            sessionid  visitorid       date  itemid categoryid parentid  \\\n",
       "502047   2015-06-02_599528     599528 2015-06-02  356475        386   1095.0   \n",
       "568571   2015-06-06_599528     599528 2015-06-06  356475        386   1095.0   \n",
       "581513   2015-06-07_599528     599528 2015-06-07  356475        386   1095.0   \n",
       "615422   2015-06-09_599528     599528 2015-06-09  356475        386   1095.0   \n",
       "634227   2015-06-10_599528     599528 2015-06-10  356475        386   1095.0   \n",
       "650753   2015-06-11_599528     599528 2015-06-11  356475        386   1095.0   \n",
       "663664   2015-06-12_599528     599528 2015-06-12  356475        386   1095.0   \n",
       "1855827  2015-08-25_599528     599528 2015-08-25   64279       1213    955.0   \n",
       "\n",
       "event    addtocart  transaction  view  user_RN  historical_purchases  \\\n",
       "502047           1            1     2        1                   0.0   \n",
       "568571           0            0     1        2                   1.0   \n",
       "581513           0            0     1        3                   1.0   \n",
       "615422           0            0     2        4                   1.0   \n",
       "634227           0            0     4        5                   1.0   \n",
       "650753           0            0     2        6                   1.0   \n",
       "663664           0            0     2        7                   1.0   \n",
       "1855827          0            0     1        8                   1.0   \n",
       "\n",
       "event    previous_visits  prev_item_views DaysSinceLastVisit  \n",
       "502047                 0              0.0             0 days  \n",
       "568571                 1              2.0             4 days  \n",
       "581513                 2              3.0             1 days  \n",
       "615422                 3              4.0             2 days  \n",
       "634227                 4              6.0             1 days  \n",
       "650753                 5             10.0             1 days  \n",
       "663664                 6             12.0             1 days  \n",
       "1855827                7              0.0            74 days  "
      ]
     },
     "execution_count": 25,
     "metadata": {},
     "output_type": "execute_result"
    }
   ],
   "source": [
    "timec.drop(columns=['date'], inplace=True)\n",
    "\n",
    "# merge into the data\n",
    "session_agg = pd.merge(session_agg, timec, how=\"left\", on=[\"sessionid\",\"visitorid\"])\n",
    "\n",
    "# sample\n",
    "session_agg[session_agg['visitorid'] == 599528]"
   ]
  },
  {
   "cell_type": "code",
   "execution_count": 26,
   "metadata": {},
   "outputs": [
    {
     "name": "stdout",
     "output_type": "stream",
     "text": [
      "<class 'pandas.core.frame.DataFrame'>\n",
      "Int64Index: 2184095 entries, 0 to 2184094\n",
      "Data columns (total 10 columns):\n",
      "date                    datetime64[ns]\n",
      "categoryid              object\n",
      "parentid                object\n",
      "addtocart               int64\n",
      "view                    int64\n",
      "historical_purchases    int32\n",
      "previous_visits         int64\n",
      "prev_item_views         int32\n",
      "DaysSinceLastVisit      int64\n",
      "converted               int32\n",
      "dtypes: datetime64[ns](1), int32(3), int64(4), object(2)\n",
      "memory usage: 158.3+ MB\n"
     ]
    }
   ],
   "source": [
    "# Another feature to add\n",
    "\n",
    "session_agg['converted'] = np.where(session_agg['transaction'] > 0,1,0)\n",
    "\n",
    "# do some cleanup of the df as well.\n",
    "session_agg['historical_purchases'] = session_agg['historical_purchases'].astype(int)\n",
    "session_agg['prev_item_views'] = session_agg['prev_item_views'].astype(int)\n",
    "session_agg['DaysSinceLastVisit'] = session_agg['DaysSinceLastVisit'].dt.days\n",
    "\n",
    "# drop unnecessary columns\n",
    "# we're dropping transaction because it is our new conversion column\n",
    "session_agg.drop(columns=['sessionid','visitorid','itemid','transaction','user_RN'], inplace=True)\n",
    "session_agg.info()"
   ]
  },
  {
   "cell_type": "code",
   "execution_count": 27,
   "metadata": {},
   "outputs": [
    {
     "data": {
      "text/html": [
       "<div>\n",
       "<style scoped>\n",
       "    .dataframe tbody tr th:only-of-type {\n",
       "        vertical-align: middle;\n",
       "    }\n",
       "\n",
       "    .dataframe tbody tr th {\n",
       "        vertical-align: top;\n",
       "    }\n",
       "\n",
       "    .dataframe thead th {\n",
       "        text-align: right;\n",
       "    }\n",
       "</style>\n",
       "<table border=\"1\" class=\"dataframe\">\n",
       "  <thead>\n",
       "    <tr style=\"text-align: right;\">\n",
       "      <th>event</th>\n",
       "      <th>date</th>\n",
       "      <th>categoryid</th>\n",
       "      <th>parentid</th>\n",
       "      <th>addtocart</th>\n",
       "      <th>view</th>\n",
       "      <th>historical_purchases</th>\n",
       "      <th>previous_visits</th>\n",
       "      <th>prev_item_views</th>\n",
       "      <th>DaysSinceLastVisit</th>\n",
       "      <th>converted</th>\n",
       "    </tr>\n",
       "  </thead>\n",
       "  <tbody>\n",
       "    <tr>\n",
       "      <td>0</td>\n",
       "      <td>2015-05-02</td>\n",
       "      <td>1318</td>\n",
       "      <td>986</td>\n",
       "      <td>0</td>\n",
       "      <td>1</td>\n",
       "      <td>0</td>\n",
       "      <td>0</td>\n",
       "      <td>0</td>\n",
       "      <td>0</td>\n",
       "      <td>0</td>\n",
       "    </tr>\n",
       "    <tr>\n",
       "      <td>1</td>\n",
       "      <td>2015-05-02</td>\n",
       "      <td>1447</td>\n",
       "      <td>351</td>\n",
       "      <td>0</td>\n",
       "      <td>1</td>\n",
       "      <td>0</td>\n",
       "      <td>0</td>\n",
       "      <td>0</td>\n",
       "      <td>0</td>\n",
       "      <td>0</td>\n",
       "    </tr>\n",
       "    <tr>\n",
       "      <td>2</td>\n",
       "      <td>2015-05-02</td>\n",
       "      <td>337</td>\n",
       "      <td>653</td>\n",
       "      <td>0</td>\n",
       "      <td>1</td>\n",
       "      <td>0</td>\n",
       "      <td>0</td>\n",
       "      <td>0</td>\n",
       "      <td>0</td>\n",
       "      <td>0</td>\n",
       "    </tr>\n",
       "    <tr>\n",
       "      <td>3</td>\n",
       "      <td>2015-05-02</td>\n",
       "      <td>1120</td>\n",
       "      <td>250</td>\n",
       "      <td>0</td>\n",
       "      <td>1</td>\n",
       "      <td>0</td>\n",
       "      <td>0</td>\n",
       "      <td>0</td>\n",
       "      <td>0</td>\n",
       "      <td>0</td>\n",
       "    </tr>\n",
       "    <tr>\n",
       "      <td>4</td>\n",
       "      <td>2015-05-02</td>\n",
       "      <td>491</td>\n",
       "      <td>679</td>\n",
       "      <td>0</td>\n",
       "      <td>3</td>\n",
       "      <td>0</td>\n",
       "      <td>0</td>\n",
       "      <td>0</td>\n",
       "      <td>0</td>\n",
       "      <td>0</td>\n",
       "    </tr>\n",
       "  </tbody>\n",
       "</table>\n",
       "</div>"
      ],
      "text/plain": [
       "event       date categoryid parentid  addtocart  view  historical_purchases  \\\n",
       "0     2015-05-02       1318      986          0     1                     0   \n",
       "1     2015-05-02       1447      351          0     1                     0   \n",
       "2     2015-05-02        337      653          0     1                     0   \n",
       "3     2015-05-02       1120      250          0     1                     0   \n",
       "4     2015-05-02        491      679          0     3                     0   \n",
       "\n",
       "event  previous_visits  prev_item_views  DaysSinceLastVisit  converted  \n",
       "0                    0                0                   0          0  \n",
       "1                    0                0                   0          0  \n",
       "2                    0                0                   0          0  \n",
       "3                    0                0                   0          0  \n",
       "4                    0                0                   0          0  "
      ]
     },
     "execution_count": 27,
     "metadata": {},
     "output_type": "execute_result"
    }
   ],
   "source": [
    "# strip out the '.0' in parentid column\n",
    "session_agg['parentid']= session_agg['parentid'].apply(lambda x: x[:-2])\n",
    "session_agg.head()"
   ]
  },
  {
   "cell_type": "code",
   "execution_count": 80,
   "metadata": {},
   "outputs": [
    {
     "data": {
      "text/plain": [
       "(2184095, 10)"
      ]
     },
     "execution_count": 80,
     "metadata": {},
     "output_type": "execute_result"
    }
   ],
   "source": [
    "session_agg.shape"
   ]
  },
  {
   "cell_type": "markdown",
   "metadata": {},
   "source": [
    "### Create target variable"
   ]
  },
  {
   "cell_type": "code",
   "execution_count": 49,
   "metadata": {},
   "outputs": [
    {
     "name": "stdout",
     "output_type": "stream",
     "text": [
      "<class 'pandas.core.frame.DataFrame'>\n",
      "Int64Index: 2184095 entries, 0 to 2184094\n",
      "Data columns (total 9 columns):\n",
      " #   Column                Dtype         \n",
      "---  ------                -----         \n",
      " 0   date                  datetime64[ns]\n",
      " 1   categoryid            object        \n",
      " 2   parentid              object        \n",
      " 3   addtocart             int64         \n",
      " 4   view                  int64         \n",
      " 5   historical_purchases  int32         \n",
      " 6   previous_visits       int64         \n",
      " 7   prev_item_views       int32         \n",
      " 8   converted             int32         \n",
      "dtypes: datetime64[ns](1), int32(3), int64(3), object(2)\n",
      "memory usage: 141.6+ MB\n"
     ]
    }
   ],
   "source": [
    "session_agg['converted'] = np.where(session_agg['transaction'] > 0,1,0)\n",
    "\n",
    "# do some cleanup of the df as well.\n",
    "session_agg['historical_purchases'] = session_agg['historical_purchases'].astype(int)\n",
    "session_agg['prev_item_views'] = session_agg['prev_item_views'].astype(int)\n",
    "\n",
    "# drop unnecessary columns\n",
    "# we're dropping transaction because it is our new conversion column\n",
    "session_agg.drop(columns=['sessionid','visitorid','itemid','transaction','user_RN'], inplace=True)\n",
    "session_agg.info()"
   ]
  },
  {
   "cell_type": "code",
   "execution_count": 50,
   "metadata": {},
   "outputs": [
    {
     "data": {
      "text/html": [
       "<div>\n",
       "<style scoped>\n",
       "    .dataframe tbody tr th:only-of-type {\n",
       "        vertical-align: middle;\n",
       "    }\n",
       "\n",
       "    .dataframe tbody tr th {\n",
       "        vertical-align: top;\n",
       "    }\n",
       "\n",
       "    .dataframe thead th {\n",
       "        text-align: right;\n",
       "    }\n",
       "</style>\n",
       "<table border=\"1\" class=\"dataframe\">\n",
       "  <thead>\n",
       "    <tr style=\"text-align: right;\">\n",
       "      <th>event</th>\n",
       "      <th>date</th>\n",
       "      <th>categoryid</th>\n",
       "      <th>parentid</th>\n",
       "      <th>addtocart</th>\n",
       "      <th>view</th>\n",
       "      <th>historical_purchases</th>\n",
       "      <th>previous_visits</th>\n",
       "      <th>prev_item_views</th>\n",
       "      <th>converted</th>\n",
       "    </tr>\n",
       "  </thead>\n",
       "  <tbody>\n",
       "    <tr>\n",
       "      <th>0</th>\n",
       "      <td>2015-05-02</td>\n",
       "      <td>1318</td>\n",
       "      <td>986</td>\n",
       "      <td>0</td>\n",
       "      <td>1</td>\n",
       "      <td>0</td>\n",
       "      <td>0</td>\n",
       "      <td>0</td>\n",
       "      <td>0</td>\n",
       "    </tr>\n",
       "    <tr>\n",
       "      <th>1</th>\n",
       "      <td>2015-05-02</td>\n",
       "      <td>1447</td>\n",
       "      <td>351</td>\n",
       "      <td>0</td>\n",
       "      <td>1</td>\n",
       "      <td>0</td>\n",
       "      <td>0</td>\n",
       "      <td>0</td>\n",
       "      <td>0</td>\n",
       "    </tr>\n",
       "    <tr>\n",
       "      <th>2</th>\n",
       "      <td>2015-05-02</td>\n",
       "      <td>337</td>\n",
       "      <td>653</td>\n",
       "      <td>0</td>\n",
       "      <td>1</td>\n",
       "      <td>0</td>\n",
       "      <td>0</td>\n",
       "      <td>0</td>\n",
       "      <td>0</td>\n",
       "    </tr>\n",
       "    <tr>\n",
       "      <th>3</th>\n",
       "      <td>2015-05-02</td>\n",
       "      <td>1120</td>\n",
       "      <td>250</td>\n",
       "      <td>0</td>\n",
       "      <td>1</td>\n",
       "      <td>0</td>\n",
       "      <td>0</td>\n",
       "      <td>0</td>\n",
       "      <td>0</td>\n",
       "    </tr>\n",
       "    <tr>\n",
       "      <th>4</th>\n",
       "      <td>2015-05-02</td>\n",
       "      <td>491</td>\n",
       "      <td>679</td>\n",
       "      <td>0</td>\n",
       "      <td>3</td>\n",
       "      <td>0</td>\n",
       "      <td>0</td>\n",
       "      <td>0</td>\n",
       "      <td>0</td>\n",
       "    </tr>\n",
       "  </tbody>\n",
       "</table>\n",
       "</div>"
      ],
      "text/plain": [
       "event       date categoryid parentid  addtocart  view  historical_purchases  \\\n",
       "0     2015-05-02       1318      986          0     1                     0   \n",
       "1     2015-05-02       1447      351          0     1                     0   \n",
       "2     2015-05-02        337      653          0     1                     0   \n",
       "3     2015-05-02       1120      250          0     1                     0   \n",
       "4     2015-05-02        491      679          0     3                     0   \n",
       "\n",
       "event  previous_visits  prev_item_views  converted  \n",
       "0                    0                0          0  \n",
       "1                    0                0          0  \n",
       "2                    0                0          0  \n",
       "3                    0                0          0  \n",
       "4                    0                0          0  "
      ]
     },
     "execution_count": 50,
     "metadata": {},
     "output_type": "execute_result"
    }
   ],
   "source": [
    "# strip out the '.0' in parentid column\n",
    "session_agg['parentid']= session_agg['parentid'].apply(lambda x: x[:-2])\n",
    "session_agg.head()"
   ]
  },
  {
   "cell_type": "markdown",
   "metadata": {},
   "source": [
    "# Data Exploration and Creating Train/Test Set"
   ]
  },
  {
   "cell_type": "markdown",
   "metadata": {},
   "source": [
    "## Split into Train/Test"
   ]
  },
  {
   "cell_type": "code",
   "execution_count": 51,
   "metadata": {},
   "outputs": [],
   "source": [
    "# Create a copy\n",
    "x = session_agg.copy()"
   ]
  },
  {
   "cell_type": "code",
   "execution_count": 52,
   "metadata": {},
   "outputs": [
    {
     "name": "stdout",
     "output_type": "stream",
     "text": [
      "train:  (1747276, 8)\n",
      "test  (436819, 8)\n"
     ]
    }
   ],
   "source": [
    "# Split into train and test sets\n",
    "y = x['converted']\n",
    "x.drop('converted', axis=1, inplace=True)\n",
    "X_train, X_test, y_train, y_test = train_test_split(x, y, test_size=0.2, random_state=42)\n",
    "\n",
    "print('train: ', X_train.shape)\n",
    "print('test ', X_test.shape)"
   ]
  },
  {
   "cell_type": "markdown",
   "metadata": {},
   "source": [
    "## Analyzing and feature-engineering training data"
   ]
  },
  {
   "cell_type": "code",
   "execution_count": 53,
   "metadata": {},
   "outputs": [
    {
     "data": {
      "text/html": [
       "<div>\n",
       "<style scoped>\n",
       "    .dataframe tbody tr th:only-of-type {\n",
       "        vertical-align: middle;\n",
       "    }\n",
       "\n",
       "    .dataframe tbody tr th {\n",
       "        vertical-align: top;\n",
       "    }\n",
       "\n",
       "    .dataframe thead th {\n",
       "        text-align: right;\n",
       "    }\n",
       "</style>\n",
       "<table border=\"1\" class=\"dataframe\">\n",
       "  <thead>\n",
       "    <tr style=\"text-align: right;\">\n",
       "      <th></th>\n",
       "      <th>date</th>\n",
       "      <th>categoryid</th>\n",
       "      <th>parentid</th>\n",
       "      <th>addtocart</th>\n",
       "      <th>view</th>\n",
       "      <th>historical_purchases</th>\n",
       "      <th>previous_visits</th>\n",
       "      <th>prev_item_views</th>\n",
       "      <th>converted</th>\n",
       "    </tr>\n",
       "  </thead>\n",
       "  <tbody>\n",
       "    <tr>\n",
       "      <th>654241</th>\n",
       "      <td>2015-06-11</td>\n",
       "      <td>1011</td>\n",
       "      <td>745</td>\n",
       "      <td>0</td>\n",
       "      <td>1</td>\n",
       "      <td>0</td>\n",
       "      <td>0</td>\n",
       "      <td>0</td>\n",
       "      <td>0</td>\n",
       "    </tr>\n",
       "    <tr>\n",
       "      <th>1764202</th>\n",
       "      <td>2015-08-19</td>\n",
       "      <td>1228</td>\n",
       "      <td>121</td>\n",
       "      <td>0</td>\n",
       "      <td>1</td>\n",
       "      <td>0</td>\n",
       "      <td>0</td>\n",
       "      <td>0</td>\n",
       "      <td>0</td>\n",
       "    </tr>\n",
       "    <tr>\n",
       "      <th>770499</th>\n",
       "      <td>2015-06-19</td>\n",
       "      <td>1120</td>\n",
       "      <td>250</td>\n",
       "      <td>0</td>\n",
       "      <td>1</td>\n",
       "      <td>0</td>\n",
       "      <td>0</td>\n",
       "      <td>0</td>\n",
       "      <td>0</td>\n",
       "    </tr>\n",
       "    <tr>\n",
       "      <th>2171509</th>\n",
       "      <td>2015-09-16</td>\n",
       "      <td>1318</td>\n",
       "      <td>986</td>\n",
       "      <td>0</td>\n",
       "      <td>1</td>\n",
       "      <td>0</td>\n",
       "      <td>0</td>\n",
       "      <td>0</td>\n",
       "      <td>0</td>\n",
       "    </tr>\n",
       "    <tr>\n",
       "      <th>1907508</th>\n",
       "      <td>2015-08-29</td>\n",
       "      <td>242</td>\n",
       "      <td>1531</td>\n",
       "      <td>0</td>\n",
       "      <td>1</td>\n",
       "      <td>0</td>\n",
       "      <td>0</td>\n",
       "      <td>0</td>\n",
       "      <td>0</td>\n",
       "    </tr>\n",
       "  </tbody>\n",
       "</table>\n",
       "</div>"
      ],
      "text/plain": [
       "              date categoryid parentid  addtocart  view  historical_purchases  \\\n",
       "654241  2015-06-11       1011      745          0     1                     0   \n",
       "1764202 2015-08-19       1228      121          0     1                     0   \n",
       "770499  2015-06-19       1120      250          0     1                     0   \n",
       "2171509 2015-09-16       1318      986          0     1                     0   \n",
       "1907508 2015-08-29        242     1531          0     1                     0   \n",
       "\n",
       "         previous_visits  prev_item_views  converted  \n",
       "654241                 0                0          0  \n",
       "1764202                0                0          0  \n",
       "770499                 0                0          0  \n",
       "2171509                0                0          0  \n",
       "1907508                0                0          0  "
      ]
     },
     "execution_count": 53,
     "metadata": {},
     "output_type": "execute_result"
    }
   ],
   "source": [
    "# first make a copy of training data to play around with\n",
    "df = pd.concat([X_train, y_train], axis=1)\n",
    "df.head()"
   ]
  },
  {
   "cell_type": "markdown",
   "metadata": {},
   "source": [
    "We're adding another feature only to the training data first - a weekday column to utilize the date. We might see weekly patterns."
   ]
  },
  {
   "cell_type": "code",
   "execution_count": 54,
   "metadata": {},
   "outputs": [],
   "source": [
    "# build a transformer to handle date - parsing date\n",
    "class WeekdayExtractor(BaseEstimator, TransformerMixin):\n",
    "    def __init__(self):\n",
    "        pass\n",
    "    \n",
    "    def fit(self, X, y=None):\n",
    "        return self\n",
    "    \n",
    "    def transform(self, X):\n",
    "        weekday = X.apply(lambda x: x.weekday())\n",
    "        return weekday.rename('weekday').to_frame()"
   ]
  },
  {
   "cell_type": "code",
   "execution_count": 55,
   "metadata": {},
   "outputs": [
    {
     "name": "stdout",
     "output_type": "stream",
     "text": [
      "<class 'pandas.core.frame.DataFrame'>\n",
      "Int64Index: 1747276 entries, 654241 to 1692743\n",
      "Data columns (total 10 columns):\n",
      " #   Column                Dtype         \n",
      "---  ------                -----         \n",
      " 0   date                  datetime64[ns]\n",
      " 1   categoryid            object        \n",
      " 2   parentid              object        \n",
      " 3   addtocart             int64         \n",
      " 4   view                  int64         \n",
      " 5   historical_purchases  int32         \n",
      " 6   previous_visits       int64         \n",
      " 7   prev_item_views       int32         \n",
      " 8   converted             int32         \n",
      " 9   weekday               int64         \n",
      "dtypes: datetime64[ns](1), int32(3), int64(4), object(2)\n",
      "memory usage: 126.6+ MB\n"
     ]
    }
   ],
   "source": [
    "# Pipeline to transform date\n",
    "wkday = make_pipeline(\n",
    "    FeatureSelector('date'), \n",
    "    WeekdayExtractor()\n",
    ").transform(df)\n",
    "\n",
    "df = pd.concat([df, wkday], axis=1)\n",
    "df.info()"
   ]
  },
  {
   "cell_type": "code",
   "execution_count": 56,
   "metadata": {},
   "outputs": [
    {
     "data": {
      "text/plain": [
       "1    231385\n",
       "4     61961\n",
       "3     35877\n",
       "2     27879\n",
       "Name: previous_visits, dtype: int64"
      ]
     },
     "execution_count": 56,
     "metadata": {},
     "output_type": "execute_result"
    },
    {
     "data": {
      "image/png": "[encoded data removed]",
      "text/plain": [
       "<Figure size 432x288 with 1 Axes>"
      ]
     },
     "metadata": {
      "needs_background": "light"
     },
     "output_type": "display_data"
    }
   ],
   "source": [
    "# numbers of previous visits\n",
    "df_pvisits = pd.cut(df['previous_visits'],bins=[0,2,3,6, np.inf], labels=[1,2,3,4])\n",
    "df_pvisits.hist()\n",
    "df_pvisits.value_counts()"
   ]
  },
  {
   "cell_type": "code",
   "execution_count": 57,
   "metadata": {},
   "outputs": [
    {
     "data": {
      "text/plain": [
       "1    59694\n",
       "4    16594\n",
       "2    16007\n",
       "3     6107\n",
       "Name: prev_item_views, dtype: int64"
      ]
     },
     "execution_count": 57,
     "metadata": {},
     "output_type": "execute_result"
    },
    {
     "data": {
      "image/png": "[encoded data removed]",
      "text/plain": [
       "<Figure size 432x288 with 1 Axes>"
      ]
     },
     "metadata": {
      "needs_background": "light"
     },
     "output_type": "display_data"
    }
   ],
   "source": [
    "# numbers of previous item views\n",
    "df_view = pd.cut(df['prev_item_views'],bins=[0,2,4,6, np.inf], labels=[1,2,3,4])\n",
    "df_view.hist()\n",
    "df_view.value_counts()"
   ]
  },
  {
   "cell_type": "code",
   "execution_count": 58,
   "metadata": {},
   "outputs": [
    {
     "data": {
      "text/plain": [
       "<matplotlib.axes._subplots.AxesSubplot at 0x2ded91dffd0>"
      ]
     },
     "execution_count": 58,
     "metadata": {},
     "output_type": "execute_result"
    },
    {
     "data": {
      "image/png": "[encoded data removed]",
      "text/plain": [
       "<Figure size 432x288 with 1 Axes>"
      ]
     },
     "metadata": {
      "needs_background": "light"
     },
     "output_type": "display_data"
    }
   ],
   "source": [
    "# what weekdays do conversions mostly happen on?\n",
    "df.query(' converted == 1 ')['weekday'].value_counts().plot(kind='bar')"
   ]
  },
  {
   "cell_type": "code",
   "execution_count": 59,
   "metadata": {},
   "outputs": [
    {
     "data": {
      "text/plain": [
       "<matplotlib.axes._subplots.AxesSubplot at 0x2de86b65160>"
      ]
     },
     "execution_count": 59,
     "metadata": {},
     "output_type": "execute_result"
    },
    {
     "data": {
      "image/png": "[encoded data removed]",
      "text/plain": [
       "<Figure size 432x288 with 1 Axes>"
      ]
     },
     "metadata": {
      "needs_background": "light"
     },
     "output_type": "display_data"
    }
   ],
   "source": [
    "# what weekdays have less conversion?\n",
    "df.query(' converted == 0 ')['weekday'].value_counts().plot(kind='bar')"
   ]
  },
  {
   "cell_type": "code",
   "execution_count": 60,
   "metadata": {},
   "outputs": [
    {
     "name": "stdout",
     "output_type": "stream",
     "text": [
      "<class 'pandas.core.frame.DataFrame'>\n",
      "Int64Index: 1747276 entries, 654241 to 1692743\n",
      "Data columns (total 15 columns):\n",
      " #   Column                Dtype         \n",
      "---  ------                -----         \n",
      " 0   date                  datetime64[ns]\n",
      " 1   categoryid            object        \n",
      " 2   parentid              object        \n",
      " 3   addtocart             int64         \n",
      " 4   view                  int64         \n",
      " 5   historical_purchases  int32         \n",
      " 6   previous_visits       int64         \n",
      " 7   prev_item_views       int32         \n",
      " 8   converted             int32         \n",
      " 9   weekday__1            uint8         \n",
      " 10  weekday__2            uint8         \n",
      " 11  weekday__3            uint8         \n",
      " 12  weekday__4            uint8         \n",
      " 13  weekday__5            uint8         \n",
      " 14  weekday__6            uint8         \n",
      "dtypes: datetime64[ns](1), int32(3), int64(3), object(2), uint8(6)\n",
      "memory usage: 123.3+ MB\n"
     ]
    }
   ],
   "source": [
    "weekdays = pd.get_dummies(df['weekday'], prefix='weekday_', drop_first=True)\n",
    "df = pd.concat([df,weekdays],axis=1)\n",
    "df.drop('weekday', axis=1, inplace=True)\n",
    "df.info()"
   ]
  },
  {
   "cell_type": "markdown",
   "metadata": {},
   "source": [
    "Plotting correlation of our dataset to identify important features."
   ]
  },
  {
   "cell_type": "code",
   "execution_count": 61,
   "metadata": {},
   "outputs": [
    {
     "data": {
      "text/plain": [
       "converted               1.000000\n",
       "addtocart               0.423663\n",
       "historical_purchases    0.100676\n",
       "view                    0.083823\n",
       "previous_visits         0.047193\n",
       "weekday__2              0.008793\n",
       "weekday__1              0.004775\n",
       "prev_item_views         0.003071\n",
       "weekday__3              0.003004\n",
       "weekday__4             -0.002723\n",
       "weekday__6             -0.010206\n",
       "weekday__5             -0.011285\n",
       "Name: converted, dtype: float64"
      ]
     },
     "execution_count": 61,
     "metadata": {},
     "output_type": "execute_result"
    }
   ],
   "source": [
    "corrmap = df.corr(method='pearson')\n",
    "corrmap.reset_index()\n",
    "corrmap['converted'].sort_values(ascending=False)"
   ]
  },
  {
   "cell_type": "code",
   "execution_count": 62,
   "metadata": {},
   "outputs": [
    {
     "data": {
      "application/vnd.plotly.v1+json": {
       "config": {
        "plotlyServerURL": "https://plot.ly"
       },
       "data": [
        {
         "type": "heatmap",
         "x": [
          "addtocart",
          "view",
          "historical_purchases",
          "previous_visits",
          "prev_item_views",
          "converted",
          "weekday__1",
          "weekday__2",
          "weekday__3",
          "weekday__4",
          "weekday__5",
          "weekday__6"
         ],
         "y": [
          "addtocart",
          "view",
          "historical_purchases",
          "previous_visits",
          "prev_item_views",
          "converted",
          "weekday__1",
          "weekday__2",
          "weekday__3",
          "weekday__4",
          "weekday__5",
          "weekday__6"
         ],
         "z": [
          [
           1,
           0.10301986216385302,
           0.051586523145138966,
           0.024534724530828916,
           -0.0024888930871313428,
           0.4236625925475664,
           0.002436554343827704,
           0.004826899635957054,
           0.0028180962350011535,
           -0.0014684614224164598,
           -0.006900020761788107,
           -0.006175933120871302
          ],
          [
           0.10301986216385302,
           1,
           0.013736544375924682,
           0.0360153176809237,
           0.084796466984274,
           0.08382291628018669,
           -0.0010093892084547715,
           0.0011429775328727332,
           0.0014784809620353265,
           -0.003575591945482127,
           -0.0015348842498783006,
           0.0016516368551159925
          ],
          [
           0.051586523145138966,
           0.013736544375924682,
           1,
           0.384034847676381,
           0.004865024356059481,
           0.10067574444486038,
           -0.0009258260099011735,
           0.005349193898592586,
           0.004514633847449536,
           0.0021926054569731956,
           -0.004358658301525909,
           -0.013567967361228247
          ],
          [
           0.024534724530828916,
           0.0360153176809237,
           0.384034847676381,
           1,
           0.29811157145328804,
           0.04719318095618287,
           0.00990710268421331,
           0.014289821822013361,
           0.013337421942949781,
           0.010287846718933473,
           -0.025168787731618347,
           -0.03446519006905956
          ],
          [
           -0.0024888930871313428,
           0.084796466984274,
           0.004865024356059481,
           0.29811157145328804,
           1,
           0.003071445792970243,
           -0.0003174344101142481,
           -0.0006051822906358905,
           0.0014550225273107149,
           0.0027076247259502388,
           -0.0006548367632782869,
           -0.0020833071547548686
          ],
          [
           0.4236625925475664,
           0.08382291628018669,
           0.10067574444486038,
           0.04719318095618287,
           0.003071445792970243,
           1,
           0.004775029005608344,
           0.008792534758469629,
           0.003003592726587801,
           -0.002723331627007578,
           -0.011285163673926802,
           -0.010205517609922506
          ],
          [
           0.002436554343827704,
           -0.0010093892084547715,
           -0.0009258260099011735,
           0.00990710268421331,
           -0.0003174344101142481,
           0.004775029005608344,
           1,
           -0.1867205091572213,
           -0.18215702888206955,
           -0.17135322671677125,
           -0.1550092739061248,
           -0.16815245021912495
          ],
          [
           0.004826899635957054,
           0.0011429775328727332,
           0.005349193898592586,
           0.014289821822013361,
           -0.0006051822906358905,
           0.008792534758469629,
           -0.1867205091572213,
           1,
           -0.17899828224300512,
           -0.16838182653031608,
           -0.1523212907660309,
           -0.16523655402990853
          ],
          [
           0.0028180962350011535,
           0.0014784809620353265,
           0.004514633847449536,
           0.013337421942949781,
           0.0014550225273107149,
           0.003003592726587801,
           -0.18215702888206955,
           -0.17899828224300512,
           1,
           -0.1642665467024409,
           -0.14859853309878562,
           -0.16119814518430892
          ],
          [
           -0.0014684614224164598,
           -0.003575591945482127,
           0.0021926054569731956,
           0.010287846718933473,
           0.0027076247259502388,
           -0.002723331627007578,
           -0.17135322671677125,
           -0.16838182653031608,
           -0.1642665467024409,
           1,
           -0.13978509799002473,
           -0.1516374223243218
          ],
          [
           -0.006900020761788107,
           -0.0015348842498783006,
           -0.004358658301525909,
           -0.025168787731618347,
           -0.0006548367632782869,
           -0.011285163673926802,
           -0.1550092739061248,
           -0.1523212907660309,
           -0.14859853309878562,
           -0.13978509799002473,
           1,
           -0.13717399538570835
          ],
          [
           -0.006175933120871302,
           0.0016516368551159925,
           -0.013567967361228247,
           -0.03446519006905956,
           -0.0020833071547548686,
           -0.010205517609922506,
           -0.16815245021912495,
           -0.16523655402990853,
           -0.16119814518430892,
           -0.1516374223243218,
           -0.13717399538570835,
           1
          ]
         ]
        }
       ],
       "layout": {
        "autosize": true,
        "template": {
         "data": {
          "bar": [
           {
            "error_x": {
             "color": "#2a3f5f"
            },
            "error_y": {
             "color": "#2a3f5f"
            },
            "marker": {
             "line": {
              "color": "#E5ECF6",
              "width": 0.5
             }
            },
            "type": "bar"
           }
          ],
          "barpolar": [
           {
            "marker": {
             "line": {
              "color": "#E5ECF6",
              "width": 0.5
             }
            },
            "type": "barpolar"
           }
          ],
          "carpet": [
           {
            "aaxis": {
             "endlinecolor": "#2a3f5f",
             "gridcolor": "white",
             "linecolor": "white",
             "minorgridcolor": "white",
             "startlinecolor": "#2a3f5f"
            },
            "baxis": {
             "endlinecolor": "#2a3f5f",
             "gridcolor": "white",
             "linecolor": "white",
             "minorgridcolor": "white",
             "startlinecolor": "#2a3f5f"
            },
            "type": "carpet"
           }
          ],
          "choropleth": [
           {
            "colorbar": {
             "outlinewidth": 0,
             "ticks": ""
            },
            "type": "choropleth"
           }
          ],
          "contour": [
           {
            "colorbar": {
             "outlinewidth": 0,
             "ticks": ""
            },
            "colorscale": [
             [
              0,
              "#0d0887"
             ],
             [
              0.1111111111111111,
              "#46039f"
             ],
             [
              0.2222222222222222,
              "#7201a8"
             ],
             [
              0.3333333333333333,
              "#9c179e"
             ],
             [
              0.4444444444444444,
              "#bd3786"
             ],
             [
              0.5555555555555556,
              "#d8576b"
             ],
             [
              0.6666666666666666,
              "#ed7953"
             ],
             [
              0.7777777777777778,
              "#fb9f3a"
             ],
             [
              0.8888888888888888,
              "#fdca26"
             ],
             [
              1,
              "#f0f921"
             ]
            ],
            "type": "contour"
           }
          ],
          "contourcarpet": [
           {
            "colorbar": {
             "outlinewidth": 0,
             "ticks": ""
            },
            "type": "contourcarpet"
           }
          ],
          "heatmap": [
           {
            "colorbar": {
             "outlinewidth": 0,
             "ticks": ""
            },
            "colorscale": [
             [
              0,
              "#0d0887"
             ],
             [
              0.1111111111111111,
              "#46039f"
             ],
             [
              0.2222222222222222,
              "#7201a8"
             ],
             [
              0.3333333333333333,
              "#9c179e"
             ],
             [
              0.4444444444444444,
              "#bd3786"
             ],
             [
              0.5555555555555556,
              "#d8576b"
             ],
             [
              0.6666666666666666,
              "#ed7953"
             ],
             [
              0.7777777777777778,
              "#fb9f3a"
             ],
             [
              0.8888888888888888,
              "#fdca26"
             ],
             [
              1,
              "#f0f921"
             ]
            ],
            "type": "heatmap"
           }
          ],
          "heatmapgl": [
           {
            "colorbar": {
             "outlinewidth": 0,
             "ticks": ""
            },
            "colorscale": [
             [
              0,
              "#0d0887"
             ],
             [
              0.1111111111111111,
              "#46039f"
             ],
             [
              0.2222222222222222,
              "#7201a8"
             ],
             [
              0.3333333333333333,
              "#9c179e"
             ],
             [
              0.4444444444444444,
              "#bd3786"
             ],
             [
              0.5555555555555556,
              "#d8576b"
             ],
             [
              0.6666666666666666,
              "#ed7953"
             ],
             [
              0.7777777777777778,
              "#fb9f3a"
             ],
             [
              0.8888888888888888,
              "#fdca26"
             ],
             [
              1,
              "#f0f921"
             ]
            ],
            "type": "heatmapgl"
           }
          ],
          "histogram": [
           {
            "marker": {
             "colorbar": {
              "outlinewidth": 0,
              "ticks": ""
             }
            },
            "type": "histogram"
           }
          ],
          "histogram2d": [
           {
            "colorbar": {
             "outlinewidth": 0,
             "ticks": ""
            },
            "colorscale": [
             [
              0,
              "#0d0887"
             ],
             [
              0.1111111111111111,
              "#46039f"
             ],
             [
              0.2222222222222222,
              "#7201a8"
             ],
             [
              0.3333333333333333,
              "#9c179e"
             ],
             [
              0.4444444444444444,
              "#bd3786"
             ],
             [
              0.5555555555555556,
              "#d8576b"
             ],
             [
              0.6666666666666666,
              "#ed7953"
             ],
             [
              0.7777777777777778,
              "#fb9f3a"
             ],
             [
              0.8888888888888888,
              "#fdca26"
             ],
             [
              1,
              "#f0f921"
             ]
            ],
            "type": "histogram2d"
           }
          ],
          "histogram2dcontour": [
           {
            "colorbar": {
             "outlinewidth": 0,
             "ticks": ""
            },
            "colorscale": [
             [
              0,
              "#0d0887"
             ],
             [
              0.1111111111111111,
              "#46039f"
             ],
             [
              0.2222222222222222,
              "#7201a8"
             ],
             [
              0.3333333333333333,
              "#9c179e"
             ],
             [
              0.4444444444444444,
              "#bd3786"
             ],
             [
              0.5555555555555556,
              "#d8576b"
             ],
             [
              0.6666666666666666,
              "#ed7953"
             ],
             [
              0.7777777777777778,
              "#fb9f3a"
             ],
             [
              0.8888888888888888,
              "#fdca26"
             ],
             [
              1,
              "#f0f921"
             ]
            ],
            "type": "histogram2dcontour"
           }
          ],
          "mesh3d": [
           {
            "colorbar": {
             "outlinewidth": 0,
             "ticks": ""
            },
            "type": "mesh3d"
           }
          ],
          "parcoords": [
           {
            "line": {
             "colorbar": {
              "outlinewidth": 0,
              "ticks": ""
             }
            },
            "type": "parcoords"
           }
          ],
          "pie": [
           {
            "automargin": true,
            "type": "pie"
           }
          ],
          "scatter": [
           {
            "marker": {
             "colorbar": {
              "outlinewidth": 0,
              "ticks": ""
             }
            },
            "type": "scatter"
           }
          ],
          "scatter3d": [
           {
            "line": {
             "colorbar": {
              "outlinewidth": 0,
              "ticks": ""
             }
            },
            "marker": {
             "colorbar": {
              "outlinewidth": 0,
              "ticks": ""
             }
            },
            "type": "scatter3d"
           }
          ],
          "scattercarpet": [
           {
            "marker": {
             "colorbar": {
              "outlinewidth": 0,
              "ticks": ""
             }
            },
            "type": "scattercarpet"
           }
          ],
          "scattergeo": [
           {
            "marker": {
             "colorbar": {
              "outlinewidth": 0,
              "ticks": ""
             }
            },
            "type": "scattergeo"
           }
          ],
          "scattergl": [
           {
            "marker": {
             "colorbar": {
              "outlinewidth": 0,
              "ticks": ""
             }
            },
            "type": "scattergl"
           }
          ],
          "scattermapbox": [
           {
            "marker": {
             "colorbar": {
              "outlinewidth": 0,
              "ticks": ""
             }
            },
            "type": "scattermapbox"
           }
          ],
          "scatterpolar": [
           {
            "marker": {
             "colorbar": {
              "outlinewidth": 0,
              "ticks": ""
             }
            },
            "type": "scatterpolar"
           }
          ],
          "scatterpolargl": [
           {
            "marker": {
             "colorbar": {
              "outlinewidth": 0,
              "ticks": ""
             }
            },
            "type": "scatterpolargl"
           }
          ],
          "scatterternary": [
           {
            "marker": {
             "colorbar": {
              "outlinewidth": 0,
              "ticks": ""
             }
            },
            "type": "scatterternary"
           }
          ],
          "surface": [
           {
            "colorbar": {
             "outlinewidth": 0,
             "ticks": ""
            },
            "colorscale": [
             [
              0,
              "#0d0887"
             ],
             [
              0.1111111111111111,
              "#46039f"
             ],
             [
              0.2222222222222222,
              "#7201a8"
             ],
             [
              0.3333333333333333,
              "#9c179e"
             ],
             [
              0.4444444444444444,
              "#bd3786"
             ],
             [
              0.5555555555555556,
              "#d8576b"
             ],
             [
              0.6666666666666666,
              "#ed7953"
             ],
             [
              0.7777777777777778,
              "#fb9f3a"
             ],
             [
              0.8888888888888888,
              "#fdca26"
             ],
             [
              1,
              "#f0f921"
             ]
            ],
            "type": "surface"
           }
          ],
          "table": [
           {
            "cells": {
             "fill": {
              "color": "#EBF0F8"
             },
             "line": {
              "color": "white"
             }
            },
            "header": {
             "fill": {
              "color": "#C8D4E3"
             },
             "line": {
              "color": "white"
             }
            },
            "type": "table"
           }
          ]
         },
         "layout": {
          "annotationdefaults": {
           "arrowcolor": "#2a3f5f",
           "arrowhead": 0,
           "arrowwidth": 1
          },
          "coloraxis": {
           "colorbar": {
            "outlinewidth": 0,
            "ticks": ""
           }
          },
          "colorscale": {
           "diverging": [
            [
             0,
             "#8e0152"
            ],
            [
             0.1,
             "#c51b7d"
            ],
            [
             0.2,
             "#de77ae"
            ],
            [
             0.3,
             "#f1b6da"
            ],
            [
             0.4,
             "#fde0ef"
            ],
            [
             0.5,
             "#f7f7f7"
            ],
            [
             0.6,
             "#e6f5d0"
            ],
            [
             0.7,
             "#b8e186"
            ],
            [
             0.8,
             "#7fbc41"
            ],
            [
             0.9,
             "#4d9221"
            ],
            [
             1,
             "#276419"
            ]
           ],
           "sequential": [
            [
             0,
             "#0d0887"
            ],
            [
             0.1111111111111111,
             "#46039f"
            ],
            [
             0.2222222222222222,
             "#7201a8"
            ],
            [
             0.3333333333333333,
             "#9c179e"
            ],
            [
             0.4444444444444444,
             "#bd3786"
            ],
            [
             0.5555555555555556,
             "#d8576b"
            ],
            [
             0.6666666666666666,
             "#ed7953"
            ],
            [
             0.7777777777777778,
             "#fb9f3a"
            ],
            [
             0.8888888888888888,
             "#fdca26"
            ],
            [
             1,
             "#f0f921"
            ]
           ],
           "sequentialminus": [
            [
             0,
             "#0d0887"
            ],
            [
             0.1111111111111111,
             "#46039f"
            ],
            [
             0.2222222222222222,
             "#7201a8"
            ],
            [
             0.3333333333333333,
             "#9c179e"
            ],
            [
             0.4444444444444444,
             "#bd3786"
            ],
            [
             0.5555555555555556,
             "#d8576b"
            ],
            [
             0.6666666666666666,
             "#ed7953"
            ],
            [
             0.7777777777777778,
             "#fb9f3a"
            ],
            [
             0.8888888888888888,
             "#fdca26"
            ],
            [
             1,
             "#f0f921"
            ]
           ]
          },
          "colorway": [
           "#636efa",
           "#EF553B",
           "#00cc96",
           "#ab63fa",
           "#FFA15A",
           "#19d3f3",
           "#FF6692",
           "#B6E880",
           "#FF97FF",
           "#FECB52"
          ],
          "font": {
           "color": "#2a3f5f"
          },
          "geo": {
           "bgcolor": "white",
           "lakecolor": "white",
           "landcolor": "#E5ECF6",
           "showlakes": true,
           "showland": true,
           "subunitcolor": "white"
          },
          "hoverlabel": {
           "align": "left"
          },
          "hovermode": "closest",
          "mapbox": {
           "style": "light"
          },
          "paper_bgcolor": "white",
          "plot_bgcolor": "#E5ECF6",
          "polar": {
           "angularaxis": {
            "gridcolor": "white",
            "linecolor": "white",
            "ticks": ""
           },
           "bgcolor": "#E5ECF6",
           "radialaxis": {
            "gridcolor": "white",
            "linecolor": "white",
            "ticks": ""
           }
          },
          "scene": {
           "xaxis": {
            "backgroundcolor": "#E5ECF6",
            "gridcolor": "white",
            "gridwidth": 2,
            "linecolor": "white",
            "showbackground": true,
            "ticks": "",
            "zerolinecolor": "white"
           },
           "yaxis": {
            "backgroundcolor": "#E5ECF6",
            "gridcolor": "white",
            "gridwidth": 2,
            "linecolor": "white",
            "showbackground": true,
            "ticks": "",
            "zerolinecolor": "white"
           },
           "zaxis": {
            "backgroundcolor": "#E5ECF6",
            "gridcolor": "white",
            "gridwidth": 2,
            "linecolor": "white",
            "showbackground": true,
            "ticks": "",
            "zerolinecolor": "white"
           }
          },
          "shapedefaults": {
           "line": {
            "color": "#2a3f5f"
           }
          },
          "ternary": {
           "aaxis": {
            "gridcolor": "white",
            "linecolor": "white",
            "ticks": ""
           },
           "baxis": {
            "gridcolor": "white",
            "linecolor": "white",
            "ticks": ""
           },
           "bgcolor": "#E5ECF6",
           "caxis": {
            "gridcolor": "white",
            "linecolor": "white",
            "ticks": ""
           }
          },
          "title": {
           "x": 0.05
          },
          "xaxis": {
           "automargin": true,
           "gridcolor": "white",
           "linecolor": "white",
           "ticks": "",
           "title": {
            "standoff": 15
           },
           "zerolinecolor": "white",
           "zerolinewidth": 2
          },
          "yaxis": {
           "automargin": true,
           "gridcolor": "white",
           "linecolor": "white",
           "ticks": "",
           "title": {
            "standoff": 15
           },
           "zerolinecolor": "white",
           "zerolinewidth": 2
          }
         }
        },
        "xaxis": {
         "autorange": true,
         "range": [
          -0.5,
          11.5
         ],
         "type": "category"
        },
        "yaxis": {
         "autorange": true,
         "range": [
          -0.5,
          11.5
         ],
         "type": "category"
        }
       }
      },
      "image/png": "[encoded data removed]",
      "text/html": [
       "<div>\n",
       "        \n",
       "        \n",
       "            <div id=\"cb5e7b11-00b0-4f5b-831e-d8079b71a221\" class=\"plotly-graph-div\" style=\"height:525px; width:100%;\"></div>\n",
       "            <script type=\"text/javascript\">\n",
       "                require([\"plotly\"], function(Plotly) {\n",
       "                    window.PLOTLYENV=window.PLOTLYENV || {};\n",
       "                    \n",
       "                if (document.getElementById(\"cb5e7b11-00b0-4f5b-831e-d8079b71a221\")) {\n",
       "                    Plotly.newPlot(\n",
       "                        'cb5e7b11-00b0-4f5b-831e-d8079b71a221',\n",
       "                        [{\"type\": \"heatmap\", \"x\": [\"addtocart\", \"view\", \"historical_purchases\", \"previous_visits\", \"prev_item_views\", \"converted\", \"weekday__1\", \"weekday__2\", \"weekday__3\", \"weekday__4\", \"weekday__5\", \"weekday__6\"], \"y\": [\"addtocart\", \"view\", \"historical_purchases\", \"previous_visits\", \"prev_item_views\", \"converted\", \"weekday__1\", \"weekday__2\", \"weekday__3\", \"weekday__4\", \"weekday__5\", \"weekday__6\"], \"z\": [[1.0, 0.10301986216385302, 0.051586523145138966, 0.024534724530828916, -0.0024888930871313428, 0.4236625925475664, 0.002436554343827704, 0.004826899635957054, 0.0028180962350011535, -0.0014684614224164598, -0.006900020761788107, -0.006175933120871302], [0.10301986216385302, 1.0, 0.013736544375924682, 0.0360153176809237, 0.084796466984274, 0.08382291628018669, -0.0010093892084547715, 0.0011429775328727332, 0.0014784809620353265, -0.003575591945482127, -0.0015348842498783006, 0.0016516368551159925], [0.051586523145138966, 0.013736544375924682, 1.0, 0.384034847676381, 0.004865024356059481, 0.10067574444486038, -0.0009258260099011735, 0.005349193898592586, 0.004514633847449536, 0.0021926054569731956, -0.004358658301525909, -0.013567967361228247], [0.024534724530828916, 0.0360153176809237, 0.384034847676381, 1.0, 0.29811157145328804, 0.04719318095618287, 0.00990710268421331, 0.014289821822013361, 0.013337421942949781, 0.010287846718933473, -0.025168787731618347, -0.03446519006905956], [-0.0024888930871313428, 0.084796466984274, 0.004865024356059481, 0.29811157145328804, 1.0, 0.003071445792970243, -0.0003174344101142481, -0.0006051822906358905, 0.0014550225273107149, 0.0027076247259502388, -0.0006548367632782869, -0.0020833071547548686], [0.4236625925475664, 0.08382291628018669, 0.10067574444486038, 0.04719318095618287, 0.003071445792970243, 1.0, 0.004775029005608344, 0.008792534758469629, 0.003003592726587801, -0.002723331627007578, -0.011285163673926802, -0.010205517609922506], [0.002436554343827704, -0.0010093892084547715, -0.0009258260099011735, 0.00990710268421331, -0.0003174344101142481, 0.004775029005608344, 1.0, -0.1867205091572213, -0.18215702888206955, -0.17135322671677125, -0.1550092739061248, -0.16815245021912495], [0.004826899635957054, 0.0011429775328727332, 0.005349193898592586, 0.014289821822013361, -0.0006051822906358905, 0.008792534758469629, -0.1867205091572213, 1.0, -0.17899828224300512, -0.16838182653031608, -0.1523212907660309, -0.16523655402990853], [0.0028180962350011535, 0.0014784809620353265, 0.004514633847449536, 0.013337421942949781, 0.0014550225273107149, 0.003003592726587801, -0.18215702888206955, -0.17899828224300512, 1.0, -0.1642665467024409, -0.14859853309878562, -0.16119814518430892], [-0.0014684614224164598, -0.003575591945482127, 0.0021926054569731956, 0.010287846718933473, 0.0027076247259502388, -0.002723331627007578, -0.17135322671677125, -0.16838182653031608, -0.1642665467024409, 1.0, -0.13978509799002473, -0.1516374223243218], [-0.006900020761788107, -0.0015348842498783006, -0.004358658301525909, -0.025168787731618347, -0.0006548367632782869, -0.011285163673926802, -0.1550092739061248, -0.1523212907660309, -0.14859853309878562, -0.13978509799002473, 1.0, -0.13717399538570835], [-0.006175933120871302, 0.0016516368551159925, -0.013567967361228247, -0.03446519006905956, -0.0020833071547548686, -0.010205517609922506, -0.16815245021912495, -0.16523655402990853, -0.16119814518430892, -0.1516374223243218, -0.13717399538570835, 1.0]]}],\n",
       "                        {\"template\": {\"data\": {\"bar\": [{\"error_x\": {\"color\": \"#2a3f5f\"}, \"error_y\": {\"color\": \"#2a3f5f\"}, \"marker\": {\"line\": {\"color\": \"#E5ECF6\", \"width\": 0.5}}, \"type\": \"bar\"}], \"barpolar\": [{\"marker\": {\"line\": {\"color\": \"#E5ECF6\", \"width\": 0.5}}, \"type\": \"barpolar\"}], \"carpet\": [{\"aaxis\": {\"endlinecolor\": \"#2a3f5f\", \"gridcolor\": \"white\", \"linecolor\": \"white\", \"minorgridcolor\": \"white\", \"startlinecolor\": \"#2a3f5f\"}, \"baxis\": {\"endlinecolor\": \"#2a3f5f\", \"gridcolor\": \"white\", \"linecolor\": \"white\", \"minorgridcolor\": \"white\", \"startlinecolor\": \"#2a3f5f\"}, \"type\": \"carpet\"}], \"choropleth\": [{\"colorbar\": {\"outlinewidth\": 0, \"ticks\": \"\"}, \"type\": \"choropleth\"}], \"contour\": [{\"colorbar\": {\"outlinewidth\": 0, \"ticks\": \"\"}, \"colorscale\": [[0.0, \"#0d0887\"], [0.1111111111111111, \"#46039f\"], [0.2222222222222222, \"#7201a8\"], [0.3333333333333333, \"#9c179e\"], [0.4444444444444444, \"#bd3786\"], [0.5555555555555556, \"#d8576b\"], [0.6666666666666666, \"#ed7953\"], [0.7777777777777778, \"#fb9f3a\"], [0.8888888888888888, \"#fdca26\"], [1.0, \"#f0f921\"]], \"type\": \"contour\"}], \"contourcarpet\": [{\"colorbar\": {\"outlinewidth\": 0, \"ticks\": \"\"}, \"type\": \"contourcarpet\"}], \"heatmap\": [{\"colorbar\": {\"outlinewidth\": 0, \"ticks\": \"\"}, \"colorscale\": [[0.0, \"#0d0887\"], [0.1111111111111111, \"#46039f\"], [0.2222222222222222, \"#7201a8\"], [0.3333333333333333, \"#9c179e\"], [0.4444444444444444, \"#bd3786\"], [0.5555555555555556, \"#d8576b\"], [0.6666666666666666, \"#ed7953\"], [0.7777777777777778, \"#fb9f3a\"], [0.8888888888888888, \"#fdca26\"], [1.0, \"#f0f921\"]], \"type\": \"heatmap\"}], \"heatmapgl\": [{\"colorbar\": {\"outlinewidth\": 0, \"ticks\": \"\"}, \"colorscale\": [[0.0, \"#0d0887\"], [0.1111111111111111, \"#46039f\"], [0.2222222222222222, \"#7201a8\"], [0.3333333333333333, \"#9c179e\"], [0.4444444444444444, \"#bd3786\"], [0.5555555555555556, \"#d8576b\"], [0.6666666666666666, \"#ed7953\"], [0.7777777777777778, \"#fb9f3a\"], [0.8888888888888888, \"#fdca26\"], [1.0, \"#f0f921\"]], \"type\": \"heatmapgl\"}], \"histogram\": [{\"marker\": {\"colorbar\": {\"outlinewidth\": 0, \"ticks\": \"\"}}, \"type\": \"histogram\"}], \"histogram2d\": [{\"colorbar\": {\"outlinewidth\": 0, \"ticks\": \"\"}, \"colorscale\": [[0.0, \"#0d0887\"], [0.1111111111111111, \"#46039f\"], [0.2222222222222222, \"#7201a8\"], [0.3333333333333333, \"#9c179e\"], [0.4444444444444444, \"#bd3786\"], [0.5555555555555556, \"#d8576b\"], [0.6666666666666666, \"#ed7953\"], [0.7777777777777778, \"#fb9f3a\"], [0.8888888888888888, \"#fdca26\"], [1.0, \"#f0f921\"]], \"type\": \"histogram2d\"}], \"histogram2dcontour\": [{\"colorbar\": {\"outlinewidth\": 0, \"ticks\": \"\"}, \"colorscale\": [[0.0, \"#0d0887\"], [0.1111111111111111, \"#46039f\"], [0.2222222222222222, \"#7201a8\"], [0.3333333333333333, \"#9c179e\"], [0.4444444444444444, \"#bd3786\"], [0.5555555555555556, \"#d8576b\"], [0.6666666666666666, \"#ed7953\"], [0.7777777777777778, \"#fb9f3a\"], [0.8888888888888888, \"#fdca26\"], [1.0, \"#f0f921\"]], \"type\": \"histogram2dcontour\"}], \"mesh3d\": [{\"colorbar\": {\"outlinewidth\": 0, \"ticks\": \"\"}, \"type\": \"mesh3d\"}], \"parcoords\": [{\"line\": {\"colorbar\": {\"outlinewidth\": 0, \"ticks\": \"\"}}, \"type\": \"parcoords\"}], \"pie\": [{\"automargin\": true, \"type\": \"pie\"}], \"scatter\": [{\"marker\": {\"colorbar\": {\"outlinewidth\": 0, \"ticks\": \"\"}}, \"type\": \"scatter\"}], \"scatter3d\": [{\"line\": {\"colorbar\": {\"outlinewidth\": 0, \"ticks\": \"\"}}, \"marker\": {\"colorbar\": {\"outlinewidth\": 0, \"ticks\": \"\"}}, \"type\": \"scatter3d\"}], \"scattercarpet\": [{\"marker\": {\"colorbar\": {\"outlinewidth\": 0, \"ticks\": \"\"}}, \"type\": \"scattercarpet\"}], \"scattergeo\": [{\"marker\": {\"colorbar\": {\"outlinewidth\": 0, \"ticks\": \"\"}}, \"type\": \"scattergeo\"}], \"scattergl\": [{\"marker\": {\"colorbar\": {\"outlinewidth\": 0, \"ticks\": \"\"}}, \"type\": \"scattergl\"}], \"scattermapbox\": [{\"marker\": {\"colorbar\": {\"outlinewidth\": 0, \"ticks\": \"\"}}, \"type\": \"scattermapbox\"}], \"scatterpolar\": [{\"marker\": {\"colorbar\": {\"outlinewidth\": 0, \"ticks\": \"\"}}, \"type\": \"scatterpolar\"}], \"scatterpolargl\": [{\"marker\": {\"colorbar\": {\"outlinewidth\": 0, \"ticks\": \"\"}}, \"type\": \"scatterpolargl\"}], \"scatterternary\": [{\"marker\": {\"colorbar\": {\"outlinewidth\": 0, \"ticks\": \"\"}}, \"type\": \"scatterternary\"}], \"surface\": [{\"colorbar\": {\"outlinewidth\": 0, \"ticks\": \"\"}, \"colorscale\": [[0.0, \"#0d0887\"], [0.1111111111111111, \"#46039f\"], [0.2222222222222222, \"#7201a8\"], [0.3333333333333333, \"#9c179e\"], [0.4444444444444444, \"#bd3786\"], [0.5555555555555556, \"#d8576b\"], [0.6666666666666666, \"#ed7953\"], [0.7777777777777778, \"#fb9f3a\"], [0.8888888888888888, \"#fdca26\"], [1.0, \"#f0f921\"]], \"type\": \"surface\"}], \"table\": [{\"cells\": {\"fill\": {\"color\": \"#EBF0F8\"}, \"line\": {\"color\": \"white\"}}, \"header\": {\"fill\": {\"color\": \"#C8D4E3\"}, \"line\": {\"color\": \"white\"}}, \"type\": \"table\"}]}, \"layout\": {\"annotationdefaults\": {\"arrowcolor\": \"#2a3f5f\", \"arrowhead\": 0, \"arrowwidth\": 1}, \"coloraxis\": {\"colorbar\": {\"outlinewidth\": 0, \"ticks\": \"\"}}, \"colorscale\": {\"diverging\": [[0, \"#8e0152\"], [0.1, \"#c51b7d\"], [0.2, \"#de77ae\"], [0.3, \"#f1b6da\"], [0.4, \"#fde0ef\"], [0.5, \"#f7f7f7\"], [0.6, \"#e6f5d0\"], [0.7, \"#b8e186\"], [0.8, \"#7fbc41\"], [0.9, \"#4d9221\"], [1, \"#276419\"]], \"sequential\": [[0.0, \"#0d0887\"], [0.1111111111111111, \"#46039f\"], [0.2222222222222222, \"#7201a8\"], [0.3333333333333333, \"#9c179e\"], [0.4444444444444444, \"#bd3786\"], [0.5555555555555556, \"#d8576b\"], [0.6666666666666666, \"#ed7953\"], [0.7777777777777778, \"#fb9f3a\"], [0.8888888888888888, \"#fdca26\"], [1.0, \"#f0f921\"]], \"sequentialminus\": [[0.0, \"#0d0887\"], [0.1111111111111111, \"#46039f\"], [0.2222222222222222, \"#7201a8\"], [0.3333333333333333, \"#9c179e\"], [0.4444444444444444, \"#bd3786\"], [0.5555555555555556, \"#d8576b\"], [0.6666666666666666, \"#ed7953\"], [0.7777777777777778, \"#fb9f3a\"], [0.8888888888888888, \"#fdca26\"], [1.0, \"#f0f921\"]]}, \"colorway\": [\"#636efa\", \"#EF553B\", \"#00cc96\", \"#ab63fa\", \"#FFA15A\", \"#19d3f3\", \"#FF6692\", \"#B6E880\", \"#FF97FF\", \"#FECB52\"], \"font\": {\"color\": \"#2a3f5f\"}, \"geo\": {\"bgcolor\": \"white\", \"lakecolor\": \"white\", \"landcolor\": \"#E5ECF6\", \"showlakes\": true, \"showland\": true, \"subunitcolor\": \"white\"}, \"hoverlabel\": {\"align\": \"left\"}, \"hovermode\": \"closest\", \"mapbox\": {\"style\": \"light\"}, \"paper_bgcolor\": \"white\", \"plot_bgcolor\": \"#E5ECF6\", \"polar\": {\"angularaxis\": {\"gridcolor\": \"white\", \"linecolor\": \"white\", \"ticks\": \"\"}, \"bgcolor\": \"#E5ECF6\", \"radialaxis\": {\"gridcolor\": \"white\", \"linecolor\": \"white\", \"ticks\": \"\"}}, \"scene\": {\"xaxis\": {\"backgroundcolor\": \"#E5ECF6\", \"gridcolor\": \"white\", \"gridwidth\": 2, \"linecolor\": \"white\", \"showbackground\": true, \"ticks\": \"\", \"zerolinecolor\": \"white\"}, \"yaxis\": {\"backgroundcolor\": \"#E5ECF6\", \"gridcolor\": \"white\", \"gridwidth\": 2, \"linecolor\": \"white\", \"showbackground\": true, \"ticks\": \"\", \"zerolinecolor\": \"white\"}, \"zaxis\": {\"backgroundcolor\": \"#E5ECF6\", \"gridcolor\": \"white\", \"gridwidth\": 2, \"linecolor\": \"white\", \"showbackground\": true, \"ticks\": \"\", \"zerolinecolor\": \"white\"}}, \"shapedefaults\": {\"line\": {\"color\": \"#2a3f5f\"}}, \"ternary\": {\"aaxis\": {\"gridcolor\": \"white\", \"linecolor\": \"white\", \"ticks\": \"\"}, \"baxis\": {\"gridcolor\": \"white\", \"linecolor\": \"white\", \"ticks\": \"\"}, \"bgcolor\": \"#E5ECF6\", \"caxis\": {\"gridcolor\": \"white\", \"linecolor\": \"white\", \"ticks\": \"\"}}, \"title\": {\"x\": 0.05}, \"xaxis\": {\"automargin\": true, \"gridcolor\": \"white\", \"linecolor\": \"white\", \"ticks\": \"\", \"title\": {\"standoff\": 15}, \"zerolinecolor\": \"white\", \"zerolinewidth\": 2}, \"yaxis\": {\"automargin\": true, \"gridcolor\": \"white\", \"linecolor\": \"white\", \"ticks\": \"\", \"title\": {\"standoff\": 15}, \"zerolinecolor\": \"white\", \"zerolinewidth\": 2}}}},\n",
       "                        {\"responsive\": true}\n",
       "                    ).then(function(){\n",
       "                            \n",
       "var gd = document.getElementById('cb5e7b11-00b0-4f5b-831e-d8079b71a221');\n",
       "var x = new MutationObserver(function (mutations, observer) {{\n",
       "        var display = window.getComputedStyle(gd).display;\n",
       "        if (!display || display === 'none') {{\n",
       "            console.log([gd, 'removed!']);\n",
       "            Plotly.purge(gd);\n",
       "            observer.disconnect();\n",
       "        }}\n",
       "}});\n",
       "\n",
       "// Listen for the removal of the full notebook cells\n",
       "var notebookContainer = gd.closest('#notebook-container');\n",
       "if (notebookContainer) {{\n",
       "    x.observe(notebookContainer, {childList: true});\n",
       "}}\n",
       "\n",
       "// Listen for the clearing of the current output cell\n",
       "var outputEl = gd.closest('.output');\n",
       "if (outputEl) {{\n",
       "    x.observe(outputEl, {childList: true});\n",
       "}}\n",
       "\n",
       "                        })\n",
       "                };\n",
       "                });\n",
       "            </script>\n",
       "        </div>"
      ]
     },
     "metadata": {},
     "output_type": "display_data"
    }
   ],
   "source": [
    "def df_to_plotly(df):\n",
    "    return {'z': df.values.tolist(),\n",
    "            'x': df.columns.tolist(),\n",
    "            'y': df.index.tolist()}\n",
    "\n",
    "fig = go.Figure(data=go.Heatmap(df_to_plotly(corrmap)))\n",
    "fig.show()"
   ]
  },
  {
   "cell_type": "markdown",
   "metadata": {},
   "source": [
    "# Training Different Models"
   ]
  },
  {
   "cell_type": "markdown",
   "metadata": {},
   "source": [
    "We're testing a couple of basic models (LogisticRegression and RandomForest) to get a baseline performance value of our dataset."
   ]
  },
  {
   "cell_type": "code",
   "execution_count": 63,
   "metadata": {},
   "outputs": [],
   "source": [
    "# pipeline to extract weekday\n",
    "wkday_pipeline = make_pipeline(\n",
    "    WeekdayExtractor(), OneHotEncoder())\n",
    "\n",
    "# bring in simpleimputer in case we ever have a case of missing numeric data.\n",
    "num_pipeline = make_pipeline(SimpleImputer(strategy=\"median\"), StandardScaler())\n",
    "\n",
    "# log_pipeline = make_pipeline(FunctionTransformer(np.log1p, validate=True))\n",
    "num_attribs = list(X_train.select_dtypes(include=[np.number]))\n",
    "cat_attribs = list(X_train.select_dtypes(include=object))\n",
    "\n",
    "full_pipeline = ColumnTransformer([\n",
    "        (\"wkday\", wkday_pipeline, 'date'),\n",
    "        (\"num\", num_pipeline, num_attribs),\n",
    "        (\"cat\", OneHotEncoder(), cat_attribs)\n",
    "    ])"
   ]
  },
  {
   "cell_type": "code",
   "execution_count": 64,
   "metadata": {},
   "outputs": [
    {
     "data": {
      "text/plain": [
       "(1747276, 1452)"
      ]
     },
     "execution_count": 64,
     "metadata": {},
     "output_type": "execute_result"
    }
   ],
   "source": [
    "df_prepared = full_pipeline.fit_transform(X_train)\n",
    "df_prepared.shape"
   ]
  },
  {
   "cell_type": "markdown",
   "metadata": {},
   "source": [
    "## Model Trial 1: Logistic Regression"
   ]
  },
  {
   "cell_type": "markdown",
   "metadata": {},
   "source": [
    "The first model we tried was a logistic regression. The logisitc regression did not preform very well. It yielded the following values: <br/> \n",
    "Precision:  0.382<br/> \n",
    "Recall:  0.11<br/> \n",
    "F1 Score:  0.17<br/>"
   ]
  },
  {
   "cell_type": "code",
   "execution_count": 65,
   "metadata": {},
   "outputs": [
    {
     "data": {
      "text/plain": [
       "LogisticRegression(C=1.0, class_weight=None, dual=False, fit_intercept=True,\n",
       "                   intercept_scaling=1, l1_ratio=None, max_iter=1000,\n",
       "                   multi_class='auto', n_jobs=-1, penalty='l2',\n",
       "                   random_state=None, solver='lbfgs', tol=0.0001, verbose=0,\n",
       "                   warm_start=False)"
      ]
     },
     "execution_count": 65,
     "metadata": {},
     "output_type": "execute_result"
    }
   ],
   "source": [
    "model = LogisticRegression(n_jobs=-1, max_iter=1000)\n",
    "model.fit(df_prepared, y_train)"
   ]
  },
  {
   "cell_type": "code",
   "execution_count": 66,
   "metadata": {},
   "outputs": [
    {
     "name": "stderr",
     "output_type": "stream",
     "text": [
      "[Parallel(n_jobs=1)]: Using backend SequentialBackend with 1 concurrent workers.\n",
      "[Parallel(n_jobs=1)]: Done   1 out of   1 | elapsed:  1.6min remaining:    0.0s\n",
      "[Parallel(n_jobs=1)]: Done   5 out of   5 | elapsed:  8.7min finished\n"
     ]
    }
   ],
   "source": [
    "# predict model\n",
    "y_train_pred = cross_val_predict(model, df_prepared, y_train, cv=5, verbose=2)"
   ]
  },
  {
   "cell_type": "code",
   "execution_count": 68,
   "metadata": {},
   "outputs": [
    {
     "name": "stdout",
     "output_type": "stream",
     "text": [
      "Precision:  0.3816779170684667\n",
      "Recall:  0.11092427554509277\n",
      "F1 Score:  0.17189264309910535\n"
     ]
    }
   ],
   "source": [
    "print('Precision: ', precision_score(y_train, y_train_pred))\n",
    "print('Recall: ', recall_score(y_train, y_train_pred))\n",
    "print('F1 Score: ', f1_score(y_train, y_train_pred))"
   ]
  },
  {
   "cell_type": "code",
   "execution_count": 69,
   "metadata": {},
   "outputs": [
    {
     "data": {
      "text/html": [
       "<div>\n",
       "<style scoped>\n",
       "    .dataframe tbody tr th:only-of-type {\n",
       "        vertical-align: middle;\n",
       "    }\n",
       "\n",
       "    .dataframe tbody tr th {\n",
       "        vertical-align: top;\n",
       "    }\n",
       "\n",
       "    .dataframe thead th {\n",
       "        text-align: right;\n",
       "    }\n",
       "</style>\n",
       "<table border=\"1\" class=\"dataframe\">\n",
       "  <thead>\n",
       "    <tr style=\"text-align: right;\">\n",
       "      <th></th>\n",
       "      <th>0</th>\n",
       "      <th>1</th>\n",
       "    </tr>\n",
       "  </thead>\n",
       "  <tbody>\n",
       "    <tr>\n",
       "      <th>0</th>\n",
       "      <td>1726229</td>\n",
       "      <td>3206</td>\n",
       "    </tr>\n",
       "    <tr>\n",
       "      <th>1</th>\n",
       "      <td>15862</td>\n",
       "      <td>1979</td>\n",
       "    </tr>\n",
       "  </tbody>\n",
       "</table>\n",
       "</div>"
      ],
      "text/plain": [
       "         0     1\n",
       "0  1726229  3206\n",
       "1    15862  1979"
      ]
     },
     "execution_count": 69,
     "metadata": {},
     "output_type": "execute_result"
    }
   ],
   "source": [
    "# confusion matrix\n",
    "cm = confusion_matrix(y_train, y_train_pred, labels=[0,1])\n",
    "pd.DataFrame(cm)"
   ]
  },
  {
   "cell_type": "markdown",
   "metadata": {},
   "source": [
    "## Model Trial 2: Random Forest"
   ]
  },
  {
   "cell_type": "markdown",
   "metadata": {},
   "source": [
    "Random Forest does not perform very well either, it has the following values:  <br/> \n",
    "Precision:  0.59 <br/> \n",
    "Recall:  0.35  <br/> \n",
    "F1 Score:  0.44 <br/> "
   ]
  },
  {
   "cell_type": "code",
   "execution_count": 83,
   "metadata": {},
   "outputs": [
    {
     "name": "stderr",
     "output_type": "stream",
     "text": [
      "[Parallel(n_jobs=1)]: Using backend SequentialBackend with 1 concurrent workers.\n",
      "[Parallel(n_jobs=1)]: Done   1 out of   1 | elapsed: 48.8min remaining:    0.0s\n",
      "[Parallel(n_jobs=1)]: Done   5 out of   5 | elapsed: 236.4min finished\n"
     ]
    },
    {
     "name": "stdout",
     "output_type": "stream",
     "text": [
      "RandomForestClassifier:\n",
      "Precision:  0.5930916682482444\n",
      "Recall:  0.3503166862844011\n",
      "F1 Score:  0.4404665421614575\n"
     ]
    }
   ],
   "source": [
    "rf_model = RandomForestClassifier()\n",
    "rf_model.fit(df_prepared, y_train)\n",
    "\n",
    "y_train_pred = cross_val_predict(rf_model, df_prepared, y_train, cv=5, verbose=2)\n",
    "\n",
    "print('RandomForestClassifier:')\n",
    "print('Precision: ', precision_score(y_train, y_train_pred))\n",
    "print('Recall: ', recall_score(y_train, y_train_pred))\n",
    "print('F1 Score: ', f1_score(y_train, y_train_pred))"
   ]
  },
  {
   "cell_type": "markdown",
   "metadata": {},
   "source": [
    "## Model Trial 3: XG Boost"
   ]
  },
  {
   "cell_type": "markdown",
   "metadata": {},
   "source": [
    "Now we try our intended model, XGB, with some hyperparameter tuning."
   ]
  },
  {
   "cell_type": "markdown",
   "metadata": {},
   "source": [
    "### XGBoost Baseline"
   ]
  },
  {
   "cell_type": "code",
   "execution_count": 44,
   "metadata": {},
   "outputs": [
    {
     "name": "stderr",
     "output_type": "stream",
     "text": [
      "[Parallel(n_jobs=1)]: Using backend SequentialBackend with 1 concurrent workers.\n",
      "[Parallel(n_jobs=1)]: Done   1 out of   1 | elapsed:  1.6min remaining:    0.0s\n",
      "[Parallel(n_jobs=1)]: Done   5 out of   5 | elapsed:  8.1min finished\n"
     ]
    }
   ],
   "source": [
    "#XGB Baseline will allow us to see how a model with no hypertuning will preform on our original dataset\n",
    "model=xgb.XGBClassifier(random_state=1,learning_rate=0.01)\n",
    "model.fit(df_prepared, y_train)\n",
    "y_train_pred = cross_val_predict(model, df_prepared, y_train, cv=5, verbose=2)"
   ]
  },
  {
   "cell_type": "code",
   "execution_count": 45,
   "metadata": {},
   "outputs": [
    {
     "name": "stdout",
     "output_type": "stream",
     "text": [
      "Accuracy:  0.991759744882892\n",
      "Precision:  0.7862963578912356\n",
      "Recall:  0.26500756684042376\n",
      "F1 Score:  0.3964115033118136\n"
     ]
    }
   ],
   "source": [
    "print ('Accuracy: ', accuracy_score(y_train, y_train_pred))\n",
    "print('Precision: ', precision_score(y_train, y_train_pred))\n",
    "print('Recall: ', recall_score(y_train, y_train_pred))\n",
    "print('F1 Score: ', f1_score(y_train, y_train_pred))"
   ]
  },
  {
   "cell_type": "code",
   "execution_count": 73,
   "metadata": {},
   "outputs": [
    {
     "data": {
      "image/png": "[encoded data removed]",
      "text/plain": [
       "<Figure size 432x288 with 1 Axes>"
      ]
     },
     "metadata": {
      "needs_background": "light"
     },
     "output_type": "display_data"
    }
   ],
   "source": [
    "# Feature Importance Test\n",
    "xgb.plot_importance(model)\n",
    "plt.rcParams['figure.figsize'] = [30, 30]\n",
    "plt.show()"
   ]
  },
  {
   "cell_type": "markdown",
   "metadata": {},
   "source": [
    "The baseline XGB gives us results that are not too terrible, however we will try to do some hypertuning to improve this because recall and f1 are very low. \n",
    "Accuracy:  0.99<br/>\n",
    "Precision:  0.79<br/>\n",
    "Recall:  0.27<br/>\n",
    "F1 Score:  0.396"
   ]
  },
  {
   "cell_type": "markdown",
   "metadata": {},
   "source": [
    "### Resampling the data"
   ]
  },
  {
   "cell_type": "markdown",
   "metadata": {},
   "source": [
    "We seem to have imbalanced data in our training set where 96% of the datapoints have no conversion. Lets try resampling the data to see if this improves our results"
   ]
  },
  {
   "cell_type": "markdown",
   "metadata": {},
   "source": [
    "### Random Undersampling"
   ]
  },
  {
   "cell_type": "code",
   "execution_count": 190,
   "metadata": {},
   "outputs": [
    {
     "data": {
      "text/plain": [
       "(1747276, 10)"
      ]
     },
     "execution_count": 190,
     "metadata": {},
     "output_type": "execute_result"
    }
   ],
   "source": [
    "df_resample = pd.concat([X_train, y_train], axis=1)\n",
    "df_resample.shape"
   ]
  },
  {
   "cell_type": "code",
   "execution_count": 191,
   "metadata": {},
   "outputs": [
    {
     "name": "stdout",
     "output_type": "stream",
     "text": [
      "Class 0: 1729435\n",
      "Class 1: 17841\n",
      "Proportion: 96.94 : 1\n"
     ]
    },
    {
     "data": {
      "text/plain": [
       "<matplotlib.axes._subplots.AxesSubplot at 0x2af3e1c3d48>"
      ]
     },
     "execution_count": 191,
     "metadata": {},
     "output_type": "execute_result"
    },
    {
     "data": {
      "image/png": "[encoded data removed]",
      "text/plain": [
       "<Figure size 288x216 with 1 Axes>"
      ]
     },
     "metadata": {
      "needs_background": "light"
     },
     "output_type": "display_data"
    }
   ],
   "source": [
    "plt.figure(figsize=(4,3))\n",
    "conversion_count = df_resample.converted.value_counts()\n",
    "print('Class 0:', conversion_count[0])\n",
    "print('Class 1:', conversion_count[1])\n",
    "print('Proportion:', round(conversion_count[0] / conversion_count[1], 2), ': 1')\n",
    "\n",
    "conversion_count.plot(kind='bar', title='Count (Conversion)')"
   ]
  },
  {
   "cell_type": "code",
   "execution_count": 194,
   "metadata": {},
   "outputs": [],
   "source": [
    "count_class_0, count_class_1 = df_resample.converted.value_counts()\n",
    "# Divide by class\n",
    "df_class_0 = df_resample[df_resample['converted'] == 0]\n",
    "df_class_1 = df_resample[df_resample['converted'] == 1]"
   ]
  },
  {
   "cell_type": "code",
   "execution_count": 195,
   "metadata": {},
   "outputs": [
    {
     "name": "stdout",
     "output_type": "stream",
     "text": [
      "Random under-sampling:\n",
      "1    17841\n",
      "0    17841\n",
      "Name: converted, dtype: int64\n"
     ]
    },
    {
     "data": {
      "text/html": [
       "<div>\n",
       "<style scoped>\n",
       "    .dataframe tbody tr th:only-of-type {\n",
       "        vertical-align: middle;\n",
       "    }\n",
       "\n",
       "    .dataframe tbody tr th {\n",
       "        vertical-align: top;\n",
       "    }\n",
       "\n",
       "    .dataframe thead th {\n",
       "        text-align: right;\n",
       "    }\n",
       "</style>\n",
       "<table border=\"1\" class=\"dataframe\">\n",
       "  <thead>\n",
       "    <tr style=\"text-align: right;\">\n",
       "      <th></th>\n",
       "      <th>date</th>\n",
       "      <th>categoryid</th>\n",
       "      <th>parentid</th>\n",
       "      <th>addtocart</th>\n",
       "      <th>view</th>\n",
       "      <th>historical_purchases</th>\n",
       "      <th>previous_visits</th>\n",
       "      <th>prev_item_views</th>\n",
       "      <th>DaysSinceLastVisit</th>\n",
       "      <th>converted</th>\n",
       "    </tr>\n",
       "  </thead>\n",
       "  <tbody>\n",
       "    <tr>\n",
       "      <td>1877054</td>\n",
       "      <td>2015-08-27</td>\n",
       "      <td>1580</td>\n",
       "      <td>441</td>\n",
       "      <td>0</td>\n",
       "      <td>1</td>\n",
       "      <td>0</td>\n",
       "      <td>0</td>\n",
       "      <td>0</td>\n",
       "      <td>0</td>\n",
       "      <td>0</td>\n",
       "    </tr>\n",
       "    <tr>\n",
       "      <td>105851</td>\n",
       "      <td>2015-05-09</td>\n",
       "      <td>406</td>\n",
       "      <td>872</td>\n",
       "      <td>0</td>\n",
       "      <td>1</td>\n",
       "      <td>0</td>\n",
       "      <td>0</td>\n",
       "      <td>0</td>\n",
       "      <td>0</td>\n",
       "      <td>0</td>\n",
       "    </tr>\n",
       "    <tr>\n",
       "      <td>2032986</td>\n",
       "      <td>2015-09-07</td>\n",
       "      <td>452</td>\n",
       "      <td>561</td>\n",
       "      <td>0</td>\n",
       "      <td>1</td>\n",
       "      <td>0</td>\n",
       "      <td>1</td>\n",
       "      <td>0</td>\n",
       "      <td>97</td>\n",
       "      <td>0</td>\n",
       "    </tr>\n",
       "    <tr>\n",
       "      <td>826576</td>\n",
       "      <td>2015-06-23</td>\n",
       "      <td>491</td>\n",
       "      <td>679</td>\n",
       "      <td>0</td>\n",
       "      <td>1</td>\n",
       "      <td>0</td>\n",
       "      <td>0</td>\n",
       "      <td>0</td>\n",
       "      <td>0</td>\n",
       "      <td>0</td>\n",
       "    </tr>\n",
       "    <tr>\n",
       "      <td>1077378</td>\n",
       "      <td>2015-07-08</td>\n",
       "      <td>1625</td>\n",
       "      <td>1141</td>\n",
       "      <td>0</td>\n",
       "      <td>1</td>\n",
       "      <td>0</td>\n",
       "      <td>0</td>\n",
       "      <td>0</td>\n",
       "      <td>0</td>\n",
       "      <td>0</td>\n",
       "    </tr>\n",
       "  </tbody>\n",
       "</table>\n",
       "</div>"
      ],
      "text/plain": [
       "              date categoryid parentid  addtocart  view  historical_purchases  \\\n",
       "1877054 2015-08-27       1580      441          0     1                     0   \n",
       "105851  2015-05-09        406      872          0     1                     0   \n",
       "2032986 2015-09-07        452      561          0     1                     0   \n",
       "826576  2015-06-23        491      679          0     1                     0   \n",
       "1077378 2015-07-08       1625     1141          0     1                     0   \n",
       "\n",
       "         previous_visits  prev_item_views  DaysSinceLastVisit  converted  \n",
       "1877054                0                0                   0          0  \n",
       "105851                 0                0                   0          0  \n",
       "2032986                1                0                  97          0  \n",
       "826576                 0                0                   0          0  \n",
       "1077378                0                0                   0          0  "
      ]
     },
     "execution_count": 195,
     "metadata": {},
     "output_type": "execute_result"
    },
    {
     "data": {
      "image/png": "[encoded data removed]",
      "text/plain": [
       "<Figure size 288x216 with 1 Axes>"
      ]
     },
     "metadata": {
      "needs_background": "light"
     },
     "output_type": "display_data"
    }
   ],
   "source": [
    "plt.figure(figsize=(4,3))\n",
    "df_class_0_under = df_class_0.sample(count_class_1)\n",
    "df_resample = pd.concat([df_class_0_under, df_class_1], axis=0)\n",
    "\n",
    "print('Random under-sampling:')\n",
    "print(df_resample.converted.value_counts())\n",
    "\n",
    "df_resample.converted.value_counts().plot(kind='bar', title='Count (conversion)');\n",
    "\n",
    "df_resample.head()"
   ]
  },
  {
   "cell_type": "code",
   "execution_count": 196,
   "metadata": {},
   "outputs": [],
   "source": [
    "#split x and y again \n",
    "y__train_resampled = df_resample['converted']\n",
    "df_resample.drop('converted', axis=1, inplace=True)"
   ]
  },
  {
   "cell_type": "code",
   "execution_count": 198,
   "metadata": {},
   "outputs": [
    {
     "data": {
      "text/plain": [
       "(35682, 1167)"
      ]
     },
     "execution_count": 198,
     "metadata": {},
     "output_type": "execute_result"
    }
   ],
   "source": [
    "# put x_train through the pipeline again\n",
    "df_prepared_resample = full_pipeline.fit_transform(df_resample)\n",
    "df_prepared_resample.shape"
   ]
  },
  {
   "cell_type": "code",
   "execution_count": 201,
   "metadata": {},
   "outputs": [
    {
     "name": "stderr",
     "output_type": "stream",
     "text": [
      "[Parallel(n_jobs=1)]: Using backend SequentialBackend with 1 concurrent workers.\n",
      "[Parallel(n_jobs=1)]: Done   1 out of   1 | elapsed:    1.6s remaining:    0.0s\n",
      "[Parallel(n_jobs=1)]: Done   5 out of   5 | elapsed:    7.9s finished\n"
     ]
    }
   ],
   "source": [
    "#XGB on resampled dataset\n",
    "model_resample=xgb.XGBClassifier(random_state=1,learning_rate=0.01)\n",
    "model_resample.fit(df_prepared_resample, y__train_resampled)\n",
    "y_train_pred_resample = cross_val_predict(model, df_prepared_resample, y__train_resampled, cv=5, verbose=2)"
   ]
  },
  {
   "cell_type": "code",
   "execution_count": 203,
   "metadata": {},
   "outputs": [
    {
     "name": "stdout",
     "output_type": "stream",
     "text": [
      "Accuracy:  0.9447900902415783\n",
      "Precision:  0.9687518459448284\n",
      "Recall:  0.9192309848102684\n",
      "F1 Score:  0.9433419614610297\n"
     ]
    }
   ],
   "source": [
    "print ('Accuracy: ', accuracy_score(y__train_resampled, y_train_pred_resample))\n",
    "print('Precision: ', precision_score(y__train_resampled, y_train_pred_resample))\n",
    "print('Recall: ', recall_score(y__train_resampled, y_train_pred_resample))\n",
    "print('F1 Score: ', f1_score(y__train_resampled, y_train_pred_resample))"
   ]
  },
  {
   "cell_type": "code",
   "execution_count": 204,
   "metadata": {},
   "outputs": [
    {
     "data": {
      "text/html": [
       "<div>\n",
       "<style scoped>\n",
       "    .dataframe tbody tr th:only-of-type {\n",
       "        vertical-align: middle;\n",
       "    }\n",
       "\n",
       "    .dataframe tbody tr th {\n",
       "        vertical-align: top;\n",
       "    }\n",
       "\n",
       "    .dataframe thead th {\n",
       "        text-align: right;\n",
       "    }\n",
       "</style>\n",
       "<table border=\"1\" class=\"dataframe\">\n",
       "  <thead>\n",
       "    <tr style=\"text-align: right;\">\n",
       "      <th></th>\n",
       "      <th>0</th>\n",
       "      <th>1</th>\n",
       "    </tr>\n",
       "  </thead>\n",
       "  <tbody>\n",
       "    <tr>\n",
       "      <td>0</td>\n",
       "      <td>17312</td>\n",
       "      <td>529</td>\n",
       "    </tr>\n",
       "    <tr>\n",
       "      <td>1</td>\n",
       "      <td>1441</td>\n",
       "      <td>16400</td>\n",
       "    </tr>\n",
       "  </tbody>\n",
       "</table>\n",
       "</div>"
      ],
      "text/plain": [
       "       0      1\n",
       "0  17312    529\n",
       "1   1441  16400"
      ]
     },
     "execution_count": 204,
     "metadata": {},
     "output_type": "execute_result"
    }
   ],
   "source": [
    "cm = confusion_matrix(y__train_resampled, y_train_pred_resample, labels=[0,1])\n",
    "pd.DataFrame(cm)"
   ]
  },
  {
   "cell_type": "markdown",
   "metadata": {},
   "source": [
    "Random sampling improves our results, however the dataset is very small and this will not make a good training set. We will resample our data using a more sophisiticated resampling method called SMOTE."
   ]
  },
  {
   "cell_type": "markdown",
   "metadata": {},
   "source": [
    "### SMOTE Sampling"
   ]
  },
  {
   "cell_type": "code",
   "execution_count": null,
   "metadata": {},
   "outputs": [],
   "source": [
    "#duplicating the data again for another resampling\n",
    "df_resample2 = X_train \n",
    "y_resample2 = y_train\n",
    "df_resample2 =  full_pipeline.fit_transform(df_resample2)"
   ]
  },
  {
   "cell_type": "code",
   "execution_count": 214,
   "metadata": {},
   "outputs": [
    {
     "name": "stderr",
     "output_type": "stream",
     "text": [
      "C:\\Users\\maria.tariq\\AppData\\Local\\Continuum\\anaconda3\\lib\\site-packages\\sklearn\\utils\\deprecation.py:87: FutureWarning: Function safe_indexing is deprecated; safe_indexing is deprecated in version 0.22 and will be removed in version 0.24.\n",
      "  warnings.warn(msg, category=FutureWarning)\n"
     ]
    }
   ],
   "source": [
    "sm = SMOTE(random_state=27, ratio=1.0)\n",
    "df_resample2, y_resample2 = sm.fit_sample(df_resample2, y_resample2)"
   ]
  },
  {
   "cell_type": "code",
   "execution_count": 221,
   "metadata": {},
   "outputs": [
    {
     "data": {
      "text/plain": [
       "(3458870,)"
      ]
     },
     "execution_count": 221,
     "metadata": {},
     "output_type": "execute_result"
    }
   ],
   "source": [
    "y_resample2.shape"
   ]
  },
  {
   "cell_type": "markdown",
   "metadata": {},
   "source": [
    "Test the new resampled data on the xgboost baseline to see if it improves the results. "
   ]
  },
  {
   "cell_type": "code",
   "execution_count": 227,
   "metadata": {},
   "outputs": [
    {
     "name": "stderr",
     "output_type": "stream",
     "text": [
      "[Parallel(n_jobs=1)]: Using backend SequentialBackend with 1 concurrent workers.\n",
      "[Parallel(n_jobs=1)]: Done   1 out of   1 | elapsed:  4.3min remaining:    0.0s\n",
      "[Parallel(n_jobs=1)]: Done   5 out of   5 | elapsed: 21.1min finished\n"
     ]
    }
   ],
   "source": [
    "model3=xgb.XGBClassifier(random_state=1,learning_rate=0.01)\n",
    "model3.fit(df_resample2, y_resample2)\n",
    "y_train_pred3 = cross_val_predict(model3, df_resample2, y_resample2, cv=5, verbose=2)"
   ]
  },
  {
   "cell_type": "code",
   "execution_count": 228,
   "metadata": {},
   "outputs": [
    {
     "name": "stdout",
     "output_type": "stream",
     "text": [
      "Accuracy:  0.9673439591542903\n",
      "Precision:  0.9562932402778942\n",
      "Recall:  0.9779063772016755\n",
      "F1 Score:  0.9669790539625983\n"
     ]
    }
   ],
   "source": [
    "print ('Accuracy: ', accuracy_score(y_train_pred3, y_resample2))\n",
    "print('Precision: ', precision_score(y_train_pred3, y_resample2))\n",
    "print('Recall: ', recall_score(y_train_pred3, y_resample2))\n",
    "print('F1 Score: ', f1_score(y_train_pred3, y_resample2))"
   ]
  },
  {
   "cell_type": "markdown",
   "metadata": {},
   "source": [
    "The results have improved significantly so we will use the SMOTE resampled dataset, now we will hypertune the parameters using gridsearch to find the optimal parameters for our model"
   ]
  },
  {
   "cell_type": "markdown",
   "metadata": {},
   "source": [
    "### GridSearch Using Resampled Data"
   ]
  },
  {
   "cell_type": "code",
   "execution_count": 253,
   "metadata": {},
   "outputs": [
    {
     "data": {
      "text/plain": [
       "GridSearchCV(cv=2, error_score=nan,\n",
       "             estimator=XGBClassifier(base_score=None, booster=None,\n",
       "                                     colsample_bylevel=None,\n",
       "                                     colsample_bynode=None,\n",
       "                                     colsample_bytree=None, gamma=None,\n",
       "                                     gpu_id=None, importance_type='gain',\n",
       "                                     interaction_constraints=None,\n",
       "                                     learning_rate=None, max_delta_step=None,\n",
       "                                     max_depth=None, min_child_weight=None,\n",
       "                                     missing=nan, monotone_constraints=None,\n",
       "                                     n_estim...\n",
       "                                     objective='binary:logistic',\n",
       "                                     random_state=None, reg_alpha=None,\n",
       "                                     reg_lambda=None, scale_pos_weight=None,\n",
       "                                     subsample=None, tree_method=None,\n",
       "                                     validate_parameters=False,\n",
       "                                     verbosity=None),\n",
       "             iid='deprecated', n_jobs=-1,\n",
       "             param_grid={'max_depth': range(6, 8),\n",
       "                         'min_child_weight': range(3, 4)},\n",
       "             pre_dispatch='2*n_jobs', refit=True, return_train_score=False,\n",
       "             scoring='neg_log_loss', verbose=0)"
      ]
     },
     "execution_count": 253,
     "metadata": {},
     "output_type": "execute_result"
    }
   ],
   "source": [
    "model = xgb.XGBClassifier()\n",
    "\n",
    "param_grid = {\n",
    "                'max_depth':range(6,8),\n",
    "                 'min_child_weight':range(3,4)\n",
    "                }\n",
    "\n",
    "grid_search = GridSearchCV(model, param_grid, scoring=\"neg_log_loss\", n_jobs=-1, cv=2)\n",
    "\n",
    "grid_search.fit(df_resample2, y_resample2)"
   ]
  },
  {
   "cell_type": "code",
   "execution_count": 255,
   "metadata": {},
   "outputs": [
    {
     "data": {
      "text/plain": [
       "{'max_depth': 6, 'min_child_weight': 3}"
      ]
     },
     "execution_count": 255,
     "metadata": {},
     "output_type": "execute_result"
    }
   ],
   "source": [
    "grid_search.best_params_"
   ]
  },
  {
   "cell_type": "code",
   "execution_count": 256,
   "metadata": {},
   "outputs": [
    {
     "name": "stderr",
     "output_type": "stream",
     "text": [
      "[Parallel(n_jobs=1)]: Using backend SequentialBackend with 1 concurrent workers.\n",
      "[Parallel(n_jobs=1)]: Done   1 out of   1 | elapsed: 12.3min remaining:    0.0s\n",
      "[Parallel(n_jobs=1)]: Done   5 out of   5 | elapsed: 58.8min finished\n"
     ]
    }
   ],
   "source": [
    "y_train_pred_final = cross_val_predict(grid_search, df_resample2, y_resample2, cv=5, verbose=2)"
   ]
  },
  {
   "cell_type": "code",
   "execution_count": 259,
   "metadata": {},
   "outputs": [
    {
     "name": "stdout",
     "output_type": "stream",
     "text": [
      "Accuracy:  0.9858103947242886\n",
      "Precision:  0.991736029396884\n",
      "Recall:  0.9801203590312989\n",
      "F1 Score:  0.9858939818346217\n"
     ]
    }
   ],
   "source": [
    "print ('Accuracy: ', accuracy_score(y_train_pred_final, y_resample2))\n",
    "print('Precision: ', precision_score(y_train_pred_final, y_resample2))\n",
    "print('Recall: ', recall_score(y_train_pred_final, y_resample2))\n",
    "print('F1 Score: ', f1_score(y_train_pred_final, y_resample2))"
   ]
  },
  {
   "cell_type": "markdown",
   "metadata": {},
   "source": [
    "### Apply the model to the Testing set "
   ]
  },
  {
   "cell_type": "code",
   "execution_count": 266,
   "metadata": {},
   "outputs": [],
   "source": [
    "X_test_prepared = full_pipeline.fit_transform(X_test)"
   ]
  },
  {
   "cell_type": "code",
   "execution_count": 270,
   "metadata": {},
   "outputs": [
    {
     "name": "stderr",
     "output_type": "stream",
     "text": [
      "[Parallel(n_jobs=1)]: Using backend SequentialBackend with 1 concurrent workers.\n",
      "[Parallel(n_jobs=1)]: Done   1 out of   1 | elapsed:   41.3s remaining:    0.0s\n",
      "[Parallel(n_jobs=1)]: Done   5 out of   5 | elapsed:  3.7min finished\n"
     ]
    }
   ],
   "source": [
    "grid_search.fit(X_test_prepared, y_test)\n",
    "y_test_pred_final = cross_val_predict(grid_search, X_test_prepared, y_test, cv=5, verbose=2)"
   ]
  },
  {
   "cell_type": "code",
   "execution_count": 271,
   "metadata": {},
   "outputs": [
    {
     "name": "stdout",
     "output_type": "stream",
     "text": [
      "Accuracy:  0.9915067796959381\n",
      "Precision:  0.2875363616021481\n",
      "Recall:  0.7095527332965212\n",
      "F1 Score:  0.4092356687898089\n"
     ]
    }
   ],
   "source": [
    "print ('Accuracy: ', accuracy_score(y_test_pred_final, y_test))\n",
    "print('Precision: ', precision_score(y_test_pred_final, y_test))\n",
    "print('Recall: ', recall_score(y_test_pred_final, y_test))\n",
    "print('F1 Score: ', f1_score(y_test_pred_final, y_test))"
   ]
  },
  {
   "cell_type": "markdown",
   "metadata": {},
   "source": [
    "## Model - RNN"
   ]
  },
  {
   "cell_type": "markdown",
   "metadata": {},
   "source": [
    "**LSTM Model for Ecommerce Dataset** \n",
    "\n",
    "**The objective:**  \n",
    "\n",
    "Our goal is to use an RNN to predict customer conversion, using the behavioural features of the customers visiting the website over several days. At the end, the model should be able to tell us if the user, based on their actions, is likely to convert on a specific timestep (binary classification).\n",
    "\n",
    "Unlike the traditional machine-learning algorithms we also use in this notebook, the input for this NN model will be a bit different. It will need to be three-dimensional and sequential, per user, in an array of shape:  \n",
    "\n",
    "**[visitors, timesteps, features per timestep]**\n",
    "\n",
    "Our output will be a vector of shape [visitors, target_class]."
   ]
  },
  {
   "cell_type": "markdown",
   "metadata": {},
   "source": [
    "### Defining some basic functions\n",
    "Here we'll define some useful functiosn that we'll be reusing later. \n",
    "\n",
    "Function below simply creates a palce for us to drop the logs for our model."
   ]
  },
  {
   "cell_type": "code",
   "execution_count": 2,
   "metadata": {},
   "outputs": [],
   "source": [
    "def get_run_logdir(folder_name):\n",
    "    root_logdir = os.path.join(os.curdir, folder_name)\n",
    "    run_id = time.strftime(\"run_%Y_%m_%d-%H_%M_%S\")\n",
    "    return os.path.join(root_logdir, run_id)\n",
    "\n",
    "def prep_run():\n",
    "    keras.backend.clear_session()\n",
    "    np.random.seed(42)\n",
    "    tf.random.set_seed(42)\n",
    "    \n",
    "def plot_learning_curves(loss, val_loss):\n",
    "    plt.plot(np.arange(len(loss)) + 0.5, loss, \"b.-\", label=\"Training loss\")\n",
    "    plt.plot(np.arange(len(val_loss)) + 1, val_loss, \"r.-\", label=\"Validation loss\")\n",
    "    plt.gca().xaxis.set_major_locator(mpl.ticker.MaxNLocator(integer=True))\n",
    "    plt.axis([1, 20, 0, 0.05])\n",
    "    plt.legend(fontsize=14)\n",
    "    plt.xlabel(\"Epochs\")\n",
    "    plt.ylabel(\"Loss\")\n",
    "    plt.grid(True)"
   ]
  },
  {
   "cell_type": "markdown",
   "metadata": {},
   "source": [
    "### Preparing our dataset"
   ]
  },
  {
   "cell_type": "markdown",
   "metadata": {},
   "source": [
    "We're going to use the non-aggregated dataframe we've created previously (before session_agg)."
   ]
  },
  {
   "cell_type": "code",
   "execution_count": 90,
   "metadata": {},
   "outputs": [
    {
     "name": "stdout",
     "output_type": "stream",
     "text": [
      "<class 'pandas.core.frame.DataFrame'>\n",
      "Int64Index: 500000 entries, 0 to 499999\n",
      "Data columns (total 9 columns):\n",
      " #   Column         Non-Null Count   Dtype         \n",
      "---  ------         --------------   -----         \n",
      " 0   timestamp      500000 non-null  datetime64[ns]\n",
      " 1   visitorid      500000 non-null  int64         \n",
      " 2   event          500000 non-null  object        \n",
      " 3   itemid         500000 non-null  int64         \n",
      " 4   transactionid  4076 non-null    float64       \n",
      " 5   categoryid     459972 non-null  object        \n",
      " 6   parentid       459972 non-null  object        \n",
      " 7   sessionid      500000 non-null  object        \n",
      " 8   date           500000 non-null  datetime64[ns]\n",
      "dtypes: datetime64[ns](2), float64(1), int64(2), object(4)\n",
      "memory usage: 38.1+ MB\n"
     ]
    }
   ],
   "source": [
    "# Selecting first 500k rows so the model can be run on our computers\n",
    "\n",
    "df = temp_data[:500000]\n",
    "df.info()"
   ]
  },
  {
   "cell_type": "code",
   "execution_count": 91,
   "metadata": {},
   "outputs": [
    {
     "data": {
      "text/html": [
       "<div>\n",
       "<style scoped>\n",
       "    .dataframe tbody tr th:only-of-type {\n",
       "        vertical-align: middle;\n",
       "    }\n",
       "\n",
       "    .dataframe tbody tr th {\n",
       "        vertical-align: top;\n",
       "    }\n",
       "\n",
       "    .dataframe thead th {\n",
       "        text-align: right;\n",
       "    }\n",
       "</style>\n",
       "<table border=\"1\" class=\"dataframe\">\n",
       "  <thead>\n",
       "    <tr style=\"text-align: right;\">\n",
       "      <th></th>\n",
       "      <th>timestamp</th>\n",
       "      <th>visitorid</th>\n",
       "      <th>event</th>\n",
       "      <th>itemid</th>\n",
       "      <th>transactionid</th>\n",
       "      <th>categoryid</th>\n",
       "      <th>parentid</th>\n",
       "      <th>sessionid</th>\n",
       "      <th>date</th>\n",
       "    </tr>\n",
       "  </thead>\n",
       "  <tbody>\n",
       "    <tr>\n",
       "      <th>0</th>\n",
       "      <td>2015-06-02 01:02:12</td>\n",
       "      <td>257597</td>\n",
       "      <td>view</td>\n",
       "      <td>355908</td>\n",
       "      <td>NaN</td>\n",
       "      <td>1173</td>\n",
       "      <td>805.0</td>\n",
       "      <td>2015-06-02_257597</td>\n",
       "      <td>2015-06-02</td>\n",
       "    </tr>\n",
       "    <tr>\n",
       "      <th>1</th>\n",
       "      <td>2015-06-02 01:50:14</td>\n",
       "      <td>992329</td>\n",
       "      <td>view</td>\n",
       "      <td>248676</td>\n",
       "      <td>NaN</td>\n",
       "      <td>1231</td>\n",
       "      <td>901.0</td>\n",
       "      <td>2015-06-02_992329</td>\n",
       "      <td>2015-06-02</td>\n",
       "    </tr>\n",
       "    <tr>\n",
       "      <th>2</th>\n",
       "      <td>2015-06-02 01:13:19</td>\n",
       "      <td>111016</td>\n",
       "      <td>view</td>\n",
       "      <td>318965</td>\n",
       "      <td>NaN</td>\n",
       "      <td>NaN</td>\n",
       "      <td>NaN</td>\n",
       "      <td>2015-06-02_111016</td>\n",
       "      <td>2015-06-02</td>\n",
       "    </tr>\n",
       "    <tr>\n",
       "      <th>3</th>\n",
       "      <td>2015-06-02 01:12:35</td>\n",
       "      <td>483717</td>\n",
       "      <td>view</td>\n",
       "      <td>253185</td>\n",
       "      <td>NaN</td>\n",
       "      <td>914</td>\n",
       "      <td>226.0</td>\n",
       "      <td>2015-06-02_483717</td>\n",
       "      <td>2015-06-02</td>\n",
       "    </tr>\n",
       "    <tr>\n",
       "      <th>4</th>\n",
       "      <td>2015-06-02 01:02:17</td>\n",
       "      <td>951259</td>\n",
       "      <td>view</td>\n",
       "      <td>367447</td>\n",
       "      <td>NaN</td>\n",
       "      <td>1613</td>\n",
       "      <td>250.0</td>\n",
       "      <td>2015-06-02_951259</td>\n",
       "      <td>2015-06-02</td>\n",
       "    </tr>\n",
       "  </tbody>\n",
       "</table>\n",
       "</div>"
      ],
      "text/plain": [
       "            timestamp  visitorid event  itemid  transactionid categoryid  \\\n",
       "0 2015-06-02 01:02:12     257597  view  355908            NaN       1173   \n",
       "1 2015-06-02 01:50:14     992329  view  248676            NaN       1231   \n",
       "2 2015-06-02 01:13:19     111016  view  318965            NaN        NaN   \n",
       "3 2015-06-02 01:12:35     483717  view  253185            NaN        914   \n",
       "4 2015-06-02 01:02:17     951259  view  367447            NaN       1613   \n",
       "\n",
       "  parentid          sessionid       date  \n",
       "0    805.0  2015-06-02_257597 2015-06-02  \n",
       "1    901.0  2015-06-02_992329 2015-06-02  \n",
       "2      NaN  2015-06-02_111016 2015-06-02  \n",
       "3    226.0  2015-06-02_483717 2015-06-02  \n",
       "4    250.0  2015-06-02_951259 2015-06-02  "
      ]
     },
     "execution_count": 91,
     "metadata": {},
     "output_type": "execute_result"
    }
   ],
   "source": [
    "df.head()"
   ]
  },
  {
   "cell_type": "markdown",
   "metadata": {},
   "source": [
    "We're going to build a transformer to quickly clean up our dataset, dropping any unwaved columns and changing data types."
   ]
  },
  {
   "cell_type": "code",
   "execution_count": 5,
   "metadata": {},
   "outputs": [],
   "source": [
    "# custom transformer to drop any useless data\n",
    "\n",
    "class DropColumn(BaseEstimator, TransformerMixin):\n",
    "    def __init__(self, cols):\n",
    "        self.cols = cols\n",
    "    def fit(self, X, y=None):\n",
    "        pass\n",
    "    def transform(self, X, y=None):\n",
    "        df = X.drop(columns=self.cols)\n",
    "        return df\n",
    "    \n",
    "class DropNulls(BaseEstimator, TransformerMixin):\n",
    "    def __init__(self, drop_nulls=True):\n",
    "        self.drop_nulls = drop_nulls\n",
    "    def fit(self, X, y=None):\n",
    "        pass\n",
    "    def transform(self, X, y=None):\n",
    "        if self.drop_nulls==True:\n",
    "            df = X.dropna(inplace=False)\n",
    "            df = df.reset_index(inplace=False, drop=True)\n",
    "            return df\n",
    "        else:\n",
    "            pass\n",
    "        return df\n",
    "    \n",
    "class ChangeColType(BaseEstimator, TransformerMixin):\n",
    "    def __init__(self, cols, newType):\n",
    "        self.cols = cols\n",
    "        self.newType = newType\n",
    "    def fit(self, X, y=None):\n",
    "        pass\n",
    "    def transform(self, X, y=None):\n",
    "        for col in self.cols:\n",
    "            X[col] = X[col].astype(self.newType)\n",
    "        return X\n"
   ]
  },
  {
   "cell_type": "code",
   "execution_count": 6,
   "metadata": {},
   "outputs": [
    {
     "name": "stdout",
     "output_type": "stream",
     "text": [
      "<class 'pandas.core.frame.DataFrame'>\n",
      "RangeIndex: 455354 entries, 0 to 455353\n",
      "Data columns (total 6 columns):\n",
      " #   Column      Non-Null Count   Dtype         \n",
      "---  ------      --------------   -----         \n",
      " 0   visitorid   455354 non-null  int64         \n",
      " 1   event       455354 non-null  object        \n",
      " 2   itemid      455354 non-null  int64         \n",
      " 3   categoryid  455354 non-null  int32         \n",
      " 4   parentid    455354 non-null  int32         \n",
      " 5   date        455354 non-null  datetime64[ns]\n",
      "dtypes: datetime64[ns](1), int32(2), int64(2), object(1)\n",
      "memory usage: 17.4+ MB\n"
     ]
    }
   ],
   "source": [
    "CleanRawData = make_pipeline(\n",
    "    DropColumn(['transactionid', 'sessionid', 'timestamp']),\n",
    "    DropNulls(),\n",
    "    ChangeColType(['categoryid', 'parentid'],int)\n",
    ")\n",
    "df = CleanRawData.transform(df)\n",
    "df.info()"
   ]
  },
  {
   "cell_type": "markdown",
   "metadata": {},
   "source": [
    "#### Feature-Engineer our dataset\n",
    "We're going to do some quick feature engineering before we start reshaping our dataset for a neural network. This will allow us to provide the model some additional information.  \n",
    "\n",
    "We're going to add weekday as a feature, as there is a good chance of a weekly buying patttern."
   ]
  },
  {
   "cell_type": "code",
   "execution_count": 7,
   "metadata": {},
   "outputs": [],
   "source": [
    "# build a transformer to extract weekday as a feature\n",
    "\n",
    "class WeekdayExtractor(BaseEstimator, TransformerMixin):\n",
    "    \n",
    "    def __init__(self):\n",
    "        pass\n",
    "    \n",
    "    def fit(self, X, y=None):\n",
    "        return self\n",
    "    \n",
    "    def transform(self, X):\n",
    "        weekday = X.progress_apply(lambda x: 'weekday_'+ str(x.weekday()))\n",
    "        return weekday.rename('weekday').to_frame()\n"
   ]
  },
  {
   "cell_type": "code",
   "execution_count": 8,
   "metadata": {},
   "outputs": [
    {
     "data": {
      "application/vnd.jupyter.widget-view+json": {
       "model_id": "7f09825dba5545129a15bd819687cd63",
       "version_major": 2,
       "version_minor": 0
      },
      "text/plain": [
       "HBox(children=(FloatProgress(value=0.0, max=455354.0), HTML(value='')))"
      ]
     },
     "metadata": {},
     "output_type": "display_data"
    },
    {
     "name": "stdout",
     "output_type": "stream",
     "text": [
      "\n",
      "<class 'pandas.core.frame.DataFrame'>\n",
      "RangeIndex: 455354 entries, 0 to 455353\n",
      "Data columns (total 13 columns):\n",
      " #   Column        Non-Null Count   Dtype               \n",
      "---  ------        --------------   -----               \n",
      " 0   visitorid     455354 non-null  int64               \n",
      " 1   event         455354 non-null  object              \n",
      " 2   itemid        455354 non-null  int64               \n",
      " 3   categoryid    455354 non-null  int32               \n",
      " 4   parentid      455354 non-null  int32               \n",
      " 5   date          455354 non-null  datetime64[ns]      \n",
      " 6   x0_weekday_0  455354 non-null  Sparse[float64, 0.0]\n",
      " 7   x0_weekday_1  455354 non-null  Sparse[float64, 0.0]\n",
      " 8   x0_weekday_2  455354 non-null  Sparse[float64, 0.0]\n",
      " 9   x0_weekday_3  455354 non-null  Sparse[float64, 0.0]\n",
      " 10  x0_weekday_4  455354 non-null  Sparse[float64, 0.0]\n",
      " 11  x0_weekday_5  455354 non-null  Sparse[float64, 0.0]\n",
      " 12  x0_weekday_6  455354 non-null  Sparse[float64, 0.0]\n",
      "dtypes: Sparse[float64, 0.0](7), datetime64[ns](1), int32(2), int64(2), object(1)\n",
      "memory usage: 22.6+ MB\n"
     ]
    }
   ],
   "source": [
    "# pipeline to extract weekday\n",
    "wkday_pipeline = Pipeline(steps=[\n",
    "    ('wkday', WeekdayExtractor()),\n",
    "    ('onehot', OneHotEncoder())\n",
    "])\n",
    "\n",
    "transformed = wkday_pipeline.fit_transform(df['date'])\n",
    "ohe_df = pd.DataFrame.sparse.from_spmatrix(transformed, \n",
    "                                           columns=wkday_pipeline['onehot'].get_feature_names())\n",
    "\n",
    "df = pd.concat([df, ohe_df], axis=1)\n",
    "df.info()"
   ]
  },
  {
   "cell_type": "code",
   "execution_count": 9,
   "metadata": {},
   "outputs": [
    {
     "data": {
      "text/plain": [
       "(226565,)"
      ]
     },
     "execution_count": 9,
     "metadata": {},
     "output_type": "execute_result"
    }
   ],
   "source": [
    "df.visitorid.unique().shape"
   ]
  },
  {
   "cell_type": "markdown",
   "metadata": {},
   "source": [
    "### Reshaping our dataset for Keras"
   ]
  },
  {
   "cell_type": "markdown",
   "metadata": {},
   "source": [
    "Our keras model needs the dataset to be in a 3D array of shape (visitors, num visits/timesteps, features).\n",
    "\n",
    "The way our dataset is set up, we can't just split the \"events\" data into train and test. We have to preseve the history of each user (i.e. users must not be split across train and test).\n",
    "\n",
    "So here is the plan:\n",
    "\n",
    "1. Create a daily-level dataframe of featuers per visitor:  \n",
    "    a. Pivot entire dataset on daily visitor level so that parentIDs become columns with view counts and add to cart counts per each parentID (we'll make separate DFs for each event type).  \n",
    "    b. To avoid differing numbers of parentID columns in current and any future data, we're going to join it to an empty dataframe that contains column of every single parentID in our dataset).  \n",
    "    c. Combine our views DF and addtoCart DF to create a final daily record per user.\n",
    "2. Create timestep arrays: \n",
    "    a. find max timesteps (this will be the length of our timestep array).  \n",
    "    b. create a list per user containing lists of features per timestep.  \n",
    "    c. Combine the lists to create our final array with a row for every visitor's timestep sequence.\n",
    "    d. Split out into train/test.\n",
    "3. Preprocess our training data.  \n",
    "    a. Combine every feature vector into one input array and pad it to same length."
   ]
  },
  {
   "cell_type": "markdown",
   "metadata": {},
   "source": [
    "#### Create a daily-level dataframe of features per visitor:  "
   ]
  },
  {
   "cell_type": "markdown",
   "metadata": {},
   "source": [
    "Let's find some sample users who converted, to avoid running the entire dataset while we work on trasnforming it.\n",
    "\n",
    "To create our features array, we'll create 3 aggregated DFs on visitor and date level (one for each event: view, add to cart, purchase). One will count # views per categoryid per user daily, the second will count add to cart, the third will count purchases per visitor per day, which we'll convert to 0/1. In our case, we don't care what the user purchased, just that they made a purchase, and that's what we want our model to predict.\n",
    "\n",
    "We'll also create a fourth dataframe that is empty and contains a column for every parent ID in our dataset. This will be merged individually with the views and add to cart dataframes to ensure all our input data is of equal length (and that we never miss a categoryID regardless of if our current dataset has it). So now we ahve two arrays, both of equal number of columns. \n",
    "\n",
    "Now we join them together to create a DF twice as wide (with a column for every category's view and addtocart values separately). This will give us daly-level activity for every single user.\n",
    "\n",
    "The custom transformer below does all this for us."
   ]
  },
  {
   "cell_type": "code",
   "execution_count": 10,
   "metadata": {},
   "outputs": [
    {
     "name": "stdout",
     "output_type": "stream",
     "text": [
      "<class 'pandas.core.frame.DataFrame'>\n",
      "RangeIndex: 455354 entries, 0 to 455353\n",
      "Data columns (total 13 columns):\n",
      " #   Column        Non-Null Count   Dtype               \n",
      "---  ------        --------------   -----               \n",
      " 0   visitorid     455354 non-null  int64               \n",
      " 1   event         455354 non-null  object              \n",
      " 2   itemid        455354 non-null  int64               \n",
      " 3   categoryid    455354 non-null  int32               \n",
      " 4   parentid      455354 non-null  int32               \n",
      " 5   date          455354 non-null  datetime64[ns]      \n",
      " 6   x0_weekday_0  455354 non-null  Sparse[float64, 0.0]\n",
      " 7   x0_weekday_1  455354 non-null  Sparse[float64, 0.0]\n",
      " 8   x0_weekday_2  455354 non-null  Sparse[float64, 0.0]\n",
      " 9   x0_weekday_3  455354 non-null  Sparse[float64, 0.0]\n",
      " 10  x0_weekday_4  455354 non-null  Sparse[float64, 0.0]\n",
      " 11  x0_weekday_5  455354 non-null  Sparse[float64, 0.0]\n",
      " 12  x0_weekday_6  455354 non-null  Sparse[float64, 0.0]\n",
      "dtypes: Sparse[float64, 0.0](7), datetime64[ns](1), int32(2), int64(2), object(1)\n",
      "memory usage: 22.6+ MB\n"
     ]
    }
   ],
   "source": [
    "df.info()"
   ]
  },
  {
   "cell_type": "code",
   "execution_count": 11,
   "metadata": {},
   "outputs": [],
   "source": [
    "class ReshapeDataset(BaseEstimator, TransformerMixin):\n",
    "    \n",
    "    def __init__(self):\n",
    "        pass\n",
    "    \n",
    "    def fit(self, X, y=None):\n",
    "        # create an empty df with all category vals\n",
    "        self.cat_df = pd.DataFrame(columns=X.parentid.unique().tolist())\n",
    "        return self\n",
    "        \n",
    "    def transform(self, X, y=None):\n",
    "        # create 3 dfs for views, adds, purch\n",
    "        \n",
    "        # views\n",
    "        # removing sample visitorid in (552148, 189384) \n",
    "        print('Creating views pivot table...')\n",
    "        self.df_sample = X.query('event == \"view\" ').copy()\n",
    "        self.df_views = pd.pivot_table(self.df_sample, index=['date','visitorid',\n",
    "                                                              'x0_weekday_0','x0_weekday_1',\n",
    "                                                              'x0_weekday_2','x0_weekday_3',\n",
    "                                                              'x0_weekday_4','x0_weekday_5', \n",
    "                                                              'x0_weekday_6'\n",
    "                                                             ], \n",
    "                                columns=['parentid'], values='itemid',aggfunc='count', fill_value=0)\n",
    "        self.df_views = self.df_views.reset_index()\n",
    "        print('views df shape: ',self.df_views.shape)\n",
    "        \n",
    "        # add to cart\n",
    "        print('Creating add-to-cart pivot table...')\n",
    "        self.df_sample2 = X.query('event == \"addtocart\" ').copy()\n",
    "        self.df_adds = pd.pivot_table(self.df_sample2, index=['date','visitorid'], \n",
    "                                columns=['parentid'], values='itemid',aggfunc='count', fill_value=0)\n",
    "        self.df_adds = self.df_adds.reset_index()\n",
    "        print('adds df shape: ',self.df_adds.shape)\n",
    "\n",
    "        # purchases\n",
    "        print('Creating transactions pivot table...')\n",
    "        self.df_sample3 = X.query('event == \"transaction\" ').copy()\n",
    "        self.df_convert = pd.pivot_table(self.df_sample3, index=[ 'date','visitorid'], \n",
    "                                columns=['event'], values='itemid',aggfunc='count', fill_value=0)\n",
    "        self.df_convert = self.df_convert.reset_index()\n",
    "        \n",
    "        # join views and cart to category df \n",
    "        print('Merging parentID dataframe to views and add-to-cart separately...')\n",
    "        self.df_fullview = self.df_views.merge(self.cat_df, how='outer', on=None)\n",
    "        self.df_fulladds = pd.merge(self.df_adds, self.cat_df, how='outer', on=None)\n",
    "        \n",
    "        # merge both views and cart together\n",
    "        print('...and merging both of them together.')\n",
    "        self.full_df = self.df_fullview.merge(self.df_fulladds, \n",
    "                            how='outer', on=['date','visitorid'], \n",
    "                            suffixes=('_views', '_adds'))\n",
    "        \n",
    "        print('Creating target vector...')\n",
    "        # create our target vector by changing column values to binary\n",
    "        self.df_convert['transaction'] = np.where(self.df_convert['transaction']>0,1,0)\n",
    "        \n",
    "        # merge target DF with the main features DF to make it easier \n",
    "        # to create our final input and target arrays.\n",
    "        self.full_df = self.full_df.merge(self.df_convert, how=\"outer\", on=[\"visitorid\", \"date\"])\n",
    "        self.full_df.fillna(0, inplace=True)\n",
    "        \n",
    "        print('Returning results. Proces complete.')\n",
    "        return self.full_df"
   ]
  },
  {
   "cell_type": "code",
   "execution_count": 12,
   "metadata": {},
   "outputs": [
    {
     "name": "stdout",
     "output_type": "stream",
     "text": [
      "Creating views pivot table...\n",
      "views df shape:  (252415, 272)\n",
      "Creating add-to-cart pivot table...\n",
      "adds df shape:  (7561, 209)\n",
      "Creating transactions pivot table...\n",
      "Merging parentID dataframe to views and add-to-cart separately...\n",
      "...and merging both of them together.\n",
      "Creating target vector...\n",
      "Returning results. Proces complete.\n"
     ]
    },
    {
     "data": {
      "text/plain": [
       "(253109, 536)"
      ]
     },
     "execution_count": 12,
     "metadata": {},
     "output_type": "execute_result"
    }
   ],
   "source": [
    "dataset = ReshapeDataset().fit_transform(df)\n",
    "dataset.shape"
   ]
  },
  {
   "cell_type": "code",
   "execution_count": 13,
   "metadata": {},
   "outputs": [
    {
     "data": {
      "text/html": [
       "<div>\n",
       "<style scoped>\n",
       "    .dataframe tbody tr th:only-of-type {\n",
       "        vertical-align: middle;\n",
       "    }\n",
       "\n",
       "    .dataframe tbody tr th {\n",
       "        vertical-align: top;\n",
       "    }\n",
       "\n",
       "    .dataframe thead th {\n",
       "        text-align: right;\n",
       "    }\n",
       "</style>\n",
       "<table border=\"1\" class=\"dataframe\">\n",
       "  <thead>\n",
       "    <tr style=\"text-align: right;\">\n",
       "      <th></th>\n",
       "      <th>date</th>\n",
       "      <th>visitorid</th>\n",
       "      <th>x0_weekday_0</th>\n",
       "      <th>x0_weekday_1</th>\n",
       "      <th>x0_weekday_2</th>\n",
       "      <th>x0_weekday_3</th>\n",
       "      <th>x0_weekday_4</th>\n",
       "      <th>x0_weekday_5</th>\n",
       "      <th>x0_weekday_6</th>\n",
       "      <th>8_views</th>\n",
       "      <th>...</th>\n",
       "      <th>1067_adds</th>\n",
       "      <th>1439_adds</th>\n",
       "      <th>731_adds</th>\n",
       "      <th>38_adds</th>\n",
       "      <th>866_adds</th>\n",
       "      <th>1036_adds</th>\n",
       "      <th>724_adds</th>\n",
       "      <th>540_adds</th>\n",
       "      <th>538_adds</th>\n",
       "      <th>transaction</th>\n",
       "    </tr>\n",
       "  </thead>\n",
       "  <tbody>\n",
       "    <tr>\n",
       "      <th>0</th>\n",
       "      <td>2015-06-01</td>\n",
       "      <td>17</td>\n",
       "      <td>1.0</td>\n",
       "      <td>0.0</td>\n",
       "      <td>0.0</td>\n",
       "      <td>0.0</td>\n",
       "      <td>0.0</td>\n",
       "      <td>0.0</td>\n",
       "      <td>0.0</td>\n",
       "      <td>0.0</td>\n",
       "      <td>...</td>\n",
       "      <td>0</td>\n",
       "      <td>0</td>\n",
       "      <td>0</td>\n",
       "      <td>0</td>\n",
       "      <td>0</td>\n",
       "      <td>0</td>\n",
       "      <td>0</td>\n",
       "      <td>0</td>\n",
       "      <td>0</td>\n",
       "      <td>0.0</td>\n",
       "    </tr>\n",
       "    <tr>\n",
       "      <th>1</th>\n",
       "      <td>2015-06-01</td>\n",
       "      <td>4078</td>\n",
       "      <td>1.0</td>\n",
       "      <td>0.0</td>\n",
       "      <td>0.0</td>\n",
       "      <td>0.0</td>\n",
       "      <td>0.0</td>\n",
       "      <td>0.0</td>\n",
       "      <td>0.0</td>\n",
       "      <td>0.0</td>\n",
       "      <td>...</td>\n",
       "      <td>0</td>\n",
       "      <td>0</td>\n",
       "      <td>0</td>\n",
       "      <td>0</td>\n",
       "      <td>0</td>\n",
       "      <td>0</td>\n",
       "      <td>0</td>\n",
       "      <td>0</td>\n",
       "      <td>0</td>\n",
       "      <td>0.0</td>\n",
       "    </tr>\n",
       "    <tr>\n",
       "      <th>2</th>\n",
       "      <td>2015-06-01</td>\n",
       "      <td>10946</td>\n",
       "      <td>1.0</td>\n",
       "      <td>0.0</td>\n",
       "      <td>0.0</td>\n",
       "      <td>0.0</td>\n",
       "      <td>0.0</td>\n",
       "      <td>0.0</td>\n",
       "      <td>0.0</td>\n",
       "      <td>0.0</td>\n",
       "      <td>...</td>\n",
       "      <td>0</td>\n",
       "      <td>0</td>\n",
       "      <td>0</td>\n",
       "      <td>0</td>\n",
       "      <td>0</td>\n",
       "      <td>0</td>\n",
       "      <td>0</td>\n",
       "      <td>0</td>\n",
       "      <td>0</td>\n",
       "      <td>0.0</td>\n",
       "    </tr>\n",
       "    <tr>\n",
       "      <th>3</th>\n",
       "      <td>2015-06-01</td>\n",
       "      <td>27647</td>\n",
       "      <td>1.0</td>\n",
       "      <td>0.0</td>\n",
       "      <td>0.0</td>\n",
       "      <td>0.0</td>\n",
       "      <td>0.0</td>\n",
       "      <td>0.0</td>\n",
       "      <td>0.0</td>\n",
       "      <td>0.0</td>\n",
       "      <td>...</td>\n",
       "      <td>0</td>\n",
       "      <td>0</td>\n",
       "      <td>0</td>\n",
       "      <td>0</td>\n",
       "      <td>0</td>\n",
       "      <td>0</td>\n",
       "      <td>0</td>\n",
       "      <td>0</td>\n",
       "      <td>0</td>\n",
       "      <td>0.0</td>\n",
       "    </tr>\n",
       "    <tr>\n",
       "      <th>4</th>\n",
       "      <td>2015-06-01</td>\n",
       "      <td>50966</td>\n",
       "      <td>1.0</td>\n",
       "      <td>0.0</td>\n",
       "      <td>0.0</td>\n",
       "      <td>0.0</td>\n",
       "      <td>0.0</td>\n",
       "      <td>0.0</td>\n",
       "      <td>0.0</td>\n",
       "      <td>0.0</td>\n",
       "      <td>...</td>\n",
       "      <td>0</td>\n",
       "      <td>0</td>\n",
       "      <td>0</td>\n",
       "      <td>0</td>\n",
       "      <td>0</td>\n",
       "      <td>0</td>\n",
       "      <td>0</td>\n",
       "      <td>0</td>\n",
       "      <td>0</td>\n",
       "      <td>0.0</td>\n",
       "    </tr>\n",
       "  </tbody>\n",
       "</table>\n",
       "<p>5 rows × 536 columns</p>\n",
       "</div>"
      ],
      "text/plain": [
       "        date  visitorid  x0_weekday_0  x0_weekday_1  x0_weekday_2  \\\n",
       "0 2015-06-01         17           1.0           0.0           0.0   \n",
       "1 2015-06-01       4078           1.0           0.0           0.0   \n",
       "2 2015-06-01      10946           1.0           0.0           0.0   \n",
       "3 2015-06-01      27647           1.0           0.0           0.0   \n",
       "4 2015-06-01      50966           1.0           0.0           0.0   \n",
       "\n",
       "   x0_weekday_3  x0_weekday_4  x0_weekday_5  x0_weekday_6  8_views  ...  \\\n",
       "0           0.0           0.0           0.0           0.0      0.0  ...   \n",
       "1           0.0           0.0           0.0           0.0      0.0  ...   \n",
       "2           0.0           0.0           0.0           0.0      0.0  ...   \n",
       "3           0.0           0.0           0.0           0.0      0.0  ...   \n",
       "4           0.0           0.0           0.0           0.0      0.0  ...   \n",
       "\n",
       "   1067_adds  1439_adds  731_adds  38_adds  866_adds  1036_adds  724_adds  \\\n",
       "0          0          0         0        0         0          0         0   \n",
       "1          0          0         0        0         0          0         0   \n",
       "2          0          0         0        0         0          0         0   \n",
       "3          0          0         0        0         0          0         0   \n",
       "4          0          0         0        0         0          0         0   \n",
       "\n",
       "   540_adds  538_adds  transaction  \n",
       "0         0         0          0.0  \n",
       "1         0         0          0.0  \n",
       "2         0         0          0.0  \n",
       "3         0         0          0.0  \n",
       "4         0         0          0.0  \n",
       "\n",
       "[5 rows x 536 columns]"
      ]
     },
     "execution_count": 13,
     "metadata": {},
     "output_type": "execute_result"
    }
   ],
   "source": [
    "dataset.head()"
   ]
  },
  {
   "cell_type": "markdown",
   "metadata": {},
   "source": [
    "#### Create timestep array\n",
    "\n",
    "Next, we'll take that full dataset with every parentID, and reshape it into a list of lists of lists:\n",
    "\n",
    "- outer list: contains a row per user  \n",
    "- each row: contains a list per timestep  \n",
    "- timestep list: contains a list of features for that timestep  \n",
    "\n",
    "While creating the features array, we'll also handle the target array, which wil have the same form of being a nested list of lists (except that it will only have one \"feature\" per timestep per user - the class).\n",
    "\n",
    "In the end, we'll have two lists: one for features, one for targets."
   ]
  },
  {
   "cell_type": "code",
   "execution_count": 14,
   "metadata": {},
   "outputs": [],
   "source": [
    "class CreateInputArray(BaseEstimator, TransformerMixin):\n",
    "    \n",
    "    def __init__(self):\n",
    "        pass\n",
    "    \n",
    "    def fit(self, X, y=None):\n",
    "        # find max timesteps\n",
    "        self.max_timesteps = X.groupby('visitorid')['date'].count().max()\n",
    "        print(self.max_timesteps, \" timesteps\")\n",
    "        return self\n",
    "        \n",
    "    def transform(self, X, y=None):\n",
    "        \n",
    "        self.users = X.visitorid.unique()\n",
    "        self.user_list = [] \n",
    "        self.target_list = []\n",
    "        \n",
    "        for i in tqdm_notebook(self.users, desc=\"creating features/targets array\"):\n",
    "            self.temp_df = X[X.visitorid == i].copy()\n",
    "            self.t = self.temp_df['transaction'].astype(int).values.tolist()\n",
    "            self.target_list.append(self.t)\n",
    "            self.temp_df.drop(columns=['visitorid', 'date'], inplace=True)\n",
    "            self.record = self.temp_df.values.tolist()\n",
    "            self.user_list.append(self.record)\n",
    "        \n",
    "        print('sequence sample of first visitor:')\n",
    "        print(\"feature array: \", self.user_list[1][0][0:10])\n",
    "        print(\"targets: \",self.target_list[0])\n",
    "        \n",
    "        return self.user_list, self.target_list"
   ]
  },
  {
   "cell_type": "code",
   "execution_count": 15,
   "metadata": {},
   "outputs": [
    {
     "name": "stdout",
     "output_type": "stream",
     "text": [
      "26  timesteps\n"
     ]
    },
    {
     "data": {
      "application/vnd.jupyter.widget-view+json": {
       "model_id": "e074e7b35439432696ca2dbd14045ff2",
       "version_major": 2,
       "version_minor": 0
      },
      "text/plain": [
       "HBox(children=(FloatProgress(value=0.0, description='creating features/targets array', max=226565.0, style=Pro…"
      ]
     },
     "metadata": {},
     "output_type": "display_data"
    },
    {
     "name": "stdout",
     "output_type": "stream",
     "text": [
      "\n",
      "sequence sample of first visitor:\n",
      "feature array:  [1.0, 0.0, 0.0, 0.0, 0.0, 0.0, 0.0, 0.0, 0.0, 0.0]\n",
      "targets:  [0]\n"
     ]
    }
   ],
   "source": [
    "features, targets = CreateInputArray().fit_transform(dataset)"
   ]
  },
  {
   "cell_type": "markdown",
   "metadata": {},
   "source": [
    "### Split into train/test\n",
    "\n",
    "Now that we have our dataset at a level where we can split it into train/test withouot splitting a user betwen the two, we'll do that first, and then transform our train set into a time series for our model."
   ]
  },
  {
   "cell_type": "code",
   "execution_count": 17,
   "metadata": {},
   "outputs": [
    {
     "name": "stdout",
     "output_type": "stream",
     "text": [
      "X and Y:  (226565,) (226565,)\n",
      "Splitting out train/test/val.\n",
      "X_train and y_train shapes:\n",
      "(118946,) (118946,)\n",
      "input sample:  [0.0, 0.0, 0.0, 0.0, 0.0, 1.0, 0.0, 0.0, 0.0, 0.0]\n",
      "X_val and y_val shapes:\n",
      "(39649,) (39649,)\n",
      "input sample:  [1.0, 0.0, 0.0, 0.0, 0.0, 0.0, 0.0, 0.0, 0.0, 0.0]\n",
      "X_test and y_test shapes:\n",
      "(67970,) (67970,)\n",
      "input sample:  [1.0, 0.0, 0.0, 0.0, 0.0, 0.0, 0.0, 0.0, 0.0, 0.0]\n"
     ]
    }
   ],
   "source": [
    "X = np.array(features)\n",
    "y = np.array(targets)\n",
    "print(\"X and Y: \" , X.shape, y.shape)\n",
    "\n",
    "# split out data set into train and test\n",
    "print('Splitting out train/test/val.')\n",
    "\n",
    "X_train, X_test, y_train, y_test = train_test_split(X, y, test_size=0.3, random_state=42)\n",
    "X_train, X_val, y_train, y_val = train_test_split(X_train, y_train, test_size=0.25, random_state=42)\n",
    "\n",
    "print('X_train and y_train shapes:')\n",
    "print(X_train.shape, y_train.shape)\n",
    "print('input sample: ', X_train[0][0][:10])\n",
    "\n",
    "print('X_val and y_val shapes:')\n",
    "print(X_val.shape, y_val.shape)\n",
    "print('input sample: ', X_val[0][0][:10])\n",
    "\n",
    "print('X_test and y_test shapes:')\n",
    "print(X_test.shape, y_test.shape)\n",
    "print('input sample: ', X_val[0][0][:10])"
   ]
  },
  {
   "cell_type": "markdown",
   "metadata": {},
   "source": [
    "### Preprocess our training data\n",
    "We now have our training data ready to be preprocessed.  \n",
    "Here we decide that for the sake of keeping this a bit more time-efficient, we'll be front-padding all timesteps for users who have fewer than the max num of timesteps. Ideally, we'd properly map the timestep with the day of the period, but that might have to be a latter iteration!\n",
    "\n",
    "We'll create a transformer to pad our sequences using Keras's pad_sequences() function. The fit_transform() function will later allow us to ensure our validation and test sets are all padded to the same legnth as our training data.\n",
    "\n",
    "We'll also create a transformer to adjust the dimension of the targets array, as keras needs it to be 3-dimensional to predict a class per timestep."
   ]
  },
  {
   "cell_type": "code",
   "execution_count": 18,
   "metadata": {},
   "outputs": [],
   "source": [
    "timesteps = {}\n",
    "class PadSequences(BaseEstimator, TransformerMixin):\n",
    "    global timesteps\n",
    "    def __init__(self, padding='pre'):\n",
    "        self.padding = padding\n",
    "    \n",
    "    def fit(self, X, y=None):\n",
    "        df = X\n",
    "        t = max([len(df[i]) for i in range(len(df))])\n",
    "        step = {'steps':t}\n",
    "        timesteps.update(step)\n",
    "        return self\n",
    "    \n",
    "    def transform(self, X):\n",
    "        df = tf.keras.preprocessing.sequence.pad_sequences(X,padding=self.padding, maxlen=timesteps['steps'])\n",
    "        return df\n",
    "    \n",
    "    def fit_transform(self, X, **kwargs):\n",
    "        return self.fit(X, y).transform(X)\n",
    "\n",
    "class ExpandDims(BaseEstimator, TransformerMixin):\n",
    "    \n",
    "    def __init__(self, expandAxis):\n",
    "        self.expandAxis = expandAxis\n",
    "    \n",
    "    def fit(self, X, y=None):\n",
    "        return self\n",
    "    \n",
    "    def transform(self, X, y=None):\n",
    "        X = tf.expand_dims(X, axis=self.expandAxis)\n",
    "        return X\n",
    " "
   ]
  },
  {
   "cell_type": "code",
   "execution_count": 19,
   "metadata": {},
   "outputs": [
    {
     "data": {
      "text/plain": [
       "((118946, 24, 534), TensorShape([118946, 24, 1]))"
      ]
     },
     "execution_count": 19,
     "metadata": {},
     "output_type": "execute_result"
    }
   ],
   "source": [
    "X_train = PadSequences('pre').fit_transform(X_train)\n",
    "outputPipeline = make_pipeline(\n",
    "    PadSequences('pre'),\n",
    "    ExpandDims(2)\n",
    ")\n",
    "y_train = outputPipeline.transform(y_train)\n",
    "\n",
    "X_train.shape, y_train.shape"
   ]
  },
  {
   "cell_type": "code",
   "execution_count": 20,
   "metadata": {},
   "outputs": [
    {
     "name": "stdout",
     "output_type": "stream",
     "text": [
      "val shapes:  (39649, 24, 534) (39649, 24, 1)\n",
      "test shapes:  (67970, 24, 534) (67970, 24, 1)\n"
     ]
    }
   ],
   "source": [
    "X_val = PadSequences('pre').transform(X_val)\n",
    "y_val = outputPipeline.transform(y_val)\n",
    "print('val shapes: ',X_val.shape, y_val.shape)\n",
    "\n",
    "X_test = PadSequences('pre').transform(X_test)\n",
    "y_test = outputPipeline.transform(y_test)\n",
    "print('test shapes: ',X_test.shape, y_test.shape)\n"
   ]
  },
  {
   "cell_type": "markdown",
   "metadata": {},
   "source": [
    "Looks good! Both input and output arrays are of the same length and dimension per user. We'll use a masking layer as the input layer of our model to ensure the model knows we've padded our inputs."
   ]
  },
  {
   "cell_type": "markdown",
   "metadata": {},
   "source": [
    "## Train an LSTM on ecommerce sequence data"
   ]
  },
  {
   "cell_type": "markdown",
   "metadata": {},
   "source": [
    "Lastly, before we run the mode, we'll calculate the bias of classes in X_train. This might be used in our model's output layer (where we'll use this bias to tell the moel our data is imbalanced in favour of one class)."
   ]
  },
  {
   "cell_type": "code",
   "execution_count": 756,
   "metadata": {},
   "outputs": [
    {
     "name": "stdout",
     "output_type": "stream",
     "text": [
      "-7.800528016188972\n",
      "class 0: 3091434 class 1: 1266\n"
     ]
    }
   ],
   "source": [
    "neg, pos = np.bincount(tf.reshape(y_train[:,:,:],[-1]), minlength=0)\n",
    "initial_bias = np.log(pos/neg)\n",
    "print(initial_bias)\n",
    "print('class 0: {} class 1: {}'.format(neg,pos))\n",
    "initial_bias = tf.keras.initializers.Constant(initial_bias)"
   ]
  },
  {
   "cell_type": "code",
   "execution_count": 26,
   "metadata": {},
   "outputs": [],
   "source": [
    "def masking_LSTM(inputA, initial_bias_, **kwargs):\n",
    "\n",
    "    model = keras.models.Sequential([\n",
    "        keras.layers.Masking(input_shape=[None,inputA], mask_value=0, name=\"masking_layer\"),\n",
    "        keras.layers.BatchNormalization(momentum=0.999),\n",
    "        keras.layers.LSTM(100, return_sequences=True, kernel_initializer=\"he_normal\"),\n",
    "        keras.layers.LeakyReLU(),\n",
    "        keras.layers.LSTM(100, return_sequences=True, kernel_initializer=\"he_normal\", kernel_regularizer=keras.regularizers.l2(0.01),name=\"lstm_2\"),\n",
    "        keras.layers.Dropout(0.3),\n",
    "        keras.layers.TimeDistributed(keras.layers.Dense(1, activation='sigmoid', bias_initializer=initial_bias_))\n",
    "])\n",
    "    return model"
   ]
  },
  {
   "cell_type": "code",
   "execution_count": 758,
   "metadata": {},
   "outputs": [
    {
     "name": "stdout",
     "output_type": "stream",
     "text": [
      "Model: \"LSTM_masking_model\"\n",
      "_________________________________________________________________\n",
      "Layer (type)                 Output Shape              Param #   \n",
      "=================================================================\n",
      "masking_layer (Masking)      (None, None, 536)         0         \n",
      "_________________________________________________________________\n",
      "batch_normalization (BatchNo (None, None, 536)         2144      \n",
      "_________________________________________________________________\n",
      "lstm (LSTM)                  (None, None, 100)         254800    \n",
      "_________________________________________________________________\n",
      "leaky_re_lu (LeakyReLU)      (None, None, 100)         0         \n",
      "_________________________________________________________________\n",
      "lstm_2 (LSTM)                (None, None, 100)         80400     \n",
      "_________________________________________________________________\n",
      "dropout (Dropout)            (None, None, 100)         0         \n",
      "_________________________________________________________________\n",
      "time_distributed (TimeDistri (None, None, 1)           101       \n",
      "=================================================================\n",
      "Total params: 337,445\n",
      "Trainable params: 336,373\n",
      "Non-trainable params: 1,072\n",
      "_________________________________________________________________\n",
      "None\n"
     ]
    }
   ],
   "source": [
    "model = masking_LSTM(X_train.shape[-1],initial_bias)\n",
    "model._name='LSTM_masking_model'\n",
    "print(model.summary())"
   ]
  },
  {
   "cell_type": "code",
   "execution_count": 28,
   "metadata": {},
   "outputs": [],
   "source": [
    "def exponential_decay(lr0, s):\n",
    "    def exponential_decay_fn(epoch):\n",
    "        return lr0 * 0.01**(epoch / s)\n",
    "    return exponential_decay_fn\n",
    "\n",
    "exponential_decay_fn = exponential_decay(lr0=0.001, s=20)"
   ]
  },
  {
   "cell_type": "code",
   "execution_count": 760,
   "metadata": {},
   "outputs": [
    {
     "name": "stdout",
     "output_type": "stream",
     "text": [
      "./test_lstm_logs/run_2020_05_03-17_19_57\n",
      "Train on 118950 samples, validate on 39651 samples\n",
      "Epoch 1/10\n",
      "118950/118950 [==============================] - 372s 3ms/sample - loss: 0.1780 - accuracy: 0.9908 - binary_crossentropy: 0.0464 - Precision: 0.8793 - Recall: 0.0403 - val_loss: 0.0016 - val_accuracy: 0.9909 - val_binary_crossentropy: 0.0264 - val_Precision: 1.0000 - val_Recall: 0.0243\n",
      "Epoch 2/10\n",
      "118950/118950 [==============================] - 363s 3ms/sample - loss: 6.9288e-04 - accuracy: 0.9979 - binary_crossentropy: 0.0068 - Precision: 0.9980 - Recall: 0.7844 - val_loss: 4.2151e-04 - val_accuracy: 0.9997 - val_binary_crossentropy: 0.0029 - val_Precision: 0.9950 - val_Recall: 0.9733\n",
      "Epoch 3/10\n",
      "118950/118950 [==============================] - 352s 3ms/sample - loss: 3.5398e-04 - accuracy: 0.9998 - binary_crossentropy: 0.0024 - Precision: 0.9984 - Recall: 0.9771 - val_loss: 2.4999e-04 - val_accuracy: 0.9997 - val_binary_crossentropy: 0.0027 - val_Precision: 0.9902 - val_Recall: 0.9782\n",
      "Epoch 4/10\n",
      "118950/118950 [==============================] - 354s 3ms/sample - loss: 2.2701e-04 - accuracy: 0.9999 - binary_crossentropy: 0.0014 - Precision: 0.9984 - Recall: 0.9889 - val_loss: 1.7277e-04 - val_accuracy: 0.9998 - val_binary_crossentropy: 0.0018 - val_Precision: 0.9951 - val_Recall: 0.9830\n",
      "Epoch 5/10\n",
      "118950/118950 [==============================] - 352s 3ms/sample - loss: 1.5947e-04 - accuracy: 1.0000 - binary_crossentropy: 9.5601e-04 - Precision: 1.0000 - Recall: 0.9976 - val_loss: 1.8702e-04 - val_accuracy: 0.9998 - val_binary_crossentropy: 6.5381e-04 - val_Precision: 0.9856 - val_Recall: 0.9951\n",
      "Epoch 6/10\n",
      "118950/118950 [==============================] - 344s 3ms/sample - loss: 1.2452e-04 - accuracy: 1.0000 - binary_crossentropy: 7.2808e-04 - Precision: 1.0000 - Recall: 0.9984 - val_loss: 1.1744e-04 - val_accuracy: 0.9998 - val_binary_crossentropy: 8.4435e-04 - val_Precision: 0.9879 - val_Recall: 0.9927\n",
      "Epoch 7/10\n",
      "118950/118950 [==============================] - 340s 3ms/sample - loss: 1.0308e-04 - accuracy: 1.0000 - binary_crossentropy: 5.8356e-04 - Precision: 1.0000 - Recall: 1.0000 - val_loss: 9.5848e-05 - val_accuracy: 0.9999 - val_binary_crossentropy: 8.2581e-04 - val_Precision: 0.9976 - val_Recall: 0.9927\n",
      "Epoch 8/10\n",
      "118950/118950 [==============================] - 344s 3ms/sample - loss: 8.7917e-05 - accuracy: 1.0000 - binary_crossentropy: 5.0758e-04 - Precision: 1.0000 - Recall: 1.0000 - val_loss: 1.1548e-04 - val_accuracy: 0.9998 - val_binary_crossentropy: 9.1078e-04 - val_Precision: 0.9809 - val_Recall: 0.9951\n",
      "Epoch 9/10\n",
      "118950/118950 [==============================] - 342s 3ms/sample - loss: 7.9577e-05 - accuracy: 1.0000 - binary_crossentropy: 4.5729e-04 - Precision: 1.0000 - Recall: 0.9992 - val_loss: 9.0348e-05 - val_accuracy: 0.9999 - val_binary_crossentropy: 5.2406e-04 - val_Precision: 0.9976 - val_Recall: 0.9951\n",
      "Epoch 10/10\n",
      "118950/118950 [==============================] - 326s 3ms/sample - loss: 7.0829e-05 - accuracy: 1.0000 - binary_crossentropy: 4.0797e-04 - Precision: 1.0000 - Recall: 1.0000 - val_loss: 7.7223e-05 - val_accuracy: 0.9999 - val_binary_crossentropy: 7.7710e-04 - val_Precision: 1.0000 - val_Recall: 0.9903\n"
     ]
    }
   ],
   "source": [
    "prep_run()\n",
    "run_logdir = get_run_logdir(\"test_lstm_logs\")\n",
    "print(run_logdir)\n",
    "\n",
    "tb = TensorBoard(run_logdir)\n",
    "\n",
    "red_lr = tf.keras.callbacks.ReduceLROnPlateau(monitor='binary_crossentropy',\n",
    "                                          patience=3, \n",
    "                                          verbose=1,\n",
    "                                          factor=0.005, \n",
    "                                          min_lr=0.00001)\n",
    "lr_sched = keras.callbacks.LearningRateScheduler(exponential_decay_fn)\n",
    "\n",
    "es = tf.keras.callbacks.EarlyStopping(monitor='binary_crossentropy', \n",
    "                                      patience=3, restore_best_weights=True)\n",
    "\n",
    "# adam: clipvalue=0.5, lr=0.001, beta_1=0.9, beta_2=0.999\n",
    "model.compile(loss=\"binary_crossentropy\", \n",
    "                           optimizer=keras.optimizers.Adam(), \n",
    "                           metrics=[\"accuracy\", \"binary_crossentropy\", \n",
    "                                    \"Precision\", \"Recall\"])\n",
    "\n",
    "history = model.fit(X_train, y_train, validation_data=(X_val, y_val), \n",
    "#                                  steps_per_epoch=resampled_steps_per_epoch, \n",
    "                                 epochs=10, callbacks=[tb, es, red_lr, lr_sched]) "
   ]
  },
  {
   "cell_type": "code",
   "execution_count": 764,
   "metadata": {},
   "outputs": [
    {
     "data": {
      "image/png": "[encoded data removed]",
      "text/plain": [
       "<Figure size 432x288 with 1 Axes>"
      ]
     },
     "metadata": {
      "needs_background": "light"
     },
     "output_type": "display_data"
    }
   ],
   "source": [
    "def plot_learning_curves(loss, val_loss):\n",
    "    plt.plot(np.arange(len(loss)) + 0.5, loss, \"b.-\", label=\"loss\")\n",
    "    plt.plot(np.arange(len(val_loss)) + 1, val_loss, \"r.-\", label=\"val_loss\")\n",
    "    plt.gca().xaxis.set_major_locator(mpl.ticker.MaxNLocator(integer=True))\n",
    "#     plt.axis([1, 20, 0, 0.05])\n",
    "    plt.legend(fontsize=14)\n",
    "    plt.xlabel(\"Epochs\")\n",
    "    plt.ylabel(\"Loss\")\n",
    "    plt.grid(True)\n",
    "\n",
    "plot_learning_curves(history.history['loss'],history.history['val_loss'])\n"
   ]
  },
  {
   "cell_type": "markdown",
   "metadata": {},
   "source": [
    "Looks like this model actually overfits quite quickly. But based on Recall, it seems ot be handling the minority class okay."
   ]
  },
  {
   "cell_type": "code",
   "execution_count": 773,
   "metadata": {},
   "outputs": [
    {
     "name": "stdout",
     "output_type": "stream",
     "text": [
      "39651/39651 [==============================] - 33s 842us/sample - loss: 7.7223e-05 - accuracy: 0.9999 - binary_crossentropy: 7.7710e-04 - Precision: 1.0000 - Recall: 0.9903\n"
     ]
    }
   ],
   "source": [
    "# ?test_masking_model.evaluate\n",
    "# print('Evaluating...')\n",
    "scores = model.evaluate(X_val[:,:,:], y_val[:,:,:])\n",
    "# # print(\"Metrics: accuracy, binary_crossentropy, Precision, Recall: \",scores)"
   ]
  },
  {
   "cell_type": "code",
   "execution_count": 766,
   "metadata": {},
   "outputs": [
    {
     "name": "stdout",
     "output_type": "stream",
     "text": [
      "y_pred: (39651, 26, 1) y_actual: (39651, 26, 1)\n",
      "              precision    recall  f1-score   support\n",
      "\n",
      "           0       1.00      1.00      1.00   1030514\n",
      "           1       1.00      0.99      1.00       412\n",
      "\n",
      "    accuracy                           1.00   1030926\n",
      "   macro avg       1.00      1.00      1.00   1030926\n",
      "weighted avg       1.00      1.00      1.00   1030926\n",
      "\n"
     ]
    }
   ],
   "source": [
    "\n",
    "y_pred = model.predict_classes(X_val[:,:,:])\n",
    "y_actual = y_val[:,:,:]\n",
    "print('y_pred: {} y_actual: {}'.format(y_pred.shape, y_actual.shape))\n",
    "print(classification_report(tf.reshape(y_actual,[-1]), tf.reshape(y_pred,[-1])))\n"
   ]
  },
  {
   "cell_type": "markdown",
   "metadata": {},
   "source": [
    "## Test the LSTM on ecommerce sequence"
   ]
  },
  {
   "cell_type": "code",
   "execution_count": 767,
   "metadata": {},
   "outputs": [
    {
     "name": "stdout",
     "output_type": "stream",
     "text": [
      "y_pred: (67973, 26, 1) y_actual: (67973, 26, 1)\n",
      "              precision    recall  f1-score   support\n",
      "\n",
      "           0       1.00      1.00      1.00   1766548\n",
      "           1       0.98      0.99      0.99       750\n",
      "\n",
      "    accuracy                           1.00   1767298\n",
      "   macro avg       0.99      1.00      0.99   1767298\n",
      "weighted avg       1.00      1.00      1.00   1767298\n",
      "\n"
     ]
    }
   ],
   "source": [
    "y_pred = model.predict_classes(X_test[:,:,:])\n",
    "y_actual = y_test[:,:,:]\n",
    "\n",
    "print('y_pred: {} y_actual: {}'.format(y_pred.shape, y_actual.shape))\n",
    "print(classification_report(tf.reshape(y_actual,[-1]), tf.reshape(y_pred,[-1])))\n"
   ]
  },
  {
   "cell_type": "markdown",
   "metadata": {},
   "source": [
    "# Conclusion"
   ]
  },
  {
   "cell_type": "markdown",
   "metadata": {},
   "source": [
    "## XGBoost Classifier"
   ]
  },
  {
   "cell_type": "markdown",
   "metadata": {},
   "source": [
    "Using XGBoost immediately produced a model that had improved performance when compared to the Logistic Regression and Random Forest. The baseline XGBoost model had high precision, but the recall was low.  \n",
    "\n",
    "Since the original dataset was very imbalanced, we used SMOTE resampling to produce a dataset which would allow the model to more effectively understand conversions. After being trained on the resampled data and using gridsearch to optimize the parameters,  the XGBoost performance was improved significantly from the original baseline. There is still an opportunity to improve the model further by conducting a more through gridsearch, and over more folds. Overall, XGBoost produced a high performing model. "
   ]
  },
  {
   "cell_type": "markdown",
   "metadata": {},
   "source": [
    "## LSTM:"
   ]
  },
  {
   "cell_type": "markdown",
   "metadata": {},
   "source": [
    "Why LSTM? \n",
    "\n",
    "We'd already approached the problem one way: with a dataset that didn't have any clear link between the past behaviour of a custoemr and future behaviour. We wanted to try using sequential data instead. Customer behaviour lends itself pretty well to this, as companies are always trying to predict customer journeys.\n",
    "\n",
    "This was a real learning experience! We were working with a massive dataset that eventually had to be trimmed. It was also highly imbalanced, and due to the peculiar nature of the dataset, it was hard to resample. Our positive and negative classes were not divided up between customers, but between timesteps, so each customer could potentially have a mix of classes. \n",
    "\n",
    "In the baseline LSTM, without any tuning, there was an immediate problem with Recall, becasue it could not manage to learn the pattern of the very small sample of positive classes. \n",
    "\n",
    "So our approach was to regularize our model. We used Adam Optimizer, Dropout layers, normalization layer, and both a learning rate scheduler and an adjuster for Learning rate on plateau. We hoped that this would mitigate the imbalanced class problem, and it took a few tries tuning the model before Recall improved. This notebook only contains the final code used. Happily for us, eventually the model improved, and we finally ran it on the test set."
   ]
  },
  {
   "cell_type": "code",
   "execution_count": null,
   "metadata": {},
   "outputs": [],
   "source": []
  }
 ],
 "metadata": {
  "kernelspec": {
   "display_name": "Python 3",
   "language": "python",
   "name": "python3"
  },
  "language_info": {
   "codemirror_mode": {
    "name": "ipython",
    "version": 3
   },
   "file_extension": ".py",
   "mimetype": "text/x-python",
   "name": "python",
   "nbconvert_exporter": "python",
   "pygments_lexer": "ipython3",
   "version": "3.6.10"
  }
 },
 "nbformat": 4,
 "nbformat_minor": 4
}
